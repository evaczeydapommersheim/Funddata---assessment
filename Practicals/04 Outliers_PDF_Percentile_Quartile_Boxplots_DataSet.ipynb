{
 "cells": [
  {
   "cell_type": "markdown",
   "id": "b004ac28",
   "metadata": {},
   "source": [
    "# Outliers\n",
    "***"
   ]
  },
  {
   "cell_type": "code",
   "execution_count": 2,
   "id": "bbf7ffac",
   "metadata": {},
   "outputs": [],
   "source": [
    "# Numerical arrays.\n",
    "import numpy as np\n",
    "\n",
    "# Plotting.\n",
    "import matplotlib.pyplot as plt\n",
    "\n",
    "# Statistics.\n",
    "import scipy.stats as ss"
   ]
  },
  {
   "cell_type": "markdown",
   "id": "1a11bc79",
   "metadata": {},
   "source": [
    "Outlier = not well defined, numpy package has a normal random number generator which allows to generate random numbers that are normally distributed. "
   ]
  },
  {
   "cell_type": "markdown",
   "id": "526f017c",
   "metadata": {},
   "source": [
    "$$ \\frac{1}{\\sqrt{2 \\pi \\sigma^2}} $$"
   ]
  },
  {
   "cell_type": "code",
   "execution_count": 3,
   "id": "b1f88b91",
   "metadata": {},
   "outputs": [
    {
     "data": {
      "text/plain": [
       "3.141592653589793"
      ]
     },
     "execution_count": 3,
     "metadata": {},
     "output_type": "execute_result"
    }
   ],
   "source": [
    "np.pi"
   ]
  },
  {
   "cell_type": "code",
   "execution_count": 4,
   "id": "48e83280",
   "metadata": {},
   "outputs": [
    {
     "data": {
      "text/plain": [
       "1.4142135623730951"
      ]
     },
     "execution_count": 4,
     "metadata": {},
     "output_type": "execute_result"
    }
   ],
   "source": [
    "np.sqrt(2)"
   ]
  },
  {
   "cell_type": "code",
   "execution_count": 7,
   "id": "3194d683",
   "metadata": {},
   "outputs": [
    {
     "data": {
      "text/plain": [
       "1.0"
      ]
     },
     "execution_count": 7,
     "metadata": {},
     "output_type": "execute_result"
    }
   ],
   "source": [
    "sigma = 1.0\n",
    "sigma"
   ]
  },
  {
   "cell_type": "code",
   "execution_count": 8,
   "id": "ccefd5a9",
   "metadata": {},
   "outputs": [
    {
     "data": {
      "text/plain": [
       "0.3989422804014327"
      ]
     },
     "execution_count": 8,
     "metadata": {},
     "output_type": "execute_result"
    }
   ],
   "source": [
    "1.0 / np.sqrt(2* np.pi * sigma**2)\n",
    "#called a literal vaule in the code of 1.0, not 1 (which is 1 as an integer), whereas 1.0 is one as a float. \n",
    "#If it interacts with other floating point numbers it ill automatically be converted to a floating number."
   ]
  },
  {
   "cell_type": "code",
   "execution_count": 13,
   "id": "3c056ba5",
   "metadata": {},
   "outputs": [
    {
     "data": {
      "text/plain": [
       "[<matplotlib.lines.Line2D at 0x5768fabc70>]"
      ]
     },
     "execution_count": 13,
     "metadata": {},
     "output_type": "execute_result"
    },
    {
     "data": {
      "image/png": "[encoded data removed]",
      "text/plain": [
       "<Figure size 432x288 with 1 Axes>"
      ]
     },
     "metadata": {
      "needs_background": "light"
     },
     "output_type": "display_data"
    }
   ],
   "source": [
    "sigma_vals = np.linspace(-3.0, 3.0, 1000)\n",
    "sigma\n",
    "# it is set to 1001 due to fencepost problem\n",
    "plt.plot(sigma_vals, 1.0 / np.sqrt(2* np.pi * sigma_vals**2) )"
   ]
  },
  {
   "cell_type": "markdown",
   "id": "32478cd5",
   "metadata": {},
   "source": [
    "The lines at zero they never met with each other, they go above into infinity."
   ]
  },
  {
   "cell_type": "code",
   "execution_count": 14,
   "id": "5ace0824",
   "metadata": {},
   "outputs": [
    {
     "data": {
      "text/plain": [
       "[<matplotlib.lines.Line2D at 0x576e4c6880>]"
      ]
     },
     "execution_count": 14,
     "metadata": {},
     "output_type": "execute_result"
    },
    {
     "data": {
      "image/png": "[encoded data removed]",
      "text/plain": [
       "<Figure size 432x288 with 1 Axes>"
      ]
     },
     "metadata": {
      "needs_background": "light"
     },
     "output_type": "display_data"
    }
   ],
   "source": [
    "sigma_vals = np.linspace(1, 10.0, 1000)\n",
    "sigma\n",
    "\n",
    "plt.plot(sigma_vals, 1.0 / np.sqrt(2* np.pi * sigma_vals**2) )"
   ]
  },
  {
   "cell_type": "markdown",
   "id": "2ca04a97",
   "metadata": {},
   "source": [
    "as sigma gets big the whole value of $ \\frac{1}{\\sqrt{2 \\pi \\sigma^2}} $ is cleaner"
   ]
  },
  {
   "cell_type": "code",
   "execution_count": 18,
   "id": "75d97b83",
   "metadata": {},
   "outputs": [
    {
     "data": {
      "text/plain": [
       "[<matplotlib.lines.Line2D at 0x576e6761f0>]"
      ]
     },
     "execution_count": 18,
     "metadata": {},
     "output_type": "execute_result"
    },
    {
     "data": {
      "image/png": "[encoded data removed]",
      "text/plain": [
       "<Figure size 432x288 with 1 Axes>"
      ]
     },
     "metadata": {
      "needs_background": "light"
     },
     "output_type": "display_data"
    }
   ],
   "source": [
    "sigma_vals = np.linspace(1.0, 10.0, 1000)\n",
    "sigma\n",
    "\n",
    "plt.plot(sigma_vals, 1.0 / np.sqrt(2* np.pi * sigma_vals**2) )"
   ]
  },
  {
   "cell_type": "markdown",
   "id": "6683a9b2",
   "metadata": {},
   "source": [
    "$ e^-\\frac{(x - \\mu)^2}{2"
   ]
  },
  {
   "cell_type": "code",
   "execution_count": 19,
   "id": "f371b884",
   "metadata": {},
   "outputs": [
    {
     "data": {
      "text/plain": [
       "2.718281828459045"
      ]
     },
     "execution_count": 19,
     "metadata": {},
     "output_type": "execute_result"
    }
   ],
   "source": [
    "np.e\n",
    "#Euler's Identity , its the base of natural algorithms. Heavily used in compound interest."
   ]
  },
  {
   "cell_type": "code",
   "execution_count": 22,
   "id": "11164ed8",
   "metadata": {},
   "outputs": [
    {
     "data": {
      "text/plain": [
       "[<matplotlib.lines.Line2D at 0x576f361370>]"
      ]
     },
     "execution_count": 22,
     "metadata": {},
     "output_type": "execute_result"
    },
    {
     "data": {
      "image/png": "[encoded data removed]",
      "text/plain": [
       "<Figure size 432x288 with 1 Axes>"
      ]
     },
     "metadata": {
      "needs_background": "light"
     },
     "output_type": "display_data"
    }
   ],
   "source": [
    "x = np.linspace(0.0, 4.0, 1000)\n",
    "plt.plot(x, np.exp(-x))"
   ]
  },
  {
   "cell_type": "code",
   "execution_count": null,
   "id": "628ed21b",
   "metadata": {},
   "outputs": [],
   "source": []
  }
 ],
 "metadata": {
  "kernelspec": {
   "display_name": "Python 3 (ipykernel)",
   "language": "python",
   "name": "python3"
  },
  "language_info": {
   "codemirror_mode": {
    "name": "ipython",
    "version": 3
   },
   "file_extension": ".py",
   "mimetype": "text/x-python",
   "name": "python",
   "nbconvert_exporter": "python",
   "pygments_lexer": "ipython3",
   "version": "3.9.12"
  }
 },
 "nbformat": 4,
 "nbformat_minor": 5
}
