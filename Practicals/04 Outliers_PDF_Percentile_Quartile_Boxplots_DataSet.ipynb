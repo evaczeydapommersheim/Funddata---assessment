{
 "cells": [
  {
   "cell_type": "markdown",
   "id": "b004ac28",
   "metadata": {},
   "source": [
    "# Outliers\n",
    "***"
   ]
  },
  {
   "cell_type": "code",
   "execution_count": 136,
   "id": "bbf7ffac",
   "metadata": {},
   "outputs": [],
   "source": [
    "# Numerical arrays.\n",
    "import numpy as np\n",
    "\n",
    "# Plotting.\n",
    "import matplotlib.pyplot as plt\n",
    "\n",
    "# Statistics.\n",
    "import scipy.stats as ss\n",
    "\n",
    "# Pandas\n",
    "import pandas as pd\n",
    "\n",
    "# SKlearn\n",
    "from sklearn.datasets import load_iris"
   ]
  },
  {
   "cell_type": "markdown",
   "id": "1a11bc79",
   "metadata": {},
   "source": [
    "Outlier = not well defined, numpy package has a normal random number generator which allows to generate random numbers that are normally distributed. "
   ]
  },
  {
   "cell_type": "markdown",
   "id": "526f017c",
   "metadata": {},
   "source": [
    "$$ \\frac{1}{\\sqrt{2 \\pi \\sigma^2}} $$"
   ]
  },
  {
   "cell_type": "code",
   "execution_count": 2,
   "id": "b1f88b91",
   "metadata": {},
   "outputs": [
    {
     "data": {
      "text/plain": [
       "3.141592653589793"
      ]
     },
     "execution_count": 2,
     "metadata": {},
     "output_type": "execute_result"
    }
   ],
   "source": [
    "np.pi"
   ]
  },
  {
   "cell_type": "code",
   "execution_count": 3,
   "id": "48e83280",
   "metadata": {},
   "outputs": [
    {
     "data": {
      "text/plain": [
       "1.4142135623730951"
      ]
     },
     "execution_count": 3,
     "metadata": {},
     "output_type": "execute_result"
    }
   ],
   "source": [
    "np.sqrt(2)"
   ]
  },
  {
   "cell_type": "code",
   "execution_count": 4,
   "id": "3194d683",
   "metadata": {},
   "outputs": [
    {
     "data": {
      "text/plain": [
       "1.0"
      ]
     },
     "execution_count": 4,
     "metadata": {},
     "output_type": "execute_result"
    }
   ],
   "source": [
    "sigma = 1.0\n",
    "sigma"
   ]
  },
  {
   "cell_type": "code",
   "execution_count": 5,
   "id": "ccefd5a9",
   "metadata": {},
   "outputs": [
    {
     "data": {
      "text/plain": [
       "0.3989422804014327"
      ]
     },
     "execution_count": 5,
     "metadata": {},
     "output_type": "execute_result"
    }
   ],
   "source": [
    "1.0 / np.sqrt(2* np.pi * sigma**2)\n",
    "#called a literal vaule in the code of 1.0, not 1 (which is 1 as an integer), whereas 1.0 is one as a float. \n",
    "#If it interacts with other floating point numbers it ill automatically be converted to a floating number."
   ]
  },
  {
   "cell_type": "code",
   "execution_count": 6,
   "id": "3c056ba5",
   "metadata": {},
   "outputs": [
    {
     "data": {
      "text/plain": [
       "[<matplotlib.lines.Line2D at 0xdeee9c4730>]"
      ]
     },
     "execution_count": 6,
     "metadata": {},
     "output_type": "execute_result"
    },
    {
     "data": {
      "image/png": "[encoded data removed]",
      "text/plain": [
       "<Figure size 432x288 with 1 Axes>"
      ]
     },
     "metadata": {
      "needs_background": "light"
     },
     "output_type": "display_data"
    }
   ],
   "source": [
    "sigma_vals = np.linspace(-3.0, 3.0, 1000)\n",
    "sigma\n",
    "# it is set to 1001 due to fencepost problem\n",
    "plt.plot(sigma_vals, 1.0 / np.sqrt(2* np.pi * sigma_vals**2) )"
   ]
  },
  {
   "cell_type": "markdown",
   "id": "32478cd5",
   "metadata": {},
   "source": [
    "The lines at zero they never met with each other, they go above into infinity."
   ]
  },
  {
   "cell_type": "code",
   "execution_count": 7,
   "id": "5ace0824",
   "metadata": {},
   "outputs": [
    {
     "data": {
      "text/plain": [
       "[<matplotlib.lines.Line2D at 0xdeeeacb2e0>]"
      ]
     },
     "execution_count": 7,
     "metadata": {},
     "output_type": "execute_result"
    },
    {
     "data": {
      "image/png": "[encoded data removed]",
      "text/plain": [
       "<Figure size 432x288 with 1 Axes>"
      ]
     },
     "metadata": {
      "needs_background": "light"
     },
     "output_type": "display_data"
    }
   ],
   "source": [
    "sigma_vals = np.linspace(1, 10.0, 1000)\n",
    "sigma\n",
    "\n",
    "plt.plot(sigma_vals, 1.0 / np.sqrt(2* np.pi * sigma_vals**2) )"
   ]
  },
  {
   "cell_type": "markdown",
   "id": "2ca04a97",
   "metadata": {},
   "source": [
    "as sigma gets big the whole value of $ \\frac{1}{\\sqrt{2 \\pi \\sigma^2}} $ is cleaner"
   ]
  },
  {
   "cell_type": "code",
   "execution_count": 8,
   "id": "75d97b83",
   "metadata": {},
   "outputs": [
    {
     "data": {
      "text/plain": [
       "[<matplotlib.lines.Line2D at 0xdeeeb34700>]"
      ]
     },
     "execution_count": 8,
     "metadata": {},
     "output_type": "execute_result"
    },
    {
     "data": {
      "image/png": "[encoded data removed]",
      "text/plain": [
       "<Figure size 432x288 with 1 Axes>"
      ]
     },
     "metadata": {
      "needs_background": "light"
     },
     "output_type": "display_data"
    }
   ],
   "source": [
    "sigma_vals = np.linspace(1.0, 10.0, 1000)\n",
    "sigma\n",
    "\n",
    "plt.plot(sigma_vals, 1.0 / np.sqrt(2* np.pi * sigma_vals**2) )"
   ]
  },
  {
   "cell_type": "markdown",
   "id": "6683a9b2",
   "metadata": {},
   "source": [
    "$ e^-\\frac{(x - \\mu)^2}{2"
   ]
  },
  {
   "cell_type": "code",
   "execution_count": 9,
   "id": "f371b884",
   "metadata": {},
   "outputs": [
    {
     "data": {
      "text/plain": [
       "2.718281828459045"
      ]
     },
     "execution_count": 9,
     "metadata": {},
     "output_type": "execute_result"
    }
   ],
   "source": [
    "np.e\n",
    "#Euler's Identity , its the base of natural algorithms. Heavily used in compound interest."
   ]
  },
  {
   "cell_type": "code",
   "execution_count": 10,
   "id": "11164ed8",
   "metadata": {},
   "outputs": [
    {
     "data": {
      "text/plain": [
       "[<matplotlib.lines.Line2D at 0xdeeeba4130>]"
      ]
     },
     "execution_count": 10,
     "metadata": {},
     "output_type": "execute_result"
    },
    {
     "data": {
      "image/png": "[encoded data removed]",
      "text/plain": [
       "<Figure size 432x288 with 1 Axes>"
      ]
     },
     "metadata": {
      "needs_background": "light"
     },
     "output_type": "display_data"
    }
   ],
   "source": [
    "x = np.linspace(0.0, 4.0, 1000)\n",
    "plt.plot(x, np.exp(-x))"
   ]
  },
  {
   "cell_type": "markdown",
   "id": "4a284e1b",
   "metadata": {},
   "source": [
    "The Normal Distribution - the  part\n",
    "***\n",
    "$$ e^{-\\frac{(x - \\mu)^2}{2 \\sigma^2}} $$\n"
   ]
  },
  {
   "cell_type": "code",
   "execution_count": 11,
   "id": "71f4d2e6",
   "metadata": {},
   "outputs": [
    {
     "data": {
      "text/plain": [
       "2.718281828459045"
      ]
     },
     "execution_count": 11,
     "metadata": {},
     "output_type": "execute_result"
    }
   ],
   "source": [
    "np.e"
   ]
  },
  {
   "cell_type": "markdown",
   "id": "7700c3c8",
   "metadata": {},
   "source": [
    "# Euler's identity $$ e^{{i}{pi}} $$"
   ]
  },
  {
   "cell_type": "code",
   "execution_count": 12,
   "id": "b8478607",
   "metadata": {},
   "outputs": [
    {
     "data": {
      "text/plain": [
       "<matplotlib.legend.Legend at 0xdeeec0f8e0>"
      ]
     },
     "execution_count": 12,
     "metadata": {},
     "output_type": "execute_result"
    },
    {
     "data": {
      "image/png": "[encoded data removed]",
      "text/plain": [
       "<Figure size 432x288 with 1 Axes>"
      ]
     },
     "metadata": {
      "needs_background": "light"
     },
     "output_type": "display_data"
    }
   ],
   "source": [
    "x = np.linspace(0.0, 4.0, 1000)\n",
    "plt.plot(x, 1 / np.exp(x), label = r'$1.0  /e^{x}$')\n",
    "plt.plot(x, np.exp(-x), label = r'$e^{-x}$') # exp(x) = e to the power of x\n",
    "\n",
    "plt.legend()"
   ]
  },
  {
   "cell_type": "code",
   "execution_count": 13,
   "id": "9ff39dc1",
   "metadata": {},
   "outputs": [
    {
     "data": {
      "text/plain": [
       "<matplotlib.legend.Legend at 0xdeeed52820>"
      ]
     },
     "execution_count": 13,
     "metadata": {},
     "output_type": "execute_result"
    },
    {
     "data": {
      "image/png": "[encoded data removed]",
      "text/plain": [
       "<Figure size 432x288 with 1 Axes>"
      ]
     },
     "metadata": {
      "needs_background": "light"
     },
     "output_type": "display_data"
    }
   ],
   "source": [
    "# mean will be = 0 and sigma will be 1\n",
    "x = np.linspace(-4.0, 4.0, 1000)\n",
    "plt.plot(x, 1 / np.exp(x), label = r'$1.0  /e^{x}$')\n",
    "plt.plot(x, np.exp(-x), label = r'$e^{-x}$') # exp(x) = e to the power of x\n",
    "\n",
    "plt.legend()"
   ]
  },
  {
   "cell_type": "code",
   "execution_count": 14,
   "id": "84225058",
   "metadata": {},
   "outputs": [
    {
     "data": {
      "text/plain": [
       "<matplotlib.legend.Legend at 0xdeeedda3d0>"
      ]
     },
     "execution_count": 14,
     "metadata": {},
     "output_type": "execute_result"
    },
    {
     "data": {
      "image/png": "[encoded data removed]",
      "text/plain": [
       "<Figure size 432x288 with 1 Axes>"
      ]
     },
     "metadata": {
      "needs_background": "light"
     },
     "output_type": "display_data"
    }
   ],
   "source": [
    "x = np.linspace(-10.0, 4.0, 1000)\n",
    "plt.plot(x, 1 / np.exp(x), label = r'$1.0  /e^{x}$')\n",
    "plt.plot(x, np.exp(-x), label = r'$e^{-x}$') # exp(x) = e to the power of x\n",
    "\n",
    "plt.legend()"
   ]
  },
  {
   "cell_type": "code",
   "execution_count": 15,
   "id": "7f14cea4",
   "metadata": {},
   "outputs": [
    {
     "data": {
      "text/plain": [
       "<matplotlib.legend.Legend at 0xdeefdf1b80>"
      ]
     },
     "execution_count": 15,
     "metadata": {},
     "output_type": "execute_result"
    },
    {
     "data": {
      "image/png": "[encoded data removed]",
      "text/plain": [
       "<Figure size 432x288 with 1 Axes>"
      ]
     },
     "metadata": {
      "needs_background": "light"
     },
     "output_type": "display_data"
    }
   ],
   "source": [
    "x = np.linspace(-4.0, 4.0, 1000)\n",
    " # plt.plot(x, 1 / np.exp(x), label = r'$1.0  /e^{x}$')\n",
    "plt.plot(x, np.exp(-(x**2)), label = r'$e^{-x^2}$') # exp(x) = e to the power of x\n",
    "\n",
    "plt.legend()\n"
   ]
  },
  {
   "cell_type": "code",
   "execution_count": 16,
   "id": "9a90b7e1",
   "metadata": {},
   "outputs": [
    {
     "data": {
      "text/plain": [
       "[<matplotlib.lines.Line2D at 0xdeefe8b490>]"
      ]
     },
     "execution_count": 16,
     "metadata": {},
     "output_type": "execute_result"
    },
    {
     "data": {
      "image/png": "[encoded data removed]",
      "text/plain": [
       "<Figure size 432x288 with 1 Axes>"
      ]
     },
     "metadata": {
      "needs_background": "light"
     },
     "output_type": "display_data"
    }
   ],
   "source": [
    "x = np.linspace(-4.0, 4.0, 1000)\n",
    " # plt.plot(x, 1 / np.exp(x), label = r'$1.0  /e^{x}$')\n",
    "plt.plot(x, np.exp(-(x**2/2))) #label = r'$e^{-x^2}$') # exp(x) = e to the power of x\n",
    "\n",
    "# plt.legend()"
   ]
  },
  {
   "cell_type": "code",
   "execution_count": 17,
   "id": "8aab64be",
   "metadata": {},
   "outputs": [
    {
     "data": {
      "text/plain": [
       "<matplotlib.legend.Legend at 0xdeefeb0790>"
      ]
     },
     "execution_count": 17,
     "metadata": {},
     "output_type": "execute_result"
    },
    {
     "data": {
      "image/png": "[encoded data removed]",
      "text/plain": [
       "<Figure size 432x288 with 1 Axes>"
      ]
     },
     "metadata": {
      "needs_background": "light"
     },
     "output_type": "display_data"
    }
   ],
   "source": [
    "mu, sigma = 0.0, 3.0\n",
    "x = np.linspace(-9.0, 9.0, 1000)\n",
    "\n",
    "for sigma in [1.0, 2.0, 3.0]:\n",
    "    plt.plot(x, np.exp(-((x - mu)**2/(2 * sigma**2))), label = rf'$\\sigma = {sigma}$')\n",
    "plt.legend()"
   ]
  },
  {
   "cell_type": "markdown",
   "id": "58cb376b",
   "metadata": {},
   "source": [
    "This is the locatin of the tip of the curve. called loc (0.0) in documentation in numpy."
   ]
  },
  {
   "cell_type": "code",
   "execution_count": 18,
   "id": "8871a76d",
   "metadata": {},
   "outputs": [
    {
     "data": {
      "text/plain": [
       "<matplotlib.legend.Legend at 0xdeeff33eb0>"
      ]
     },
     "execution_count": 18,
     "metadata": {},
     "output_type": "execute_result"
    },
    {
     "data": {
      "image/png": "[encoded data removed]",
      "text/plain": [
       "<Figure size 432x288 with 1 Axes>"
      ]
     },
     "metadata": {
      "needs_background": "light"
     },
     "output_type": "display_data"
    }
   ],
   "source": [
    "mu, sigma = 0.0, 3.0\n",
    "x = np.linspace(-9.0, 9.0, 1000)\n",
    "\n",
    "for mu in [-1.0, 0.0, 1.0, 2.0]:\n",
    "    plt.plot(x, np.exp(-((x - mu)**2/(2 * sigma**2))), label = rf'$\\sigma = {sigma}$')\n",
    "plt.legend()"
   ]
  },
  {
   "cell_type": "markdown",
   "id": "b9bcb906",
   "metadata": {},
   "source": [
    "## Normal Distribution - All Together\n",
    "***\n",
    "$$ \\frac{1}{\\sqrt{2 \\pi \\sigma^2}} e^{-\\frac{(x - \\mu)^2}{2 \\sigma^2}} $$\n",
    "\n"
   ]
  },
  {
   "cell_type": "code",
   "execution_count": 19,
   "id": "c410c23c",
   "metadata": {},
   "outputs": [
    {
     "data": {
      "image/png": "[encoded data removed]",
      "text/plain": [
       "<Figure size 432x288 with 1 Axes>"
      ]
     },
     "metadata": {
      "needs_background": "light"
     },
     "output_type": "display_data"
    }
   ],
   "source": [
    "# Set mu and sigma.\n",
    "mu, sigma = 0.0, 1.0\n",
    "\n",
    "# Range of x values.\n",
    "x = np.linspace(-3.0, 3.0, 1000)\n",
    "\n",
    "# First part, with the square root.\n",
    "part1 = 1.0 / np.sqrt(2 * np.pi * sigma**2)\n",
    "# Second part, with the e.\n",
    "part2 = np.exp(-((x - mu)**2 / (2 * sigma**2)))\n",
    "# The output is the product.\n",
    "y = part1 * part2\n",
    "\n",
    "# Plot x and y.\n",
    "plt.plot(x, y, label='with')\n",
    "# Show without scaling by first part..\n",
    "plt.plot(x, part2, label='without')\n",
    "\n",
    "plt.legend();\n"
   ]
  },
  {
   "cell_type": "markdown",
   "id": "71041270",
   "metadata": {},
   "source": [
    "Part 1 is flattening the curve.\n",
    "the area under both curves are = 1\n",
    "continuous probability distribution function, usually we talk about ranges (i.e. less than or greater than, between)\n",
    "Probability density function := "
   ]
  },
  {
   "cell_type": "markdown",
   "id": "d0360cb8",
   "metadata": {},
   "source": [
    " ## Percentile"
   ]
  },
  {
   "cell_type": "code",
   "execution_count": 20,
   "id": "d0382a63",
   "metadata": {},
   "outputs": [
    {
     "data": {
      "text/plain": [
       "0.028163575090195424"
      ]
     },
     "execution_count": 20,
     "metadata": {},
     "output_type": "execute_result"
    }
   ],
   "source": [
    "np.random.normal(0.0, 1.0)"
   ]
  },
  {
   "cell_type": "code",
   "execution_count": 21,
   "id": "c0029aa5",
   "metadata": {},
   "outputs": [],
   "source": [
    "# the curves will never touch zero and it is symmetric\n"
   ]
  },
  {
   "cell_type": "code",
   "execution_count": 22,
   "id": "0f53e7a0",
   "metadata": {},
   "outputs": [
    {
     "data": {
      "text/plain": [
       "<scipy.stats._distn_infrastructure.rv_frozen at 0xdef003e100>"
      ]
     },
     "execution_count": 22,
     "metadata": {},
     "output_type": "execute_result"
    }
   ],
   "source": [
    "ss.norm()"
   ]
  },
  {
   "cell_type": "code",
   "execution_count": 23,
   "id": "9a0b12be",
   "metadata": {},
   "outputs": [
    {
     "data": {
      "text/plain": [
       "2.3263478740408408"
      ]
     },
     "execution_count": 23,
     "metadata": {},
     "output_type": "execute_result"
    }
   ],
   "source": [
    "ss.norm().ppf(0.99) # area under the curve is  = 1\n",
    "## percent point function in brackets you give a % value, 1%, 99% in this case, give the point of the blue curve where 99% of the area under the curve, to the left from the value this returns"
   ]
  },
  {
   "cell_type": "code",
   "execution_count": 24,
   "id": "c4ffd007",
   "metadata": {},
   "outputs": [
    {
     "data": {
      "text/plain": [
       "0.0"
      ]
     },
     "execution_count": 24,
     "metadata": {},
     "output_type": "execute_result"
    }
   ],
   "source": [
    "ss.norm().ppf(0.50)\n",
    "# 50% of the values will be less than zero"
   ]
  },
  {
   "cell_type": "code",
   "execution_count": 25,
   "id": "f8c819a3",
   "metadata": {},
   "outputs": [
    {
     "data": {
      "text/plain": [
       "0.5"
      ]
     },
     "execution_count": 25,
     "metadata": {},
     "output_type": "execute_result"
    }
   ],
   "source": [
    "# The inverse of the ppf is cdf Cumulative Distribution function, goes from 0 to 1\n",
    "# if i take the value of 0, what is the probability of selection a value les than that.\n",
    "# what percentile is zero at\n",
    "ss.norm().cdf(0.0)"
   ]
  },
  {
   "cell_type": "code",
   "execution_count": 26,
   "id": "94f078f4",
   "metadata": {},
   "outputs": [
    {
     "data": {
      "text/plain": [
       "0.6826894921370859"
      ]
     },
     "execution_count": 26,
     "metadata": {},
     "output_type": "execute_result"
    }
   ],
   "source": [
    "ss.norm().cdf(1.0) - ss.norm().cdf(-1.0)"
   ]
  },
  {
   "cell_type": "code",
   "execution_count": 27,
   "id": "c0157dc1",
   "metadata": {},
   "outputs": [
    {
     "data": {
      "text/plain": [
       "0.9544997361036416"
      ]
     },
     "execution_count": 27,
     "metadata": {},
     "output_type": "execute_result"
    }
   ],
   "source": [
    "ss.norm().cdf(2.0) - ss.norm().cdf(-2.0)"
   ]
  },
  {
   "cell_type": "code",
   "execution_count": 28,
   "id": "66fa6d86",
   "metadata": {},
   "outputs": [
    {
     "data": {
      "text/plain": [
       "0.9973002039367398"
      ]
     },
     "execution_count": 28,
     "metadata": {},
     "output_type": "execute_result"
    }
   ],
   "source": [
    "ss.norm().cdf(3.0) - ss.norm().cdf(-3.0)"
   ]
  },
  {
   "cell_type": "markdown",
   "id": "a9418964",
   "metadata": {},
   "source": [
    "Quartiles"
   ]
  },
  {
   "cell_type": "code",
   "execution_count": 29,
   "id": "f77ba1a3",
   "metadata": {},
   "outputs": [
    {
     "data": {
      "text/plain": [
       "0.6744897501960817"
      ]
     },
     "execution_count": 29,
     "metadata": {},
     "output_type": "execute_result"
    }
   ],
   "source": [
    "ss.norm().ppf(0.75) # top quartile or 75% percentile"
   ]
  },
  {
   "cell_type": "code",
   "execution_count": 30,
   "id": "c28104b9",
   "metadata": {},
   "outputs": [
    {
     "data": {
      "text/plain": [
       "0.0"
      ]
     },
     "execution_count": 30,
     "metadata": {},
     "output_type": "execute_result"
    }
   ],
   "source": [
    "ss.norm().ppf(0.50)"
   ]
  },
  {
   "cell_type": "code",
   "execution_count": 31,
   "id": "824e772f",
   "metadata": {},
   "outputs": [
    {
     "data": {
      "text/plain": [
       "-0.6744897501960817"
      ]
     },
     "execution_count": 31,
     "metadata": {},
     "output_type": "execute_result"
    }
   ],
   "source": [
    "ss.norm().ppf(0.25)"
   ]
  },
  {
   "cell_type": "code",
   "execution_count": 32,
   "id": "0925ee6f",
   "metadata": {},
   "outputs": [
    {
     "ename": "SyntaxError",
     "evalue": "invalid syntax (1436549462.py, line 1)",
     "output_type": "error",
     "traceback": [
      "\u001b[1;36m  Input \u001b[1;32mIn [32]\u001b[1;36m\u001b[0m\n\u001b[1;33m    the above three values chop the x axis to four section by the 3 different values, 4 regions\u001b[0m\n\u001b[1;37m        ^\u001b[0m\n\u001b[1;31mSyntaxError\u001b[0m\u001b[1;31m:\u001b[0m invalid syntax\n"
     ]
    }
   ],
   "source": [
    "the above three values chop the x axis to four section by the 3 different values, 4 regions"
   ]
  },
  {
   "cell_type": "markdown",
   "id": "e3a13afa",
   "metadata": {},
   "source": [
    "### What does the normal distribution do, what do we use it for scipy.stats.norm"
   ]
  },
  {
   "cell_type": "markdown",
   "id": "37d66811",
   "metadata": {},
   "source": [
    "## Box Plots"
   ]
  },
  {
   "cell_type": "code",
   "execution_count": 48,
   "id": "592c7d0c",
   "metadata": {},
   "outputs": [
    {
     "data": {
      "text/plain": [
       "array([[1.00e+00, 1.00e+00, 8.50e+02],\n",
       "       [1.00e+00, 2.00e+00, 7.40e+02],\n",
       "       [1.00e+00, 3.00e+00, 9.00e+02],\n",
       "       [1.00e+00, 4.00e+00, 1.07e+03],\n",
       "       [1.00e+00, 5.00e+00, 9.30e+02],\n",
       "       [1.00e+00, 6.00e+00, 8.50e+02],\n",
       "       [1.00e+00, 7.00e+00, 9.50e+02],\n",
       "       [1.00e+00, 8.00e+00, 9.80e+02],\n",
       "       [1.00e+00, 9.00e+00, 9.80e+02],\n",
       "       [1.00e+00, 1.00e+01, 8.80e+02],\n",
       "       [1.00e+00, 1.10e+01, 1.00e+03],\n",
       "       [1.00e+00, 1.20e+01, 9.80e+02],\n",
       "       [1.00e+00, 1.30e+01, 9.30e+02],\n",
       "       [1.00e+00, 1.40e+01, 6.50e+02],\n",
       "       [1.00e+00, 1.50e+01, 7.60e+02],\n",
       "       [1.00e+00, 1.60e+01, 8.10e+02],\n",
       "       [1.00e+00, 1.70e+01, 1.00e+03],\n",
       "       [1.00e+00, 1.80e+01, 1.00e+03],\n",
       "       [1.00e+00, 1.90e+01, 9.60e+02],\n",
       "       [1.00e+00, 2.00e+01, 9.60e+02],\n",
       "       [2.00e+00, 1.00e+00, 9.60e+02],\n",
       "       [2.00e+00, 2.00e+00, 9.40e+02],\n",
       "       [2.00e+00, 3.00e+00, 9.60e+02],\n",
       "       [2.00e+00, 4.00e+00, 9.40e+02],\n",
       "       [2.00e+00, 5.00e+00, 8.80e+02],\n",
       "       [2.00e+00, 6.00e+00, 8.00e+02],\n",
       "       [2.00e+00, 7.00e+00, 8.50e+02],\n",
       "       [2.00e+00, 8.00e+00, 8.80e+02],\n",
       "       [2.00e+00, 9.00e+00, 9.00e+02],\n",
       "       [2.00e+00, 1.00e+01, 8.40e+02],\n",
       "       [2.00e+00, 1.10e+01, 8.30e+02],\n",
       "       [2.00e+00, 1.20e+01, 7.90e+02],\n",
       "       [2.00e+00, 1.30e+01, 8.10e+02],\n",
       "       [2.00e+00, 1.40e+01, 8.80e+02],\n",
       "       [2.00e+00, 1.50e+01, 8.80e+02],\n",
       "       [2.00e+00, 1.60e+01, 8.30e+02],\n",
       "       [2.00e+00, 1.70e+01, 8.00e+02],\n",
       "       [2.00e+00, 1.80e+01, 7.90e+02],\n",
       "       [2.00e+00, 1.90e+01, 7.60e+02],\n",
       "       [2.00e+00, 2.00e+01, 8.00e+02],\n",
       "       [3.00e+00, 1.00e+00, 8.80e+02],\n",
       "       [3.00e+00, 2.00e+00, 8.80e+02],\n",
       "       [3.00e+00, 3.00e+00, 8.80e+02],\n",
       "       [3.00e+00, 4.00e+00, 8.60e+02],\n",
       "       [3.00e+00, 5.00e+00, 7.20e+02],\n",
       "       [3.00e+00, 6.00e+00, 7.20e+02],\n",
       "       [3.00e+00, 7.00e+00, 6.20e+02],\n",
       "       [3.00e+00, 8.00e+00, 8.60e+02],\n",
       "       [3.00e+00, 9.00e+00, 9.70e+02],\n",
       "       [3.00e+00, 1.00e+01, 9.50e+02],\n",
       "       [3.00e+00, 1.10e+01, 8.80e+02],\n",
       "       [3.00e+00, 1.20e+01, 9.10e+02],\n",
       "       [3.00e+00, 1.30e+01, 8.50e+02],\n",
       "       [3.00e+00, 1.40e+01, 8.70e+02],\n",
       "       [3.00e+00, 1.50e+01, 8.40e+02],\n",
       "       [3.00e+00, 1.60e+01, 8.40e+02],\n",
       "       [3.00e+00, 1.70e+01, 8.50e+02],\n",
       "       [3.00e+00, 1.80e+01, 8.40e+02],\n",
       "       [3.00e+00, 1.90e+01, 8.40e+02],\n",
       "       [3.00e+00, 2.00e+01, 8.40e+02],\n",
       "       [4.00e+00, 1.00e+00, 8.90e+02],\n",
       "       [4.00e+00, 2.00e+00, 8.10e+02],\n",
       "       [4.00e+00, 3.00e+00, 8.10e+02],\n",
       "       [4.00e+00, 4.00e+00, 8.20e+02],\n",
       "       [4.00e+00, 5.00e+00, 8.00e+02],\n",
       "       [4.00e+00, 6.00e+00, 7.70e+02],\n",
       "       [4.00e+00, 7.00e+00, 7.60e+02],\n",
       "       [4.00e+00, 8.00e+00, 7.40e+02],\n",
       "       [4.00e+00, 9.00e+00, 7.50e+02],\n",
       "       [4.00e+00, 1.00e+01, 7.60e+02],\n",
       "       [4.00e+00, 1.10e+01, 9.10e+02],\n",
       "       [4.00e+00, 1.20e+01, 9.20e+02],\n",
       "       [4.00e+00, 1.30e+01, 8.90e+02],\n",
       "       [4.00e+00, 1.40e+01, 8.60e+02],\n",
       "       [4.00e+00, 1.50e+01, 8.80e+02],\n",
       "       [4.00e+00, 1.60e+01, 7.20e+02],\n",
       "       [4.00e+00, 1.70e+01, 8.40e+02],\n",
       "       [4.00e+00, 1.80e+01, 8.50e+02],\n",
       "       [4.00e+00, 1.90e+01, 8.50e+02],\n",
       "       [4.00e+00, 2.00e+01, 7.80e+02],\n",
       "       [5.00e+00, 1.00e+00, 8.90e+02],\n",
       "       [5.00e+00, 2.00e+00, 8.40e+02],\n",
       "       [5.00e+00, 3.00e+00, 7.80e+02],\n",
       "       [5.00e+00, 4.00e+00, 8.10e+02],\n",
       "       [5.00e+00, 5.00e+00, 7.60e+02],\n",
       "       [5.00e+00, 6.00e+00, 8.10e+02],\n",
       "       [5.00e+00, 7.00e+00, 7.90e+02],\n",
       "       [5.00e+00, 8.00e+00, 8.10e+02],\n",
       "       [5.00e+00, 9.00e+00, 8.20e+02],\n",
       "       [5.00e+00, 1.00e+01, 8.50e+02],\n",
       "       [5.00e+00, 1.10e+01, 8.70e+02],\n",
       "       [5.00e+00, 1.20e+01, 8.70e+02],\n",
       "       [5.00e+00, 1.30e+01, 8.10e+02],\n",
       "       [5.00e+00, 1.40e+01, 7.40e+02],\n",
       "       [5.00e+00, 1.50e+01, 8.10e+02],\n",
       "       [5.00e+00, 1.60e+01, 9.40e+02],\n",
       "       [5.00e+00, 1.70e+01, 9.50e+02],\n",
       "       [5.00e+00, 1.80e+01, 8.00e+02],\n",
       "       [5.00e+00, 1.90e+01, 8.10e+02],\n",
       "       [5.00e+00, 2.00e+01, 8.70e+02]])"
      ]
     },
     "execution_count": 48,
     "metadata": {},
     "output_type": "execute_result"
    }
   ],
   "source": [
    "# read in the morley data\n",
    "data = np.genfromtxt('morley.csv', skip_header=1, delimiter = ',')\n",
    "# Remove the first column [row, column][every row ':', 1: skip the first column]\n",
    "data[:,1:]"
   ]
  },
  {
   "cell_type": "code",
   "execution_count": 49,
   "id": "4ea38ba1",
   "metadata": {},
   "outputs": [],
   "source": [
    "# Select the data for first experiment"
   ]
  },
  {
   "cell_type": "code",
   "execution_count": 50,
   "id": "f9879cf2",
   "metadata": {},
   "outputs": [
    {
     "data": {
      "text/plain": [
       "array([ 850.,  740.,  900., 1070.,  930.,  850.,  950.,  980.,  980.,\n",
       "        880., 1000.,  980.,  930.,  650.,  760.,  810., 1000., 1000.,\n",
       "        960.,  960.])"
      ]
     },
     "execution_count": 50,
     "metadata": {},
     "output_type": "execute_result"
    }
   ],
   "source": [
    "exper_1 = data[:20, 3]\n",
    "exper_1"
   ]
  },
  {
   "cell_type": "code",
   "execution_count": 51,
   "id": "755289e5",
   "metadata": {},
   "outputs": [
    {
     "data": {
      "image/png": "[encoded data removed]",
      "text/plain": [
       "<Figure size 432x288 with 1 Axes>"
      ]
     },
     "metadata": {
      "needs_background": "light"
     },
     "output_type": "display_data"
    }
   ],
   "source": [
    "# create a boxplot\n",
    "plt.boxplot(exper_1);"
   ]
  },
  {
   "cell_type": "code",
   "execution_count": 52,
   "id": "2d738a9b",
   "metadata": {},
   "outputs": [
    {
     "data": {
      "image/png": "[encoded data removed]",
      "text/plain": [
       "<Figure size 432x288 with 1 Axes>"
      ]
     },
     "metadata": {
      "needs_background": "light"
     },
     "output_type": "display_data"
    }
   ],
   "source": [
    "exper_2 = data[20 :40, 3]\n",
    "exper_2\n",
    "plt.boxplot(np.array([exper_1, exper_2]).T);"
   ]
  },
  {
   "cell_type": "markdown",
   "id": "562eee1f",
   "metadata": {},
   "source": [
    "## Exercise 1"
   ]
  },
  {
   "cell_type": "code",
   "execution_count": 53,
   "id": "81440b15",
   "metadata": {},
   "outputs": [
    {
     "data": {
      "text/plain": [
       "array([[ 850.,  960.,  880.,  890.,  890.],\n",
       "       [ 740.,  940.,  880.,  810.,  840.],\n",
       "       [ 900.,  960.,  880.,  810.,  780.],\n",
       "       [1070.,  940.,  860.,  820.,  810.],\n",
       "       [ 930.,  880.,  720.,  800.,  760.],\n",
       "       [ 850.,  800.,  720.,  770.,  810.],\n",
       "       [ 950.,  850.,  620.,  760.,  790.],\n",
       "       [ 980.,  880.,  860.,  740.,  810.],\n",
       "       [ 980.,  900.,  970.,  750.,  820.],\n",
       "       [ 880.,  840.,  950.,  760.,  850.],\n",
       "       [1000.,  830.,  880.,  910.,  870.],\n",
       "       [ 980.,  790.,  910.,  920.,  870.],\n",
       "       [ 930.,  810.,  850.,  890.,  810.],\n",
       "       [ 650.,  880.,  870.,  860.,  740.],\n",
       "       [ 760.,  880.,  840.,  880.,  810.],\n",
       "       [ 810.,  830.,  840.,  720.,  940.],\n",
       "       [1000.,  800.,  850.,  840.,  950.],\n",
       "       [1000.,  790.,  840.,  850.,  800.],\n",
       "       [ 960.,  760.,  840.,  850.,  810.],\n",
       "       [ 960.,  800.,  840.,  780.,  870.]])"
      ]
     },
     "execution_count": 53,
     "metadata": {},
     "output_type": "execute_result"
    }
   ],
   "source": [
    "#Quick way to get the five experiments in different columns\n",
    "expers = data[:,3].reshape(5, 20).T\n",
    "expers"
   ]
  },
  {
   "cell_type": "code",
   "execution_count": 54,
   "id": "ab009c86",
   "metadata": {},
   "outputs": [
    {
     "data": {
      "image/png": "[encoded data removed]",
      "text/plain": [
       "<Figure size 432x288 with 1 Axes>"
      ]
     },
     "metadata": {
      "needs_background": "light"
     },
     "output_type": "display_data"
    }
   ],
   "source": [
    "plt.boxplot(expers);"
   ]
  },
  {
   "cell_type": "markdown",
   "id": "dd4c74af",
   "metadata": {},
   "source": [
    "Minimum (Q0 or 0th percentile): the lowest data point in the data set excluding any outliers<p>\n",
    "Maximum (Q4 or 100th percentile): the highest data point in the data set excluding any outliers<p>\n",
    "Median (Q2 or 50th percentile): the middle value in the data set<p>\n",
    "First quartile (Q1 or 25th percentile): also known as the lower quartile qn(0.25), it is the median of the lower half of the dataset.<p>\n",
    "Third quartile (Q3 or 75th percentile): also known as the upper quartile qn(0.75), it is the median of the upper half of the dataset.[7]"
   ]
  },
  {
   "cell_type": "markdown",
   "id": "09ad187f",
   "metadata": {},
   "source": [
    "https://en.wikipedia.org/wiki/Box_plot"
   ]
  },
  {
   "cell_type": "markdown",
   "id": "69aa5277",
   "metadata": {},
   "source": [
    "## Inter-Quartile Range (IQR)"
   ]
  },
  {
   "cell_type": "code",
   "execution_count": 55,
   "id": "e0bf1c89",
   "metadata": {},
   "outputs": [
    {
     "data": {
      "text/plain": [
       "array([ 850.,  740.,  900., 1070.,  930.,  850.,  950.,  980.,  980.,\n",
       "        880., 1000.,  980.,  930.,  650.,  760.,  810., 1000., 1000.,\n",
       "        960.,  960.])"
      ]
     },
     "execution_count": 55,
     "metadata": {},
     "output_type": "execute_result"
    }
   ],
   "source": [
    "exper_1"
   ]
  },
  {
   "cell_type": "code",
   "execution_count": 56,
   "id": "6f76b87c",
   "metadata": {},
   "outputs": [
    {
     "data": {
      "image/png": "[encoded data removed]",
      "text/plain": [
       "<Figure size 432x288 with 1 Axes>"
      ]
     },
     "metadata": {
      "needs_background": "light"
     },
     "output_type": "display_data"
    }
   ],
   "source": [
    "#Created a figure\n",
    "\n",
    "fig, ax = plt.subplots()\n",
    "\n",
    "# Add the boxplot\n",
    "ax.boxplot(exper_1);\n",
    "# Plots red dots at (1, value) for each value in exper_1\n",
    "ax.plot(np.ones(exper_1.shape), exper_1, 'r.');"
   ]
  },
  {
   "cell_type": "code",
   "execution_count": 57,
   "id": "4a2710ba",
   "metadata": {},
   "outputs": [
    {
     "data": {
      "text/plain": [
       "940.0"
      ]
     },
     "execution_count": 57,
     "metadata": {},
     "output_type": "execute_result"
    }
   ],
   "source": [
    "# calculate the median of exper_1\n",
    "np.median(exper_1)"
   ]
  },
  {
   "cell_type": "code",
   "execution_count": 58,
   "id": "955de829",
   "metadata": {},
   "outputs": [],
   "source": [
    "# Orange line in the box is the median, it is the middle value"
   ]
  },
  {
   "cell_type": "code",
   "execution_count": 59,
   "id": "de2bc10d",
   "metadata": {},
   "outputs": [
    {
     "data": {
      "text/plain": [
       "array([ 850.,  740.,  900., 1070.,  930.,  850.,  950.,  980.,  980.,\n",
       "        880., 1000.,  980.,  930.,  650.,  760.,  810., 1000., 1000.,\n",
       "        960.,  960.])"
      ]
     },
     "execution_count": 59,
     "metadata": {},
     "output_type": "execute_result"
    }
   ],
   "source": [
    "# Unsorted values\n",
    "exper_1"
   ]
  },
  {
   "cell_type": "code",
   "execution_count": 60,
   "id": "c93cc69d",
   "metadata": {},
   "outputs": [
    {
     "data": {
      "text/plain": [
       "array([ 650.,  740.,  760.,  810.,  850.,  850.,  880.,  900.,  930.,\n",
       "        930.,  950.,  960.,  960.,  980.,  980.,  980., 1000., 1000.,\n",
       "       1000., 1070.])"
      ]
     },
     "execution_count": 60,
     "metadata": {},
     "output_type": "execute_result"
    }
   ],
   "source": [
    "#Sorted values \n",
    "np.sort(exper_1)"
   ]
  },
  {
   "cell_type": "code",
   "execution_count": 61,
   "id": "a77e610f",
   "metadata": {},
   "outputs": [
    {
     "data": {
      "text/plain": [
       "(909.0, 909.0, 909.0)"
      ]
     },
     "execution_count": 61,
     "metadata": {},
     "output_type": "execute_result"
    }
   ],
   "source": [
    "#Calculate the mean\n",
    "exper_1.mean(), np.mean(exper_1), np.sum(exper_1)/ len(exper_1)"
   ]
  },
  {
   "cell_type": "code",
   "execution_count": 62,
   "id": "4e4e763d",
   "metadata": {},
   "outputs": [
    {
     "data": {
      "text/plain": [
       "980.0"
      ]
     },
     "execution_count": 62,
     "metadata": {},
     "output_type": "execute_result"
    }
   ],
   "source": [
    "# Upper quartile value\n",
    "np.percentile(exper_1, 75)"
   ]
  },
  {
   "cell_type": "code",
   "execution_count": 63,
   "id": "56e2bc29",
   "metadata": {},
   "outputs": [
    {
     "data": {
      "text/plain": [
       "980.0"
      ]
     },
     "execution_count": 63,
     "metadata": {},
     "output_type": "execute_result"
    }
   ],
   "source": [
    "# The median of the top half of the values\n",
    "np.median(np.sort(exper_1)[10:])"
   ]
  },
  {
   "cell_type": "code",
   "execution_count": 64,
   "id": "e6593214",
   "metadata": {},
   "outputs": [
    {
     "data": {
      "text/plain": [
       "980.0"
      ]
     },
     "execution_count": 64,
     "metadata": {},
     "output_type": "execute_result"
    }
   ],
   "source": [
    "# Upper quartile value\n",
    "q3 = np.percentile(exper_1, 75)\n",
    "q3"
   ]
  },
  {
   "cell_type": "code",
   "execution_count": 65,
   "id": "3a339944",
   "metadata": {},
   "outputs": [
    {
     "data": {
      "text/plain": [
       "850.0"
      ]
     },
     "execution_count": 65,
     "metadata": {},
     "output_type": "execute_result"
    }
   ],
   "source": [
    "# Median of the top half of the values.\n",
    "np.median(np.sort(exper_1)[:10])"
   ]
  },
  {
   "cell_type": "code",
   "execution_count": 66,
   "id": "d9311144",
   "metadata": {},
   "outputs": [
    {
     "data": {
      "text/plain": [
       "850.0"
      ]
     },
     "execution_count": 66,
     "metadata": {},
     "output_type": "execute_result"
    }
   ],
   "source": [
    "# Upper quartile value\n",
    "q1 = np.percentile(exper_1, 25)\n",
    "q1"
   ]
  },
  {
   "cell_type": "code",
   "execution_count": 67,
   "id": "d6998e32",
   "metadata": {},
   "outputs": [
    {
     "data": {
      "text/plain": [
       "850.0"
      ]
     },
     "execution_count": 67,
     "metadata": {},
     "output_type": "execute_result"
    }
   ],
   "source": [
    "# Median of the bottom half of the values\n",
    "np.median(np.sort(exper_1)[:10])"
   ]
  },
  {
   "cell_type": "code",
   "execution_count": 68,
   "id": "48981955",
   "metadata": {},
   "outputs": [
    {
     "data": {
      "text/plain": [
       "130.0"
      ]
     },
     "execution_count": 68,
     "metadata": {},
     "output_type": "execute_result"
    }
   ],
   "source": [
    "#Inter-quartile Range\n",
    "iqr = np.percentile(exper_1, 75) - np.percentile(exper_1, 25)\n",
    "iqr"
   ]
  },
  {
   "cell_type": "code",
   "execution_count": 69,
   "id": "67af82c6",
   "metadata": {},
   "outputs": [
    {
     "data": {
      "text/plain": [
       "1110.0"
      ]
     },
     "execution_count": 69,
     "metadata": {},
     "output_type": "execute_result"
    }
   ],
   "source": [
    "# Max upper whisker\n",
    "q3 + iqr"
   ]
  },
  {
   "cell_type": "code",
   "execution_count": 70,
   "id": "fc74c189",
   "metadata": {},
   "outputs": [
    {
     "data": {
      "text/plain": [
       "720.0"
      ]
     },
     "execution_count": 70,
     "metadata": {},
     "output_type": "execute_result"
    }
   ],
   "source": [
    "#Min Lower whisker\n",
    "q1 - iqr"
   ]
  },
  {
   "cell_type": "code",
   "execution_count": 71,
   "id": "4eae643f",
   "metadata": {},
   "outputs": [
    {
     "data": {
      "image/png": "[encoded data removed]",
      "text/plain": [
       "<Figure size 432x288 with 1 Axes>"
      ]
     },
     "metadata": {
      "needs_background": "light"
     },
     "output_type": "display_data"
    }
   ],
   "source": [
    "#Created a figure\n",
    "\n",
    "fig, ax = plt.subplots()\n",
    "\n",
    "# Add the boxplot\n",
    "ax.boxplot(exper_1);\n",
    "\n",
    "# Plots red dots at (1, value) for each value in exper_1\n",
    "ax.plot(np.ones(exper_1.shape), exper_1, 'r.');\n",
    "\n",
    "# Add the max whisker lengths\n",
    "ax.plot([1.0, 1.0], [q1 - iqr, q3 + iqr], 'bx');"
   ]
  },
  {
   "cell_type": "code",
   "execution_count": 72,
   "id": "52fd9d7b",
   "metadata": {},
   "outputs": [
    {
     "data": {
      "text/plain": [
       "[<matplotlib.lines.Line2D at 0xdeedccc490>]"
      ]
     },
     "execution_count": 72,
     "metadata": {},
     "output_type": "execute_result"
    },
    {
     "data": {
      "image/png": "[encoded data removed]",
      "text/plain": [
       "<Figure size 432x288 with 1 Axes>"
      ]
     },
     "metadata": {
      "needs_background": "light"
     },
     "output_type": "display_data"
    }
   ],
   "source": [
    "#Created a figure\n",
    "\n",
    "fig, ax = plt.subplots()\n",
    "\n",
    "# Add the boxplot\n",
    "ax.boxplot(exper_1);\n",
    "\n",
    "# Plots red dots at (1, value) for each value in exper_1\n",
    "ax.plot(np.ones(exper_1.shape), exper_1, 'r.');\n",
    "\n",
    "# Add the max whisker lengths\n",
    "ax.plot([1.0, 1.0], [q1 - iqr, q3 + iqr], 'bx');\n",
    "\n",
    "# Plot the mean\n",
    "ax.plot([1.0], [np.mean(exper_1)], 'go')"
   ]
  },
  {
   "cell_type": "code",
   "execution_count": 73,
   "id": "52a7fda8",
   "metadata": {},
   "outputs": [
    {
     "data": {
      "text/plain": [
       "array([1070.,  930.,  950.,  980.,  980., 1000.,  980.,  930., 1000.,\n",
       "       1000.,  960.,  960.])"
      ]
     },
     "execution_count": 73,
     "metadata": {},
     "output_type": "execute_result"
    }
   ],
   "source": [
    "# Values above the mean \n",
    "exper_1[exper_1> exper_1.mean()]"
   ]
  },
  {
   "cell_type": "code",
   "execution_count": 74,
   "id": "feb8dee5",
   "metadata": {},
   "outputs": [
    {
     "data": {
      "text/plain": [
       "array([850., 740., 900., 850., 880., 650., 760., 810.])"
      ]
     },
     "execution_count": 74,
     "metadata": {},
     "output_type": "execute_result"
    }
   ],
   "source": [
    "exper_1[exper_1 < exper_1.mean()]"
   ]
  },
  {
   "cell_type": "markdown",
   "id": "7652984d",
   "metadata": {},
   "source": [
    "## Exercise 2\n",
    "Create a boxplot for all of the numerical vairable in the Fiser's Iris Data Set"
   ]
  },
  {
   "cell_type": "code",
   "execution_count": 181,
   "id": "64a308d2",
   "metadata": {},
   "outputs": [
    {
     "data": {
      "text/html": [
       "<div>\n",
       "<style scoped>\n",
       "    .dataframe tbody tr th:only-of-type {\n",
       "        vertical-align: middle;\n",
       "    }\n",
       "\n",
       "    .dataframe tbody tr th {\n",
       "        vertical-align: top;\n",
       "    }\n",
       "\n",
       "    .dataframe thead th {\n",
       "        text-align: right;\n",
       "    }\n",
       "</style>\n",
       "<table border=\"1\" class=\"dataframe\">\n",
       "  <thead>\n",
       "    <tr style=\"text-align: right;\">\n",
       "      <th></th>\n",
       "      <th>0</th>\n",
       "      <th>1</th>\n",
       "      <th>2</th>\n",
       "      <th>3</th>\n",
       "      <th>4</th>\n",
       "    </tr>\n",
       "  </thead>\n",
       "  <tbody>\n",
       "    <tr>\n",
       "      <th>0</th>\n",
       "      <td>5.1</td>\n",
       "      <td>3.5</td>\n",
       "      <td>1.4</td>\n",
       "      <td>0.2</td>\n",
       "      <td>Iris-setosa</td>\n",
       "    </tr>\n",
       "    <tr>\n",
       "      <th>1</th>\n",
       "      <td>4.9</td>\n",
       "      <td>3.0</td>\n",
       "      <td>1.4</td>\n",
       "      <td>0.2</td>\n",
       "      <td>Iris-setosa</td>\n",
       "    </tr>\n",
       "    <tr>\n",
       "      <th>2</th>\n",
       "      <td>4.7</td>\n",
       "      <td>3.2</td>\n",
       "      <td>1.3</td>\n",
       "      <td>0.2</td>\n",
       "      <td>Iris-setosa</td>\n",
       "    </tr>\n",
       "    <tr>\n",
       "      <th>3</th>\n",
       "      <td>4.6</td>\n",
       "      <td>3.1</td>\n",
       "      <td>1.5</td>\n",
       "      <td>0.2</td>\n",
       "      <td>Iris-setosa</td>\n",
       "    </tr>\n",
       "    <tr>\n",
       "      <th>4</th>\n",
       "      <td>5.0</td>\n",
       "      <td>3.6</td>\n",
       "      <td>1.4</td>\n",
       "      <td>0.2</td>\n",
       "      <td>Iris-setosa</td>\n",
       "    </tr>\n",
       "    <tr>\n",
       "      <th>...</th>\n",
       "      <td>...</td>\n",
       "      <td>...</td>\n",
       "      <td>...</td>\n",
       "      <td>...</td>\n",
       "      <td>...</td>\n",
       "    </tr>\n",
       "    <tr>\n",
       "      <th>145</th>\n",
       "      <td>6.7</td>\n",
       "      <td>3.0</td>\n",
       "      <td>5.2</td>\n",
       "      <td>2.3</td>\n",
       "      <td>Iris-virginica</td>\n",
       "    </tr>\n",
       "    <tr>\n",
       "      <th>146</th>\n",
       "      <td>6.3</td>\n",
       "      <td>2.5</td>\n",
       "      <td>5.0</td>\n",
       "      <td>1.9</td>\n",
       "      <td>Iris-virginica</td>\n",
       "    </tr>\n",
       "    <tr>\n",
       "      <th>147</th>\n",
       "      <td>6.5</td>\n",
       "      <td>3.0</td>\n",
       "      <td>5.2</td>\n",
       "      <td>2.0</td>\n",
       "      <td>Iris-virginica</td>\n",
       "    </tr>\n",
       "    <tr>\n",
       "      <th>148</th>\n",
       "      <td>6.2</td>\n",
       "      <td>3.4</td>\n",
       "      <td>5.4</td>\n",
       "      <td>2.3</td>\n",
       "      <td>Iris-virginica</td>\n",
       "    </tr>\n",
       "    <tr>\n",
       "      <th>149</th>\n",
       "      <td>5.9</td>\n",
       "      <td>3.0</td>\n",
       "      <td>5.1</td>\n",
       "      <td>1.8</td>\n",
       "      <td>Iris-virginica</td>\n",
       "    </tr>\n",
       "  </tbody>\n",
       "</table>\n",
       "<p>150 rows × 5 columns</p>\n",
       "</div>"
      ],
      "text/plain": [
       "       0    1    2    3               4\n",
       "0    5.1  3.5  1.4  0.2     Iris-setosa\n",
       "1    4.9  3.0  1.4  0.2     Iris-setosa\n",
       "2    4.7  3.2  1.3  0.2     Iris-setosa\n",
       "3    4.6  3.1  1.5  0.2     Iris-setosa\n",
       "4    5.0  3.6  1.4  0.2     Iris-setosa\n",
       "..   ...  ...  ...  ...             ...\n",
       "145  6.7  3.0  5.2  2.3  Iris-virginica\n",
       "146  6.3  2.5  5.0  1.9  Iris-virginica\n",
       "147  6.5  3.0  5.2  2.0  Iris-virginica\n",
       "148  6.2  3.4  5.4  2.3  Iris-virginica\n",
       "149  5.9  3.0  5.1  1.8  Iris-virginica\n",
       "\n",
       "[150 rows x 5 columns]"
      ]
     },
     "execution_count": 181,
     "metadata": {},
     "output_type": "execute_result"
    }
   ],
   "source": [
    "# URL for the Iris Dataset (https://www.angela1c.com/projects/iris_project/downloading-iris/)\n",
    "\n",
    "csv_url = 'https://archive.ics.uci.edu/ml/machine-learning-databases/iris/iris.data'\n",
    "\n",
    "# Reading dataset using Pandas package\n",
    "iris = pd.read_csv(csv_url, header = None)\n",
    "iris"
   ]
  },
  {
   "cell_type": "code",
   "execution_count": 182,
   "id": "584fdfd6",
   "metadata": {},
   "outputs": [
    {
     "data": {
      "text/html": [
       "<div>\n",
       "<style scoped>\n",
       "    .dataframe tbody tr th:only-of-type {\n",
       "        vertical-align: middle;\n",
       "    }\n",
       "\n",
       "    .dataframe tbody tr th {\n",
       "        vertical-align: top;\n",
       "    }\n",
       "\n",
       "    .dataframe thead th {\n",
       "        text-align: right;\n",
       "    }\n",
       "</style>\n",
       "<table border=\"1\" class=\"dataframe\">\n",
       "  <thead>\n",
       "    <tr style=\"text-align: right;\">\n",
       "      <th></th>\n",
       "      <th>Sepal_Length</th>\n",
       "      <th>Sepal_Width</th>\n",
       "      <th>Petal_Length</th>\n",
       "      <th>Petal_Width</th>\n",
       "      <th>Species</th>\n",
       "    </tr>\n",
       "  </thead>\n",
       "  <tbody>\n",
       "    <tr>\n",
       "      <th>0</th>\n",
       "      <td>5.1</td>\n",
       "      <td>3.5</td>\n",
       "      <td>1.4</td>\n",
       "      <td>0.2</td>\n",
       "      <td>Iris-setosa</td>\n",
       "    </tr>\n",
       "    <tr>\n",
       "      <th>1</th>\n",
       "      <td>4.9</td>\n",
       "      <td>3.0</td>\n",
       "      <td>1.4</td>\n",
       "      <td>0.2</td>\n",
       "      <td>Iris-setosa</td>\n",
       "    </tr>\n",
       "    <tr>\n",
       "      <th>2</th>\n",
       "      <td>4.7</td>\n",
       "      <td>3.2</td>\n",
       "      <td>1.3</td>\n",
       "      <td>0.2</td>\n",
       "      <td>Iris-setosa</td>\n",
       "    </tr>\n",
       "    <tr>\n",
       "      <th>3</th>\n",
       "      <td>4.6</td>\n",
       "      <td>3.1</td>\n",
       "      <td>1.5</td>\n",
       "      <td>0.2</td>\n",
       "      <td>Iris-setosa</td>\n",
       "    </tr>\n",
       "    <tr>\n",
       "      <th>4</th>\n",
       "      <td>5.0</td>\n",
       "      <td>3.6</td>\n",
       "      <td>1.4</td>\n",
       "      <td>0.2</td>\n",
       "      <td>Iris-setosa</td>\n",
       "    </tr>\n",
       "  </tbody>\n",
       "</table>\n",
       "</div>"
      ],
      "text/plain": [
       "   Sepal_Length  Sepal_Width  Petal_Length  Petal_Width      Species\n",
       "0           5.1          3.5           1.4          0.2  Iris-setosa\n",
       "1           4.9          3.0           1.4          0.2  Iris-setosa\n",
       "2           4.7          3.2           1.3          0.2  Iris-setosa\n",
       "3           4.6          3.1           1.5          0.2  Iris-setosa\n",
       "4           5.0          3.6           1.4          0.2  Iris-setosa"
      ]
     },
     "execution_count": 182,
     "metadata": {},
     "output_type": "execute_result"
    }
   ],
   "source": [
    "# Adding Column names/headers to dataset\n",
    "col_names = ['Sepal_Length','Sepal_Width','Petal_Length','Petal_Width','Species']\n",
    "iris.columns = col_names\n",
    "iris.head()"
   ]
  },
  {
   "cell_type": "code",
   "execution_count": 215,
   "id": "e9b91adf",
   "metadata": {},
   "outputs": [
    {
     "data": {
      "image/png": "[encoded data removed]",
      "text/plain": [
       "<Figure size 432x288 with 1 Axes>"
      ]
     },
     "metadata": {
      "needs_background": "light"
     },
     "output_type": "display_data"
    }
   ],
   "source": [
    "#Plotting the Iris features on a boxplot\n",
    "plt.boxplot(iris.iloc[:,:4],\n",
    "           labels=col_names[:-1],\n",
    "           manage_ticks = True,\n",
    "           meanline = True,\n",
    "           medianprops={\"color\": \"blue\", \"linewidth\": 1.5});\n",
    "\n",
    "plt.title(\"Iris Dataset Boxplot for Features\");"
   ]
  },
  {
   "cell_type": "markdown",
   "id": "111f2682",
   "metadata": {},
   "source": [
    "## A Data Set"
   ]
  },
  {
   "cell_type": "code",
   "execution_count": 82,
   "id": "69b2402d",
   "metadata": {},
   "outputs": [],
   "source": [
    "# Generating a set of numbers, series of x vectors\n",
    "xs = np.array([np.linspace(i, i + 2.0, 20) for i in range(10)])"
   ]
  },
  {
   "cell_type": "code",
   "execution_count": 91,
   "id": "578e8d9d",
   "metadata": {},
   "outputs": [
    {
     "data": {
      "image/png": "[encoded data removed]",
      "text/plain": [
       "<Figure size 432x288 with 1 Axes>"
      ]
     },
     "metadata": {
      "needs_background": "light"
     },
     "output_type": "display_data"
    }
   ],
   "source": [
    "# Create a corresponding series of y vectors\n",
    "ys = np.array([-1.0 * xs[i] + 2 * i for i in range(len(xs))])\n",
    "\n",
    "# Add some noise \n",
    "ys = ys + np.random.normal(0.0, 1.0, ys.shape)\n",
    "\n",
    "#Create a global list of x and y values\n",
    "x = xs.flatten()\n",
    "y = ys.flatten()\n",
    "\n",
    "#Plot\n",
    "plt.plot(x, y, '.');"
   ]
  },
  {
   "cell_type": "markdown",
   "id": "f36ff448",
   "metadata": {},
   "source": [
    "## Best Fit Line"
   ]
  },
  {
   "cell_type": "code",
   "execution_count": 103,
   "id": "0206e3af",
   "metadata": {},
   "outputs": [],
   "source": [
    "# best fit line slope and y intercept\n",
    "m, c = np.polyfit(x, y, 1)"
   ]
  },
  {
   "cell_type": "code",
   "execution_count": 100,
   "id": "1d5b00d5",
   "metadata": {},
   "outputs": [],
   "source": [
    "xbestfit = np.linspace(x.min(), x.max(), 1000)\n",
    "ybestfit = m * xbestfit + c"
   ]
  },
  {
   "cell_type": "code",
   "execution_count": 101,
   "id": "01a7211d",
   "metadata": {},
   "outputs": [
    {
     "data": {
      "text/plain": [
       "[<matplotlib.lines.Line2D at 0xdeedccc9a0>]"
      ]
     },
     "execution_count": 101,
     "metadata": {},
     "output_type": "execute_result"
    },
    {
     "data": {
      "image/png": "[encoded data removed]",
      "text/plain": [
       "<Figure size 432x288 with 1 Axes>"
      ]
     },
     "metadata": {
      "needs_background": "light"
     },
     "output_type": "display_data"
    }
   ],
   "source": [
    "plt.plot(x, y, '.')\n",
    "plt.plot(xbestfit, ybestfit)"
   ]
  },
  {
   "cell_type": "code",
   "execution_count": 88,
   "id": "67e6267c",
   "metadata": {},
   "outputs": [
    {
     "data": {
      "image/png": "[encoded data removed]",
      "text/plain": [
       "<Figure size 432x288 with 1 Axes>"
      ]
     },
     "metadata": {
      "needs_background": "light"
     },
     "output_type": "display_data"
    }
   ],
   "source": [
    "for i in range(len(xs)):\n",
    "    plt.plot(xs[i], ys[i], '.')"
   ]
  },
  {
   "cell_type": "code",
   "execution_count": 106,
   "id": "1e96baa5",
   "metadata": {},
   "outputs": [
    {
     "data": {
      "image/png": "[encoded data removed]",
      "text/plain": [
       "<Figure size 432x288 with 1 Axes>"
      ]
     },
     "metadata": {
      "needs_background": "light"
     },
     "output_type": "display_data"
    }
   ],
   "source": [
    "# Same plot but with best fit lines for each category.\n",
    "for i in range(len(xs)):\n",
    "   \n",
    "    # Plot this category.\n",
    "    plt.plot(xs[i], ys[i], '.')\n",
    "    \n",
    "    # Fit line to category.\n",
    "    m, c = np.polyfit(xs[i], ys[i], 1)\n",
    "    \n",
    "    # Create steadily increasing x range for plot.\n",
    "    xbestfit = np.linspace(xs[i].min(), xs[i].max(), 50)\n",
    "    \n",
    "    # Corresponding y values based on best fit line.\n",
    "    ybestfit = m * xbestfit + c\n",
    "    \n",
    "    # Plot best fit line for category.\n",
    "    plt.plot(xbestfit, ybestfit, color='lightgrey');"
   ]
  },
  {
   "cell_type": "markdown",
   "id": "f44f8807",
   "metadata": {},
   "source": [
    "## Exercise 3"
   ]
  },
  {
   "cell_type": "code",
   "execution_count": 134,
   "id": "255d332c",
   "metadata": {},
   "outputs": [
    {
     "data": {
      "image/png": "[encoded data removed]",
      "text/plain": [
       "<Figure size 432x288 with 1 Axes>"
      ]
     },
     "metadata": {
      "needs_background": "light"
     },
     "output_type": "display_data"
    }
   ],
   "source": [
    "xs = np.array([np.linspace(i, i + 2.0, 20) for i in range(10)])\n",
    "ys = np.array([-1.0 * xs[i] + 2 * i for i in range(len(xs))])\n",
    "\n",
    "# Add some noise \n",
    "ys = ys + np.random.normal(0.0, 1.0, ys.shape)\n",
    "\n",
    "#Create a global list of x and y values\n",
    "x = xs.flatten()\n",
    "y = ys.flatten()\n",
    "\n",
    "#Plotting the inverse value on the y axis\n",
    "plt.plot(x, -y, '.');\n",
    "\n",
    "for i in range(len(xs)):\n",
    "   \n",
    "    # Plot this category, with inverse of ys\n",
    "    plt.plot(xs[i], -ys[i], '.')\n",
    "    \n",
    "    # Fit line to category with inverse of ys[i]\n",
    "    m, c = np.polyfit(xs[i], -ys[i], 1)\n",
    "    \n",
    "    # Create steadily increasing x range for plot.\n",
    "    xbestfit = np.linspace(xs[i].min(), xs[i].max(), 50)\n",
    "    \n",
    "    # Corresponding y values based on best fit line.\n",
    "    ybestfit = m * xbestfit + c\n",
    "    \n",
    "    # Plot best fit line for category.\n",
    "\n",
    "    plt.plot(xbestfit, ybestfit, 'b--', linewidth=2);\n",
    "    plt.title(\"Inversely Proportional Plot with directly proportional groups\")"
   ]
  },
  {
   "cell_type": "code",
   "execution_count": null,
   "id": "61181b5f",
   "metadata": {},
   "outputs": [],
   "source": []
  }
 ],
 "metadata": {
  "kernelspec": {
   "display_name": "Python 3 (ipykernel)",
   "language": "python",
   "name": "python3"
  },
  "language_info": {
   "codemirror_mode": {
    "name": "ipython",
    "version": 3
   },
   "file_extension": ".py",
   "mimetype": "text/x-python",
   "name": "python",
   "nbconvert_exporter": "python",
   "pygments_lexer": "ipython3",
   "version": "3.9.12"
  }
 },
 "nbformat": 4,
 "nbformat_minor": 5
}
