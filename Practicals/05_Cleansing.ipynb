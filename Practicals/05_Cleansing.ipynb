{
 "cells": [
  {
   "cell_type": "markdown",
   "id": "1a6e08f3",
   "metadata": {},
   "source": [
    "## Data Cleansing"
   ]
  },
  {
   "cell_type": "markdown",
   "id": "098b9748",
   "metadata": {},
   "source": [
    "## Regular Expressions"
   ]
  },
  {
   "cell_type": "markdown",
   "id": "1106469f",
   "metadata": {},
   "source": [
    "https://docs.python.org/3/library/re.html\n",
    "\n",
    "https://realpython.com/regex-python/\n",
    "\n",
    "https://realpython.com/regex-python-part-2/\n",
    "\n",
    "https://developers.google.com/edu/python/regular-expressions"
   ]
  },
  {
   "cell_type": "markdown",
   "id": "d15ee22c",
   "metadata": {},
   "source": [
    "It is a complex. The way you describe a pattern of a text is using text to characters themselves. Search for the normal letters, and search for characters 0-9; all of the common characters are there. "
   ]
  },
  {
   "cell_type": "markdown",
   "id": "62bd12f7",
   "metadata": {},
   "source": [
    "abcdefghjklmnopqrstuvwxyz0123456789 (e.g), The end!"
   ]
  },
  {
   "cell_type": "markdown",
   "id": "a32fca94",
   "metadata": {},
   "source": [
    "special characters ^$[]* is not used that frequently in common text, but is used frequently in regular expressions.They need to be used with /\\. "
   ]
  },
  {
   "cell_type": "code",
   "execution_count": 3,
   "id": "c729e5c0",
   "metadata": {},
   "outputs": [],
   "source": [
    "import re"
   ]
  },
  {
   "cell_type": "markdown",
   "id": "d18f4314",
   "metadata": {},
   "source": [
    "## Python's 're' module"
   ]
  },
  {
   "cell_type": "markdown",
   "id": "0d8e3c44",
   "metadata": {},
   "source": [
    "```python \n",
    "\\w = '[a-zA-Z0-9_]'\n",
    "\\W = '[^a-zA-Z0-9_]'\n",
    "```"
   ]
  },
  {
   "cell_type": "markdown",
   "id": "01247b82",
   "metadata": {},
   "source": [
    "Anything inside the square brackets count. In w any of the characters included in the square brackets count/are matched.\n",
    "What the carat ^ mean is that anything but those characters count/are matched.\n",
    "'+' means one or more of the previous characters are matched, as many as it can match.\n",
    "\n",
    "what split does is, it looks for those substrings that match the patter and it splits the original string at those characters.\n",
    "\n",
    "'r' means raw, it means do not escape any of the characters in the string. \\ is a special character even in normal strings, normally means to escape the next character. '\\n' normally means a new line in a normal string.\n",
    "\n",
    "csv files are comma seperated values files, but often it is not the comma that separates values. There can be other delimiters also."
   ]
  },
  {
   "cell_type": "code",
   "execution_count": 12,
   "id": "93f39335",
   "metadata": {},
   "outputs": [
    {
     "name": "stdout",
     "output_type": "stream",
     "text": [
      "['Words', 'words', 'words', '']\n"
     ]
    }
   ],
   "source": [
    "# A string to be manipulated\n",
    "original = 'Words, words, words.'\n",
    "\n",
    "#the pattern/regular expression to use on the above string\n",
    "pattern = r'\\W+'\n",
    "\n",
    "#Split a string into substrings using the regular expression\n",
    "result = re.split(pattern, original)\n",
    "\n",
    "#Print the result\n",
    "print(result)\n",
    "\n",
    "# returns back a list of strings."
   ]
  },
  {
   "cell_type": "markdown",
   "id": "d7975b4a",
   "metadata": {},
   "source": [
    "## Exercise to explain what happens in the following lines of code"
   ]
  },
  {
   "cell_type": "code",
   "execution_count": 13,
   "id": "f3cc9460",
   "metadata": {},
   "outputs": [
    {
     "data": {
      "text/plain": [
       "['Words', ', ', 'words', ', ', 'words', '.', '']"
      ]
     },
     "execution_count": 13,
     "metadata": {},
     "output_type": "execute_result"
    }
   ],
   "source": [
    "re.split(r'(\\W+)', 'Words, words, words.')"
   ]
  },
  {
   "cell_type": "markdown",
   "id": "6c74f62b",
   "metadata": {},
   "source": [
    "As per https://docs.python.org/3/library/re.html documentation if there are capturing parenthesis are used in the pattern, the text/characters of all groups that can be matches are also returned in the output. In the above code the \"r'(\\W+)'\" the parentheses are used and therefore the split is executed in a way that anything that cannot be matched from [a-zA-Z0-9_] is left alone and returned, together with the text that meets the criteria for \\W = '[^a-zA-Z0-9_]', which are the commas (',') and the full stop ('.')."
   ]
  },
  {
   "cell_type": "code",
   "execution_count": 6,
   "id": "571df094",
   "metadata": {},
   "outputs": [
    {
     "data": {
      "text/plain": [
       "['Words', 'words, words.']"
      ]
     },
     "execution_count": 6,
     "metadata": {},
     "output_type": "execute_result"
    }
   ],
   "source": [
    "re.split(r'\\W+', 'Words, words, words.', 1)"
   ]
  },
  {
   "cell_type": "markdown",
   "id": "ad4a5775",
   "metadata": {},
   "source": [
    "In the above example the maxsplit is also defined with an integer of '1', which means that one split will occur and the balance of the string is returned as the final element of the list. In this case the first split occurs at the first comma and the remainder text (\"words, words.\") is returned as a string. "
   ]
  },
  {
   "cell_type": "code",
   "execution_count": 7,
   "id": "a7e7c7a2",
   "metadata": {},
   "outputs": [
    {
     "data": {
      "text/plain": [
       "['0', '3', '9']"
      ]
     },
     "execution_count": 7,
     "metadata": {},
     "output_type": "execute_result"
    }
   ],
   "source": [
    "re.split('[a-f]+', '0a3B9', flags=re.IGNORECASE)"
   ]
  },
  {
   "cell_type": "markdown",
   "id": "64cd5632",
   "metadata": {},
   "source": [
    "The above code is looking for a split when there is a match found to any alpha character from latter A to F ('[a-f]+'), ignoring whether it is lower case or upper case (flags=re.IGNORECASE). \n",
    "The returned values are '0', '3' and '9', as the splits were executed when 'a' and 'B' characters were matched. "
   ]
  },
  {
   "cell_type": "code",
   "execution_count": null,
   "id": "13236c16",
   "metadata": {},
   "outputs": [],
   "source": []
  }
 ],
 "metadata": {
  "kernelspec": {
   "display_name": "Python 3 (ipykernel)",
   "language": "python",
   "name": "python3"
  },
  "language_info": {
   "codemirror_mode": {
    "name": "ipython",
    "version": 3
   },
   "file_extension": ".py",
   "mimetype": "text/x-python",
   "name": "python",
   "nbconvert_exporter": "python",
   "pygments_lexer": "ipython3",
   "version": "3.9.12"
  }
 },
 "nbformat": 4,
 "nbformat_minor": 5
}
