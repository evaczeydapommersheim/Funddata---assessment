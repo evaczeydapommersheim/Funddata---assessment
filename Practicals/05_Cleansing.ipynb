{
 "cells": [
  {
   "cell_type": "markdown",
   "id": "1a6e08f3",
   "metadata": {},
   "source": [
    "## Data Cleansing"
   ]
  },
  {
   "cell_type": "markdown",
   "id": "098b9748",
   "metadata": {},
   "source": [
    "## Regular Expressions"
   ]
  },
  {
   "cell_type": "markdown",
   "id": "1106469f",
   "metadata": {},
   "source": [
    "https://docs.python.org/3/library/re.html\n",
    "\n",
    "https://realpython.com/regex-python/\n",
    "\n",
    "https://realpython.com/regex-python-part-2/\n",
    "\n",
    "https://developers.google.com/edu/python/regular-expressions\n",
    "\n",
    "RegexGolf: https://alf.nu/RegexGolf?world=regex&level=r00\n",
    "\n",
    "https://realpython.com/python-strings/"
   ]
  },
  {
   "cell_type": "markdown",
   "id": "d15ee22c",
   "metadata": {},
   "source": [
    "It is a complex. The way you describe a pattern of a text is using text to characters themselves. Search for the normal letters, and search for characters 0-9; all of the common characters are there. "
   ]
  },
  {
   "cell_type": "markdown",
   "id": "62bd12f7",
   "metadata": {},
   "source": [
    "abcdefghjklmnopqrstuvwxyz0123456789 (e.g), The end!"
   ]
  },
  {
   "cell_type": "markdown",
   "id": "a32fca94",
   "metadata": {},
   "source": [
    "special characters ^$[]* is not used that frequently in common text, but is used frequently in regular expressions.They need to be used with /\\. "
   ]
  },
  {
   "cell_type": "code",
   "execution_count": 7,
   "id": "c729e5c0",
   "metadata": {},
   "outputs": [],
   "source": [
    "import re"
   ]
  },
  {
   "cell_type": "markdown",
   "id": "d18f4314",
   "metadata": {},
   "source": [
    "## Python's 're' module"
   ]
  },
  {
   "cell_type": "markdown",
   "id": "0d8e3c44",
   "metadata": {},
   "source": [
    "```python \n",
    "\\w = '[a-zA-Z0-9_]'\n",
    "\\W = '[^a-zA-Z0-9_]'\n",
    "```"
   ]
  },
  {
   "cell_type": "markdown",
   "id": "01247b82",
   "metadata": {},
   "source": [
    "Anything inside the square brackets count. In w any of the characters included in the square brackets count/are matched.\n",
    "What the carat ^ mean is that anything but those characters count/are matched.\n",
    "'+' means one or more of the previous characters are matched, as many as it can match.\n",
    "\n",
    "what split does is, it looks for those substrings that match the patter and it splits the original string at those characters.\n",
    "\n",
    "'r' means raw, it means do not escape any of the characters in the string. \\ is a special character even in normal strings, normally means to escape the next character. '\\n' normally means a new line in a normal string.\n",
    "\n",
    "csv files are comma seperated values files, but often it is not the comma that separates values. There can be other delimiters also."
   ]
  },
  {
   "cell_type": "code",
   "execution_count": 8,
   "id": "93f39335",
   "metadata": {},
   "outputs": [
    {
     "name": "stdout",
     "output_type": "stream",
     "text": [
      "['Words', 'words', 'words', '']\n"
     ]
    }
   ],
   "source": [
    "# A string to be manipulated\n",
    "original = 'Words, words, words.'\n",
    "\n",
    "#the pattern/regular expression to use on the above string\n",
    "pattern = r'\\W+'\n",
    "\n",
    "#Split a string into substrings using the regular expression\n",
    "result = re.split(pattern, original)\n",
    "\n",
    "#Print the result\n",
    "print(result)\n",
    "\n",
    "# returns back a list of strings."
   ]
  },
  {
   "cell_type": "markdown",
   "id": "d7975b4a",
   "metadata": {},
   "source": [
    "## Exercise to explain what happens in the following lines of code"
   ]
  },
  {
   "cell_type": "code",
   "execution_count": 9,
   "id": "f3cc9460",
   "metadata": {},
   "outputs": [
    {
     "data": {
      "text/plain": [
       "['Words', ', ', 'words', ', ', 'words', '.', '']"
      ]
     },
     "execution_count": 9,
     "metadata": {},
     "output_type": "execute_result"
    }
   ],
   "source": [
    "re.split(r'(\\W+)', 'Words, words, words.')"
   ]
  },
  {
   "cell_type": "markdown",
   "id": "6c74f62b",
   "metadata": {},
   "source": [
    "As per https://docs.python.org/3/library/re.html documentation if there are capturing parenthesis are used in the pattern, the text/characters of all groups that can be matches are also returned in the output. In the above code the \"r'(\\W+)'\" the parentheses are used and therefore the split is executed in a way that anything that cannot be matched from [a-zA-Z0-9_] is left alone and returned, together with the text that meets the criteria for \\W = '[^a-zA-Z0-9_]', which are the commas (',') and the full stop ('.'). Parenthesis are used to crete subgroups (<regex>), A regex in parentheses just matches the contents of the parentheses."
   ]
  },
  {
   "cell_type": "code",
   "execution_count": 10,
   "id": "571df094",
   "metadata": {},
   "outputs": [
    {
     "data": {
      "text/plain": [
       "['Words', 'words, words.']"
      ]
     },
     "execution_count": 10,
     "metadata": {},
     "output_type": "execute_result"
    }
   ],
   "source": [
    "re.split(r'\\W+', 'Words, words, words.', 1)"
   ]
  },
  {
   "cell_type": "markdown",
   "id": "ad4a5775",
   "metadata": {},
   "source": [
    "In the above example the maxsplit is also defined with an integer of '1', which means that one split will occur and the balance of the string is returned as the final element of the list. In this case the first split occurs at the first comma and the remainder text (\"words, words.\") is returned as a string. "
   ]
  },
  {
   "cell_type": "code",
   "execution_count": 11,
   "id": "a7e7c7a2",
   "metadata": {},
   "outputs": [
    {
     "data": {
      "text/plain": [
       "['0', '3', '9']"
      ]
     },
     "execution_count": 11,
     "metadata": {},
     "output_type": "execute_result"
    }
   ],
   "source": [
    "re.split('[a-f]+', '0a3B9', flags=re.IGNORECASE)"
   ]
  },
  {
   "cell_type": "markdown",
   "id": "64cd5632",
   "metadata": {},
   "source": [
    "The above code is looking for a split when there is a match found to any alpha character from latter A to F ('[a-f]+'), ignoring whether it is lower case or upper case (flags=re.IGNORECASE). \n",
    "The returned values are '0', '3' and '9', as the splits were executed when 'a' and 'B' characters were matched. "
   ]
  },
  {
   "cell_type": "markdown",
   "id": "06ba73f5",
   "metadata": {},
   "source": [
    "## Real Python (https://realpython.com/regex-python/)"
   ]
  },
  {
   "cell_type": "code",
   "execution_count": 12,
   "id": "aa5696fb",
   "metadata": {},
   "outputs": [
    {
     "data": {
      "text/plain": [
       "True"
      ]
     },
     "execution_count": 12,
     "metadata": {},
     "output_type": "execute_result"
    }
   ],
   "source": [
    "'abccba' == 'abccba'"
   ]
  },
  {
   "cell_type": "code",
   "execution_count": 13,
   "id": "edcc8fd3",
   "metadata": {},
   "outputs": [
    {
     "data": {
      "text/plain": [
       "False"
      ]
     },
     "execution_count": 13,
     "metadata": {},
     "output_type": "execute_result"
    }
   ],
   "source": [
    "'abccba' == 'abcbba'"
   ]
  },
  {
   "cell_type": "code",
   "execution_count": 14,
   "id": "ea702160",
   "metadata": {},
   "outputs": [
    {
     "data": {
      "text/plain": [
       "True"
      ]
     },
     "execution_count": 14,
     "metadata": {},
     "output_type": "execute_result"
    }
   ],
   "source": [
    "'abc' in 'cbaabc'"
   ]
  },
  {
   "cell_type": "code",
   "execution_count": 15,
   "id": "9a966139",
   "metadata": {},
   "outputs": [
    {
     "data": {
      "text/plain": [
       "0"
      ]
     },
     "execution_count": 15,
     "metadata": {},
     "output_type": "execute_result"
    }
   ],
   "source": [
    "'abc' .index('a')"
   ]
  },
  {
   "cell_type": "code",
   "execution_count": 16,
   "id": "140ae9b9",
   "metadata": {},
   "outputs": [
    {
     "data": {
      "text/plain": [
       "'a'"
      ]
     },
     "execution_count": 16,
     "metadata": {},
     "output_type": "execute_result"
    }
   ],
   "source": [
    "'cbaabc'[2]"
   ]
  },
  {
   "cell_type": "code",
   "execution_count": 17,
   "id": "397f8670",
   "metadata": {},
   "outputs": [
    {
     "data": {
      "text/plain": [
       "2"
      ]
     },
     "execution_count": 17,
     "metadata": {},
     "output_type": "execute_result"
    }
   ],
   "source": [
    "'cbaabc' .find('aa')"
   ]
  },
  {
   "cell_type": "markdown",
   "id": "0bdc77ae",
   "metadata": {},
   "source": [
    "Perl is an important programming language, podcast currently going Guido van Rossum, Rex Friedman. Syntax of PERL is very difficult. Guido van Rossum podcasts can help understanding the programming languages. Most of regex is based on PERL programming language. "
   ]
  },
  {
   "cell_type": "markdown",
   "id": "1dce122c",
   "metadata": {},
   "source": [
    "``` python re.search(<regex>, <string>)``` the whole string has to match the regex."
   ]
  },
  {
   "cell_type": "code",
   "execution_count": 18,
   "id": "136b201c",
   "metadata": {},
   "outputs": [
    {
     "data": {
      "text/plain": [
       "<re.Match object; span=(3, 6), match='123'>"
      ]
     },
     "execution_count": 18,
     "metadata": {},
     "output_type": "execute_result"
    }
   ],
   "source": [
    "s = 'foo123bar'\n",
    "\n",
    "re.search('123', s)"
   ]
  },
  {
   "cell_type": "markdown",
   "id": "242a895a",
   "metadata": {},
   "source": [
    "Match is a class to find in the re module. span is index 3 and up to/not including index 6. "
   ]
  },
  {
   "cell_type": "code",
   "execution_count": 20,
   "id": "eecb7272",
   "metadata": {},
   "outputs": [
    {
     "data": {
      "text/plain": [
       "'123'"
      ]
     },
     "execution_count": 20,
     "metadata": {},
     "output_type": "execute_result"
    }
   ],
   "source": [
    "s[3:6]"
   ]
  },
  {
   "cell_type": "markdown",
   "id": "05517cbd",
   "metadata": {},
   "source": [
    "Any string that contains characters it is a truthy value. If not it is a falsy value (such as empty ' ' or zero)"
   ]
  },
  {
   "cell_type": "code",
   "execution_count": 22,
   "id": "2764e492",
   "metadata": {},
   "outputs": [
    {
     "name": "stdout",
     "output_type": "stream",
     "text": [
      "No way\n"
     ]
    }
   ],
   "source": [
    "if 'abc':\n",
    "    print(\"No way\")\n",
    "else:\n",
    "    print(\"Correct\")"
   ]
  },
  {
   "cell_type": "code",
   "execution_count": 23,
   "id": "68affcc1",
   "metadata": {},
   "outputs": [
    {
     "name": "stdout",
     "output_type": "stream",
     "text": [
      "Correct\n"
     ]
    }
   ],
   "source": [
    "if 1 == 2:\n",
    "    print(\"No way\")\n",
    "else:\n",
    "    print(\"Correct\")"
   ]
  },
  {
   "cell_type": "code",
   "execution_count": 24,
   "id": "2c6a5f88",
   "metadata": {},
   "outputs": [
    {
     "name": "stdout",
     "output_type": "stream",
     "text": [
      "Correct\n"
     ]
    }
   ],
   "source": [
    "if 0:\n",
    "    print(\"No way\")\n",
    "else:\n",
    "    print(\"Correct\")"
   ]
  },
  {
   "cell_type": "code",
   "execution_count": 21,
   "id": "841f25cc",
   "metadata": {},
   "outputs": [
    {
     "name": "stdout",
     "output_type": "stream",
     "text": [
      "Found a match.\n"
     ]
    }
   ],
   "source": [
    "if re.search('123', s):\n",
    "    print('Found a match.')\n",
    "else:\n",
    "    print('No match.')"
   ]
  },
  {
   "cell_type": "markdown",
   "id": "a8ea7b0f",
   "metadata": {},
   "source": [
    "Metacharacters = special characters. "
   ]
  },
  {
   "cell_type": "code",
   "execution_count": 25,
   "id": "93f924de",
   "metadata": {},
   "outputs": [
    {
     "data": {
      "text/plain": [
       "<re.Match object; span=(3, 6), match='123'>"
      ]
     },
     "execution_count": 25,
     "metadata": {},
     "output_type": "execute_result"
    }
   ],
   "source": [
    "s = 'foo123bar'\n",
    "re.search('[0-9][0-9][0-9]', s)"
   ]
  },
  {
   "cell_type": "markdown",
   "id": "e336bbc4",
   "metadata": {},
   "source": [
    "match any three characters that are digits in a row. See below additional examples:"
   ]
  },
  {
   "cell_type": "code",
   "execution_count": 26,
   "id": "2c23321c",
   "metadata": {},
   "outputs": [
    {
     "data": {
      "text/plain": [
       "<re.Match object; span=(3, 6), match='456'>"
      ]
     },
     "execution_count": 26,
     "metadata": {},
     "output_type": "execute_result"
    }
   ],
   "source": [
    "re.search('[0-9][0-9][0-9]', 'foo456bar')"
   ]
  },
  {
   "cell_type": "code",
   "execution_count": 27,
   "id": "3968e6ee",
   "metadata": {},
   "outputs": [
    {
     "data": {
      "text/plain": [
       "<re.Match object; span=(0, 3), match='234'>"
      ]
     },
     "execution_count": 27,
     "metadata": {},
     "output_type": "execute_result"
    }
   ],
   "source": [
    "re.search('[0-9][0-9][0-9]', '234baz')"
   ]
  },
  {
   "cell_type": "code",
   "execution_count": 28,
   "id": "1869f072",
   "metadata": {},
   "outputs": [
    {
     "data": {
      "text/plain": [
       "<re.Match object; span=(3, 6), match='678'>"
      ]
     },
     "execution_count": 28,
     "metadata": {},
     "output_type": "execute_result"
    }
   ],
   "source": [
    "re.search('[0-9][0-9][0-9]', 'qux678')"
   ]
  },
  {
   "cell_type": "markdown",
   "id": "bfb73eca",
   "metadata": {},
   "source": [
    "Using metacharacter {} and specify the number of time the regex is to be repeated in the search, the above examples can be expressed as below. Matches an explicitly specified number of repetitions."
   ]
  },
  {
   "cell_type": "code",
   "execution_count": 34,
   "id": "7640bf23",
   "metadata": {},
   "outputs": [
    {
     "data": {
      "text/plain": [
       "<re.Match object; span=(3, 6), match='678'>"
      ]
     },
     "execution_count": 34,
     "metadata": {},
     "output_type": "execute_result"
    }
   ],
   "source": [
    "re.search('[0-9]{3}', 'qux678')"
   ]
  },
  {
   "cell_type": "markdown",
   "id": "90e4df39",
   "metadata": {},
   "source": [
    "On the other hand, a string that doesn’t contain three consecutive digits won’t match:"
   ]
  },
  {
   "cell_type": "code",
   "execution_count": 31,
   "id": "f775906a",
   "metadata": {},
   "outputs": [
    {
     "name": "stdout",
     "output_type": "stream",
     "text": [
      "None\n"
     ]
    }
   ],
   "source": [
    "print(re.search('[0-9][0-9][0-9]', '12foo34'))"
   ]
  },
  {
   "cell_type": "markdown",
   "id": "69ff6ff8",
   "metadata": {},
   "source": [
    "The dot (.) metacharacter matches any character except a newline, so it functions like a wildcard"
   ]
  },
  {
   "cell_type": "code",
   "execution_count": 29,
   "id": "cd63d910",
   "metadata": {},
   "outputs": [
    {
     "data": {
      "text/plain": [
       "<re.Match object; span=(3, 6), match='123'>"
      ]
     },
     "execution_count": 29,
     "metadata": {},
     "output_type": "execute_result"
    }
   ],
   "source": [
    "s = 'foo123bar'\n",
    "re.search('1.3', s)"
   ]
  },
  {
   "cell_type": "code",
   "execution_count": 30,
   "id": "6ca90883",
   "metadata": {},
   "outputs": [
    {
     "name": "stdout",
     "output_type": "stream",
     "text": [
      "None\n"
     ]
    }
   ],
   "source": [
    "s = 'foo13bar'\n",
    "print(re.search('1.3', s))"
   ]
  },
  {
   "cell_type": "markdown",
   "id": "cf9e674f",
   "metadata": {},
   "source": [
    "In the first example, the regex 1.3 matches '123' because the '1' and '3' match literally, and the . matches the '2'. Here, you’re essentially asking, “Does s contain a '1', then any character (except a newline), then a '3'?” The answer is yes for 'foo123bar' but no for 'foo13bar'."
   ]
  },
  {
   "cell_type": "markdown",
   "id": "1c02003c",
   "metadata": {},
   "source": [
    "Metacharacter []"
   ]
  },
  {
   "cell_type": "code",
   "execution_count": 35,
   "id": "5daf3555",
   "metadata": {},
   "outputs": [
    {
     "data": {
      "text/plain": [
       "<re.Match object; span=(3, 6), match='bar'>"
      ]
     },
     "execution_count": 35,
     "metadata": {},
     "output_type": "execute_result"
    }
   ],
   "source": [
    "re.search('ba[artz]', 'foobarqux')"
   ]
  },
  {
   "cell_type": "code",
   "execution_count": 40,
   "id": "4064cecd",
   "metadata": {},
   "outputs": [
    {
     "data": {
      "text/plain": [
       "<re.Match object; span=(3, 6), match='brt'>"
      ]
     },
     "execution_count": 40,
     "metadata": {},
     "output_type": "execute_result"
    }
   ],
   "source": [
    "re.search('b[ar][tz]', 'foobrtzqux')"
   ]
  },
  {
   "cell_type": "markdown",
   "id": "87b0a3ba",
   "metadata": {},
   "source": [
    "The metacharacter sequence [artz] matches any single 'a', 'r', 't', or 'z' character. In the example, the regex ba[artz] matches both 'bar' and 'baz' (and would also match 'baa' and 'bat')."
   ]
  },
  {
   "cell_type": "code",
   "execution_count": 42,
   "id": "6645afe1",
   "metadata": {},
   "outputs": [
    {
     "data": {
      "text/plain": [
       "<re.Match object; span=(3, 5), match='ba'>"
      ]
     },
     "execution_count": 42,
     "metadata": {},
     "output_type": "execute_result"
    }
   ],
   "source": [
    "re.search('[a-z][a-z]', 'FOObar')"
   ]
  },
  {
   "cell_type": "code",
   "execution_count": 44,
   "id": "976a5921",
   "metadata": {},
   "outputs": [
    {
     "data": {
      "text/plain": [
       "<re.Match object; span=(4, 7), match='23b'>"
      ]
     },
     "execution_count": 44,
     "metadata": {},
     "output_type": "execute_result"
    }
   ],
   "source": [
    "re.search('[0-9][0-9][a-z]', 'foo123bar')"
   ]
  },
  {
   "cell_type": "code",
   "execution_count": 45,
   "id": "c213e134",
   "metadata": {},
   "outputs": [
    {
     "data": {
      "text/plain": [
       "<re.Match object; span=(4, 5), match='a'>"
      ]
     },
     "execution_count": 45,
     "metadata": {},
     "output_type": "execute_result"
    }
   ],
   "source": [
    "re.search('[0-9a-fA-f]', '--- a0 ---')"
   ]
  },
  {
   "cell_type": "markdown",
   "id": "0861ad71",
   "metadata": {},
   "source": [
    "In the above examples, the return value is always the leftmost possible match. re.search() scans the search string from left to right, and as soon as it locates a match for <regex>, it stops scanning and returns the match."
   ]
  },
  {
   "cell_type": "markdown",
   "id": "70c11ecb",
   "metadata": {},
   "source": [
    "You can complement a character class by specifying ^ as the first character, in which case it matches any character that isn’t in the set. In the following example, [^0-9] matches any character that isn’t a digit:"
   ]
  },
  {
   "cell_type": "code",
   "execution_count": 46,
   "id": "7e31421b",
   "metadata": {},
   "outputs": [
    {
     "data": {
      "text/plain": [
       "<re.Match object; span=(5, 6), match='f'>"
      ]
     },
     "execution_count": 46,
     "metadata": {},
     "output_type": "execute_result"
    }
   ],
   "source": [
    "re.search('[^0-9]', '12345foo')"
   ]
  },
  {
   "cell_type": "markdown",
   "id": "dfb25210",
   "metadata": {},
   "source": [
    "If a ^ character appears in a character class but isn’t the first character, then it has no special meaning and matches a literal '^' character:"
   ]
  },
  {
   "cell_type": "code",
   "execution_count": 47,
   "id": "f49d89a8",
   "metadata": {},
   "outputs": [
    {
     "data": {
      "text/plain": [
       "<re.Match object; span=(3, 4), match='^'>"
      ]
     },
     "execution_count": 47,
     "metadata": {},
     "output_type": "execute_result"
    }
   ],
   "source": [
    "re.search('[#:^]', 'foo^bar:baz#qux')"
   ]
  },
  {
   "cell_type": "markdown",
   "id": "2041992f",
   "metadata": {},
   "source": [
    "As you’ve seen, you can specify a range of characters in a character class by separating characters with a hyphen. What if you want the character class to include a literal hyphen character? You can place it as the first or last character or escape it with a backslash (``` \\ ```):"
   ]
  },
  {
   "cell_type": "code",
   "execution_count": 48,
   "id": "2a915646",
   "metadata": {},
   "outputs": [
    {
     "data": {
      "text/plain": [
       "<re.Match object; span=(3, 4), match='-'>"
      ]
     },
     "execution_count": 48,
     "metadata": {},
     "output_type": "execute_result"
    }
   ],
   "source": [
    "re.search('[-abc]', '123-456')"
   ]
  },
  {
   "cell_type": "code",
   "execution_count": 56,
   "id": "90035b33",
   "metadata": {},
   "outputs": [
    {
     "data": {
      "text/plain": [
       "<re.Match object; span=(3, 4), match='-'>"
      ]
     },
     "execution_count": 56,
     "metadata": {},
     "output_type": "execute_result"
    }
   ],
   "source": [
    "re.search('[abc-]', '123-ab56')"
   ]
  },
  {
   "cell_type": "code",
   "execution_count": 50,
   "id": "bb568333",
   "metadata": {},
   "outputs": [
    {
     "data": {
      "text/plain": [
       "<re.Match object; span=(3, 4), match='-'>"
      ]
     },
     "execution_count": 50,
     "metadata": {},
     "output_type": "execute_result"
    }
   ],
   "source": [
    "re.search('[ab\\-c]', '123-456')"
   ]
  },
  {
   "cell_type": "code",
   "execution_count": 57,
   "id": "52af7bf6",
   "metadata": {},
   "outputs": [
    {
     "data": {
      "text/plain": [
       "<re.Match object; span=(5, 6), match=']'>"
      ]
     },
     "execution_count": 57,
     "metadata": {},
     "output_type": "execute_result"
    }
   ],
   "source": [
    "re.search('[]]', 'foo[1]')"
   ]
  },
  {
   "cell_type": "code",
   "execution_count": 59,
   "id": "a3456767",
   "metadata": {},
   "outputs": [
    {
     "data": {
      "text/plain": [
       "<re.Match object; span=(5, 6), match=']'>"
      ]
     },
     "execution_count": 59,
     "metadata": {},
     "output_type": "execute_result"
    }
   ],
   "source": [
    "re.search('[ab\\]cd]', 'foo[1]')"
   ]
  },
  {
   "cell_type": "markdown",
   "id": "cfa0f501",
   "metadata": {},
   "source": [
    "dot (.)\n",
    "\n",
    "Specifies a wildcard.\n",
    "\n",
    "The . metacharacter matches any single character except a newline:"
   ]
  },
  {
   "cell_type": "code",
   "execution_count": 61,
   "id": "94c3ebd3",
   "metadata": {},
   "outputs": [
    {
     "name": "stdout",
     "output_type": "stream",
     "text": [
      "<re.Match object; span=(0, 7), match='fooxbar'>\n",
      "None\n",
      "None\n"
     ]
    }
   ],
   "source": [
    "print(re.search('foo.bar', 'fooxbar'))\n",
    "\n",
    "\n",
    "print(re.search('foo.bar', 'foobar'))\n",
    "\n",
    "print(re.search('foo.bar', 'foo\\nbar'))"
   ]
  },
  {
   "cell_type": "markdown",
   "id": "dabbcdc0",
   "metadata": {},
   "source": [
    "As a regex, foo.bar essentially means the characters 'foo', then any character except newline, then the characters 'bar'. The first string shown above, 'fooxbar', fits the bill because the . metacharacter matches the 'x'."
   ]
  },
  {
   "cell_type": "markdown",
   "id": "1c4be116",
   "metadata": {},
   "source": [
    " Word characters are uppercase and lowercase letters, digits, and the underscore (_) character, so \\w is essentially shorthand for [a-zA-Z0-9_]:"
   ]
  },
  {
   "cell_type": "code",
   "execution_count": 62,
   "id": "e8731556",
   "metadata": {},
   "outputs": [
    {
     "data": {
      "text/plain": [
       "<re.Match object; span=(3, 4), match='a'>"
      ]
     },
     "execution_count": 62,
     "metadata": {},
     "output_type": "execute_result"
    }
   ],
   "source": [
    "re.search('\\w', '#(.a$@&')"
   ]
  },
  {
   "cell_type": "code",
   "execution_count": 63,
   "id": "327bb961",
   "metadata": {},
   "outputs": [
    {
     "data": {
      "text/plain": [
       "<re.Match object; span=(3, 4), match='a'>"
      ]
     },
     "execution_count": 63,
     "metadata": {},
     "output_type": "execute_result"
    }
   ],
   "source": [
    "re.search('[a-zA-Z0-9_]', '#(.a$@&')"
   ]
  },
  {
   "cell_type": "markdown",
   "id": "6ffad540",
   "metadata": {},
   "source": [
    "\\W is the opposite. It matches any non-word character and is equivalent to [^a-zA-Z0-9_]:"
   ]
  },
  {
   "cell_type": "code",
   "execution_count": 64,
   "id": "a5ff8827",
   "metadata": {},
   "outputs": [
    {
     "data": {
      "text/plain": [
       "<re.Match object; span=(3, 4), match='*'>"
      ]
     },
     "execution_count": 64,
     "metadata": {},
     "output_type": "execute_result"
    }
   ],
   "source": [
    "re.search('\\W', 'a_1*3Qb')"
   ]
  },
  {
   "cell_type": "code",
   "execution_count": 65,
   "id": "7dedbb0e",
   "metadata": {},
   "outputs": [
    {
     "data": {
      "text/plain": [
       "<re.Match object; span=(3, 4), match='*'>"
      ]
     },
     "execution_count": 65,
     "metadata": {},
     "output_type": "execute_result"
    }
   ],
   "source": [
    "\n",
    "re.search('[^a-zA-Z0-9_]', 'a_1*3Qb')"
   ]
  },
  {
   "cell_type": "markdown",
   "id": "d716d5f9",
   "metadata": {},
   "source": [
    "\\d\n",
    "\\D\n",
    "\n",
    "Match based on whether a character is a decimal digit.\n",
    "\n",
    "\\d matches any decimal digit character. \\D is the opposite. It matches any character that isn’t a decimal digit:\n",
    "\n"
   ]
  },
  {
   "cell_type": "code",
   "execution_count": 68,
   "id": "fce4dd29",
   "metadata": {},
   "outputs": [
    {
     "data": {
      "text/plain": [
       "<re.Match object; span=(1, 2), match='4'>"
      ]
     },
     "execution_count": 68,
     "metadata": {},
     "output_type": "execute_result"
    }
   ],
   "source": [
    "re.search('\\d', 'a4def')"
   ]
  },
  {
   "cell_type": "code",
   "execution_count": 69,
   "id": "466c3a59",
   "metadata": {},
   "outputs": [
    {
     "data": {
      "text/plain": [
       "<re.Match object; span=(0, 1), match='A'>"
      ]
     },
     "execution_count": 69,
     "metadata": {},
     "output_type": "execute_result"
    }
   ],
   "source": [
    "re.search('\\D', 'A234Q678')"
   ]
  },
  {
   "cell_type": "markdown",
   "id": "e4cac975",
   "metadata": {},
   "source": [
    "\\s\n",
    "\\S\n",
    "\n",
    "Match based on whether a character represents whitespace.\n",
    "\n",
    "\\s matches any whitespace character:\n",
    "(Note that, unlike the dot wildcard metacharacter, \\s does match a newline character.\n",
    "\n",
    "\\S is the opposite of \\s. It matches any character that isn’t whitespace:)"
   ]
  },
  {
   "cell_type": "code",
   "execution_count": 70,
   "id": "7b90a38a",
   "metadata": {},
   "outputs": [
    {
     "data": {
      "text/plain": [
       "<re.Match object; span=(3, 4), match='\\n'>"
      ]
     },
     "execution_count": 70,
     "metadata": {},
     "output_type": "execute_result"
    }
   ],
   "source": [
    "re.search('\\s', 'foo\\nbar baz')"
   ]
  },
  {
   "cell_type": "code",
   "execution_count": 71,
   "id": "457220ba",
   "metadata": {},
   "outputs": [
    {
     "data": {
      "text/plain": [
       "<re.Match object; span=(6, 7), match=' '>"
      ]
     },
     "execution_count": 71,
     "metadata": {},
     "output_type": "execute_result"
    }
   ],
   "source": [
    "re.search('\\s', 'foobar baz')"
   ]
  },
  {
   "cell_type": "code",
   "execution_count": 72,
   "id": "080a7dac",
   "metadata": {},
   "outputs": [
    {
     "data": {
      "text/plain": [
       "<re.Match object; span=(4, 5), match='f'>"
      ]
     },
     "execution_count": 72,
     "metadata": {},
     "output_type": "execute_result"
    }
   ],
   "source": [
    "re.search('\\S', '  \\n foo  \\n  ')"
   ]
  },
  {
   "cell_type": "markdown",
   "id": "b83441d1",
   "metadata": {},
   "source": [
    "backslash (\\)\n",
    "\n",
    "Removes the special meaning of a metacharacter.\n",
    "\n",
    "As you’ve just seen, the backslash character can introduce special character classes like word, digit, and whitespace. There are also special metacharacter sequences called anchors that begin with a backslash, which you’ll learn about below.\n",
    "\n",
    "When it’s not serving either of these purposes, the backslash escapes metacharacters. A metacharacter preceded by a backslash loses its special meaning and matches the literal character instead. Consider the following examples:\n",
    "\n",
    "    "
   ]
  },
  {
   "cell_type": "code",
   "execution_count": 74,
   "id": "e7b93c84",
   "metadata": {},
   "outputs": [
    {
     "name": "stdout",
     "output_type": "stream",
     "text": [
      "foo\\bar\n"
     ]
    }
   ],
   "source": [
    "s = r'foo\\bar'\n",
    "print(s)"
   ]
  },
  {
   "cell_type": "code",
   "execution_count": 75,
   "id": "e690c755",
   "metadata": {},
   "outputs": [
    {
     "ename": "error",
     "evalue": "bad escape (end of pattern) at position 0",
     "output_type": "error",
     "traceback": [
      "\u001b[1;31m---------------------------------------------------------------------------\u001b[0m",
      "\u001b[1;31merror\u001b[0m                                     Traceback (most recent call last)",
      "Input \u001b[1;32mIn [75]\u001b[0m, in \u001b[0;36m<cell line: 1>\u001b[1;34m()\u001b[0m\n\u001b[1;32m----> 1\u001b[0m \u001b[43mre\u001b[49m\u001b[38;5;241;43m.\u001b[39;49m\u001b[43msearch\u001b[49m\u001b[43m(\u001b[49m\u001b[38;5;124;43m'\u001b[39;49m\u001b[38;5;130;43;01m\\\\\u001b[39;49;00m\u001b[38;5;124;43m'\u001b[39;49m\u001b[43m,\u001b[49m\u001b[43m \u001b[49m\u001b[43ms\u001b[49m\u001b[43m)\u001b[49m\n",
      "File \u001b[1;32m~\\anaconda3\\lib\\re.py:201\u001b[0m, in \u001b[0;36msearch\u001b[1;34m(pattern, string, flags)\u001b[0m\n\u001b[0;32m    198\u001b[0m \u001b[38;5;28;01mdef\u001b[39;00m \u001b[38;5;21msearch\u001b[39m(pattern, string, flags\u001b[38;5;241m=\u001b[39m\u001b[38;5;241m0\u001b[39m):\n\u001b[0;32m    199\u001b[0m     \u001b[38;5;124;03m\"\"\"Scan through string looking for a match to the pattern, returning\u001b[39;00m\n\u001b[0;32m    200\u001b[0m \u001b[38;5;124;03m    a Match object, or None if no match was found.\"\"\"\u001b[39;00m\n\u001b[1;32m--> 201\u001b[0m     \u001b[38;5;28;01mreturn\u001b[39;00m \u001b[43m_compile\u001b[49m\u001b[43m(\u001b[49m\u001b[43mpattern\u001b[49m\u001b[43m,\u001b[49m\u001b[43m \u001b[49m\u001b[43mflags\u001b[49m\u001b[43m)\u001b[49m\u001b[38;5;241m.\u001b[39msearch(string)\n",
      "File \u001b[1;32m~\\anaconda3\\lib\\re.py:304\u001b[0m, in \u001b[0;36m_compile\u001b[1;34m(pattern, flags)\u001b[0m\n\u001b[0;32m    302\u001b[0m \u001b[38;5;28;01mif\u001b[39;00m \u001b[38;5;129;01mnot\u001b[39;00m sre_compile\u001b[38;5;241m.\u001b[39misstring(pattern):\n\u001b[0;32m    303\u001b[0m     \u001b[38;5;28;01mraise\u001b[39;00m \u001b[38;5;167;01mTypeError\u001b[39;00m(\u001b[38;5;124m\"\u001b[39m\u001b[38;5;124mfirst argument must be string or compiled pattern\u001b[39m\u001b[38;5;124m\"\u001b[39m)\n\u001b[1;32m--> 304\u001b[0m p \u001b[38;5;241m=\u001b[39m \u001b[43msre_compile\u001b[49m\u001b[38;5;241;43m.\u001b[39;49m\u001b[43mcompile\u001b[49m\u001b[43m(\u001b[49m\u001b[43mpattern\u001b[49m\u001b[43m,\u001b[49m\u001b[43m \u001b[49m\u001b[43mflags\u001b[49m\u001b[43m)\u001b[49m\n\u001b[0;32m    305\u001b[0m \u001b[38;5;28;01mif\u001b[39;00m \u001b[38;5;129;01mnot\u001b[39;00m (flags \u001b[38;5;241m&\u001b[39m DEBUG):\n\u001b[0;32m    306\u001b[0m     \u001b[38;5;28;01mif\u001b[39;00m \u001b[38;5;28mlen\u001b[39m(_cache) \u001b[38;5;241m>\u001b[39m\u001b[38;5;241m=\u001b[39m _MAXCACHE:\n\u001b[0;32m    307\u001b[0m         \u001b[38;5;66;03m# Drop the oldest item\u001b[39;00m\n",
      "File \u001b[1;32m~\\anaconda3\\lib\\sre_compile.py:764\u001b[0m, in \u001b[0;36mcompile\u001b[1;34m(p, flags)\u001b[0m\n\u001b[0;32m    762\u001b[0m \u001b[38;5;28;01mif\u001b[39;00m isstring(p):\n\u001b[0;32m    763\u001b[0m     pattern \u001b[38;5;241m=\u001b[39m p\n\u001b[1;32m--> 764\u001b[0m     p \u001b[38;5;241m=\u001b[39m \u001b[43msre_parse\u001b[49m\u001b[38;5;241;43m.\u001b[39;49m\u001b[43mparse\u001b[49m\u001b[43m(\u001b[49m\u001b[43mp\u001b[49m\u001b[43m,\u001b[49m\u001b[43m \u001b[49m\u001b[43mflags\u001b[49m\u001b[43m)\u001b[49m\n\u001b[0;32m    765\u001b[0m \u001b[38;5;28;01melse\u001b[39;00m:\n\u001b[0;32m    766\u001b[0m     pattern \u001b[38;5;241m=\u001b[39m \u001b[38;5;28;01mNone\u001b[39;00m\n",
      "File \u001b[1;32m~\\anaconda3\\lib\\sre_parse.py:942\u001b[0m, in \u001b[0;36mparse\u001b[1;34m(str, flags, state)\u001b[0m\n\u001b[0;32m    939\u001b[0m \u001b[38;5;28;01mdef\u001b[39;00m \u001b[38;5;21mparse\u001b[39m(\u001b[38;5;28mstr\u001b[39m, flags\u001b[38;5;241m=\u001b[39m\u001b[38;5;241m0\u001b[39m, state\u001b[38;5;241m=\u001b[39m\u001b[38;5;28;01mNone\u001b[39;00m):\n\u001b[0;32m    940\u001b[0m     \u001b[38;5;66;03m# parse 're' pattern into list of (opcode, argument) tuples\u001b[39;00m\n\u001b[1;32m--> 942\u001b[0m     source \u001b[38;5;241m=\u001b[39m \u001b[43mTokenizer\u001b[49m\u001b[43m(\u001b[49m\u001b[38;5;28;43mstr\u001b[39;49m\u001b[43m)\u001b[49m\n\u001b[0;32m    944\u001b[0m     \u001b[38;5;28;01mif\u001b[39;00m state \u001b[38;5;129;01mis\u001b[39;00m \u001b[38;5;28;01mNone\u001b[39;00m:\n\u001b[0;32m    945\u001b[0m         state \u001b[38;5;241m=\u001b[39m State()\n",
      "File \u001b[1;32m~\\anaconda3\\lib\\sre_parse.py:232\u001b[0m, in \u001b[0;36mTokenizer.__init__\u001b[1;34m(self, string)\u001b[0m\n\u001b[0;32m    230\u001b[0m \u001b[38;5;28mself\u001b[39m\u001b[38;5;241m.\u001b[39mindex \u001b[38;5;241m=\u001b[39m \u001b[38;5;241m0\u001b[39m\n\u001b[0;32m    231\u001b[0m \u001b[38;5;28mself\u001b[39m\u001b[38;5;241m.\u001b[39mnext \u001b[38;5;241m=\u001b[39m \u001b[38;5;28;01mNone\u001b[39;00m\n\u001b[1;32m--> 232\u001b[0m \u001b[38;5;28;43mself\u001b[39;49m\u001b[38;5;241;43m.\u001b[39;49m\u001b[43m__next\u001b[49m\u001b[43m(\u001b[49m\u001b[43m)\u001b[49m\n",
      "File \u001b[1;32m~\\anaconda3\\lib\\sre_parse.py:245\u001b[0m, in \u001b[0;36mTokenizer.__next\u001b[1;34m(self)\u001b[0m\n\u001b[0;32m    243\u001b[0m         char \u001b[38;5;241m+\u001b[39m\u001b[38;5;241m=\u001b[39m \u001b[38;5;28mself\u001b[39m\u001b[38;5;241m.\u001b[39mdecoded_string[index]\n\u001b[0;32m    244\u001b[0m     \u001b[38;5;28;01mexcept\u001b[39;00m \u001b[38;5;167;01mIndexError\u001b[39;00m:\n\u001b[1;32m--> 245\u001b[0m         \u001b[38;5;28;01mraise\u001b[39;00m error(\u001b[38;5;124m\"\u001b[39m\u001b[38;5;124mbad escape (end of pattern)\u001b[39m\u001b[38;5;124m\"\u001b[39m,\n\u001b[0;32m    246\u001b[0m                     \u001b[38;5;28mself\u001b[39m\u001b[38;5;241m.\u001b[39mstring, \u001b[38;5;28mlen\u001b[39m(\u001b[38;5;28mself\u001b[39m\u001b[38;5;241m.\u001b[39mstring) \u001b[38;5;241m-\u001b[39m \u001b[38;5;241m1\u001b[39m) \u001b[38;5;28;01mfrom\u001b[39;00m \u001b[38;5;28mNone\u001b[39m\n\u001b[0;32m    247\u001b[0m \u001b[38;5;28mself\u001b[39m\u001b[38;5;241m.\u001b[39mindex \u001b[38;5;241m=\u001b[39m index \u001b[38;5;241m+\u001b[39m \u001b[38;5;241m1\u001b[39m\n\u001b[0;32m    248\u001b[0m \u001b[38;5;28mself\u001b[39m\u001b[38;5;241m.\u001b[39mnext \u001b[38;5;241m=\u001b[39m char\n",
      "\u001b[1;31merror\u001b[0m: bad escape (end of pattern) at position 0"
     ]
    }
   ],
   "source": [
    "re.search('\\\\', s)"
   ]
  },
  {
   "cell_type": "code",
   "execution_count": 77,
   "id": "ceb38d2b",
   "metadata": {},
   "outputs": [
    {
     "data": {
      "text/plain": [
       "<re.Match object; span=(3, 4), match='\\\\'>"
      ]
     },
     "execution_count": 77,
     "metadata": {},
     "output_type": "execute_result"
    }
   ],
   "source": [
    "# using a rawa string is a cleaner way to resolve this error message and it returns the correct position of the \"\\\".\n",
    "re.search(r'\\\\', s)"
   ]
  },
  {
   "cell_type": "markdown",
   "id": "9b54ebd9",
   "metadata": {},
   "source": [
    "It’s good practice to use a raw string to specify a regex in Python whenever it contains backslashes."
   ]
  },
  {
   "cell_type": "markdown",
   "id": "50f36869",
   "metadata": {},
   "source": [
    "Anchors\n",
    "Anchors are zero-width matches. They don’t match any actual characters in the search string, and they don’t consume any of the search string during parsing. Instead, an anchor dictates a particular location in the search string where a match must occur."
   ]
  },
  {
   "cell_type": "code",
   "execution_count": 78,
   "id": "4edeb526",
   "metadata": {},
   "outputs": [
    {
     "data": {
      "text/plain": [
       "<re.Match object; span=(0, 3), match='foo'>"
      ]
     },
     "execution_count": 78,
     "metadata": {},
     "output_type": "execute_result"
    }
   ],
   "source": [
    "re.search('^foo', 'foobar')"
   ]
  },
  {
   "cell_type": "code",
   "execution_count": 79,
   "id": "b63decf8",
   "metadata": {},
   "outputs": [
    {
     "name": "stdout",
     "output_type": "stream",
     "text": [
      "None\n"
     ]
    }
   ],
   "source": [
    "\n",
    "print(re.search('^foo', 'barfoo'))"
   ]
  },
  {
   "cell_type": "code",
   "execution_count": 80,
   "id": "9b158adf",
   "metadata": {},
   "outputs": [
    {
     "data": {
      "text/plain": [
       "<re.Match object; span=(0, 3), match='foo'>"
      ]
     },
     "execution_count": 80,
     "metadata": {},
     "output_type": "execute_result"
    }
   ],
   "source": [
    "re.search('\\Afoo', 'foobar')\n"
   ]
  },
  {
   "cell_type": "code",
   "execution_count": 81,
   "id": "5ae78c2e",
   "metadata": {},
   "outputs": [
    {
     "name": "stdout",
     "output_type": "stream",
     "text": [
      "None\n"
     ]
    }
   ],
   "source": [
    "\n",
    "print(re.search('\\Afoo', 'barfoo'))"
   ]
  },
  {
   "cell_type": "markdown",
   "id": "fe899722",
   "metadata": {},
   "source": [
    "the same outcome can be obtained by using either ^ or \\A ."
   ]
  },
  {
   "cell_type": "markdown",
   "id": "53f5809f",
   "metadata": {},
   "source": [
    "When the regex parser encounters ^ or \\A, the parser’s current position must be at the beginning of the search string for it to find a match."
   ]
  },
  {
   "cell_type": "markdown",
   "id": "6026afcd",
   "metadata": {},
   "source": [
    "$\n",
    "\n",
    "\\Z\n",
    "\n",
    "Anchor a match to the end of <string>.\n",
    "\n",
    "When the regex parser encounters $ or \\Z, the parser’s current position must be at the end of the search string for it to find a match. Whatever precedes $ or \\Z must constitute the end of the search string:\n"
   ]
  },
  {
   "cell_type": "code",
   "execution_count": 82,
   "id": "99328184",
   "metadata": {},
   "outputs": [
    {
     "data": {
      "text/plain": [
       "<re.Match object; span=(3, 6), match='bar'>"
      ]
     },
     "execution_count": 82,
     "metadata": {},
     "output_type": "execute_result"
    }
   ],
   "source": [
    "re.search('bar$', 'foobar')\n"
   ]
  },
  {
   "cell_type": "code",
   "execution_count": 83,
   "id": "72142404",
   "metadata": {},
   "outputs": [
    {
     "name": "stdout",
     "output_type": "stream",
     "text": [
      "None\n"
     ]
    }
   ],
   "source": [
    "\n",
    "print(re.search('bar$', 'barfoo'))\n",
    "\n"
   ]
  },
  {
   "cell_type": "code",
   "execution_count": 84,
   "id": "24437475",
   "metadata": {},
   "outputs": [
    {
     "data": {
      "text/plain": [
       "<re.Match object; span=(3, 6), match='bar'>"
      ]
     },
     "execution_count": 84,
     "metadata": {},
     "output_type": "execute_result"
    }
   ],
   "source": [
    "\n",
    "re.search('bar\\Z', 'foobar')\n"
   ]
  },
  {
   "cell_type": "code",
   "execution_count": 85,
   "id": "953ed416",
   "metadata": {},
   "outputs": [
    {
     "name": "stdout",
     "output_type": "stream",
     "text": [
      "None\n"
     ]
    }
   ],
   "source": [
    "\n",
    "print(re.search('bar\\Z', 'barfoo'))\n"
   ]
  },
  {
   "cell_type": "markdown",
   "id": "4b512817",
   "metadata": {},
   "source": [
    "$ and \\Z behave slightly differently from each other in MULTILINE mode. See the section below on flags for more information on MULTILINE mode."
   ]
  },
  {
   "cell_type": "markdown",
   "id": "d58618a1",
   "metadata": {},
   "source": [
    "#### \\b\n",
    "\n",
    "Anchors a match to a word boundary.\n",
    "\n",
    "\\b asserts that the regex parser’s current position must be at the beginning or end of a word. A word consists of a sequence of alphanumeric characters or underscores ([a-zA-Z0-9_]), the same as for the \\w character class:"
   ]
  },
  {
   "cell_type": "code",
   "execution_count": 86,
   "id": "c42ea0ed",
   "metadata": {},
   "outputs": [
    {
     "data": {
      "text/plain": [
       "<re.Match object; span=(4, 7), match='bar'>"
      ]
     },
     "execution_count": 86,
     "metadata": {},
     "output_type": "execute_result"
    }
   ],
   "source": [
    "re.search(r'\\bbar', 'foo bar')\n",
    "#There is a space boundary before bar\n"
   ]
  },
  {
   "cell_type": "code",
   "execution_count": 87,
   "id": "39909415",
   "metadata": {},
   "outputs": [
    {
     "data": {
      "text/plain": [
       "<re.Match object; span=(4, 7), match='bar'>"
      ]
     },
     "execution_count": 87,
     "metadata": {},
     "output_type": "execute_result"
    }
   ],
   "source": [
    "re.search(r'\\bbar', 'foo.bar')\n",
    "#there is a dot boundary before bar\n"
   ]
  },
  {
   "cell_type": "code",
   "execution_count": 94,
   "id": "74c10576",
   "metadata": {},
   "outputs": [
    {
     "name": "stdout",
     "output_type": "stream",
     "text": [
      "None\n"
     ]
    }
   ],
   "source": [
    "\n",
    "print(re.search(r'\\bbar', 'foobar'))\n",
    "#there is no space, nor dot before bar, it is directly concatenated with foo, therefore it is a faulty situation, it returns None"
   ]
  },
  {
   "cell_type": "code",
   "execution_count": 89,
   "id": "39b7aada",
   "metadata": {},
   "outputs": [
    {
     "data": {
      "text/plain": [
       "<re.Match object; span=(0, 3), match='foo'>"
      ]
     },
     "execution_count": 89,
     "metadata": {},
     "output_type": "execute_result"
    }
   ],
   "source": [
    "\n",
    "# there is a bourndary (blank) after foo, therefore it matches foo below.\n",
    "re.search(r'foo\\b', 'foo bar')\n"
   ]
  },
  {
   "cell_type": "code",
   "execution_count": 92,
   "id": "73c2e430",
   "metadata": {},
   "outputs": [
    {
     "data": {
      "text/plain": [
       "<re.Match object; span=(0, 3), match='foo'>"
      ]
     },
     "execution_count": 92,
     "metadata": {},
     "output_type": "execute_result"
    }
   ],
   "source": [
    "# there is a . (dot) after foo which is also considered a boundary\n",
    "re.search(r'foo\\b', 'foo.bar')\n"
   ]
  },
  {
   "cell_type": "code",
   "execution_count": 93,
   "id": "13677bb7",
   "metadata": {},
   "outputs": [
    {
     "name": "stdout",
     "output_type": "stream",
     "text": [
      "None\n"
     ]
    }
   ],
   "source": [
    "# foo in the below example is followed by bar straight away, therefore it cannot match foo with a boundary after it.\n",
    "print(re.search(r'foo\\b', 'foobar'))"
   ]
  },
  {
   "cell_type": "code",
   "execution_count": 95,
   "id": "04822ff0",
   "metadata": {},
   "outputs": [
    {
     "data": {
      "text/plain": [
       "<re.Match object; span=(4, 7), match='bar'>"
      ]
     },
     "execution_count": 95,
     "metadata": {},
     "output_type": "execute_result"
    }
   ],
   "source": [
    "re.search(r'\\bbar\\b', 'foo bar baz')\n",
    "# spaces around \"bar\" qualify for a boundary, hence there is a match"
   ]
  },
  {
   "cell_type": "code",
   "execution_count": 96,
   "id": "56d587ff",
   "metadata": {},
   "outputs": [
    {
     "data": {
      "text/plain": [
       "<re.Match object; span=(4, 7), match='bar'>"
      ]
     },
     "execution_count": 96,
     "metadata": {},
     "output_type": "execute_result"
    }
   ],
   "source": [
    "# parenthesis form a boundary around bar, therefore there is a match\n",
    "re.search(r'\\bbar\\b', 'foo(bar)baz')\n"
   ]
  },
  {
   "cell_type": "code",
   "execution_count": 97,
   "id": "3583735e",
   "metadata": {},
   "outputs": [
    {
     "name": "stdout",
     "output_type": "stream",
     "text": [
      "None\n"
     ]
    }
   ],
   "source": [
    "# Result is none as there is no boundary before and after \"bar\"\n",
    "print(re.search(r'\\bbar\\b', 'foobarbaz'))"
   ]
  },
  {
   "cell_type": "markdown",
   "id": "dab1b155",
   "metadata": {},
   "source": [
    "### \\B\n",
    "\n",
    "Anchors a match to a location that isn’t a word boundary.\n",
    "\n",
    "\\B does the opposite of \\b. It asserts that the regex parser’s current position must not be at the start or end of a word:\n",
    "\n"
   ]
  },
  {
   "cell_type": "code",
   "execution_count": 101,
   "id": "6003be95",
   "metadata": {},
   "outputs": [
    {
     "name": "stdout",
     "output_type": "stream",
     "text": [
      "None\n"
     ]
    }
   ],
   "source": [
    "print(re.search(r'\\Bfoo\\B', 'foo'))\n",
    "#no whitespace or other boundary present => faulty result"
   ]
  },
  {
   "cell_type": "code",
   "execution_count": 102,
   "id": "b58be79a",
   "metadata": {},
   "outputs": [
    {
     "name": "stdout",
     "output_type": "stream",
     "text": [
      "None\n"
     ]
    }
   ],
   "source": [
    "# \".\" is a boundary, therefore result is faulty\n",
    "print(re.search(r'\\Bfoo\\B', '.foo.'))"
   ]
  },
  {
   "cell_type": "code",
   "execution_count": 103,
   "id": "cfef6518",
   "metadata": {},
   "outputs": [
    {
     "data": {
      "text/plain": [
       "<re.Match object; span=(3, 6), match='foo'>"
      ]
     },
     "execution_count": 103,
     "metadata": {},
     "output_type": "execute_result"
    }
   ],
   "source": [
    "# no boundaries around foo, hence it matches.\n",
    "re.search(r'\\Bfoo\\B', 'barfoobaz')"
   ]
  },
  {
   "cell_type": "markdown",
   "id": "9fa613c5",
   "metadata": {},
   "source": [
    "## *\n",
    "\n",
    "Matches zero or more repetitions of the preceding regex.\n",
    "\n",
    "For example, a* matches zero or more 'a' characters. That means it would match an empty string, 'a', 'aa', 'aaa', and so on.\n",
    "\n",
    "Consider these examples:"
   ]
  },
  {
   "cell_type": "code",
   "execution_count": 104,
   "id": "7f7a2a06",
   "metadata": {},
   "outputs": [
    {
     "data": {
      "text/plain": [
       "<re.Match object; span=(0, 6), match='foobar'>"
      ]
     },
     "execution_count": 104,
     "metadata": {},
     "output_type": "execute_result"
    }
   ],
   "source": [
    "re.search('foo-*bar', 'foobar')                     # Zero dashes\n"
   ]
  },
  {
   "cell_type": "code",
   "execution_count": 105,
   "id": "f4376b24",
   "metadata": {},
   "outputs": [
    {
     "data": {
      "text/plain": [
       "<re.Match object; span=(0, 7), match='foo-bar'>"
      ]
     },
     "execution_count": 105,
     "metadata": {},
     "output_type": "execute_result"
    }
   ],
   "source": [
    "\n",
    "re.search('foo-*bar', 'foo-bar')                    # One dash\n"
   ]
  },
  {
   "cell_type": "code",
   "execution_count": 106,
   "id": "add08ae1",
   "metadata": {},
   "outputs": [
    {
     "data": {
      "text/plain": [
       "<re.Match object; span=(0, 8), match='foo--bar'>"
      ]
     },
     "execution_count": 106,
     "metadata": {},
     "output_type": "execute_result"
    }
   ],
   "source": [
    "\n",
    "re.search('foo-*bar', 'foo--bar')                   # Two dashes"
   ]
  },
  {
   "cell_type": "code",
   "execution_count": 107,
   "id": "54be3b81",
   "metadata": {},
   "outputs": [
    {
     "data": {
      "text/plain": [
       "<re.Match object; span=(2, 23), match='foo $qux@grault % bar'>"
      ]
     },
     "execution_count": 107,
     "metadata": {},
     "output_type": "execute_result"
    }
   ],
   "source": [
    "# In this example, .* matches everything between 'foo' and 'bar', excluding # at the end of the original string:\n",
    "\n",
    "re.search('foo.*bar', '# foo $qux@grault % bar #')"
   ]
  },
  {
   "cell_type": "markdown",
   "id": "65602f6c",
   "metadata": {},
   "source": [
    "## +\n",
    "\n",
    "Matches one or more repetitions of the preceding regex.\n",
    "\n",
    "This is similar to *, but the quantified regex must occur at least once:\n",
    "\n"
   ]
  },
  {
   "cell_type": "markdown",
   "id": "a3237340",
   "metadata": {},
   "source": [
    "## ?\n",
    "\n",
    "Matches zero or one repetitions of the preceding regex.\n",
    "\n",
    "Again, this is similar to * and +, but in this case there’s only a match if the preceding regex occurs once or not at all:"
   ]
  },
  {
   "cell_type": "markdown",
   "id": "b2922ccf",
   "metadata": {},
   "source": [
    "## Examples of * , +, ?"
   ]
  },
  {
   "cell_type": "code",
   "execution_count": 108,
   "id": "b2170bcb",
   "metadata": {},
   "outputs": [
    {
     "data": {
      "text/plain": [
       "<re.Match object; span=(0, 6), match='foobar'>"
      ]
     },
     "execution_count": 108,
     "metadata": {},
     "output_type": "execute_result"
    }
   ],
   "source": [
    "re.match('foo[1-9]*bar', 'foobar')\n",
    "\n",
    "# * Matches zero or more repetitions of the preceding regex. therefore, found foobar"
   ]
  },
  {
   "cell_type": "code",
   "execution_count": 109,
   "id": "fe321fbc",
   "metadata": {},
   "outputs": [
    {
     "data": {
      "text/plain": [
       "<re.Match object; span=(0, 8), match='foo42bar'>"
      ]
     },
     "execution_count": 109,
     "metadata": {},
     "output_type": "execute_result"
    }
   ],
   "source": [
    "re.match('foo[1-9]*bar', 'foo42bar')\n"
   ]
  },
  {
   "cell_type": "code",
   "execution_count": 114,
   "id": "b7a6af97",
   "metadata": {},
   "outputs": [
    {
     "name": "stdout",
     "output_type": "stream",
     "text": [
      "None\n"
     ]
    }
   ],
   "source": [
    "\n",
    "# + needs at least one occurrence of the regex, therefore faulty result as there are no numeric characters between foo and bar\n",
    "print(re.match('foo[1-9]+bar', 'foobar'))\n"
   ]
  },
  {
   "cell_type": "code",
   "execution_count": 111,
   "id": "dcae3dc9",
   "metadata": {},
   "outputs": [
    {
     "data": {
      "text/plain": [
       "<re.Match object; span=(0, 8), match='foo42bar'>"
      ]
     },
     "execution_count": 111,
     "metadata": {},
     "output_type": "execute_result"
    }
   ],
   "source": [
    "# Match found as there are numeric characters in string.\n",
    "re.match('foo[1-9]+bar', 'foo42bar')\n"
   ]
  },
  {
   "cell_type": "code",
   "execution_count": 112,
   "id": "55129c55",
   "metadata": {},
   "outputs": [
    {
     "data": {
      "text/plain": [
       "<re.Match object; span=(0, 6), match='foobar'>"
      ]
     },
     "execution_count": 112,
     "metadata": {},
     "output_type": "execute_result"
    }
   ],
   "source": [
    "# there’s only a match if the preceding regex occurs once or not at all:\n",
    "\n",
    "re.match('foo[1-9]?bar', 'foobar')\n"
   ]
  },
  {
   "cell_type": "code",
   "execution_count": 121,
   "id": "056b974d",
   "metadata": {},
   "outputs": [
    {
     "name": "stdout",
     "output_type": "stream",
     "text": [
      "None\n"
     ]
    }
   ],
   "source": [
    "# Faulty as the regex only allows for one numeric character or none, see lines 122 and 123\n",
    "print(re.match('foo[1-9]?bar', 'foo42bar'))\n"
   ]
  },
  {
   "cell_type": "code",
   "execution_count": 122,
   "id": "28a069aa",
   "metadata": {},
   "outputs": [
    {
     "name": "stdout",
     "output_type": "stream",
     "text": [
      "<re.Match object; span=(0, 7), match='foo4bar'>\n"
     ]
    }
   ],
   "source": [
    "print(re.match('foo[1-9]?bar', 'foo4bar'))"
   ]
  },
  {
   "cell_type": "code",
   "execution_count": 123,
   "id": "6caa59ad",
   "metadata": {},
   "outputs": [
    {
     "name": "stdout",
     "output_type": "stream",
     "text": [
      "<re.Match object; span=(0, 6), match='foobar'>\n"
     ]
    }
   ],
   "source": [
    "print(re.match('foo[1-9]?bar', 'foobar'))"
   ]
  },
  {
   "cell_type": "code",
   "execution_count": null,
   "id": "240ce74f",
   "metadata": {},
   "outputs": [],
   "source": []
  },
  {
   "cell_type": "code",
   "execution_count": null,
   "id": "62d25a15",
   "metadata": {},
   "outputs": [],
   "source": []
  },
  {
   "cell_type": "code",
   "execution_count": null,
   "id": "d3b794d2",
   "metadata": {},
   "outputs": [],
   "source": []
  },
  {
   "cell_type": "markdown",
   "id": "2ff35795",
   "metadata": {},
   "source": [
    "## {m}\n",
    "\n",
    "Matches exactly m repetitions of the preceding regex.\n",
    "\n",
    "This is similar to * or +, but it specifies exactly how many times the preceding regex must occur for a match to succeed:\n",
    "\n"
   ]
  },
  {
   "cell_type": "code",
   "execution_count": 124,
   "id": "3f4acda2",
   "metadata": {},
   "outputs": [
    {
     "name": "stdout",
     "output_type": "stream",
     "text": [
      "None\n"
     ]
    }
   ],
   "source": [
    "print(re.search('x-{3}x', 'x--x'))                # Two dashes\n"
   ]
  },
  {
   "cell_type": "code",
   "execution_count": 125,
   "id": "1bc50b95",
   "metadata": {},
   "outputs": [
    {
     "data": {
      "text/plain": [
       "<re.Match object; span=(0, 5), match='x---x'>"
      ]
     },
     "execution_count": 125,
     "metadata": {},
     "output_type": "execute_result"
    }
   ],
   "source": [
    "\n",
    "re.search('x-{3}x', 'x---x')                      # Three dashes"
   ]
  },
  {
   "cell_type": "code",
   "execution_count": 126,
   "id": "af5ca3b0",
   "metadata": {},
   "outputs": [
    {
     "name": "stdout",
     "output_type": "stream",
     "text": [
      "None\n"
     ]
    }
   ],
   "source": [
    "\n",
    "print(re.search('x-{3}x', 'x----x'))              # Four dashes"
   ]
  },
  {
   "cell_type": "markdown",
   "id": "66e58380",
   "metadata": {},
   "source": [
    "Here, x-{3}x matches 'x', followed by exactly three instances of the '-' character, followed by another 'x'. The match fails when there are fewer or more than three dashes between the 'x' characters."
   ]
  },
  {
   "cell_type": "markdown",
   "id": "6ab969f9",
   "metadata": {},
   "source": [
    "## {m,n}\n",
    "\n",
    "Matches any number of repetitions of the preceding regex from m to n, inclusive.\n",
    "\n",
    "In the following example, the quantified <regex> is -{2,4}. The match succeeds when there are two, three, or four dashes between the 'x' characters but fails otherwise:"
   ]
  },
  {
   "cell_type": "code",
   "execution_count": 127,
   "id": "c30a642b",
   "metadata": {},
   "outputs": [
    {
     "name": "stdout",
     "output_type": "stream",
     "text": [
      "1  x-x        None\n",
      "2  x--x       <re.Match object; span=(0, 4), match='x--x'>\n",
      "3  x---x      <re.Match object; span=(0, 5), match='x---x'>\n",
      "4  x----x     <re.Match object; span=(0, 6), match='x----x'>\n",
      "5  x-----x    None\n"
     ]
    }
   ],
   "source": [
    "for i in range(1, 6):\n",
    "    s = f\"x{'-' * i}x\"\n",
    "    print(f'{i}  {s:10}', re.search('x-{2,4}x', s))"
   ]
  },
  {
   "cell_type": "markdown",
   "id": "fd89b37f",
   "metadata": {},
   "source": [
    "Omitting m implies a lower bound of 0, and omitting n implies an unlimited upper bound.\n",
    "If you omit all of m, n, and the comma, then the curly braces no longer function as metacharacters. {} matches just the literal string '{}'.\n",
    "In fact, to have any special meaning, a sequence with curly braces must fit one of the following patterns in which m and n are nonnegative integers:\n",
    "\n",
    "{m,n}\n",
    "{m,}\n",
    "{,n}\n",
    "{,}\n",
    "\n",
    "{m,n} will match as many characters as possible, and {m,n}? will match as few as possible."
   ]
  },
  {
   "cell_type": "code",
   "execution_count": 128,
   "id": "4a138172",
   "metadata": {},
   "outputs": [
    {
     "data": {
      "text/plain": [
       "<re.Match object; span=(0, 5), match='aaaaa'>"
      ]
     },
     "execution_count": 128,
     "metadata": {},
     "output_type": "execute_result"
    }
   ],
   "source": [
    "# Greedy (w/o ?) includes all, as many as possible\n",
    "re.search('a{3,5}', 'aaaaaaaa')\n"
   ]
  },
  {
   "cell_type": "code",
   "execution_count": 131,
   "id": "c8ea2dd1",
   "metadata": {},
   "outputs": [
    {
     "data": {
      "text/plain": [
       "<re.Match object; span=(0, 3), match='aaa'>"
      ]
     },
     "execution_count": 131,
     "metadata": {},
     "output_type": "execute_result"
    }
   ],
   "source": [
    "# Non-greedy (with ?) includes the least number of characters as per regex\n",
    "re.search('a{3,5}?', 'aaaaaaaa')"
   ]
  },
  {
   "cell_type": "markdown",
   "id": "bbf62dd3",
   "metadata": {},
   "source": [
    "## Grouping Constructs and Backreferences\n",
    "Grouping constructs break up a regex in Python into subexpressions or groups. This serves two purposes:\n",
    "\n",
    "#### Grouping: A group represents a single syntactic entity. Additional metacharacters apply to the entire group as a unit. \n",
    "\n",
    "#### Capturing: Some grouping constructs also capture the portion of the search string that matches the subexpression in the group. You can retrieve captured matches later through several different mechanisms.\n",
    "Here’s a look at how grouping and capturing work.\n",
    "\n",
    "(```<regex>```)\n",
    "\n",
    "Defines a subexpression or group.\n",
    "\n",
    "This is the most basic grouping construct. A regex in parentheses just matches the contents of the parentheses"
   ]
  },
  {
   "cell_type": "code",
   "execution_count": 132,
   "id": "bfcc26c9",
   "metadata": {},
   "outputs": [
    {
     "data": {
      "text/plain": [
       "<re.Match object; span=(4, 7), match='bar'>"
      ]
     },
     "execution_count": 132,
     "metadata": {},
     "output_type": "execute_result"
    }
   ],
   "source": [
    "re.search('(bar)', 'foo bar baz')\n",
    "\n"
   ]
  },
  {
   "cell_type": "code",
   "execution_count": 133,
   "id": "b0f69d39",
   "metadata": {},
   "outputs": [
    {
     "data": {
      "text/plain": [
       "<re.Match object; span=(4, 7), match='bar'>"
      ]
     },
     "execution_count": 133,
     "metadata": {},
     "output_type": "execute_result"
    }
   ],
   "source": [
    "\n",
    "re.search('bar', 'foo bar baz')\n"
   ]
  },
  {
   "cell_type": "markdown",
   "id": "c3a4b322",
   "metadata": {},
   "source": [
    "#### Treating a Group as a Unit\n",
    "A quantifier metacharacter that follows a group operates on the entire subexpression specified in the group as a single unit.\n",
    "\n",
    "The regex (ba[rz]){2,4}(qux)? matches 2 to 4 occurrences of either 'bar' or 'baz', optionally followed by 'qux':"
   ]
  },
  {
   "cell_type": "code",
   "execution_count": 134,
   "id": "e28cc701",
   "metadata": {},
   "outputs": [
    {
     "data": {
      "text/plain": [
       "<re.Match object; span=(0, 12), match='bazbarbazqux'>"
      ]
     },
     "execution_count": 134,
     "metadata": {},
     "output_type": "execute_result"
    }
   ],
   "source": [
    "re.search('(ba[rz]){2,4}(qux)?', 'bazbarbazqux')\n"
   ]
  },
  {
   "cell_type": "code",
   "execution_count": 135,
   "id": "39bcc375",
   "metadata": {},
   "outputs": [
    {
     "data": {
      "text/plain": [
       "<re.Match object; span=(0, 6), match='barbar'>"
      ]
     },
     "execution_count": 135,
     "metadata": {},
     "output_type": "execute_result"
    }
   ],
   "source": [
    "\n",
    "re.search('(ba[rz]){2,4}(qux)?', 'barbar')\n"
   ]
  },
  {
   "cell_type": "markdown",
   "id": "ee03b414",
   "metadata": {},
   "source": [
    "#### Capturing Groups\n",
    "Grouping isn’t the only useful purpose that grouping constructs serve. Most (but not quite all) grouping constructs also capture the part of the search string that matches the group. You can retrieve the captured portion or refer to it later in several different ways.\n",
    "\n",
    "Remember the match object that re.search() returns? There are two methods defined for a match object that provide access to captured groups: .groups() and .group().\n",
    "\n",
    "####  m.groups()\n",
    "\n",
    "Returns a tuple containing all the captured groups from a regex match.\n",
    "\n",
    "Consider this example:"
   ]
  },
  {
   "cell_type": "code",
   "execution_count": 136,
   "id": "cf06fe8b",
   "metadata": {},
   "outputs": [
    {
     "data": {
      "text/plain": [
       "<re.Match object; span=(0, 12), match='foo,quux,baz'>"
      ]
     },
     "execution_count": 136,
     "metadata": {},
     "output_type": "execute_result"
    }
   ],
   "source": [
    "m = re.search('(\\w+),(\\w+),(\\w+)', 'foo,quux,baz')\n",
    "m"
   ]
  },
  {
   "cell_type": "markdown",
   "id": "8da0859d",
   "metadata": {},
   "source": [
    "Each of the three (\\w+) expressions matches a sequence of word characters. The full regex (\\w+),(\\w+),(\\w+) breaks the search string into three comma-separated tokens.\n",
    "\n",
    "Because the (\\w+) expressions use grouping parentheses, the corresponding matching tokens are captured. To access the captured matches, you can use .groups(), which returns a tuple containing all the captured matches in order:"
   ]
  },
  {
   "cell_type": "code",
   "execution_count": 137,
   "id": "a59504d0",
   "metadata": {},
   "outputs": [
    {
     "data": {
      "text/plain": [
       "('foo', 'quux', 'baz')"
      ]
     },
     "execution_count": 137,
     "metadata": {},
     "output_type": "execute_result"
    }
   ],
   "source": [
    "m.groups()"
   ]
  },
  {
   "cell_type": "markdown",
   "id": "33406267",
   "metadata": {},
   "source": [
    "#### m.group(```<n>```)\n",
    "\n",
    "Returns a string containing the <n>th captured match.\n",
    "\n",
    "With one argument, .group() returns a single captured match. Note that the arguments are one-based, not zero-based. So, m.group(1) refers to the first captured match, m.group(2) to the second, and so on.\n",
    "    \n",
    "    m.group(0) returns the entire match, and m.group() does the same."
   ]
  },
  {
   "cell_type": "code",
   "execution_count": 138,
   "id": "a440d950",
   "metadata": {},
   "outputs": [
    {
     "data": {
      "text/plain": [
       "('foo', 'quux', 'baz')"
      ]
     },
     "execution_count": 138,
     "metadata": {},
     "output_type": "execute_result"
    }
   ],
   "source": [
    "m = re.search('(\\w+),(\\w+),(\\w+)', 'foo,quux,baz')\n",
    "m.groups()\n"
   ]
  },
  {
   "cell_type": "code",
   "execution_count": 139,
   "id": "c7d99a41",
   "metadata": {},
   "outputs": [
    {
     "data": {
      "text/plain": [
       "'foo'"
      ]
     },
     "execution_count": 139,
     "metadata": {},
     "output_type": "execute_result"
    }
   ],
   "source": [
    "m.group(1)"
   ]
  },
  {
   "cell_type": "code",
   "execution_count": 143,
   "id": "587a4432",
   "metadata": {},
   "outputs": [
    {
     "data": {
      "text/plain": [
       "'quux'"
      ]
     },
     "execution_count": 143,
     "metadata": {},
     "output_type": "execute_result"
    }
   ],
   "source": [
    "m.group(2)"
   ]
  },
  {
   "cell_type": "code",
   "execution_count": 142,
   "id": "c0ba0c83",
   "metadata": {},
   "outputs": [
    {
     "data": {
      "text/plain": [
       "'baz'"
      ]
     },
     "execution_count": 142,
     "metadata": {},
     "output_type": "execute_result"
    }
   ],
   "source": [
    "m.group(3)"
   ]
  },
  {
   "cell_type": "code",
   "execution_count": 144,
   "id": "12261f9a",
   "metadata": {},
   "outputs": [
    {
     "data": {
      "text/plain": [
       "'foo,quux,baz'"
      ]
     },
     "execution_count": 144,
     "metadata": {},
     "output_type": "execute_result"
    }
   ],
   "source": [
    "m.group(0)"
   ]
  },
  {
   "cell_type": "code",
   "execution_count": null,
   "id": "55b65b61",
   "metadata": {},
   "outputs": [],
   "source": []
  }
 ],
 "metadata": {
  "kernelspec": {
   "display_name": "Python 3 (ipykernel)",
   "language": "python",
   "name": "python3"
  },
  "language_info": {
   "codemirror_mode": {
    "name": "ipython",
    "version": 3
   },
   "file_extension": ".py",
   "mimetype": "text/x-python",
   "name": "python",
   "nbconvert_exporter": "python",
   "pygments_lexer": "ipython3",
   "version": "3.9.12"
  }
 },
 "nbformat": 4,
 "nbformat_minor": 5
}
