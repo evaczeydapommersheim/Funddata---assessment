{
 "cells": [
  {
   "cell_type": "markdown",
   "id": "1a6e08f3",
   "metadata": {},
   "source": [
    "# Data Cleansing"
   ]
  },
  {
   "cell_type": "markdown",
   "id": "098b9748",
   "metadata": {},
   "source": [
    "## Regular Expressions"
   ]
  },
  {
   "cell_type": "markdown",
   "id": "1106469f",
   "metadata": {},
   "source": [
    "https://docs.python.org/3/library/re.html\n",
    "\n",
    "https://realpython.com/regex-python/\n",
    "\n",
    "https://realpython.com/regex-python-part-2/\n",
    "\n",
    "https://developers.google.com/edu/python/regular-expressions\n",
    "\n",
    "RegexGolf: https://alf.nu/RegexGolf?world=regex&level=r00\n",
    "\n",
    "https://realpython.com/python-strings/\n",
    "\n",
    "https://realpython.com/introduction-to-python-generators/"
   ]
  },
  {
   "cell_type": "markdown",
   "id": "d15ee22c",
   "metadata": {},
   "source": [
    "It is a complex. The way you describe a pattern of a text is using text to characters themselves. Search for the normal letters, and search for characters 0-9; all of the common characters are there. "
   ]
  },
  {
   "cell_type": "markdown",
   "id": "62bd12f7",
   "metadata": {},
   "source": [
    "abcdefghjklmnopqrstuvwxyz0123456789 (e.g), The end!"
   ]
  },
  {
   "cell_type": "markdown",
   "id": "a32fca94",
   "metadata": {},
   "source": [
    "special characters ```^```$ [] * is not used that frequently in common text, but is used frequently in regular expressions.They need to be used with /\\. "
   ]
  },
  {
   "cell_type": "code",
   "execution_count": 6,
   "id": "c729e5c0",
   "metadata": {},
   "outputs": [],
   "source": [
    "import re"
   ]
  },
  {
   "cell_type": "markdown",
   "id": "d18f4314",
   "metadata": {},
   "source": [
    "## Python's 're' module"
   ]
  },
  {
   "cell_type": "markdown",
   "id": "0d8e3c44",
   "metadata": {},
   "source": [
    "```python \n",
    "\\w = '[a-zA-Z0-9_]'\n",
    "\\W = '[^a-zA-Z0-9_]'\n",
    "```"
   ]
  },
  {
   "cell_type": "markdown",
   "id": "01247b82",
   "metadata": {},
   "source": [
    "Anything inside the square brackets count. In w any of the characters included in the square brackets count/are matched.\n",
    "What the carat ^ mean is that anything but those characters count/are matched.\n",
    "'+' means one or more of the previous characters are matched, as many as it can match.\n",
    "\n",
    "what split does is, it looks for those substrings that match the patter and it splits the original string at those characters.\n",
    "\n",
    "'r' means raw, it means do not escape any of the characters in the string. \\ is a special character even in normal strings, normally means to escape the next character. '\\n' normally means a new line in a normal string.\n",
    "\n",
    "csv files are comma seperated values files, but often it is not the comma that separates values. There can be other delimiters also."
   ]
  },
  {
   "cell_type": "code",
   "execution_count": 8,
   "id": "93f39335",
   "metadata": {},
   "outputs": [
    {
     "name": "stdout",
     "output_type": "stream",
     "text": [
      "['Words', 'words', 'words', '']\n"
     ]
    }
   ],
   "source": [
    "# A string to be manipulated\n",
    "original = 'Words, words, words.'\n",
    "\n",
    "#the pattern/regular expression to use on the above string\n",
    "pattern = r'\\W+'\n",
    "\n",
    "#Split a string into substrings using the regular expression\n",
    "result = re.split(pattern, original)\n",
    "\n",
    "#Print the result\n",
    "print(result)\n",
    "\n",
    "# returns back a list of strings."
   ]
  },
  {
   "cell_type": "markdown",
   "id": "d7975b4a",
   "metadata": {},
   "source": [
    "## Exercise to explain what happens in the following lines of code"
   ]
  },
  {
   "cell_type": "code",
   "execution_count": 9,
   "id": "f3cc9460",
   "metadata": {},
   "outputs": [
    {
     "data": {
      "text/plain": [
       "['Words', ', ', 'words', ', ', 'words', '.', '']"
      ]
     },
     "execution_count": 9,
     "metadata": {},
     "output_type": "execute_result"
    }
   ],
   "source": [
    "re.split(r'(\\W+)', 'Words, words, words.')"
   ]
  },
  {
   "cell_type": "markdown",
   "id": "6c74f62b",
   "metadata": {},
   "source": [
    "As per https://docs.python.org/3/library/re.html documentation if there are capturing parenthesis are used in the pattern, the text/characters of all groups that can be matches are also returned in the output. In the above code the \"r'(\\W+)'\" the parentheses are used and therefore the split is executed in a way that anything that cannot be matched from [a-zA-Z0-9_] is left alone and returned, together with the text that meets the criteria for \\W = '[^a-zA-Z0-9_]', which are the commas (',') and the full stop ('.'). Parenthesis are used to crete subgroups (<regex>), A regex in parentheses just matches the contents of the parentheses."
   ]
  },
  {
   "cell_type": "code",
   "execution_count": 10,
   "id": "571df094",
   "metadata": {},
   "outputs": [
    {
     "data": {
      "text/plain": [
       "['Words', 'words, words.']"
      ]
     },
     "execution_count": 10,
     "metadata": {},
     "output_type": "execute_result"
    }
   ],
   "source": [
    "re.split(r'\\W+', 'Words, words, words.', 1)"
   ]
  },
  {
   "cell_type": "markdown",
   "id": "ad4a5775",
   "metadata": {},
   "source": [
    "In the above example the maxsplit is also defined with an integer of '1', which means that one split will occur and the balance of the string is returned as the final element of the list. In this case the first split occurs at the first comma and the remainder text (\"words, words.\") is returned as a string. "
   ]
  },
  {
   "cell_type": "code",
   "execution_count": 11,
   "id": "a7e7c7a2",
   "metadata": {},
   "outputs": [
    {
     "data": {
      "text/plain": [
       "['0', '3', '9']"
      ]
     },
     "execution_count": 11,
     "metadata": {},
     "output_type": "execute_result"
    }
   ],
   "source": [
    "re.split('[a-f]+', '0a3B9', flags=re.IGNORECASE)"
   ]
  },
  {
   "cell_type": "markdown",
   "id": "64cd5632",
   "metadata": {},
   "source": [
    "The above code is looking for a split when there is a match found to any alpha character from latter A to F ('[a-f]+'), ignoring whether it is lower case or upper case (flags=re.IGNORECASE). \n",
    "The returned values are '0', '3' and '9', as the splits were executed when 'a' and 'B' characters were matched. "
   ]
  },
  {
   "cell_type": "markdown",
   "id": "06ba73f5",
   "metadata": {},
   "source": [
    "## Real Python (https://realpython.com/regex-python/)"
   ]
  },
  {
   "cell_type": "code",
   "execution_count": 12,
   "id": "aa5696fb",
   "metadata": {},
   "outputs": [
    {
     "data": {
      "text/plain": [
       "True"
      ]
     },
     "execution_count": 12,
     "metadata": {},
     "output_type": "execute_result"
    }
   ],
   "source": [
    "'abccba' == 'abccba'"
   ]
  },
  {
   "cell_type": "code",
   "execution_count": 13,
   "id": "edcc8fd3",
   "metadata": {},
   "outputs": [
    {
     "data": {
      "text/plain": [
       "False"
      ]
     },
     "execution_count": 13,
     "metadata": {},
     "output_type": "execute_result"
    }
   ],
   "source": [
    "'abccba' == 'abcbba'"
   ]
  },
  {
   "cell_type": "code",
   "execution_count": 14,
   "id": "ea702160",
   "metadata": {},
   "outputs": [
    {
     "data": {
      "text/plain": [
       "True"
      ]
     },
     "execution_count": 14,
     "metadata": {},
     "output_type": "execute_result"
    }
   ],
   "source": [
    "'abc' in 'cbaabc'"
   ]
  },
  {
   "cell_type": "code",
   "execution_count": 15,
   "id": "9a966139",
   "metadata": {},
   "outputs": [
    {
     "data": {
      "text/plain": [
       "0"
      ]
     },
     "execution_count": 15,
     "metadata": {},
     "output_type": "execute_result"
    }
   ],
   "source": [
    "'abc' .index('a')"
   ]
  },
  {
   "cell_type": "code",
   "execution_count": 16,
   "id": "140ae9b9",
   "metadata": {},
   "outputs": [
    {
     "data": {
      "text/plain": [
       "'a'"
      ]
     },
     "execution_count": 16,
     "metadata": {},
     "output_type": "execute_result"
    }
   ],
   "source": [
    "'cbaabc'[2]"
   ]
  },
  {
   "cell_type": "code",
   "execution_count": 17,
   "id": "397f8670",
   "metadata": {},
   "outputs": [
    {
     "data": {
      "text/plain": [
       "2"
      ]
     },
     "execution_count": 17,
     "metadata": {},
     "output_type": "execute_result"
    }
   ],
   "source": [
    "'cbaabc' .find('aa')"
   ]
  },
  {
   "cell_type": "markdown",
   "id": "0bdc77ae",
   "metadata": {},
   "source": [
    "Perl is an important programming language, podcast currently going Guido van Rossum, Rex Friedman. Syntax of PERL is very difficult. Guido van Rossum podcasts can help understanding the programming languages. Most of regex is based on PERL programming language. "
   ]
  },
  {
   "cell_type": "markdown",
   "id": "1dce122c",
   "metadata": {},
   "source": [
    "``` python re.search(<regex>, <string>)``` the whole string has to match the regex."
   ]
  },
  {
   "cell_type": "code",
   "execution_count": 18,
   "id": "136b201c",
   "metadata": {},
   "outputs": [
    {
     "data": {
      "text/plain": [
       "<re.Match object; span=(3, 6), match='123'>"
      ]
     },
     "execution_count": 18,
     "metadata": {},
     "output_type": "execute_result"
    }
   ],
   "source": [
    "s = 'foo123bar'\n",
    "\n",
    "re.search('123', s)"
   ]
  },
  {
   "cell_type": "markdown",
   "id": "242a895a",
   "metadata": {},
   "source": [
    "Match is a class to find in the re module. span is index 3 and up to/not including index 6. "
   ]
  },
  {
   "cell_type": "code",
   "execution_count": 20,
   "id": "eecb7272",
   "metadata": {},
   "outputs": [
    {
     "data": {
      "text/plain": [
       "'123'"
      ]
     },
     "execution_count": 20,
     "metadata": {},
     "output_type": "execute_result"
    }
   ],
   "source": [
    "s[3:6]"
   ]
  },
  {
   "cell_type": "markdown",
   "id": "05517cbd",
   "metadata": {},
   "source": [
    "Any string that contains characters it is a truthy value. If not it is a falsy value (such as empty ' ' or zero)"
   ]
  },
  {
   "cell_type": "code",
   "execution_count": 22,
   "id": "2764e492",
   "metadata": {},
   "outputs": [
    {
     "name": "stdout",
     "output_type": "stream",
     "text": [
      "No way\n"
     ]
    }
   ],
   "source": [
    "if 'abc':\n",
    "    print(\"No way\")\n",
    "else:\n",
    "    print(\"Correct\")"
   ]
  },
  {
   "cell_type": "code",
   "execution_count": 23,
   "id": "68affcc1",
   "metadata": {},
   "outputs": [
    {
     "name": "stdout",
     "output_type": "stream",
     "text": [
      "Correct\n"
     ]
    }
   ],
   "source": [
    "if 1 == 2:\n",
    "    print(\"No way\")\n",
    "else:\n",
    "    print(\"Correct\")"
   ]
  },
  {
   "cell_type": "code",
   "execution_count": 24,
   "id": "2c6a5f88",
   "metadata": {},
   "outputs": [
    {
     "name": "stdout",
     "output_type": "stream",
     "text": [
      "Correct\n"
     ]
    }
   ],
   "source": [
    "if 0:\n",
    "    print(\"No way\")\n",
    "else:\n",
    "    print(\"Correct\")"
   ]
  },
  {
   "cell_type": "code",
   "execution_count": 21,
   "id": "841f25cc",
   "metadata": {},
   "outputs": [
    {
     "name": "stdout",
     "output_type": "stream",
     "text": [
      "Found a match.\n"
     ]
    }
   ],
   "source": [
    "if re.search('123', s):\n",
    "    print('Found a match.')\n",
    "else:\n",
    "    print('No match.')"
   ]
  },
  {
   "cell_type": "markdown",
   "id": "a8ea7b0f",
   "metadata": {},
   "source": [
    "Metacharacters = special characters. "
   ]
  },
  {
   "cell_type": "code",
   "execution_count": 25,
   "id": "93f924de",
   "metadata": {},
   "outputs": [
    {
     "data": {
      "text/plain": [
       "<re.Match object; span=(3, 6), match='123'>"
      ]
     },
     "execution_count": 25,
     "metadata": {},
     "output_type": "execute_result"
    }
   ],
   "source": [
    "s = 'foo123bar'\n",
    "re.search('[0-9][0-9][0-9]', s)"
   ]
  },
  {
   "cell_type": "markdown",
   "id": "e336bbc4",
   "metadata": {},
   "source": [
    "match any three characters that are digits in a row. See below additional examples:"
   ]
  },
  {
   "cell_type": "code",
   "execution_count": 26,
   "id": "2c23321c",
   "metadata": {},
   "outputs": [
    {
     "data": {
      "text/plain": [
       "<re.Match object; span=(3, 6), match='456'>"
      ]
     },
     "execution_count": 26,
     "metadata": {},
     "output_type": "execute_result"
    }
   ],
   "source": [
    "re.search('[0-9][0-9][0-9]', 'foo456bar')"
   ]
  },
  {
   "cell_type": "code",
   "execution_count": 27,
   "id": "3968e6ee",
   "metadata": {},
   "outputs": [
    {
     "data": {
      "text/plain": [
       "<re.Match object; span=(0, 3), match='234'>"
      ]
     },
     "execution_count": 27,
     "metadata": {},
     "output_type": "execute_result"
    }
   ],
   "source": [
    "re.search('[0-9][0-9][0-9]', '234baz')"
   ]
  },
  {
   "cell_type": "code",
   "execution_count": 28,
   "id": "1869f072",
   "metadata": {},
   "outputs": [
    {
     "data": {
      "text/plain": [
       "<re.Match object; span=(3, 6), match='678'>"
      ]
     },
     "execution_count": 28,
     "metadata": {},
     "output_type": "execute_result"
    }
   ],
   "source": [
    "re.search('[0-9][0-9][0-9]', 'qux678')"
   ]
  },
  {
   "cell_type": "markdown",
   "id": "bfb73eca",
   "metadata": {},
   "source": [
    "Using metacharacter {} and specify the number of time the regex is to be repeated in the search, the above examples can be expressed as below. Matches an explicitly specified number of repetitions."
   ]
  },
  {
   "cell_type": "code",
   "execution_count": 34,
   "id": "7640bf23",
   "metadata": {},
   "outputs": [
    {
     "data": {
      "text/plain": [
       "<re.Match object; span=(3, 6), match='678'>"
      ]
     },
     "execution_count": 34,
     "metadata": {},
     "output_type": "execute_result"
    }
   ],
   "source": [
    "re.search('[0-9]{3}', 'qux678')"
   ]
  },
  {
   "cell_type": "markdown",
   "id": "90e4df39",
   "metadata": {},
   "source": [
    "On the other hand, a string that doesn’t contain three consecutive digits won’t match:"
   ]
  },
  {
   "cell_type": "code",
   "execution_count": 31,
   "id": "f775906a",
   "metadata": {},
   "outputs": [
    {
     "name": "stdout",
     "output_type": "stream",
     "text": [
      "None\n"
     ]
    }
   ],
   "source": [
    "print(re.search('[0-9][0-9][0-9]', '12foo34'))"
   ]
  },
  {
   "cell_type": "markdown",
   "id": "69ff6ff8",
   "metadata": {},
   "source": [
    "The dot (.) metacharacter matches any character except a newline, so it functions like a wildcard"
   ]
  },
  {
   "cell_type": "code",
   "execution_count": 29,
   "id": "cd63d910",
   "metadata": {},
   "outputs": [
    {
     "data": {
      "text/plain": [
       "<re.Match object; span=(3, 6), match='123'>"
      ]
     },
     "execution_count": 29,
     "metadata": {},
     "output_type": "execute_result"
    }
   ],
   "source": [
    "s = 'foo123bar'\n",
    "re.search('1.3', s)"
   ]
  },
  {
   "cell_type": "code",
   "execution_count": 30,
   "id": "6ca90883",
   "metadata": {},
   "outputs": [
    {
     "name": "stdout",
     "output_type": "stream",
     "text": [
      "None\n"
     ]
    }
   ],
   "source": [
    "s = 'foo13bar'\n",
    "print(re.search('1.3', s))"
   ]
  },
  {
   "cell_type": "markdown",
   "id": "cf9e674f",
   "metadata": {},
   "source": [
    "In the first example, the regex 1.3 matches '123' because the '1' and '3' match literally, and the . matches the '2'. Here, you’re essentially asking, “Does s contain a '1', then any character (except a newline), then a '3'?” The answer is yes for 'foo123bar' but no for 'foo13bar'."
   ]
  },
  {
   "cell_type": "markdown",
   "id": "1c02003c",
   "metadata": {},
   "source": [
    "Metacharacter []"
   ]
  },
  {
   "cell_type": "code",
   "execution_count": 35,
   "id": "5daf3555",
   "metadata": {},
   "outputs": [
    {
     "data": {
      "text/plain": [
       "<re.Match object; span=(3, 6), match='bar'>"
      ]
     },
     "execution_count": 35,
     "metadata": {},
     "output_type": "execute_result"
    }
   ],
   "source": [
    "re.search('ba[artz]', 'foobarqux')"
   ]
  },
  {
   "cell_type": "code",
   "execution_count": 40,
   "id": "4064cecd",
   "metadata": {},
   "outputs": [
    {
     "data": {
      "text/plain": [
       "<re.Match object; span=(3, 6), match='brt'>"
      ]
     },
     "execution_count": 40,
     "metadata": {},
     "output_type": "execute_result"
    }
   ],
   "source": [
    "re.search('b[ar][tz]', 'foobrtzqux')"
   ]
  },
  {
   "cell_type": "markdown",
   "id": "87b0a3ba",
   "metadata": {},
   "source": [
    "The metacharacter sequence [artz] matches any single 'a', 'r', 't', or 'z' character. In the example, the regex ba[artz] matches both 'bar' and 'baz' (and would also match 'baa' and 'bat')."
   ]
  },
  {
   "cell_type": "code",
   "execution_count": 42,
   "id": "6645afe1",
   "metadata": {},
   "outputs": [
    {
     "data": {
      "text/plain": [
       "<re.Match object; span=(3, 5), match='ba'>"
      ]
     },
     "execution_count": 42,
     "metadata": {},
     "output_type": "execute_result"
    }
   ],
   "source": [
    "re.search('[a-z][a-z]', 'FOObar')"
   ]
  },
  {
   "cell_type": "code",
   "execution_count": 44,
   "id": "976a5921",
   "metadata": {},
   "outputs": [
    {
     "data": {
      "text/plain": [
       "<re.Match object; span=(4, 7), match='23b'>"
      ]
     },
     "execution_count": 44,
     "metadata": {},
     "output_type": "execute_result"
    }
   ],
   "source": [
    "re.search('[0-9][0-9][a-z]', 'foo123bar')"
   ]
  },
  {
   "cell_type": "code",
   "execution_count": 45,
   "id": "c213e134",
   "metadata": {},
   "outputs": [
    {
     "data": {
      "text/plain": [
       "<re.Match object; span=(4, 5), match='a'>"
      ]
     },
     "execution_count": 45,
     "metadata": {},
     "output_type": "execute_result"
    }
   ],
   "source": [
    "re.search('[0-9a-fA-f]', '--- a0 ---')"
   ]
  },
  {
   "cell_type": "markdown",
   "id": "0861ad71",
   "metadata": {},
   "source": [
    "In the above examples, the return value is always the leftmost possible match. re.search() scans the search string from left to right, and as soon as it locates a match for <regex>, it stops scanning and returns the match."
   ]
  },
  {
   "cell_type": "markdown",
   "id": "70c11ecb",
   "metadata": {},
   "source": [
    "You can complement a character class by specifying ^ as the first character, in which case it matches any character that isn’t in the set. In the following example, [^0-9] matches any character that isn’t a digit:"
   ]
  },
  {
   "cell_type": "code",
   "execution_count": 46,
   "id": "7e31421b",
   "metadata": {},
   "outputs": [
    {
     "data": {
      "text/plain": [
       "<re.Match object; span=(5, 6), match='f'>"
      ]
     },
     "execution_count": 46,
     "metadata": {},
     "output_type": "execute_result"
    }
   ],
   "source": [
    "re.search('[^0-9]', '12345foo')"
   ]
  },
  {
   "cell_type": "markdown",
   "id": "dfb25210",
   "metadata": {},
   "source": [
    "If a ^ character appears in a character class but isn’t the first character, then it has no special meaning and matches a literal '^' character:"
   ]
  },
  {
   "cell_type": "code",
   "execution_count": 47,
   "id": "f49d89a8",
   "metadata": {},
   "outputs": [
    {
     "data": {
      "text/plain": [
       "<re.Match object; span=(3, 4), match='^'>"
      ]
     },
     "execution_count": 47,
     "metadata": {},
     "output_type": "execute_result"
    }
   ],
   "source": [
    "re.search('[#:^]', 'foo^bar:baz#qux')"
   ]
  },
  {
   "cell_type": "markdown",
   "id": "2041992f",
   "metadata": {},
   "source": [
    "As you’ve seen, you can specify a range of characters in a character class by separating characters with a hyphen. What if you want the character class to include a literal hyphen character? You can place it as the first or last character or escape it with a backslash (``` \\ ```):"
   ]
  },
  {
   "cell_type": "code",
   "execution_count": 48,
   "id": "2a915646",
   "metadata": {},
   "outputs": [
    {
     "data": {
      "text/plain": [
       "<re.Match object; span=(3, 4), match='-'>"
      ]
     },
     "execution_count": 48,
     "metadata": {},
     "output_type": "execute_result"
    }
   ],
   "source": [
    "re.search('[-abc]', '123-456')"
   ]
  },
  {
   "cell_type": "code",
   "execution_count": 56,
   "id": "90035b33",
   "metadata": {},
   "outputs": [
    {
     "data": {
      "text/plain": [
       "<re.Match object; span=(3, 4), match='-'>"
      ]
     },
     "execution_count": 56,
     "metadata": {},
     "output_type": "execute_result"
    }
   ],
   "source": [
    "re.search('[abc-]', '123-ab56')"
   ]
  },
  {
   "cell_type": "code",
   "execution_count": 50,
   "id": "bb568333",
   "metadata": {},
   "outputs": [
    {
     "data": {
      "text/plain": [
       "<re.Match object; span=(3, 4), match='-'>"
      ]
     },
     "execution_count": 50,
     "metadata": {},
     "output_type": "execute_result"
    }
   ],
   "source": [
    "re.search('[ab\\-c]', '123-456')"
   ]
  },
  {
   "cell_type": "code",
   "execution_count": 57,
   "id": "52af7bf6",
   "metadata": {},
   "outputs": [
    {
     "data": {
      "text/plain": [
       "<re.Match object; span=(5, 6), match=']'>"
      ]
     },
     "execution_count": 57,
     "metadata": {},
     "output_type": "execute_result"
    }
   ],
   "source": [
    "re.search('[]]', 'foo[1]')"
   ]
  },
  {
   "cell_type": "code",
   "execution_count": 59,
   "id": "a3456767",
   "metadata": {},
   "outputs": [
    {
     "data": {
      "text/plain": [
       "<re.Match object; span=(5, 6), match=']'>"
      ]
     },
     "execution_count": 59,
     "metadata": {},
     "output_type": "execute_result"
    }
   ],
   "source": [
    "re.search('[ab\\]cd]', 'foo[1]')"
   ]
  },
  {
   "cell_type": "markdown",
   "id": "cfa0f501",
   "metadata": {},
   "source": [
    "dot (.)\n",
    "\n",
    "Specifies a wildcard.\n",
    "\n",
    "The . metacharacter matches any single character except a newline:"
   ]
  },
  {
   "cell_type": "code",
   "execution_count": 61,
   "id": "94c3ebd3",
   "metadata": {},
   "outputs": [
    {
     "name": "stdout",
     "output_type": "stream",
     "text": [
      "<re.Match object; span=(0, 7), match='fooxbar'>\n",
      "None\n",
      "None\n"
     ]
    }
   ],
   "source": [
    "print(re.search('foo.bar', 'fooxbar'))\n",
    "\n",
    "\n",
    "print(re.search('foo.bar', 'foobar'))\n",
    "\n",
    "print(re.search('foo.bar', 'foo\\nbar'))"
   ]
  },
  {
   "cell_type": "markdown",
   "id": "dabbcdc0",
   "metadata": {},
   "source": [
    "As a regex, foo.bar essentially means the characters 'foo', then any character except newline, then the characters 'bar'. The first string shown above, 'fooxbar', fits the bill because the . metacharacter matches the 'x'."
   ]
  },
  {
   "cell_type": "markdown",
   "id": "1c4be116",
   "metadata": {},
   "source": [
    " Word characters are uppercase and lowercase letters, digits, and the underscore (_) character, so \\w is essentially shorthand for [a-zA-Z0-9_]:"
   ]
  },
  {
   "cell_type": "code",
   "execution_count": 62,
   "id": "e8731556",
   "metadata": {},
   "outputs": [
    {
     "data": {
      "text/plain": [
       "<re.Match object; span=(3, 4), match='a'>"
      ]
     },
     "execution_count": 62,
     "metadata": {},
     "output_type": "execute_result"
    }
   ],
   "source": [
    "re.search('\\w', '#(.a$@&')"
   ]
  },
  {
   "cell_type": "code",
   "execution_count": 63,
   "id": "327bb961",
   "metadata": {},
   "outputs": [
    {
     "data": {
      "text/plain": [
       "<re.Match object; span=(3, 4), match='a'>"
      ]
     },
     "execution_count": 63,
     "metadata": {},
     "output_type": "execute_result"
    }
   ],
   "source": [
    "re.search('[a-zA-Z0-9_]', '#(.a$@&')"
   ]
  },
  {
   "cell_type": "markdown",
   "id": "6ffad540",
   "metadata": {},
   "source": [
    "\\W is the opposite. It matches any non-word character and is equivalent to [^a-zA-Z0-9_]:"
   ]
  },
  {
   "cell_type": "code",
   "execution_count": 64,
   "id": "a5ff8827",
   "metadata": {},
   "outputs": [
    {
     "data": {
      "text/plain": [
       "<re.Match object; span=(3, 4), match='*'>"
      ]
     },
     "execution_count": 64,
     "metadata": {},
     "output_type": "execute_result"
    }
   ],
   "source": [
    "re.search('\\W', 'a_1*3Qb')"
   ]
  },
  {
   "cell_type": "code",
   "execution_count": 65,
   "id": "7dedbb0e",
   "metadata": {},
   "outputs": [
    {
     "data": {
      "text/plain": [
       "<re.Match object; span=(3, 4), match='*'>"
      ]
     },
     "execution_count": 65,
     "metadata": {},
     "output_type": "execute_result"
    }
   ],
   "source": [
    "\n",
    "re.search('[^a-zA-Z0-9_]', 'a_1*3Qb')"
   ]
  },
  {
   "cell_type": "markdown",
   "id": "d716d5f9",
   "metadata": {},
   "source": [
    "\\d\n",
    "\\D\n",
    "\n",
    "Match based on whether a character is a decimal digit.\n",
    "\n",
    "\\d matches any decimal digit character. \\D is the opposite. It matches any character that isn’t a decimal digit:\n",
    "\n"
   ]
  },
  {
   "cell_type": "code",
   "execution_count": 68,
   "id": "fce4dd29",
   "metadata": {},
   "outputs": [
    {
     "data": {
      "text/plain": [
       "<re.Match object; span=(1, 2), match='4'>"
      ]
     },
     "execution_count": 68,
     "metadata": {},
     "output_type": "execute_result"
    }
   ],
   "source": [
    "re.search('\\d', 'a4def')"
   ]
  },
  {
   "cell_type": "code",
   "execution_count": 69,
   "id": "466c3a59",
   "metadata": {},
   "outputs": [
    {
     "data": {
      "text/plain": [
       "<re.Match object; span=(0, 1), match='A'>"
      ]
     },
     "execution_count": 69,
     "metadata": {},
     "output_type": "execute_result"
    }
   ],
   "source": [
    "re.search('\\D', 'A234Q678')"
   ]
  },
  {
   "cell_type": "markdown",
   "id": "e4cac975",
   "metadata": {},
   "source": [
    "\\s\n",
    "\\S\n",
    "\n",
    "Match based on whether a character represents whitespace.\n",
    "\n",
    "\\s matches any whitespace character:\n",
    "(Note that, unlike the dot wildcard metacharacter, \\s does match a newline character.\n",
    "\n",
    "\\S is the opposite of \\s. It matches any character that isn’t whitespace:)"
   ]
  },
  {
   "cell_type": "code",
   "execution_count": 70,
   "id": "7b90a38a",
   "metadata": {},
   "outputs": [
    {
     "data": {
      "text/plain": [
       "<re.Match object; span=(3, 4), match='\\n'>"
      ]
     },
     "execution_count": 70,
     "metadata": {},
     "output_type": "execute_result"
    }
   ],
   "source": [
    "re.search('\\s', 'foo\\nbar baz')"
   ]
  },
  {
   "cell_type": "code",
   "execution_count": 71,
   "id": "457220ba",
   "metadata": {},
   "outputs": [
    {
     "data": {
      "text/plain": [
       "<re.Match object; span=(6, 7), match=' '>"
      ]
     },
     "execution_count": 71,
     "metadata": {},
     "output_type": "execute_result"
    }
   ],
   "source": [
    "re.search('\\s', 'foobar baz')"
   ]
  },
  {
   "cell_type": "code",
   "execution_count": 72,
   "id": "080a7dac",
   "metadata": {},
   "outputs": [
    {
     "data": {
      "text/plain": [
       "<re.Match object; span=(4, 5), match='f'>"
      ]
     },
     "execution_count": 72,
     "metadata": {},
     "output_type": "execute_result"
    }
   ],
   "source": [
    "re.search('\\S', '  \\n foo  \\n  ')"
   ]
  },
  {
   "cell_type": "markdown",
   "id": "b83441d1",
   "metadata": {},
   "source": [
    "backslash (\\)\n",
    "\n",
    "Removes the special meaning of a metacharacter.\n",
    "\n",
    "As you’ve just seen, the backslash character can introduce special character classes like word, digit, and whitespace. There are also special metacharacter sequences called anchors that begin with a backslash, which you’ll learn about below.\n",
    "\n",
    "When it’s not serving either of these purposes, the backslash escapes metacharacters. A metacharacter preceded by a backslash loses its special meaning and matches the literal character instead. Consider the following examples:\n",
    "\n",
    "    "
   ]
  },
  {
   "cell_type": "code",
   "execution_count": 3,
   "id": "e7b93c84",
   "metadata": {},
   "outputs": [
    {
     "name": "stdout",
     "output_type": "stream",
     "text": [
      "foo\\bar\n"
     ]
    }
   ],
   "source": [
    "s = r'foo\\bar'\n",
    "print(s)"
   ]
  },
  {
   "cell_type": "code",
   "execution_count": 7,
   "id": "e690c755",
   "metadata": {},
   "outputs": [
    {
     "ename": "error",
     "evalue": "bad escape (end of pattern) at position 0",
     "output_type": "error",
     "traceback": [
      "\u001b[1;31m---------------------------------------------------------------------------\u001b[0m",
      "\u001b[1;31merror\u001b[0m                                     Traceback (most recent call last)",
      "Input \u001b[1;32mIn [7]\u001b[0m, in \u001b[0;36m<cell line: 1>\u001b[1;34m()\u001b[0m\n\u001b[1;32m----> 1\u001b[0m \u001b[43mre\u001b[49m\u001b[38;5;241;43m.\u001b[39;49m\u001b[43msearch\u001b[49m\u001b[43m(\u001b[49m\u001b[38;5;124;43m'\u001b[39;49m\u001b[38;5;130;43;01m\\\\\u001b[39;49;00m\u001b[38;5;124;43m'\u001b[39;49m\u001b[43m,\u001b[49m\u001b[43m \u001b[49m\u001b[43ms\u001b[49m\u001b[43m)\u001b[49m\n",
      "File \u001b[1;32m~\\anaconda3\\lib\\re.py:201\u001b[0m, in \u001b[0;36msearch\u001b[1;34m(pattern, string, flags)\u001b[0m\n\u001b[0;32m    198\u001b[0m \u001b[38;5;28;01mdef\u001b[39;00m \u001b[38;5;21msearch\u001b[39m(pattern, string, flags\u001b[38;5;241m=\u001b[39m\u001b[38;5;241m0\u001b[39m):\n\u001b[0;32m    199\u001b[0m     \u001b[38;5;124;03m\"\"\"Scan through string looking for a match to the pattern, returning\u001b[39;00m\n\u001b[0;32m    200\u001b[0m \u001b[38;5;124;03m    a Match object, or None if no match was found.\"\"\"\u001b[39;00m\n\u001b[1;32m--> 201\u001b[0m     \u001b[38;5;28;01mreturn\u001b[39;00m \u001b[43m_compile\u001b[49m\u001b[43m(\u001b[49m\u001b[43mpattern\u001b[49m\u001b[43m,\u001b[49m\u001b[43m \u001b[49m\u001b[43mflags\u001b[49m\u001b[43m)\u001b[49m\u001b[38;5;241m.\u001b[39msearch(string)\n",
      "File \u001b[1;32m~\\anaconda3\\lib\\re.py:304\u001b[0m, in \u001b[0;36m_compile\u001b[1;34m(pattern, flags)\u001b[0m\n\u001b[0;32m    302\u001b[0m \u001b[38;5;28;01mif\u001b[39;00m \u001b[38;5;129;01mnot\u001b[39;00m sre_compile\u001b[38;5;241m.\u001b[39misstring(pattern):\n\u001b[0;32m    303\u001b[0m     \u001b[38;5;28;01mraise\u001b[39;00m \u001b[38;5;167;01mTypeError\u001b[39;00m(\u001b[38;5;124m\"\u001b[39m\u001b[38;5;124mfirst argument must be string or compiled pattern\u001b[39m\u001b[38;5;124m\"\u001b[39m)\n\u001b[1;32m--> 304\u001b[0m p \u001b[38;5;241m=\u001b[39m \u001b[43msre_compile\u001b[49m\u001b[38;5;241;43m.\u001b[39;49m\u001b[43mcompile\u001b[49m\u001b[43m(\u001b[49m\u001b[43mpattern\u001b[49m\u001b[43m,\u001b[49m\u001b[43m \u001b[49m\u001b[43mflags\u001b[49m\u001b[43m)\u001b[49m\n\u001b[0;32m    305\u001b[0m \u001b[38;5;28;01mif\u001b[39;00m \u001b[38;5;129;01mnot\u001b[39;00m (flags \u001b[38;5;241m&\u001b[39m DEBUG):\n\u001b[0;32m    306\u001b[0m     \u001b[38;5;28;01mif\u001b[39;00m \u001b[38;5;28mlen\u001b[39m(_cache) \u001b[38;5;241m>\u001b[39m\u001b[38;5;241m=\u001b[39m _MAXCACHE:\n\u001b[0;32m    307\u001b[0m         \u001b[38;5;66;03m# Drop the oldest item\u001b[39;00m\n",
      "File \u001b[1;32m~\\anaconda3\\lib\\sre_compile.py:764\u001b[0m, in \u001b[0;36mcompile\u001b[1;34m(p, flags)\u001b[0m\n\u001b[0;32m    762\u001b[0m \u001b[38;5;28;01mif\u001b[39;00m isstring(p):\n\u001b[0;32m    763\u001b[0m     pattern \u001b[38;5;241m=\u001b[39m p\n\u001b[1;32m--> 764\u001b[0m     p \u001b[38;5;241m=\u001b[39m \u001b[43msre_parse\u001b[49m\u001b[38;5;241;43m.\u001b[39;49m\u001b[43mparse\u001b[49m\u001b[43m(\u001b[49m\u001b[43mp\u001b[49m\u001b[43m,\u001b[49m\u001b[43m \u001b[49m\u001b[43mflags\u001b[49m\u001b[43m)\u001b[49m\n\u001b[0;32m    765\u001b[0m \u001b[38;5;28;01melse\u001b[39;00m:\n\u001b[0;32m    766\u001b[0m     pattern \u001b[38;5;241m=\u001b[39m \u001b[38;5;28;01mNone\u001b[39;00m\n",
      "File \u001b[1;32m~\\anaconda3\\lib\\sre_parse.py:942\u001b[0m, in \u001b[0;36mparse\u001b[1;34m(str, flags, state)\u001b[0m\n\u001b[0;32m    939\u001b[0m \u001b[38;5;28;01mdef\u001b[39;00m \u001b[38;5;21mparse\u001b[39m(\u001b[38;5;28mstr\u001b[39m, flags\u001b[38;5;241m=\u001b[39m\u001b[38;5;241m0\u001b[39m, state\u001b[38;5;241m=\u001b[39m\u001b[38;5;28;01mNone\u001b[39;00m):\n\u001b[0;32m    940\u001b[0m     \u001b[38;5;66;03m# parse 're' pattern into list of (opcode, argument) tuples\u001b[39;00m\n\u001b[1;32m--> 942\u001b[0m     source \u001b[38;5;241m=\u001b[39m \u001b[43mTokenizer\u001b[49m\u001b[43m(\u001b[49m\u001b[38;5;28;43mstr\u001b[39;49m\u001b[43m)\u001b[49m\n\u001b[0;32m    944\u001b[0m     \u001b[38;5;28;01mif\u001b[39;00m state \u001b[38;5;129;01mis\u001b[39;00m \u001b[38;5;28;01mNone\u001b[39;00m:\n\u001b[0;32m    945\u001b[0m         state \u001b[38;5;241m=\u001b[39m State()\n",
      "File \u001b[1;32m~\\anaconda3\\lib\\sre_parse.py:232\u001b[0m, in \u001b[0;36mTokenizer.__init__\u001b[1;34m(self, string)\u001b[0m\n\u001b[0;32m    230\u001b[0m \u001b[38;5;28mself\u001b[39m\u001b[38;5;241m.\u001b[39mindex \u001b[38;5;241m=\u001b[39m \u001b[38;5;241m0\u001b[39m\n\u001b[0;32m    231\u001b[0m \u001b[38;5;28mself\u001b[39m\u001b[38;5;241m.\u001b[39mnext \u001b[38;5;241m=\u001b[39m \u001b[38;5;28;01mNone\u001b[39;00m\n\u001b[1;32m--> 232\u001b[0m \u001b[38;5;28;43mself\u001b[39;49m\u001b[38;5;241;43m.\u001b[39;49m\u001b[43m__next\u001b[49m\u001b[43m(\u001b[49m\u001b[43m)\u001b[49m\n",
      "File \u001b[1;32m~\\anaconda3\\lib\\sre_parse.py:245\u001b[0m, in \u001b[0;36mTokenizer.__next\u001b[1;34m(self)\u001b[0m\n\u001b[0;32m    243\u001b[0m         char \u001b[38;5;241m+\u001b[39m\u001b[38;5;241m=\u001b[39m \u001b[38;5;28mself\u001b[39m\u001b[38;5;241m.\u001b[39mdecoded_string[index]\n\u001b[0;32m    244\u001b[0m     \u001b[38;5;28;01mexcept\u001b[39;00m \u001b[38;5;167;01mIndexError\u001b[39;00m:\n\u001b[1;32m--> 245\u001b[0m         \u001b[38;5;28;01mraise\u001b[39;00m error(\u001b[38;5;124m\"\u001b[39m\u001b[38;5;124mbad escape (end of pattern)\u001b[39m\u001b[38;5;124m\"\u001b[39m,\n\u001b[0;32m    246\u001b[0m                     \u001b[38;5;28mself\u001b[39m\u001b[38;5;241m.\u001b[39mstring, \u001b[38;5;28mlen\u001b[39m(\u001b[38;5;28mself\u001b[39m\u001b[38;5;241m.\u001b[39mstring) \u001b[38;5;241m-\u001b[39m \u001b[38;5;241m1\u001b[39m) \u001b[38;5;28;01mfrom\u001b[39;00m \u001b[38;5;28mNone\u001b[39m\n\u001b[0;32m    247\u001b[0m \u001b[38;5;28mself\u001b[39m\u001b[38;5;241m.\u001b[39mindex \u001b[38;5;241m=\u001b[39m index \u001b[38;5;241m+\u001b[39m \u001b[38;5;241m1\u001b[39m\n\u001b[0;32m    248\u001b[0m \u001b[38;5;28mself\u001b[39m\u001b[38;5;241m.\u001b[39mnext \u001b[38;5;241m=\u001b[39m char\n",
      "\u001b[1;31merror\u001b[0m: bad escape (end of pattern) at position 0"
     ]
    }
   ],
   "source": [
    "re.search('\\\\', s)"
   ]
  },
  {
   "cell_type": "code",
   "execution_count": 6,
   "id": "ceb38d2b",
   "metadata": {},
   "outputs": [
    {
     "data": {
      "text/plain": [
       "<re.Match object; span=(3, 4), match='\\\\'>"
      ]
     },
     "execution_count": 6,
     "metadata": {},
     "output_type": "execute_result"
    }
   ],
   "source": [
    "# using a rawa string is a cleaner way to resolve this error message and it returns the correct position of the \"\\\".\n",
    "re.search(r'\\\\', s)"
   ]
  },
  {
   "cell_type": "markdown",
   "id": "9b54ebd9",
   "metadata": {},
   "source": [
    "It’s good practice to use a raw string to specify a regex in Python whenever it contains backslashes."
   ]
  },
  {
   "cell_type": "markdown",
   "id": "50f36869",
   "metadata": {},
   "source": [
    "Anchors\n",
    "Anchors are zero-width matches. They don’t match any actual characters in the search string, and they don’t consume any of the search string during parsing. Instead, an anchor dictates a particular location in the search string where a match must occur."
   ]
  },
  {
   "cell_type": "code",
   "execution_count": null,
   "id": "4edeb526",
   "metadata": {},
   "outputs": [],
   "source": [
    "re.search('^foo', 'foobar')"
   ]
  },
  {
   "cell_type": "code",
   "execution_count": null,
   "id": "b63decf8",
   "metadata": {},
   "outputs": [],
   "source": [
    "\n",
    "print(re.search('^foo', 'barfoo'))"
   ]
  },
  {
   "cell_type": "code",
   "execution_count": null,
   "id": "9b158adf",
   "metadata": {},
   "outputs": [],
   "source": [
    "re.search('\\Afoo', 'foobar')\n"
   ]
  },
  {
   "cell_type": "code",
   "execution_count": 5,
   "id": "5ae78c2e",
   "metadata": {},
   "outputs": [
    {
     "name": "stdout",
     "output_type": "stream",
     "text": [
      "None\n"
     ]
    }
   ],
   "source": [
    "\n",
    "print(re.search('\\Afoo', 'barfoo'))"
   ]
  },
  {
   "cell_type": "markdown",
   "id": "fe899722",
   "metadata": {},
   "source": [
    "the same outcome can be obtained by using either ^ or \\A ."
   ]
  },
  {
   "cell_type": "markdown",
   "id": "53f5809f",
   "metadata": {},
   "source": [
    "When the regex parser encounters ^ or \\A, the parser’s current position must be at the beginning of the search string for it to find a match."
   ]
  },
  {
   "cell_type": "markdown",
   "id": "6026afcd",
   "metadata": {},
   "source": [
    "$\n",
    "\n",
    "\\Z\n",
    "\n",
    "Anchor a match to the end of <string>.\n",
    "\n",
    "When the regex parser encounters $ or \\Z, the parser’s current position must be at the end of the search string for it to find a match. Whatever precedes $ or \\Z must constitute the end of the search string:\n"
   ]
  },
  {
   "cell_type": "code",
   "execution_count": 82,
   "id": "99328184",
   "metadata": {},
   "outputs": [
    {
     "data": {
      "text/plain": [
       "<re.Match object; span=(3, 6), match='bar'>"
      ]
     },
     "execution_count": 82,
     "metadata": {},
     "output_type": "execute_result"
    }
   ],
   "source": [
    "re.search('bar$', 'foobar')\n"
   ]
  },
  {
   "cell_type": "code",
   "execution_count": 83,
   "id": "72142404",
   "metadata": {},
   "outputs": [
    {
     "name": "stdout",
     "output_type": "stream",
     "text": [
      "None\n"
     ]
    }
   ],
   "source": [
    "\n",
    "print(re.search('bar$', 'barfoo'))\n",
    "\n"
   ]
  },
  {
   "cell_type": "code",
   "execution_count": 84,
   "id": "24437475",
   "metadata": {},
   "outputs": [
    {
     "data": {
      "text/plain": [
       "<re.Match object; span=(3, 6), match='bar'>"
      ]
     },
     "execution_count": 84,
     "metadata": {},
     "output_type": "execute_result"
    }
   ],
   "source": [
    "\n",
    "re.search('bar\\Z', 'foobar')\n"
   ]
  },
  {
   "cell_type": "code",
   "execution_count": 85,
   "id": "953ed416",
   "metadata": {},
   "outputs": [
    {
     "name": "stdout",
     "output_type": "stream",
     "text": [
      "None\n"
     ]
    }
   ],
   "source": [
    "\n",
    "print(re.search('bar\\Z', 'barfoo'))\n"
   ]
  },
  {
   "cell_type": "markdown",
   "id": "4b512817",
   "metadata": {},
   "source": [
    "$ and \\Z behave slightly differently from each other in MULTILINE mode. See the section below on flags for more information on MULTILINE mode."
   ]
  },
  {
   "cell_type": "markdown",
   "id": "d58618a1",
   "metadata": {},
   "source": [
    "#### \\b\n",
    "\n",
    "Anchors a match to a word boundary.\n",
    "\n",
    "\\b asserts that the regex parser’s current position must be at the beginning or end of a word. A word consists of a sequence of alphanumeric characters or underscores ([a-zA-Z0-9_]), the same as for the \\w character class:"
   ]
  },
  {
   "cell_type": "code",
   "execution_count": 86,
   "id": "c42ea0ed",
   "metadata": {},
   "outputs": [
    {
     "data": {
      "text/plain": [
       "<re.Match object; span=(4, 7), match='bar'>"
      ]
     },
     "execution_count": 86,
     "metadata": {},
     "output_type": "execute_result"
    }
   ],
   "source": [
    "re.search(r'\\bbar', 'foo bar')\n",
    "#There is a space boundary before bar\n"
   ]
  },
  {
   "cell_type": "code",
   "execution_count": 87,
   "id": "39909415",
   "metadata": {},
   "outputs": [
    {
     "data": {
      "text/plain": [
       "<re.Match object; span=(4, 7), match='bar'>"
      ]
     },
     "execution_count": 87,
     "metadata": {},
     "output_type": "execute_result"
    }
   ],
   "source": [
    "re.search(r'\\bbar', 'foo.bar')\n",
    "#there is a dot boundary before bar\n"
   ]
  },
  {
   "cell_type": "code",
   "execution_count": 94,
   "id": "74c10576",
   "metadata": {},
   "outputs": [
    {
     "name": "stdout",
     "output_type": "stream",
     "text": [
      "None\n"
     ]
    }
   ],
   "source": [
    "\n",
    "print(re.search(r'\\bbar', 'foobar'))\n",
    "#there is no space, nor dot before bar, it is directly concatenated with foo, therefore it is a faulty situation, it returns None"
   ]
  },
  {
   "cell_type": "code",
   "execution_count": 89,
   "id": "39b7aada",
   "metadata": {},
   "outputs": [
    {
     "data": {
      "text/plain": [
       "<re.Match object; span=(0, 3), match='foo'>"
      ]
     },
     "execution_count": 89,
     "metadata": {},
     "output_type": "execute_result"
    }
   ],
   "source": [
    "\n",
    "# there is a bourndary (blank) after foo, therefore it matches foo below.\n",
    "re.search(r'foo\\b', 'foo bar')\n"
   ]
  },
  {
   "cell_type": "code",
   "execution_count": 92,
   "id": "73c2e430",
   "metadata": {},
   "outputs": [
    {
     "data": {
      "text/plain": [
       "<re.Match object; span=(0, 3), match='foo'>"
      ]
     },
     "execution_count": 92,
     "metadata": {},
     "output_type": "execute_result"
    }
   ],
   "source": [
    "# there is a . (dot) after foo which is also considered a boundary\n",
    "re.search(r'foo\\b', 'foo.bar')\n"
   ]
  },
  {
   "cell_type": "code",
   "execution_count": 93,
   "id": "13677bb7",
   "metadata": {},
   "outputs": [
    {
     "name": "stdout",
     "output_type": "stream",
     "text": [
      "None\n"
     ]
    }
   ],
   "source": [
    "# foo in the below example is followed by bar straight away, therefore it cannot match foo with a boundary after it.\n",
    "print(re.search(r'foo\\b', 'foobar'))"
   ]
  },
  {
   "cell_type": "code",
   "execution_count": 95,
   "id": "04822ff0",
   "metadata": {},
   "outputs": [
    {
     "data": {
      "text/plain": [
       "<re.Match object; span=(4, 7), match='bar'>"
      ]
     },
     "execution_count": 95,
     "metadata": {},
     "output_type": "execute_result"
    }
   ],
   "source": [
    "re.search(r'\\bbar\\b', 'foo bar baz')\n",
    "# spaces around \"bar\" qualify for a boundary, hence there is a match"
   ]
  },
  {
   "cell_type": "code",
   "execution_count": 96,
   "id": "56d587ff",
   "metadata": {},
   "outputs": [
    {
     "data": {
      "text/plain": [
       "<re.Match object; span=(4, 7), match='bar'>"
      ]
     },
     "execution_count": 96,
     "metadata": {},
     "output_type": "execute_result"
    }
   ],
   "source": [
    "# parenthesis form a boundary around bar, therefore there is a match\n",
    "re.search(r'\\bbar\\b', 'foo(bar)baz')\n"
   ]
  },
  {
   "cell_type": "code",
   "execution_count": 97,
   "id": "3583735e",
   "metadata": {},
   "outputs": [
    {
     "name": "stdout",
     "output_type": "stream",
     "text": [
      "None\n"
     ]
    }
   ],
   "source": [
    "# Result is none as there is no boundary before and after \"bar\"\n",
    "print(re.search(r'\\bbar\\b', 'foobarbaz'))"
   ]
  },
  {
   "cell_type": "markdown",
   "id": "dab1b155",
   "metadata": {},
   "source": [
    "### \\B\n",
    "\n",
    "Anchors a match to a location that isn’t a word boundary.\n",
    "\n",
    "\\B does the opposite of \\b. It asserts that the regex parser’s current position must not be at the start or end of a word:\n",
    "\n"
   ]
  },
  {
   "cell_type": "code",
   "execution_count": 101,
   "id": "6003be95",
   "metadata": {},
   "outputs": [
    {
     "name": "stdout",
     "output_type": "stream",
     "text": [
      "None\n"
     ]
    }
   ],
   "source": [
    "print(re.search(r'\\Bfoo\\B', 'foo'))\n",
    "#no whitespace or other boundary present => faulty result"
   ]
  },
  {
   "cell_type": "code",
   "execution_count": 102,
   "id": "b58be79a",
   "metadata": {},
   "outputs": [
    {
     "name": "stdout",
     "output_type": "stream",
     "text": [
      "None\n"
     ]
    }
   ],
   "source": [
    "# \".\" is a boundary, therefore result is faulty\n",
    "print(re.search(r'\\Bfoo\\B', '.foo.'))"
   ]
  },
  {
   "cell_type": "code",
   "execution_count": 103,
   "id": "cfef6518",
   "metadata": {},
   "outputs": [
    {
     "data": {
      "text/plain": [
       "<re.Match object; span=(3, 6), match='foo'>"
      ]
     },
     "execution_count": 103,
     "metadata": {},
     "output_type": "execute_result"
    }
   ],
   "source": [
    "# no boundaries around foo, hence it matches.\n",
    "re.search(r'\\Bfoo\\B', 'barfoobaz')"
   ]
  },
  {
   "cell_type": "markdown",
   "id": "9fa613c5",
   "metadata": {},
   "source": [
    "## *\n",
    "\n",
    "Matches zero or more repetitions of the preceding regex.\n",
    "\n",
    "For example, a* matches zero or more 'a' characters. That means it would match an empty string, 'a', 'aa', 'aaa', and so on.\n",
    "\n",
    "Consider these examples:"
   ]
  },
  {
   "cell_type": "code",
   "execution_count": 104,
   "id": "7f7a2a06",
   "metadata": {},
   "outputs": [
    {
     "data": {
      "text/plain": [
       "<re.Match object; span=(0, 6), match='foobar'>"
      ]
     },
     "execution_count": 104,
     "metadata": {},
     "output_type": "execute_result"
    }
   ],
   "source": [
    "re.search('foo-*bar', 'foobar')                     # Zero dashes\n"
   ]
  },
  {
   "cell_type": "code",
   "execution_count": 105,
   "id": "f4376b24",
   "metadata": {},
   "outputs": [
    {
     "data": {
      "text/plain": [
       "<re.Match object; span=(0, 7), match='foo-bar'>"
      ]
     },
     "execution_count": 105,
     "metadata": {},
     "output_type": "execute_result"
    }
   ],
   "source": [
    "\n",
    "re.search('foo-*bar', 'foo-bar')                    # One dash\n"
   ]
  },
  {
   "cell_type": "code",
   "execution_count": 106,
   "id": "add08ae1",
   "metadata": {},
   "outputs": [
    {
     "data": {
      "text/plain": [
       "<re.Match object; span=(0, 8), match='foo--bar'>"
      ]
     },
     "execution_count": 106,
     "metadata": {},
     "output_type": "execute_result"
    }
   ],
   "source": [
    "\n",
    "re.search('foo-*bar', 'foo--bar')                   # Two dashes"
   ]
  },
  {
   "cell_type": "code",
   "execution_count": 107,
   "id": "54be3b81",
   "metadata": {},
   "outputs": [
    {
     "data": {
      "text/plain": [
       "<re.Match object; span=(2, 23), match='foo $qux@grault % bar'>"
      ]
     },
     "execution_count": 107,
     "metadata": {},
     "output_type": "execute_result"
    }
   ],
   "source": [
    "# In this example, .* matches everything between 'foo' and 'bar', excluding # at the end of the original string:\n",
    "\n",
    "re.search('foo.*bar', '# foo $qux@grault % bar #')"
   ]
  },
  {
   "cell_type": "markdown",
   "id": "65602f6c",
   "metadata": {},
   "source": [
    "## +\n",
    "\n",
    "Matches one or more repetitions of the preceding regex.\n",
    "\n",
    "This is similar to *, but the quantified regex must occur at least once:\n",
    "\n"
   ]
  },
  {
   "cell_type": "markdown",
   "id": "a3237340",
   "metadata": {},
   "source": [
    "## ?\n",
    "\n",
    "Matches zero or one repetitions of the preceding regex.\n",
    "\n",
    "Again, this is similar to * and +, but in this case there’s only a match if the preceding regex occurs once or not at all:"
   ]
  },
  {
   "cell_type": "markdown",
   "id": "b2922ccf",
   "metadata": {},
   "source": [
    "## Examples of * , +, ?"
   ]
  },
  {
   "cell_type": "code",
   "execution_count": 108,
   "id": "b2170bcb",
   "metadata": {},
   "outputs": [
    {
     "data": {
      "text/plain": [
       "<re.Match object; span=(0, 6), match='foobar'>"
      ]
     },
     "execution_count": 108,
     "metadata": {},
     "output_type": "execute_result"
    }
   ],
   "source": [
    "re.match('foo[1-9]*bar', 'foobar')\n",
    "\n",
    "# * Matches zero or more repetitions of the preceding regex. therefore, found foobar"
   ]
  },
  {
   "cell_type": "code",
   "execution_count": 109,
   "id": "fe321fbc",
   "metadata": {},
   "outputs": [
    {
     "data": {
      "text/plain": [
       "<re.Match object; span=(0, 8), match='foo42bar'>"
      ]
     },
     "execution_count": 109,
     "metadata": {},
     "output_type": "execute_result"
    }
   ],
   "source": [
    "re.match('foo[1-9]*bar', 'foo42bar')\n"
   ]
  },
  {
   "cell_type": "code",
   "execution_count": 114,
   "id": "b7a6af97",
   "metadata": {},
   "outputs": [
    {
     "name": "stdout",
     "output_type": "stream",
     "text": [
      "None\n"
     ]
    }
   ],
   "source": [
    "\n",
    "# + needs at least one occurrence of the regex, therefore faulty result as there are no numeric characters between foo and bar\n",
    "print(re.match('foo[1-9]+bar', 'foobar'))\n"
   ]
  },
  {
   "cell_type": "code",
   "execution_count": 111,
   "id": "dcae3dc9",
   "metadata": {},
   "outputs": [
    {
     "data": {
      "text/plain": [
       "<re.Match object; span=(0, 8), match='foo42bar'>"
      ]
     },
     "execution_count": 111,
     "metadata": {},
     "output_type": "execute_result"
    }
   ],
   "source": [
    "# Match found as there are numeric characters in string.\n",
    "re.match('foo[1-9]+bar', 'foo42bar')\n"
   ]
  },
  {
   "cell_type": "code",
   "execution_count": 112,
   "id": "55129c55",
   "metadata": {},
   "outputs": [
    {
     "data": {
      "text/plain": [
       "<re.Match object; span=(0, 6), match='foobar'>"
      ]
     },
     "execution_count": 112,
     "metadata": {},
     "output_type": "execute_result"
    }
   ],
   "source": [
    "# there’s only a match if the preceding regex occurs once or not at all:\n",
    "\n",
    "re.match('foo[1-9]?bar', 'foobar')\n"
   ]
  },
  {
   "cell_type": "code",
   "execution_count": 121,
   "id": "056b974d",
   "metadata": {},
   "outputs": [
    {
     "name": "stdout",
     "output_type": "stream",
     "text": [
      "None\n"
     ]
    }
   ],
   "source": [
    "# Faulty as the regex only allows for one numeric character or none, see lines 122 and 123\n",
    "print(re.match('foo[1-9]?bar', 'foo42bar'))\n"
   ]
  },
  {
   "cell_type": "code",
   "execution_count": 122,
   "id": "28a069aa",
   "metadata": {},
   "outputs": [
    {
     "name": "stdout",
     "output_type": "stream",
     "text": [
      "<re.Match object; span=(0, 7), match='foo4bar'>\n"
     ]
    }
   ],
   "source": [
    "print(re.match('foo[1-9]?bar', 'foo4bar'))"
   ]
  },
  {
   "cell_type": "code",
   "execution_count": 123,
   "id": "6caa59ad",
   "metadata": {},
   "outputs": [
    {
     "name": "stdout",
     "output_type": "stream",
     "text": [
      "<re.Match object; span=(0, 6), match='foobar'>\n"
     ]
    }
   ],
   "source": [
    "print(re.match('foo[1-9]?bar', 'foobar'))"
   ]
  },
  {
   "cell_type": "code",
   "execution_count": null,
   "id": "240ce74f",
   "metadata": {},
   "outputs": [],
   "source": []
  },
  {
   "cell_type": "code",
   "execution_count": null,
   "id": "62d25a15",
   "metadata": {},
   "outputs": [],
   "source": []
  },
  {
   "cell_type": "code",
   "execution_count": null,
   "id": "d3b794d2",
   "metadata": {},
   "outputs": [],
   "source": []
  },
  {
   "cell_type": "markdown",
   "id": "2ff35795",
   "metadata": {},
   "source": [
    "## {m}\n",
    "\n",
    "Matches exactly m repetitions of the preceding regex.\n",
    "\n",
    "This is similar to * or +, but it specifies exactly how many times the preceding regex must occur for a match to succeed:\n",
    "\n"
   ]
  },
  {
   "cell_type": "code",
   "execution_count": 124,
   "id": "3f4acda2",
   "metadata": {},
   "outputs": [
    {
     "name": "stdout",
     "output_type": "stream",
     "text": [
      "None\n"
     ]
    }
   ],
   "source": [
    "print(re.search('x-{3}x', 'x--x'))                # Two dashes\n"
   ]
  },
  {
   "cell_type": "code",
   "execution_count": 125,
   "id": "1bc50b95",
   "metadata": {},
   "outputs": [
    {
     "data": {
      "text/plain": [
       "<re.Match object; span=(0, 5), match='x---x'>"
      ]
     },
     "execution_count": 125,
     "metadata": {},
     "output_type": "execute_result"
    }
   ],
   "source": [
    "\n",
    "re.search('x-{3}x', 'x---x')                      # Three dashes"
   ]
  },
  {
   "cell_type": "code",
   "execution_count": 126,
   "id": "af5ca3b0",
   "metadata": {},
   "outputs": [
    {
     "name": "stdout",
     "output_type": "stream",
     "text": [
      "None\n"
     ]
    }
   ],
   "source": [
    "\n",
    "print(re.search('x-{3}x', 'x----x'))              # Four dashes"
   ]
  },
  {
   "cell_type": "markdown",
   "id": "66e58380",
   "metadata": {},
   "source": [
    "Here, x-{3}x matches 'x', followed by exactly three instances of the '-' character, followed by another 'x'. The match fails when there are fewer or more than three dashes between the 'x' characters."
   ]
  },
  {
   "cell_type": "markdown",
   "id": "6ab969f9",
   "metadata": {},
   "source": [
    "## {m,n}\n",
    "\n",
    "Matches any number of repetitions of the preceding regex from m to n, inclusive.\n",
    "\n",
    "In the following example, the quantified <regex> is -{2,4}. The match succeeds when there are two, three, or four dashes between the 'x' characters but fails otherwise:"
   ]
  },
  {
   "cell_type": "code",
   "execution_count": 127,
   "id": "c30a642b",
   "metadata": {},
   "outputs": [
    {
     "name": "stdout",
     "output_type": "stream",
     "text": [
      "1  x-x        None\n",
      "2  x--x       <re.Match object; span=(0, 4), match='x--x'>\n",
      "3  x---x      <re.Match object; span=(0, 5), match='x---x'>\n",
      "4  x----x     <re.Match object; span=(0, 6), match='x----x'>\n",
      "5  x-----x    None\n"
     ]
    }
   ],
   "source": [
    "for i in range(1, 6):\n",
    "    s = f\"x{'-' * i}x\"\n",
    "    print(f'{i}  {s:10}', re.search('x-{2,4}x', s))"
   ]
  },
  {
   "cell_type": "markdown",
   "id": "fd89b37f",
   "metadata": {},
   "source": [
    "Omitting m implies a lower bound of 0, and omitting n implies an unlimited upper bound.\n",
    "If you omit all of m, n, and the comma, then the curly braces no longer function as metacharacters. {} matches just the literal string '{}'.\n",
    "In fact, to have any special meaning, a sequence with curly braces must fit one of the following patterns in which m and n are nonnegative integers:\n",
    "\n",
    "{m,n}\n",
    "{m,}\n",
    "{,n}\n",
    "{,}\n",
    "\n",
    "{m,n} will match as many characters as possible, and {m,n}? will match as few as possible."
   ]
  },
  {
   "cell_type": "code",
   "execution_count": 128,
   "id": "4a138172",
   "metadata": {},
   "outputs": [
    {
     "data": {
      "text/plain": [
       "<re.Match object; span=(0, 5), match='aaaaa'>"
      ]
     },
     "execution_count": 128,
     "metadata": {},
     "output_type": "execute_result"
    }
   ],
   "source": [
    "# Greedy (w/o ?) includes all, as many as possible\n",
    "re.search('a{3,5}', 'aaaaaaaa')\n"
   ]
  },
  {
   "cell_type": "code",
   "execution_count": 131,
   "id": "c8ea2dd1",
   "metadata": {},
   "outputs": [
    {
     "data": {
      "text/plain": [
       "<re.Match object; span=(0, 3), match='aaa'>"
      ]
     },
     "execution_count": 131,
     "metadata": {},
     "output_type": "execute_result"
    }
   ],
   "source": [
    "# Non-greedy (with ?) includes the least number of characters as per regex\n",
    "re.search('a{3,5}?', 'aaaaaaaa')"
   ]
  },
  {
   "cell_type": "markdown",
   "id": "bbf62dd3",
   "metadata": {},
   "source": [
    "## Grouping Constructs and Backreferences\n",
    "Grouping constructs break up a regex in Python into subexpressions or groups. This serves two purposes:\n",
    "\n",
    "#### Grouping: A group represents a single syntactic entity. Additional metacharacters apply to the entire group as a unit. \n",
    "\n",
    "#### Capturing: Some grouping constructs also capture the portion of the search string that matches the subexpression in the group. You can retrieve captured matches later through several different mechanisms.\n",
    "Here’s a look at how grouping and capturing work.\n",
    "\n",
    "(```<regex>```)\n",
    "\n",
    "Defines a subexpression or group.\n",
    "\n",
    "This is the most basic grouping construct. A regex in parentheses just matches the contents of the parentheses"
   ]
  },
  {
   "cell_type": "code",
   "execution_count": 132,
   "id": "bfcc26c9",
   "metadata": {},
   "outputs": [
    {
     "data": {
      "text/plain": [
       "<re.Match object; span=(4, 7), match='bar'>"
      ]
     },
     "execution_count": 132,
     "metadata": {},
     "output_type": "execute_result"
    }
   ],
   "source": [
    "re.search('(bar)', 'foo bar baz')\n",
    "\n"
   ]
  },
  {
   "cell_type": "code",
   "execution_count": 133,
   "id": "b0f69d39",
   "metadata": {},
   "outputs": [
    {
     "data": {
      "text/plain": [
       "<re.Match object; span=(4, 7), match='bar'>"
      ]
     },
     "execution_count": 133,
     "metadata": {},
     "output_type": "execute_result"
    }
   ],
   "source": [
    "\n",
    "re.search('bar', 'foo bar baz')\n"
   ]
  },
  {
   "cell_type": "markdown",
   "id": "c3a4b322",
   "metadata": {},
   "source": [
    "#### Treating a Group as a Unit\n",
    "A quantifier metacharacter that follows a group operates on the entire subexpression specified in the group as a single unit.\n",
    "\n",
    "The regex (ba[rz]){2,4}(qux)? matches 2 to 4 occurrences of either 'bar' or 'baz', optionally followed by 'qux':"
   ]
  },
  {
   "cell_type": "code",
   "execution_count": 134,
   "id": "e28cc701",
   "metadata": {},
   "outputs": [
    {
     "data": {
      "text/plain": [
       "<re.Match object; span=(0, 12), match='bazbarbazqux'>"
      ]
     },
     "execution_count": 134,
     "metadata": {},
     "output_type": "execute_result"
    }
   ],
   "source": [
    "re.search('(ba[rz]){2,4}(qux)?', 'bazbarbazqux')\n"
   ]
  },
  {
   "cell_type": "code",
   "execution_count": 135,
   "id": "39bcc375",
   "metadata": {},
   "outputs": [
    {
     "data": {
      "text/plain": [
       "<re.Match object; span=(0, 6), match='barbar'>"
      ]
     },
     "execution_count": 135,
     "metadata": {},
     "output_type": "execute_result"
    }
   ],
   "source": [
    "\n",
    "re.search('(ba[rz]){2,4}(qux)?', 'barbar')\n"
   ]
  },
  {
   "cell_type": "markdown",
   "id": "ee03b414",
   "metadata": {},
   "source": [
    "#### Capturing Groups\n",
    "Grouping isn’t the only useful purpose that grouping constructs serve. Most (but not quite all) grouping constructs also capture the part of the search string that matches the group. You can retrieve the captured portion or refer to it later in several different ways.\n",
    "\n",
    "Remember the match object that re.search() returns? There are two methods defined for a match object that provide access to captured groups: .groups() and .group().\n",
    "\n",
    "####  m.groups()\n",
    "\n",
    "Returns a tuple containing all the captured groups from a regex match.\n",
    "\n",
    "Consider this example:"
   ]
  },
  {
   "cell_type": "code",
   "execution_count": 136,
   "id": "cf06fe8b",
   "metadata": {},
   "outputs": [
    {
     "data": {
      "text/plain": [
       "<re.Match object; span=(0, 12), match='foo,quux,baz'>"
      ]
     },
     "execution_count": 136,
     "metadata": {},
     "output_type": "execute_result"
    }
   ],
   "source": [
    "m = re.search('(\\w+),(\\w+),(\\w+)', 'foo,quux,baz')\n",
    "m"
   ]
  },
  {
   "cell_type": "markdown",
   "id": "8da0859d",
   "metadata": {},
   "source": [
    "Each of the three (\\w+) expressions matches a sequence of word characters. The full regex (\\w+),(\\w+),(\\w+) breaks the search string into three comma-separated tokens.\n",
    "\n",
    "Because the (\\w+) expressions use grouping parentheses, the corresponding matching tokens are captured. To access the captured matches, you can use .groups(), which returns a tuple containing all the captured matches in order:"
   ]
  },
  {
   "cell_type": "code",
   "execution_count": 137,
   "id": "a59504d0",
   "metadata": {},
   "outputs": [
    {
     "data": {
      "text/plain": [
       "('foo', 'quux', 'baz')"
      ]
     },
     "execution_count": 137,
     "metadata": {},
     "output_type": "execute_result"
    }
   ],
   "source": [
    "m.groups()"
   ]
  },
  {
   "cell_type": "markdown",
   "id": "33406267",
   "metadata": {},
   "source": [
    "#### m.group(```<n>```)\n",
    "\n",
    "Returns a string containing the ```<n>```th captured match.\n",
    "\n",
    "With one argument, .group() returns a single captured match. Note that the arguments are one-based, not zero-based. So, m.group(1) refers to the first captured match, m.group(2) to the second, and so on.\n",
    "    \n",
    "    m.group(0) returns the entire match, and m.group() does the same."
   ]
  },
  {
   "cell_type": "code",
   "execution_count": 138,
   "id": "a440d950",
   "metadata": {},
   "outputs": [
    {
     "data": {
      "text/plain": [
       "('foo', 'quux', 'baz')"
      ]
     },
     "execution_count": 138,
     "metadata": {},
     "output_type": "execute_result"
    }
   ],
   "source": [
    "m = re.search('(\\w+),(\\w+),(\\w+)', 'foo,quux,baz')\n",
    "m.groups()\n"
   ]
  },
  {
   "cell_type": "code",
   "execution_count": 139,
   "id": "c7d99a41",
   "metadata": {},
   "outputs": [
    {
     "data": {
      "text/plain": [
       "'foo'"
      ]
     },
     "execution_count": 139,
     "metadata": {},
     "output_type": "execute_result"
    }
   ],
   "source": [
    "m.group(1)"
   ]
  },
  {
   "cell_type": "code",
   "execution_count": 143,
   "id": "587a4432",
   "metadata": {},
   "outputs": [
    {
     "data": {
      "text/plain": [
       "'quux'"
      ]
     },
     "execution_count": 143,
     "metadata": {},
     "output_type": "execute_result"
    }
   ],
   "source": [
    "m.group(2)"
   ]
  },
  {
   "cell_type": "code",
   "execution_count": 142,
   "id": "c0ba0c83",
   "metadata": {},
   "outputs": [
    {
     "data": {
      "text/plain": [
       "'baz'"
      ]
     },
     "execution_count": 142,
     "metadata": {},
     "output_type": "execute_result"
    }
   ],
   "source": [
    "m.group(3)"
   ]
  },
  {
   "cell_type": "code",
   "execution_count": 144,
   "id": "12261f9a",
   "metadata": {},
   "outputs": [
    {
     "data": {
      "text/plain": [
       "'foo,quux,baz'"
      ]
     },
     "execution_count": 144,
     "metadata": {},
     "output_type": "execute_result"
    }
   ],
   "source": [
    "m.group(0)"
   ]
  },
  {
   "cell_type": "code",
   "execution_count": null,
   "id": "60d86d79",
   "metadata": {},
   "outputs": [],
   "source": []
  },
  {
   "cell_type": "code",
   "execution_count": null,
   "id": "385e3131",
   "metadata": {},
   "outputs": [],
   "source": []
  },
  {
   "cell_type": "code",
   "execution_count": null,
   "id": "b9998284",
   "metadata": {},
   "outputs": [],
   "source": []
  },
  {
   "cell_type": "code",
   "execution_count": null,
   "id": "a0095998",
   "metadata": {},
   "outputs": [],
   "source": []
  },
  {
   "cell_type": "code",
   "execution_count": null,
   "id": "4654b59e",
   "metadata": {},
   "outputs": [],
   "source": []
  },
  {
   "cell_type": "markdown",
   "id": "ca55e65b",
   "metadata": {},
   "source": [
    "## Google Regular Expressions"
   ]
  },
  {
   "cell_type": "markdown",
   "id": "ba8ce302",
   "metadata": {},
   "source": [
    "Regular expressions are a powerful language for matching text patterns. This page gives a basic introduction to regular expressions themselves sufficient for our Python exercises and shows how regular expressions work in Python. The Python \"re\" module provides regular expression support.\n",
    "\n",
    "\n",
    "match = re.search(pat, str)"
   ]
  },
  {
   "cell_type": "code",
   "execution_count": 10,
   "id": "2146bcd3",
   "metadata": {},
   "outputs": [],
   "source": [
    "import re"
   ]
  },
  {
   "cell_type": "code",
   "execution_count": 11,
   "id": "20e82b75",
   "metadata": {},
   "outputs": [
    {
     "name": "stdout",
     "output_type": "stream",
     "text": [
      "found word:cat\n"
     ]
    }
   ],
   "source": [
    "str = 'an example word:cat!!'\n",
    "match = re.search(r'word:\\w\\w\\w', str)\n",
    "# If-statement after search() tests if it succeeded\n",
    "if match:\n",
    "  print('found', match.group()) ## 'found word:cat'\n",
    "else:\n",
    "  print('did not find')"
   ]
  },
  {
   "cell_type": "markdown",
   "id": "2c7876e4",
   "metadata": {},
   "source": [
    "The basic rules of regular expression search for a pattern within a string are:\n",
    "\n",
    "- The search proceeds through the string from start to end, stopping at the first match found\n",
    "- All of the pattern must be matched, but not all of the string\n",
    "- If match = re.search(pat, str) is successful, match is not None and in particular match.group() is the matching text"
   ]
  },
  {
   "cell_type": "code",
   "execution_count": 16,
   "id": "39e5929c",
   "metadata": {},
   "outputs": [
    {
     "data": {
      "text/plain": [
       "<re.Match object; span=(1, 4), match='iii'>"
      ]
     },
     "execution_count": 16,
     "metadata": {},
     "output_type": "execute_result"
    }
   ],
   "source": [
    "  ## Search for pattern 'iii' in string 'piiig'.\n",
    "  ## All of the pattern must match, but it may appear anywhere.\n",
    "  ## On success, match.group() is matched text.\n",
    "match = re.search(r'iii', 'piiig') # found, match.group() == \"iii\"\n",
    "match"
   ]
  },
  {
   "cell_type": "code",
   "execution_count": 17,
   "id": "796f49b7",
   "metadata": {},
   "outputs": [],
   "source": [
    "match = re.search(r'igs', 'piiig') # not found, match == None\n",
    "match"
   ]
  },
  {
   "cell_type": "code",
   "execution_count": 19,
   "id": "a891ed8b",
   "metadata": {},
   "outputs": [
    {
     "data": {
      "text/plain": [
       "<re.Match object; span=(2, 5), match='iig'>"
      ]
     },
     "execution_count": 19,
     "metadata": {},
     "output_type": "execute_result"
    }
   ],
   "source": [
    "## . = any char but \\n\n",
    "match = re.search(r'..g', 'piiig') # found, match.group() == \"iig\"\n",
    "match"
   ]
  },
  {
   "cell_type": "code",
   "execution_count": 20,
   "id": "7234b70d",
   "metadata": {},
   "outputs": [
    {
     "data": {
      "text/plain": [
       "<re.Match object; span=(1, 4), match='123'>"
      ]
     },
     "execution_count": 20,
     "metadata": {},
     "output_type": "execute_result"
    }
   ],
   "source": [
    "\n",
    "## \\d = digit char, \\w = word char\n",
    "match = re.search(r'\\d\\d\\d', 'p123g') # found, match.group() == \"123\"\n",
    "match"
   ]
  },
  {
   "cell_type": "code",
   "execution_count": 22,
   "id": "6b1bbcda",
   "metadata": {},
   "outputs": [
    {
     "data": {
      "text/plain": [
       "<re.Match object; span=(2, 6), match='abcd'>"
      ]
     },
     "execution_count": 22,
     "metadata": {},
     "output_type": "execute_result"
    }
   ],
   "source": [
    "match = re.search(r'\\w\\w\\w+', '@@abcd!!') # found, match.group() == \"abc\"\n",
    "match"
   ]
  },
  {
   "cell_type": "code",
   "execution_count": 26,
   "id": "b0fc842d",
   "metadata": {},
   "outputs": [
    {
     "data": {
      "text/plain": [
       "<re.Match object; span=(0, 4), match='piii'>"
      ]
     },
     "execution_count": 26,
     "metadata": {},
     "output_type": "execute_result"
    }
   ],
   "source": [
    "## i+ = one or more i's, as many as possible.\n",
    "match = re.search(r'pi+', 'piiig') # found, match.group() == \"piii\"\n",
    "match"
   ]
  },
  {
   "cell_type": "code",
   "execution_count": 27,
   "id": "0523b7a1",
   "metadata": {},
   "outputs": [
    {
     "data": {
      "text/plain": [
       "<re.Match object; span=(1, 3), match='ii'>"
      ]
     },
     "execution_count": 27,
     "metadata": {},
     "output_type": "execute_result"
    }
   ],
   "source": [
    "## Finds the first/leftmost solution, and within it drives the +\n",
    "## as far as possible (aka 'leftmost and largest').\n",
    "## In this example, note that it does not get to the second set of i's.\n",
    "match = re.search(r'i+', 'piigiiii') # found, match.group() == \"ii\"\n",
    "match"
   ]
  },
  {
   "cell_type": "code",
   "execution_count": 28,
   "id": "b6cdd592",
   "metadata": {},
   "outputs": [
    {
     "data": {
      "text/plain": [
       "<re.Match object; span=(2, 9), match='1 2   3'>"
      ]
     },
     "execution_count": 28,
     "metadata": {},
     "output_type": "execute_result"
    }
   ],
   "source": [
    "## \\s* = zero or more whitespace chars\n",
    "## Here look for 3 digits, possibly separated by whitespace.\n",
    "match = re.search(r'\\d\\s*\\d\\s*\\d', 'xx1 2   3xx') # found, match.group() == \"1 2   3\"\n",
    "match"
   ]
  },
  {
   "cell_type": "code",
   "execution_count": 29,
   "id": "e28612b8",
   "metadata": {},
   "outputs": [
    {
     "data": {
      "text/plain": [
       "<re.Match object; span=(2, 7), match='12  3'>"
      ]
     },
     "execution_count": 29,
     "metadata": {},
     "output_type": "execute_result"
    }
   ],
   "source": [
    "re.search(r'\\d\\s*\\d\\s*\\d', 'xx12  3xx') # found, match.group() == \"12  3\"\n"
   ]
  },
  {
   "cell_type": "code",
   "execution_count": 30,
   "id": "e3a14b82",
   "metadata": {},
   "outputs": [
    {
     "data": {
      "text/plain": [
       "<re.Match object; span=(2, 5), match='123'>"
      ]
     },
     "execution_count": 30,
     "metadata": {},
     "output_type": "execute_result"
    }
   ],
   "source": [
    "re.search(r'\\d\\s*\\d\\s*\\d', 'xx123xx') # found, match.group() == \"123\"\n",
    "# * -- 0 or more occurrences of the pattern to its left"
   ]
  },
  {
   "cell_type": "code",
   "execution_count": 31,
   "id": "7b9a5de2",
   "metadata": {},
   "outputs": [
    {
     "data": {
      "text/plain": [
       "<re.Match object; span=(2, 7), match='1 2 3'>"
      ]
     },
     "execution_count": 31,
     "metadata": {},
     "output_type": "execute_result"
    }
   ],
   "source": [
    "re.search(r'\\d\\s*\\d\\s*\\d', 'xx1 2 3 xx')"
   ]
  },
  {
   "cell_type": "code",
   "execution_count": 32,
   "id": "66de02c3",
   "metadata": {},
   "outputs": [],
   "source": [
    "## ^ = matches the start of string, so this fails:\n",
    "match = re.search(r'^b\\w+', 'foobar') # not found, match == None\n",
    "match"
   ]
  },
  {
   "cell_type": "code",
   "execution_count": 35,
   "id": "af8aae85",
   "metadata": {},
   "outputs": [
    {
     "data": {
      "text/plain": [
       "<re.Match object; span=(3, 6), match='bar'>"
      ]
     },
     "execution_count": 35,
     "metadata": {},
     "output_type": "execute_result"
    }
   ],
   "source": [
    "## but without the ^ it succeeds and finds a string that starts with \"b\":\n",
    "match = re.search(r'b\\w+', 'foobar') # found, match.group() == \"bar\"\n",
    "match"
   ]
  },
  {
   "cell_type": "markdown",
   "id": "c7d9779a",
   "metadata": {},
   "source": [
    "## Email example"
   ]
  },
  {
   "cell_type": "code",
   "execution_count": 36,
   "id": "92595c91",
   "metadata": {},
   "outputs": [
    {
     "name": "stdout",
     "output_type": "stream",
     "text": [
      "b@google\n"
     ]
    }
   ],
   "source": [
    "str = 'purple alice-b@google.com monkey dishwasher'\n",
    "match = re.search(r'\\w+@\\w+', str)\n",
    "if match:\n",
    "    print(match.group())  ## 'b@google'"
   ]
  },
  {
   "cell_type": "markdown",
   "id": "6ba173f0",
   "metadata": {},
   "source": [
    "The search does not get the whole email address in this case because the \\w does not match the '-' or '.' in the address. We'll fix this using the regular expression features below.\n",
    "\n",
    "Square brackets can be used to indicate a set of chars, so [abc] matches 'a' or 'b' or 'c'. The codes \\w, \\s etc. work inside square brackets too with the one exception that dot (.) just means a literal dot. For the emails problem, the square brackets are an easy way to add '.' and '-' to the set of chars which can appear around the @ with the pattern r'[\\w.-]+@[\\w.-]+' to get the whole email address:"
   ]
  },
  {
   "cell_type": "code",
   "execution_count": 37,
   "id": "ab0fb4cd",
   "metadata": {},
   "outputs": [
    {
     "name": "stdout",
     "output_type": "stream",
     "text": [
      "alice-b@google.com\n"
     ]
    }
   ],
   "source": [
    "match = re.search(r'[\\w.-]+@[\\w.-]+', str)\n",
    "if match:\n",
    "    print(match.group())  ## 'alice-b@google.com'"
   ]
  },
  {
   "cell_type": "code",
   "execution_count": 44,
   "id": "56cbe67a",
   "metadata": {},
   "outputs": [
    {
     "name": "stdout",
     "output_type": "stream",
     "text": [
      "a-lice-b@google.com\n"
     ]
    }
   ],
   "source": [
    "str1 = 'purple a-lice-b@google.com monkey dishwasher'\n",
    "\n",
    "match = re.search(r'[\\w.-]+@[\\w.-]+', str1)\n",
    "if match:\n",
    "    print(match.group())"
   ]
  },
  {
   "cell_type": "markdown",
   "id": "85691cf5",
   "metadata": {},
   "source": [
    "Square brackets can be used to indicate a set of chars, so [abc] matches 'a' or 'b' or 'c'. The codes \\w, \\s etc. work inside square brackets too with the one exception that dot (.) just means a literal dot. For the emails problem, the square brackets are an easy way to add '.' and '-' to the set of chars which can appear around the @ with the pattern r'[\\w.-]+@[\\w.-]+' to get the whole email address:"
   ]
  },
  {
   "cell_type": "markdown",
   "id": "84932993",
   "metadata": {},
   "source": [
    "### Group extraction using () parenthesis"
   ]
  },
  {
   "cell_type": "code",
   "execution_count": 46,
   "id": "292c70b5",
   "metadata": {},
   "outputs": [
    {
     "name": "stdout",
     "output_type": "stream",
     "text": [
      "alice-b@google.com\n",
      "alice-b\n",
      "google.com\n"
     ]
    }
   ],
   "source": [
    "str = 'purple alice-b@google.com monkey dishwasher'\n",
    "match = re.search(r'([\\w.-]+)@([\\w.-]+)', str)\n",
    "if match:\n",
    "    print(match.group())   ## 'alice-b@google.com' (the whole match)\n",
    "    print(match.group(1))  ## 'alice-b' (the username, group 1)\n",
    "    print(match.group(2))  ## 'google.com' (the host, group 2)"
   ]
  },
  {
   "cell_type": "markdown",
   "id": "b4d78d5e",
   "metadata": {},
   "source": [
    "On a successful search, match.group(1) is the match text corresponding to the 1st left parenthesis, and match.group(2) is the text corresponding to the 2nd left parenthesis. The plain match.group() is still the whole match text as usual."
   ]
  },
  {
   "cell_type": "markdown",
   "id": "c1e65886",
   "metadata": {},
   "source": [
    "#### findall\n",
    "\n",
    "findall() is probably the single most powerful function in the re module. Above we used re.search() to find the first match for a pattern. findall() finds *all* the matches and returns them as a list of strings, with each string representing one match."
   ]
  },
  {
   "cell_type": "code",
   "execution_count": 47,
   "id": "2ceaa10b",
   "metadata": {},
   "outputs": [
    {
     "name": "stdout",
     "output_type": "stream",
     "text": [
      "alice@google.com\n",
      "bob@abc.com\n"
     ]
    }
   ],
   "source": [
    "## Suppose we have a text with many email addresses\n",
    "str = 'purple alice@google.com, blah monkey bob@abc.com blah dishwasher'\n",
    "\n",
    "## Here re.findall() returns a list of all the found email strings\n",
    "emails = re.findall(r'[\\w\\.-]+@[\\w\\.-]+', str) ## ['alice@google.com', 'bob@abc.com']\n",
    "for email in emails:\n",
    "# do something with each found email string\n",
    "    print(email)\n"
   ]
  },
  {
   "cell_type": "markdown",
   "id": "537b17f4",
   "metadata": {},
   "source": [
    "#### findall With Files\n",
    "For files, you may be in the habit of writing a loop to iterate over the lines of the file, and you could then call findall() on each line. Instead, let findall() do the iteration for you -- much better! Just feed the whole file text into findall() and let it return a list of all the matches in a single step (recall that f.read() returns the whole text of a file in a single string):"
   ]
  },
  {
   "cell_type": "code",
   "execution_count": 49,
   "id": "3351def9",
   "metadata": {},
   "outputs": [],
   "source": [
    "# Open file\n",
    "## f = open('test.txt', 'r')\n",
    "# Feed the file text into findall(); it returns a list of all the found strings\n",
    "## strings = re.findall(r'some pattern', f.read())"
   ]
  },
  {
   "cell_type": "markdown",
   "id": "4f9135b6",
   "metadata": {},
   "source": [
    "#### Substitution (optional)\n",
    "The re.sub(pat, replacement, str) function searches for all the instances of pattern in the given string, and replaces them. The replacement string can include '\\1', '\\2' which refer to the text from group(1), group(2), and so on from the original matching text.\n",
    "\n",
    "Here's an example which searches for all the email addresses, and changes them to keep the user (\\1) but have yo-yo-dyne.com as the host."
   ]
  },
  {
   "cell_type": "code",
   "execution_count": 50,
   "id": "c0af4d77",
   "metadata": {},
   "outputs": [
    {
     "name": "stdout",
     "output_type": "stream",
     "text": [
      "purple alice@yo-yo-dyne.com, blah monkey bob@yo-yo-dyne.com blah dishwasher\n"
     ]
    }
   ],
   "source": [
    "str = 'purple alice@google.com, blah monkey bob@abc.com blah dishwasher'\n",
    "## re.sub(pat, replacement, str) -- returns new string with all replacements,\n",
    "## \\1 is group(1), \\2 group(2) in the replacement\n",
    "print(re.sub(r'([\\w\\.-]+)@([\\w\\.-]+)', r'\\1@yo-yo-dyne.com', str))\n",
    "## purple alice@yo-yo-dyne.com, blah monkey bob@yo-yo-dyne.com blah dishwasher"
   ]
  },
  {
   "cell_type": "markdown",
   "id": "dccd3593",
   "metadata": {},
   "source": [
    "Group 1 = ([\\w\\.-]+)@([\\w\\.-]+)\n",
    "\n",
    "Group 2 = replacement  r'\\1@yo-yo-dyne.com' referring to keep group 1 and add new string after @ sign."
   ]
  },
  {
   "cell_type": "markdown",
   "id": "4d90202a",
   "metadata": {},
   "source": [
    "## Exercise 1\n",
    "***"
   ]
  },
  {
   "cell_type": "markdown",
   "id": "e7ac916e",
   "metadata": {},
   "source": [
    "Remember to do these exercises in your own notebook in your assessment repository.\n",
    "\n",
    "Write a Python function to remove all non-alphanumeric characters from a string."
   ]
  },
  {
   "cell_type": "code",
   "execution_count": 58,
   "id": "6e0c7612",
   "metadata": {},
   "outputs": [
    {
     "name": "stdout",
     "output_type": "stream",
     "text": [
      "ts[6%F28rP UfXBNA6{L]4rbw$r}lz$uf%sraiv-nbY5yXc{{3FC%QCO6kpEFhi{k9l8KisByqr114[dDripPf_-%CUH%XFEnQ2dScKItiS*qWG}hvIIt38L4Zl[-g5iJ[kYPraP2UtJ1}A84j fIzAF8J1kKtdyd1]kTFFq3kB2z*1T_xNCAfLy40 [9WNd93qHb3rhYSLB6QDYG_eC[UlH$F*s-vOIbkXNUri3M$ISloq^xRV-1pjOgoy[Ty^v7dx-YrybquPZu[mZYpifml}[Dz1Bls9][LPAIi3s0rmA\n"
     ]
    }
   ],
   "source": [
    "# Function to remove all non-alphanumerical characters from a string\n",
    "def alpha_num(str):\n",
    "    result = re.sub(r'[\\W+]', '', str) # re.sub substitutes any characters that are not alphanumeric, i.e. \\W, with no value ''\n",
    "    return result # returns the result\n",
    "\n",
    "#Importing random module to generate a text that includes both \\w and \\W characters\n",
    "import random\n",
    "\n",
    "#defining chars as the string for character selection\n",
    "chars = 'abcdefghijklmnopqrstuvwxyz 0123456789_*$%^-{}[]ABCDEFGHIJKLMNOPQRSTUVWXYZ'\n",
    "\n",
    "# GEnerating a 300 character long list\n",
    "str1 = random.choices(chars, k=300)\n",
    "\n",
    "# Joining the characters into a string\n",
    "str1 = ''.join(str1)\n",
    "# Printing the string\n",
    "print(str1)\n"
   ]
  },
  {
   "cell_type": "code",
   "execution_count": 60,
   "id": "1ec877ee",
   "metadata": {},
   "outputs": [
    {
     "data": {
      "text/plain": [
       "'ts6F28rPUfXBNA6L4rbwrlzufsraivnbY5yXc3FCQCO6kpEFhik9l8KisByqr114dDripPf_CUHXFEnQ2dScKItiSqWGhvIIt38L4Zlg5iJkYPraP2UtJ1A84jfIzAF8J1kKtdyd1kTFFq3kB2z1T_xNCAfLy409WNd93qHb3rhYSLB6QDYG_eCUlHFsvOIbkXNUri3MISloqxRV1pjOgoyTyv7dxYrybquPZumZYpifmlDz1Bls9LPAIi3s0rmA'"
      ]
     },
     "execution_count": 60,
     "metadata": {},
     "output_type": "execute_result"
    }
   ],
   "source": [
    "#applying the function on the string\n",
    "alpha_num(str1)"
   ]
  },
  {
   "cell_type": "markdown",
   "id": "e0106a82",
   "metadata": {},
   "source": [
    "## Second part of Real Python"
   ]
  },
  {
   "cell_type": "code",
   "execution_count": 7,
   "id": "fe9e70cd",
   "metadata": {},
   "outputs": [
    {
     "data": {
      "text/plain": [
       "<re.Match object; span=(0, 3), match='123'>"
      ]
     },
     "execution_count": 7,
     "metadata": {},
     "output_type": "execute_result"
    }
   ],
   "source": [
    "re.search(r'\\d+', '123foobar')"
   ]
  },
  {
   "cell_type": "code",
   "execution_count": 8,
   "id": "24097f67",
   "metadata": {},
   "outputs": [
    {
     "data": {
      "text/plain": [
       "<re.Match object; span=(3, 6), match='123'>"
      ]
     },
     "execution_count": 8,
     "metadata": {},
     "output_type": "execute_result"
    }
   ],
   "source": [
    "re.search(r'\\d+', 'foo123bar')"
   ]
  },
  {
   "cell_type": "code",
   "execution_count": 21,
   "id": "8369c3ce",
   "metadata": {},
   "outputs": [
    {
     "data": {
      "text/plain": [
       "<re.Match object; span=(0, 3), match='123'>"
      ]
     },
     "execution_count": 21,
     "metadata": {},
     "output_type": "execute_result"
    }
   ],
   "source": [
    "re.match(r'\\d+', '123foobar')"
   ]
  },
  {
   "cell_type": "code",
   "execution_count": 22,
   "id": "4dddd802",
   "metadata": {},
   "outputs": [
    {
     "name": "stdout",
     "output_type": "stream",
     "text": [
      "None\n"
     ]
    }
   ],
   "source": [
    "print(re.match(r'\\d+', 'foo123bar')) # foo is in font of the 123, therefore no match"
   ]
  },
  {
   "cell_type": "markdown",
   "id": "b115b0dd",
   "metadata": {},
   "source": [
    "### Multiline"
   ]
  },
  {
   "cell_type": "code",
   "execution_count": 23,
   "id": "c4d3f2e3",
   "metadata": {},
   "outputs": [],
   "source": [
    "s = 'foo\\nbar\\nbaz'"
   ]
  },
  {
   "cell_type": "code",
   "execution_count": 24,
   "id": "4145c5df",
   "metadata": {},
   "outputs": [
    {
     "data": {
      "text/plain": [
       "<re.Match object; span=(0, 3), match='foo'>"
      ]
     },
     "execution_count": 24,
     "metadata": {},
     "output_type": "execute_result"
    }
   ],
   "source": [
    "re.search('^foo', s)"
   ]
  },
  {
   "cell_type": "code",
   "execution_count": 25,
   "id": "83f762ad",
   "metadata": {},
   "outputs": [
    {
     "data": {
      "text/plain": [
       "<re.Match object; span=(4, 7), match='bar'>"
      ]
     },
     "execution_count": 25,
     "metadata": {},
     "output_type": "execute_result"
    }
   ],
   "source": [
    "re.search('^bar', s, re.MULTILINE)"
   ]
  },
  {
   "cell_type": "code",
   "execution_count": 27,
   "id": "1349862d",
   "metadata": {},
   "outputs": [
    {
     "data": {
      "text/plain": [
       "<re.Match object; span=(0, 3), match='foo'>"
      ]
     },
     "execution_count": 27,
     "metadata": {},
     "output_type": "execute_result"
    }
   ],
   "source": [
    "s = 'foo\\nbar\\nbaz'\n",
    "\n",
    "re.match('^foo', s)\n"
   ]
  },
  {
   "cell_type": "code",
   "execution_count": 28,
   "id": "27201da8",
   "metadata": {},
   "outputs": [
    {
     "name": "stdout",
     "output_type": "stream",
     "text": [
      "None\n"
     ]
    }
   ],
   "source": [
    "print(re.match('^bar', s, re.MULTILINE))"
   ]
  },
  {
   "cell_type": "markdown",
   "id": "a0ab8d8c",
   "metadata": {},
   "source": [
    "Even with the MULTILINE flag set, re.match() will match the caret (^) anchor only at the beginning of <string>, not at the beginning of lines contained within <string>.\n",
    "\n",
    "Note that, although it illustrates the point, the caret (^) anchor on line 3 in the above example is redundant. With re.match(), matches are essentially always anchored at the beginning of the string."
   ]
  },
  {
   "cell_type": "markdown",
   "id": "6c8bdc9a",
   "metadata": {},
   "source": [
    "### Fullmatch"
   ]
  },
  {
   "cell_type": "code",
   "execution_count": 14,
   "id": "711c6717",
   "metadata": {},
   "outputs": [
    {
     "name": "stdout",
     "output_type": "stream",
     "text": [
      "None\n"
     ]
    }
   ],
   "source": [
    "print(re.fullmatch(r'\\d+', '123foo')) # the full string has to match the full regular expression"
   ]
  },
  {
   "cell_type": "code",
   "execution_count": 29,
   "id": "a8edc03a",
   "metadata": {},
   "outputs": [
    {
     "data": {
      "text/plain": [
       "<re.Match object; span=(0, 3), match='123'>"
      ]
     },
     "execution_count": 29,
     "metadata": {},
     "output_type": "execute_result"
    }
   ],
   "source": [
    "re.fullmatch(r'\\d+', '123') # the full text is digital only, therefore there is a match found."
   ]
  },
  {
   "cell_type": "code",
   "execution_count": 11,
   "id": "129434dc",
   "metadata": {},
   "outputs": [
    {
     "name": "stdout",
     "output_type": "stream",
     "text": [
      "None\n"
     ]
    }
   ],
   "source": [
    "print(re.fullmatch(r'\\d+', '123foo'))"
   ]
  },
  {
   "cell_type": "code",
   "execution_count": 12,
   "id": "24bac7b2",
   "metadata": {},
   "outputs": [
    {
     "name": "stdout",
     "output_type": "stream",
     "text": [
      "None\n"
     ]
    }
   ],
   "source": [
    "print(re.fullmatch(r'\\d+', 'foo123'))"
   ]
  },
  {
   "cell_type": "code",
   "execution_count": 15,
   "id": "debe64de",
   "metadata": {},
   "outputs": [
    {
     "name": "stdout",
     "output_type": "stream",
     "text": [
      "None\n"
     ]
    }
   ],
   "source": [
    "print(re.fullmatch(r'\\d+', 'foo123bar'))"
   ]
  },
  {
   "cell_type": "code",
   "execution_count": null,
   "id": "1b8e5f60",
   "metadata": {},
   "outputs": [],
   "source": []
  },
  {
   "cell_type": "code",
   "execution_count": 19,
   "id": "43b8d62f",
   "metadata": {},
   "outputs": [
    {
     "data": {
      "text/plain": [
       "<re.Match object; span=(0, 3), match='123'>"
      ]
     },
     "execution_count": 19,
     "metadata": {},
     "output_type": "execute_result"
    }
   ],
   "source": [
    "re.search(r'^\\d+$', '123') "
   ]
  },
  {
   "cell_type": "code",
   "execution_count": null,
   "id": "6c608fc3",
   "metadata": {},
   "outputs": [],
   "source": [
    "re.match only returns if the match is found at the beginning of the string/text. Search has a hahrder job than match.\n"
   ]
  },
  {
   "cell_type": "code",
   "execution_count": 32,
   "id": "394bfea9",
   "metadata": {},
   "outputs": [
    {
     "name": "stdout",
     "output_type": "stream",
     "text": [
      "None\n"
     ]
    }
   ],
   "source": [
    "print(re.search(r'^\\d+$', 'foo123foobar'))"
   ]
  },
  {
   "cell_type": "markdown",
   "id": "001af6d3",
   "metadata": {},
   "source": [
    "Search can be used to behave as match with the ^ sign. Than it will only match the start of the string.\n",
    "$ means the end of the line. The above use of ^ and $ is the mimicing of what re.match does, fixing to check only the beginning of the string for the digital characters."
   ]
  },
  {
   "cell_type": "markdown",
   "id": "72f58233",
   "metadata": {},
   "source": [
    "### Findall"
   ]
  },
  {
   "cell_type": "code",
   "execution_count": 34,
   "id": "7d847a28",
   "metadata": {},
   "outputs": [
    {
     "data": {
      "text/plain": [
       "['123', '456', '789']"
      ]
     },
     "execution_count": 34,
     "metadata": {},
     "output_type": "execute_result"
    }
   ],
   "source": [
    "re.findall(r'\\d+', '123foo456bar789.')"
   ]
  },
  {
   "cell_type": "code",
   "execution_count": 35,
   "id": "0ed4bf27",
   "metadata": {},
   "outputs": [
    {
     "data": {
      "text/plain": [
       "<re.Match object; span=(0, 3), match='123'>"
      ]
     },
     "execution_count": 35,
     "metadata": {},
     "output_type": "execute_result"
    }
   ],
   "source": [
    "re.search(r'\\d+', '123foo456bar789.')"
   ]
  },
  {
   "cell_type": "code",
   "execution_count": 36,
   "id": "dfa13880",
   "metadata": {},
   "outputs": [
    {
     "data": {
      "text/plain": [
       "<re.Match object; span=(0, 3), match='123'>"
      ]
     },
     "execution_count": 36,
     "metadata": {},
     "output_type": "execute_result"
    }
   ],
   "source": [
    "re.match(r'\\d+', '123foo456bar789.')"
   ]
  },
  {
   "cell_type": "code",
   "execution_count": 38,
   "id": "1ca8a135",
   "metadata": {},
   "outputs": [
    {
     "name": "stdout",
     "output_type": "stream",
     "text": [
      "None\n"
     ]
    }
   ],
   "source": [
    "print(re.fullmatch(r'\\d+', '123foo456bar789.'))"
   ]
  },
  {
   "cell_type": "markdown",
   "id": "4a321378",
   "metadata": {},
   "source": [
    "### Finditer:\n",
    "re.finditer(<regex>, <string>) scans <string> for non-overlapping matches of <regex> and returns an iterator that yields the match objects from any it finds. It scans the search string from left to right and returns matches in the order it finds them:"
   ]
  },
  {
   "cell_type": "code",
   "execution_count": 40,
   "id": "42b7208e",
   "metadata": {},
   "outputs": [
    {
     "data": {
      "text/plain": [
       "<callable_iterator at 0xa578247430>"
      ]
     },
     "execution_count": 40,
     "metadata": {},
     "output_type": "execute_result"
    }
   ],
   "source": [
    "matches = re.finditer(r'\\d+', '123foo456bar789.')\n",
    "matches"
   ]
  },
  {
   "cell_type": "code",
   "execution_count": 41,
   "id": "03702cdd",
   "metadata": {},
   "outputs": [
    {
     "name": "stdout",
     "output_type": "stream",
     "text": [
      "<re.Match object; span=(0, 3), match='123'>\n",
      "<re.Match object; span=(6, 9), match='456'>\n",
      "<re.Match object; span=(12, 15), match='789'>\n"
     ]
    }
   ],
   "source": [
    "for match in matches:\n",
    "    print(match)"
   ]
  },
  {
   "cell_type": "raw",
   "id": "3613945f",
   "metadata": {},
   "source": [
    "Finditer creates a generator"
   ]
  },
  {
   "cell_type": "code",
   "execution_count": 42,
   "id": "3fa9c85e",
   "metadata": {},
   "outputs": [],
   "source": [
    "it = re.finditer(r'\\w+', '...foo,,,,bar:%$baz//|')"
   ]
  },
  {
   "cell_type": "code",
   "execution_count": 43,
   "id": "ba41d39b",
   "metadata": {},
   "outputs": [
    {
     "data": {
      "text/plain": [
       "<re.Match object; span=(3, 6), match='foo'>"
      ]
     },
     "execution_count": 43,
     "metadata": {},
     "output_type": "execute_result"
    }
   ],
   "source": [
    "next(it)"
   ]
  },
  {
   "cell_type": "code",
   "execution_count": 44,
   "id": "da9b3949",
   "metadata": {},
   "outputs": [
    {
     "data": {
      "text/plain": [
       "<re.Match object; span=(10, 13), match='bar'>"
      ]
     },
     "execution_count": 44,
     "metadata": {},
     "output_type": "execute_result"
    }
   ],
   "source": [
    "next(it)"
   ]
  },
  {
   "cell_type": "code",
   "execution_count": 45,
   "id": "8cdcfc9e",
   "metadata": {},
   "outputs": [
    {
     "data": {
      "text/plain": [
       "<re.Match object; span=(16, 19), match='baz'>"
      ]
     },
     "execution_count": 45,
     "metadata": {},
     "output_type": "execute_result"
    }
   ],
   "source": [
    "next(it)"
   ]
  },
  {
   "cell_type": "code",
   "execution_count": 47,
   "id": "dbe6eee4",
   "metadata": {},
   "outputs": [
    {
     "name": "stdout",
     "output_type": "stream",
     "text": [
      "<re.Match object; span=(3, 6), match='foo'>\n",
      "<re.Match object; span=(10, 13), match='bar'>\n",
      "<re.Match object; span=(16, 19), match='baz'>\n"
     ]
    }
   ],
   "source": [
    "for i in re.finditer(r'\\w+', '...foo,,,,bar:%$baz//|'):\n",
    "    print(i)"
   ]
  },
  {
   "cell_type": "markdown",
   "id": "4de794f5",
   "metadata": {},
   "source": [
    "re.findall() and re.finditer() are very similar, but they differ in two respects:\n",
    "\n",
    "re.findall() returns a list, whereas re.finditer() returns an iterator.\n",
    "\n",
    "The items in the list that re.findall() returns are the actual matching strings, whereas the items yielded by the iterator that re.finditer() returns are match objects.\n",
    "\n",
    "Any task that you could accomplish with one, you could probably also manage with the other. Which one you choose will depend on the circumstances. As you’ll see later in this tutorial, a lot of useful information can be obtained from a match object. If you need that information, then re.finditer() will probably be the better choice."
   ]
  },
  {
   "cell_type": "markdown",
   "id": "27b1a8da",
   "metadata": {},
   "source": [
    "## Substitution Functions"
   ]
  },
  {
   "cell_type": "markdown",
   "id": "ad6d25ea",
   "metadata": {},
   "source": [
    "re.sub()\tScans a string for regex matches, replaces the matching portions of the string with the specified replacement string, and returns the result\n",
    "\n",
    "re.subn()\tBehaves just like re.sub() but also returns information regarding the number of substitutions made\n",
    "\n",
    "Both re.sub() and re.subn() create a new string with the specified substitutions and return it. The original string remains unchanged. (Remember that strings are immutable in Python, so it wouldn’t be possible for these functions to modify the original string.)\n",
    "\n",
    "re.sub(```<regex>, <repl>, <string>```, count=0, flags=0)\n",
    "\n",
    "re.sub(```<regex>, <repl>, <string>```) finds the leftmost non-overlapping occurrences of ```<regex>``` in ```<string>```, replaces each match as indicated by ```<repl>```, and returns the result. ```<string>``` remains unchanged.\n",
    "\n",
    "<repl> can be either a string or a function, as explained below."
   ]
  },
  {
   "cell_type": "code",
   "execution_count": 48,
   "id": "da0afb96",
   "metadata": {},
   "outputs": [
    {
     "data": {
      "text/plain": [
       "'foo.#.bar.#.baz'"
      ]
     },
     "execution_count": 48,
     "metadata": {},
     "output_type": "execute_result"
    }
   ],
   "source": [
    "s = 'foo.123.bar.789.baz'\n",
    "\n",
    "re.sub(r'\\d+', '#', s)"
   ]
  },
  {
   "cell_type": "code",
   "execution_count": 49,
   "id": "b4357457",
   "metadata": {},
   "outputs": [
    {
     "data": {
      "text/plain": [
       "'(*).123.(*).789.(*)'"
      ]
     },
     "execution_count": 49,
     "metadata": {},
     "output_type": "execute_result"
    }
   ],
   "source": [
    "re.sub('[a-z]+', '(*)', s)"
   ]
  },
  {
   "cell_type": "code",
   "execution_count": 52,
   "id": "90c89d83",
   "metadata": {},
   "outputs": [
    {
     "data": {
      "text/plain": [
       "'123foo'"
      ]
     },
     "execution_count": 52,
     "metadata": {},
     "output_type": "execute_result"
    }
   ],
   "source": [
    "re.sub(r'([a-z]+)([0-9]+)', r'\\2\\1' , 'foo123')"
   ]
  },
  {
   "cell_type": "code",
   "execution_count": 53,
   "id": "4046aba5",
   "metadata": {},
   "outputs": [
    {
     "data": {
      "text/plain": [
       "'foo123foo'"
      ]
     },
     "execution_count": 53,
     "metadata": {},
     "output_type": "execute_result"
    }
   ],
   "source": [
    "re.sub(r'([a-z]+)([0-9]+)', r'\\1\\2\\1' , 'foo123')"
   ]
  },
  {
   "cell_type": "code",
   "execution_count": 50,
   "id": "c2b17f35",
   "metadata": {},
   "outputs": [
    {
     "data": {
      "text/plain": [
       "'qux,bar,baz,foo'"
      ]
     },
     "execution_count": 50,
     "metadata": {},
     "output_type": "execute_result"
    }
   ],
   "source": [
    "re.sub(r'(\\w+),bar,baz,(\\w+)', r'\\2,bar,baz,\\1', 'foo,bar,baz,qux')"
   ]
  },
  {
   "cell_type": "markdown",
   "id": "4415f1db",
   "metadata": {},
   "source": [
    "() grab whatever the match is, grouping them together. It is to remember what was in the first and last (). with the () around them they can be referenced in the replacement string as \\1 and \\2.\n",
    "qux went to the first position and foo went to the final position.\n",
    "\n",
    "\n",
    "You can capture gruops of characters, the regular experssion can match all kind of things. \n"
   ]
  },
  {
   "cell_type": "code",
   "execution_count": 55,
   "id": "2a1b95d0",
   "metadata": {},
   "outputs": [
    {
     "data": {
      "text/plain": [
       "'foo123foobar456bar'"
      ]
     },
     "execution_count": 55,
     "metadata": {},
     "output_type": "execute_result"
    }
   ],
   "source": [
    "re.sub(r'([a-z]+)([0-9]+)', r'\\1\\2\\1' , 'foo123bar456') # the regex searches multiple times, it does not stop at the first match."
   ]
  },
  {
   "cell_type": "code",
   "execution_count": 57,
   "id": "452c8097",
   "metadata": {},
   "outputs": [
    {
     "data": {
      "text/plain": [
       "'foo,baz,bar,qux'"
      ]
     },
     "execution_count": 57,
     "metadata": {},
     "output_type": "execute_result"
    }
   ],
   "source": [
    "re.sub(r'foo,(?P<w1>\\w+),(?P<w2>\\w+),qux',\n",
    "       r'foo,\\g<w2>,\\g<w1>,qux',\n",
    "       'foo,bar,baz,qux') # ?P<w1> and ?P<w2> naming the groups in the regex \n",
    "# and then referring to them (backreference them) in the replcamenet as g<w1>, g<w2>."
   ]
  },
  {
   "cell_type": "code",
   "execution_count": null,
   "id": "5ecbfcdc",
   "metadata": {},
   "outputs": [],
   "source": [
    "re.sub(r'foo,(\\w+),(\\w+),qux',\n",
    "       r'foo,\\g<2>,\\g<1>,qux',\n",
    "       'foo,bar,baz,qux') \n",
    "# here the g<> backreferencing is used without naming and just referring to the group number\n",
    "# with first () being group 1 and second () being group 2 in the regex syntax."
   ]
  },
  {
   "cell_type": "code",
   "execution_count": 58,
   "id": "56517a68",
   "metadata": {},
   "outputs": [
    {
     "ename": "error",
     "evalue": "invalid group reference 10 at position 1",
     "output_type": "error",
     "traceback": [
      "\u001b[1;31m---------------------------------------------------------------------------\u001b[0m",
      "\u001b[1;31merror\u001b[0m                                     Traceback (most recent call last)",
      "Input \u001b[1;32mIn [58]\u001b[0m, in \u001b[0;36m<cell line: 1>\u001b[1;34m()\u001b[0m\n\u001b[1;32m----> 1\u001b[0m \u001b[43mre\u001b[49m\u001b[38;5;241;43m.\u001b[39;49m\u001b[43msub\u001b[49m\u001b[43m(\u001b[49m\u001b[38;5;124;43mr\u001b[39;49m\u001b[38;5;124;43m'\u001b[39;49m\u001b[38;5;124;43m(\u001b[39;49m\u001b[38;5;124;43m\\\u001b[39;49m\u001b[38;5;124;43md+)\u001b[39;49m\u001b[38;5;124;43m'\u001b[39;49m\u001b[43m,\u001b[49m\u001b[43m \u001b[49m\u001b[38;5;124;43mr\u001b[39;49m\u001b[38;5;124;43m'\u001b[39;49m\u001b[38;5;124;43m\\\u001b[39;49m\u001b[38;5;124;43m10\u001b[39;49m\u001b[38;5;124;43m'\u001b[39;49m\u001b[43m,\u001b[49m\u001b[43m \u001b[49m\u001b[38;5;124;43m'\u001b[39;49m\u001b[38;5;124;43mfoo 123 bar\u001b[39;49m\u001b[38;5;124;43m'\u001b[39;49m\u001b[43m)\u001b[49m\n",
      "File \u001b[1;32m~\\anaconda3\\lib\\re.py:210\u001b[0m, in \u001b[0;36msub\u001b[1;34m(pattern, repl, string, count, flags)\u001b[0m\n\u001b[0;32m    203\u001b[0m \u001b[38;5;28;01mdef\u001b[39;00m \u001b[38;5;21msub\u001b[39m(pattern, repl, string, count\u001b[38;5;241m=\u001b[39m\u001b[38;5;241m0\u001b[39m, flags\u001b[38;5;241m=\u001b[39m\u001b[38;5;241m0\u001b[39m):\n\u001b[0;32m    204\u001b[0m     \u001b[38;5;124;03m\"\"\"Return the string obtained by replacing the leftmost\u001b[39;00m\n\u001b[0;32m    205\u001b[0m \u001b[38;5;124;03m    non-overlapping occurrences of the pattern in string by the\u001b[39;00m\n\u001b[0;32m    206\u001b[0m \u001b[38;5;124;03m    replacement repl.  repl can be either a string or a callable;\u001b[39;00m\n\u001b[0;32m    207\u001b[0m \u001b[38;5;124;03m    if a string, backslash escapes in it are processed.  If it is\u001b[39;00m\n\u001b[0;32m    208\u001b[0m \u001b[38;5;124;03m    a callable, it's passed the Match object and must return\u001b[39;00m\n\u001b[0;32m    209\u001b[0m \u001b[38;5;124;03m    a replacement string to be used.\"\"\"\u001b[39;00m\n\u001b[1;32m--> 210\u001b[0m     \u001b[38;5;28;01mreturn\u001b[39;00m \u001b[43m_compile\u001b[49m\u001b[43m(\u001b[49m\u001b[43mpattern\u001b[49m\u001b[43m,\u001b[49m\u001b[43m \u001b[49m\u001b[43mflags\u001b[49m\u001b[43m)\u001b[49m\u001b[38;5;241;43m.\u001b[39;49m\u001b[43msub\u001b[49m\u001b[43m(\u001b[49m\u001b[43mrepl\u001b[49m\u001b[43m,\u001b[49m\u001b[43m \u001b[49m\u001b[43mstring\u001b[49m\u001b[43m,\u001b[49m\u001b[43m \u001b[49m\u001b[43mcount\u001b[49m\u001b[43m)\u001b[49m\n",
      "File \u001b[1;32m~\\anaconda3\\lib\\re.py:327\u001b[0m, in \u001b[0;36m_subx\u001b[1;34m(pattern, template)\u001b[0m\n\u001b[0;32m    325\u001b[0m \u001b[38;5;28;01mdef\u001b[39;00m \u001b[38;5;21m_subx\u001b[39m(pattern, template):\n\u001b[0;32m    326\u001b[0m     \u001b[38;5;66;03m# internal: Pattern.sub/subn implementation helper\u001b[39;00m\n\u001b[1;32m--> 327\u001b[0m     template \u001b[38;5;241m=\u001b[39m \u001b[43m_compile_repl\u001b[49m\u001b[43m(\u001b[49m\u001b[43mtemplate\u001b[49m\u001b[43m,\u001b[49m\u001b[43m \u001b[49m\u001b[43mpattern\u001b[49m\u001b[43m)\u001b[49m\n\u001b[0;32m    328\u001b[0m     \u001b[38;5;28;01mif\u001b[39;00m \u001b[38;5;129;01mnot\u001b[39;00m template[\u001b[38;5;241m0\u001b[39m] \u001b[38;5;129;01mand\u001b[39;00m \u001b[38;5;28mlen\u001b[39m(template[\u001b[38;5;241m1\u001b[39m]) \u001b[38;5;241m==\u001b[39m \u001b[38;5;241m1\u001b[39m:\n\u001b[0;32m    329\u001b[0m         \u001b[38;5;66;03m# literal replacement\u001b[39;00m\n\u001b[0;32m    330\u001b[0m         \u001b[38;5;28;01mreturn\u001b[39;00m template[\u001b[38;5;241m1\u001b[39m][\u001b[38;5;241m0\u001b[39m]\n",
      "File \u001b[1;32m~\\anaconda3\\lib\\re.py:318\u001b[0m, in \u001b[0;36m_compile_repl\u001b[1;34m(repl, pattern)\u001b[0m\n\u001b[0;32m    315\u001b[0m \u001b[38;5;129m@functools\u001b[39m\u001b[38;5;241m.\u001b[39mlru_cache(_MAXCACHE)\n\u001b[0;32m    316\u001b[0m \u001b[38;5;28;01mdef\u001b[39;00m \u001b[38;5;21m_compile_repl\u001b[39m(repl, pattern):\n\u001b[0;32m    317\u001b[0m     \u001b[38;5;66;03m# internal: compile replacement pattern\u001b[39;00m\n\u001b[1;32m--> 318\u001b[0m     \u001b[38;5;28;01mreturn\u001b[39;00m \u001b[43msre_parse\u001b[49m\u001b[38;5;241;43m.\u001b[39;49m\u001b[43mparse_template\u001b[49m\u001b[43m(\u001b[49m\u001b[43mrepl\u001b[49m\u001b[43m,\u001b[49m\u001b[43m \u001b[49m\u001b[43mpattern\u001b[49m\u001b[43m)\u001b[49m\n",
      "File \u001b[1;32m~\\anaconda3\\lib\\sre_parse.py:1038\u001b[0m, in \u001b[0;36mparse_template\u001b[1;34m(source, state)\u001b[0m\n\u001b[0;32m   1036\u001b[0m             lappend(\u001b[38;5;28mchr\u001b[39m(c))\n\u001b[0;32m   1037\u001b[0m     \u001b[38;5;28;01mif\u001b[39;00m \u001b[38;5;129;01mnot\u001b[39;00m isoctal:\n\u001b[1;32m-> 1038\u001b[0m         \u001b[43maddgroup\u001b[49m\u001b[43m(\u001b[49m\u001b[38;5;28;43mint\u001b[39;49m\u001b[43m(\u001b[49m\u001b[43mthis\u001b[49m\u001b[43m[\u001b[49m\u001b[38;5;241;43m1\u001b[39;49m\u001b[43m:\u001b[49m\u001b[43m]\u001b[49m\u001b[43m)\u001b[49m\u001b[43m,\u001b[49m\u001b[43m \u001b[49m\u001b[38;5;28;43mlen\u001b[39;49m\u001b[43m(\u001b[49m\u001b[43mthis\u001b[49m\u001b[43m)\u001b[49m\u001b[43m \u001b[49m\u001b[38;5;241;43m-\u001b[39;49m\u001b[43m \u001b[49m\u001b[38;5;241;43m1\u001b[39;49m\u001b[43m)\u001b[49m\n\u001b[0;32m   1039\u001b[0m \u001b[38;5;28;01melse\u001b[39;00m:\n\u001b[0;32m   1040\u001b[0m     \u001b[38;5;28;01mtry\u001b[39;00m:\n",
      "File \u001b[1;32m~\\anaconda3\\lib\\sre_parse.py:982\u001b[0m, in \u001b[0;36mparse_template.<locals>.addgroup\u001b[1;34m(index, pos)\u001b[0m\n\u001b[0;32m    980\u001b[0m \u001b[38;5;28;01mdef\u001b[39;00m \u001b[38;5;21maddgroup\u001b[39m(index, pos):\n\u001b[0;32m    981\u001b[0m     \u001b[38;5;28;01mif\u001b[39;00m index \u001b[38;5;241m>\u001b[39m state\u001b[38;5;241m.\u001b[39mgroups:\n\u001b[1;32m--> 982\u001b[0m         \u001b[38;5;28;01mraise\u001b[39;00m s\u001b[38;5;241m.\u001b[39merror(\u001b[38;5;124m\"\u001b[39m\u001b[38;5;124minvalid group reference \u001b[39m\u001b[38;5;132;01m%d\u001b[39;00m\u001b[38;5;124m\"\u001b[39m \u001b[38;5;241m%\u001b[39m index, pos)\n\u001b[0;32m    983\u001b[0m     \u001b[38;5;28;01mif\u001b[39;00m literal:\n\u001b[0;32m    984\u001b[0m         literals\u001b[38;5;241m.\u001b[39mappend(\u001b[38;5;124m'\u001b[39m\u001b[38;5;124m'\u001b[39m\u001b[38;5;241m.\u001b[39mjoin(literal))\n",
      "\u001b[1;31merror\u001b[0m: invalid group reference 10 at position 1"
     ]
    }
   ],
   "source": [
    "re.sub(r'(\\d+)', r'\\10', 'foo 123 bar')\n",
    "# here there is a backreference to a group #10, however there is only 1 (), i.e. group specified in the regex."
   ]
  },
  {
   "cell_type": "code",
   "execution_count": null,
   "id": "98dff135",
   "metadata": {},
   "outputs": [],
   "source": []
  },
  {
   "cell_type": "code",
   "execution_count": null,
   "id": "0b2cbb11",
   "metadata": {},
   "outputs": [],
   "source": []
  },
  {
   "cell_type": "code",
   "execution_count": null,
   "id": "36f3225f",
   "metadata": {},
   "outputs": [],
   "source": []
  },
  {
   "cell_type": "markdown",
   "id": "4fd12d36",
   "metadata": {},
   "source": [
    "It continues with the search until the end of the string and groups them as per the replacement. It allows for backreferencing and become verypowerful. Backreferencing only works if it is captured."
   ]
  },
  {
   "cell_type": "markdown",
   "id": "a6fb85c7",
   "metadata": {},
   "source": [
    "### Substitution by function\n",
    "If you specify ```<repl>``` as a function, then re.sub() calls that function for each match found. It passes each corresponding match object as an argument to the function to provide information about the match. The function return value then becomes the replacement string:\n"
   ]
  },
  {
   "cell_type": "code",
   "execution_count": 60,
   "id": "2a621a9b",
   "metadata": {},
   "outputs": [
    {
     "data": {
      "text/plain": [
       "'xxx.xxx.xxx.xxx'"
      ]
     },
     "execution_count": 60,
     "metadata": {},
     "output_type": "execute_result"
    }
   ],
   "source": [
    "re.sub(r'\\w+', 'xxx', 'foo.bar.baz.qux')"
   ]
  },
  {
   "cell_type": "code",
   "execution_count": 61,
   "id": "f3dd12fd",
   "metadata": {},
   "outputs": [
    {
     "data": {
      "text/plain": [
       "'xxx.xxx.xxx.xxx'"
      ]
     },
     "execution_count": 61,
     "metadata": {},
     "output_type": "execute_result"
    }
   ],
   "source": [
    "re.sub(r'\\w+', 'xxx', 'foo.bar.baz.qux')"
   ]
  },
  {
   "cell_type": "code",
   "execution_count": 62,
   "id": "ad009b47",
   "metadata": {},
   "outputs": [
    {
     "data": {
      "text/plain": [
       "('xxx.xxx.xxx.xxx', 4)"
      ]
     },
     "execution_count": 62,
     "metadata": {},
     "output_type": "execute_result"
    }
   ],
   "source": [
    "re.subn(r'\\w+', 'xxx', 'foo.bar.baz.qux')"
   ]
  },
  {
   "cell_type": "code",
   "execution_count": 63,
   "id": "5b5a0320",
   "metadata": {},
   "outputs": [
    {
     "data": {
      "text/plain": [
       "('xxx.xxx.baz.qux', 2)"
      ]
     },
     "execution_count": 63,
     "metadata": {},
     "output_type": "execute_result"
    }
   ],
   "source": [
    "re.subn(r'\\w+', 'xxx', 'foo.bar.baz.qux', count=2)"
   ]
  },
  {
   "cell_type": "code",
   "execution_count": 64,
   "id": "586be6a0",
   "metadata": {},
   "outputs": [
    {
     "data": {
      "text/plain": [
       "'FOO.100.BAR.200.BAZ.300'"
      ]
     },
     "execution_count": 64,
     "metadata": {},
     "output_type": "execute_result"
    }
   ],
   "source": [
    "def f(match_obj):\n",
    "    s = match_obj.group(0)  # The matching string\n",
    "\n",
    "    # s.isdigit() returns True if all characters in s are digits\n",
    "    if s.isdigit():\n",
    "        return str(int(s) * 10)\n",
    "    else:\n",
    "        return s.upper()\n",
    "\n",
    "re.sub(r'\\w+', f, 'foo.10.bar.20.baz.30')\n",
    "\n",
    "#In this example, f() gets called for each match. As a result, \n",
    "# re.sub() converts each alphanumeric portion of <string> to all uppercase and multiplies each numeric portion by 10."
   ]
  },
  {
   "cell_type": "markdown",
   "id": "7459b2d8",
   "metadata": {},
   "source": [
    "## Utility Functions"
   ]
  },
  {
   "cell_type": "markdown",
   "id": "37b79d81",
   "metadata": {},
   "source": [
    "### re.split( )  Splits a string into substrings using a regex as a delimiter"
   ]
  },
  {
   "cell_type": "code",
   "execution_count": 65,
   "id": "4881cdd9",
   "metadata": {},
   "outputs": [
    {
     "data": {
      "text/plain": [
       "['foo', 'bar', 'baz', 'qux']"
      ]
     },
     "execution_count": 65,
     "metadata": {},
     "output_type": "execute_result"
    }
   ],
   "source": [
    "# The following example splits the specified string into substrings delimited \n",
    "# by a comma (,), semicolon (;), or slash (/) character, surrounded by any amount of whitespace:\n",
    "\n",
    "re.split('\\s*[,;/]\\s*', 'foo,bar  ;  baz / qux')"
   ]
  },
  {
   "cell_type": "code",
   "execution_count": null,
   "id": "8ca9d027",
   "metadata": {},
   "outputs": [],
   "source": [
    "#  If <regex> contains capturing groups, then the return list includes the matching delimiter strings as well:\n",
    "\n",
    "re.split('(\\s*[,;/]\\s*)', 'foo,bar  ;  baz / qux')\n",
    "\n",
    "#This time, the return list contains not only the substrings 'foo', 'bar', 'baz', and 'qux'\n",
    "# but also several delimiter strings:\n",
    "\n",
    "# ','\n",
    "# '  ;  '\n",
    "# ' / '"
   ]
  },
  {
   "cell_type": "code",
   "execution_count": 67,
   "id": "13906fa5",
   "metadata": {},
   "outputs": [
    {
     "data": {
      "text/plain": [
       "'<foo>,<bar>  ;  <baz> / <qux>'"
      ]
     },
     "execution_count": 67,
     "metadata": {},
     "output_type": "execute_result"
    }
   ],
   "source": [
    "string = 'foo,bar  ;  baz / qux'\n",
    "regex = r'(\\s*[,;/]\\s*)'\n",
    "a = re.split(regex, string)\n",
    "# List of tokens and delimiters\n",
    "a\n",
    "\n",
    "\n",
    "# Enclose each token in <>'s\n",
    "for i, s in enumerate(a):\n",
    "\n",
    "    # This will be True for the tokens but not the delimiters\n",
    "    if not re.fullmatch(regex, s):\n",
    "        a[i] = f'<{s}>'\n",
    "\n",
    "\n",
    "# Put the tokens back together using the same delimiters\n",
    "''.join(a)\n"
   ]
  },
  {
   "cell_type": "code",
   "execution_count": 68,
   "id": "af0c2799",
   "metadata": {},
   "outputs": [
    {
     "data": {
      "text/plain": [
       "['foo', 'bar', 'baz', 'qux', 'quux', 'corge']"
      ]
     },
     "execution_count": 68,
     "metadata": {},
     "output_type": "execute_result"
    }
   ],
   "source": [
    "s = 'foo, bar, baz, qux, quux, corge'\n",
    "\n",
    "re.split(r',\\s*', s) # execute the split (\\s) at the comma, search until the end of the string (*)"
   ]
  },
  {
   "cell_type": "code",
   "execution_count": 70,
   "id": "7ccb77a1",
   "metadata": {},
   "outputs": [
    {
     "data": {
      "text/plain": [
       "['foo', 'bar', 'baz', 'qux, quux, corge']"
      ]
     },
     "execution_count": 70,
     "metadata": {},
     "output_type": "execute_result"
    }
   ],
   "source": [
    "re.split(r',\\s*', s, maxsplit=3) # execute the split (\\s) at the comma, continue search until the third comma (*)"
   ]
  },
  {
   "cell_type": "code",
   "execution_count": 71,
   "id": "64e12153",
   "metadata": {},
   "outputs": [
    {
     "data": {
      "text/plain": [
       "['foo, bar, baz, qux, quux, corge']"
      ]
     },
     "execution_count": 71,
     "metadata": {},
     "output_type": "execute_result"
    }
   ],
   "source": [
    "re.split(r',\\s*', s, maxsplit=-3) #If maxsplit is negative, then re.split() returns <string> unchanged"
   ]
  },
  {
   "cell_type": "code",
   "execution_count": 72,
   "id": "8f4cafb5",
   "metadata": {},
   "outputs": [
    {
     "data": {
      "text/plain": [
       "['foo', 'bar', 'baz', 'qux', 'quux', 'corge']"
      ]
     },
     "execution_count": 72,
     "metadata": {},
     "output_type": "execute_result"
    }
   ],
   "source": [
    "re.split(r',\\s*', s, maxsplit=0) # Explicitly specifying maxsplit=0 is equivalent to omitting it entirely."
   ]
  },
  {
   "cell_type": "code",
   "execution_count": 73,
   "id": "e3a21985",
   "metadata": {},
   "outputs": [
    {
     "data": {
      "text/plain": [
       "['', '/', 'foo', '/', 'bar', '/', 'baz', '/', '']"
      ]
     },
     "execution_count": 73,
     "metadata": {},
     "output_type": "execute_result"
    }
   ],
   "source": [
    "re.split('(/)', '/foo/bar/baz/') \n",
    "# If <regex> contains capturing groups so that the return list includes delimiters, and <regex> matches the start of \n",
    "# <string>, then re.split() places an empty string as the first element in the return list. "
   ]
  },
  {
   "cell_type": "markdown",
   "id": "cca74e70",
   "metadata": {},
   "source": [
    "### re.escape(```<regex>)``` returns a copy of ```<regex>``` with each nonword character (anything other than a letter, digit, or underscore) preceded by a backslash"
   ]
  },
  {
   "cell_type": "code",
   "execution_count": 74,
   "id": "dd9ba3fe",
   "metadata": {},
   "outputs": [
    {
     "name": "stdout",
     "output_type": "stream",
     "text": [
      "None\n"
     ]
    }
   ],
   "source": [
    "print(re.match('foo^bar(baz)|qux', 'foo^bar(baz)|qux'))\n",
    "#  the regex 'foo^bar(baz)|qux' contains special characters that behave as metacharacters"
   ]
  },
  {
   "cell_type": "code",
   "execution_count": 75,
   "id": "607ea12a",
   "metadata": {},
   "outputs": [
    {
     "data": {
      "text/plain": [
       "<re.Match object; span=(0, 16), match='foo^bar(baz)|qux'>"
      ]
     },
     "execution_count": 75,
     "metadata": {},
     "output_type": "execute_result"
    }
   ],
   "source": [
    "re.match('foo\\^bar\\(baz\\)\\|qux', 'foo^bar(baz)|qux')\n",
    "#  they’re explicitly escaped with backslashes, so a match occurs."
   ]
  },
  {
   "cell_type": "code",
   "execution_count": 77,
   "id": "91451ddb",
   "metadata": {},
   "outputs": [
    {
     "data": {
      "text/plain": [
       "True"
      ]
     },
     "execution_count": 77,
     "metadata": {},
     "output_type": "execute_result"
    }
   ],
   "source": [
    "re.escape('foo^bar(baz)|qux') == 'foo\\^bar\\(baz\\)\\|qux'"
   ]
  },
  {
   "cell_type": "code",
   "execution_count": 78,
   "id": "111df429",
   "metadata": {},
   "outputs": [
    {
     "data": {
      "text/plain": [
       "<re.Match object; span=(0, 16), match='foo^bar(baz)|qux'>"
      ]
     },
     "execution_count": 78,
     "metadata": {},
     "output_type": "execute_result"
    }
   ],
   "source": [
    "re.match(re.escape('foo^bar(baz)|qux'), 'foo^bar(baz)|qux')"
   ]
  },
  {
   "cell_type": "markdown",
   "id": "60d2fece",
   "metadata": {},
   "source": [
    "## Compiled Regex Objects in Python\n",
    "\n",
    "The re module supports the capability to precompile a regex in Python into a regular expression object that can be repeatedly used later.\n",
    "\n",
    "re.compile(```<regex>```, flags=0)"
   ]
  },
  {
   "cell_type": "code",
   "execution_count": 80,
   "id": "e07a464f",
   "metadata": {},
   "outputs": [
    {
     "data": {
      "text/plain": [
       "re.compile(r'([0-9]+)', re.UNICODE)"
      ]
     },
     "execution_count": 80,
     "metadata": {},
     "output_type": "execute_result"
    }
   ],
   "source": [
    "my_regex = re.compile(r'([0-9]+)')\n",
    "my_regex"
   ]
  },
  {
   "cell_type": "code",
   "execution_count": 82,
   "id": "4ea6f511",
   "metadata": {},
   "outputs": [
    {
     "data": {
      "text/plain": [
       "<re.Match object; span=(3, 6), match='123'>"
      ]
     },
     "execution_count": 82,
     "metadata": {},
     "output_type": "execute_result"
    }
   ],
   "source": [
    "my_regex.search('foo123bar456')"
   ]
  },
  {
   "cell_type": "code",
   "execution_count": 83,
   "id": "5d201391",
   "metadata": {},
   "outputs": [
    {
     "data": {
      "text/plain": [
       "['123', '456']"
      ]
     },
     "execution_count": 83,
     "metadata": {},
     "output_type": "execute_result"
    }
   ],
   "source": [
    "my_regex.findall('foo123bar456')"
   ]
  },
  {
   "cell_type": "code",
   "execution_count": 85,
   "id": "1c33171c",
   "metadata": {},
   "outputs": [
    {
     "data": {
      "text/plain": [
       "'foo...bar...'"
      ]
     },
     "execution_count": 85,
     "metadata": {},
     "output_type": "execute_result"
    }
   ],
   "source": [
    "# my_regex replaces re. as it is defined by re.compile and include the regex there.\n",
    "my_regex.sub(r'...', 'foo123bar456')"
   ]
  },
  {
   "cell_type": "markdown",
   "id": "5fe9367e",
   "metadata": {},
   "source": [
    "## Regular Expressions on Iris Datast"
   ]
  },
  {
   "cell_type": "code",
   "execution_count": 126,
   "id": "e6ebcebb",
   "metadata": {},
   "outputs": [
    {
     "data": {
      "text/plain": [
       "['5.1,3.5,1.4,0.2,Iris-setosa',\n",
       " '4.9,3.0,1.4,0.2,Iris-setosa',\n",
       " '4.7,3.2,1.3,0.2,Iris-setosa',\n",
       " '4.6,3.1,1.5,0.2,Iris-setosa',\n",
       " '5.0,3.6,1.4,0.2,Iris-setosa',\n",
       " '5.4,3.9,1.7,0.4,Iris-setosa',\n",
       " '4.6,3.4,1.4,0.3,Iris-setosa',\n",
       " '5.0,3.4,1.5,0.2,Iris-setosa',\n",
       " '4.4,2.9,1.4,0.2,Iris-setosa',\n",
       " '4.9,3.1,1.5,0.1,Iris-setosa',\n",
       " '5.4,3.7,1.5,0.2,Iris-setosa',\n",
       " '4.8,3.4,1.6,0.2,Iris-setosa',\n",
       " '4.8,3.0,1.4,0.1,Iris-setosa',\n",
       " '4.3,3.0,1.1,0.1,Iris-setosa',\n",
       " '5.8,4.0,1.2,0.2,Iris-setosa',\n",
       " '5.7,4.4,1.5,0.4,Iris-setosa',\n",
       " '5.4,3.9,1.3,0.4,Iris-setosa',\n",
       " '5.1,3.5,1.4,0.3,Iris-setosa',\n",
       " '5.7,3.8,1.7,0.3,Iris-setosa',\n",
       " '5.1,3.8,1.5,0.3,Iris-setosa',\n",
       " '5.4,3.4,1.7,0.2,Iris-setosa',\n",
       " '5.1,3.7,1.5,0.4,Iris-setosa',\n",
       " '4.6,3.6,1.0,0.2,Iris-setosa',\n",
       " '5.1,3.3,1.7,0.5,Iris-setosa',\n",
       " '4.8,3.4,1.9,0.2,Iris-setosa',\n",
       " '5.0,3.0,1.6,0.2,Iris-setosa',\n",
       " '5.0,3.4,1.6,0.4,Iris-setosa',\n",
       " '5.2,3.5,1.5,0.2,Iris-setosa',\n",
       " '5.2,3.4,1.4,0.2,Iris-setosa',\n",
       " '4.7,3.2,1.6,0.2,Iris-setosa',\n",
       " '4.8,3.1,1.6,0.2,Iris-setosa',\n",
       " '5.4,3.4,1.5,0.4,Iris-setosa',\n",
       " '5.2,4.1,1.5,0.1,Iris-setosa',\n",
       " '5.5,4.2,1.4,0.2,Iris-setosa',\n",
       " '4.9,3.1,1.5,0.1,Iris-setosa',\n",
       " '5.0,3.2,1.2,0.2,Iris-setosa',\n",
       " '5.5,3.5,1.3,0.2,Iris-setosa',\n",
       " '4.9,3.1,1.5,0.1,Iris-setosa',\n",
       " '4.4,3.0,1.3,0.2,Iris-setosa',\n",
       " '5.1,3.4,1.5,0.2,Iris-setosa',\n",
       " '5.0,3.5,1.3,0.3,Iris-setosa',\n",
       " '4.5,2.3,1.3,0.3,Iris-setosa',\n",
       " '4.4,3.2,1.3,0.2,Iris-setosa',\n",
       " '5.0,3.5,1.6,0.6,Iris-setosa',\n",
       " '5.1,3.8,1.9,0.4,Iris-setosa',\n",
       " '4.8,3.0,1.4,0.3,Iris-setosa',\n",
       " '5.1,3.8,1.6,0.2,Iris-setosa',\n",
       " '4.6,3.2,1.4,0.2,Iris-setosa',\n",
       " '5.3,3.7,1.5,0.2,Iris-setosa',\n",
       " '5.0,3.3,1.4,0.2,Iris-setosa',\n",
       " '7.0,3.2,4.7,1.4,Iris-versicolor',\n",
       " '6.4,3.2,4.5,1.5,Iris-versicolor',\n",
       " '6.9,3.1,4.9,1.5,Iris-versicolor',\n",
       " '5.5,2.3,4.0,1.3,Iris-versicolor',\n",
       " '6.5,2.8,4.6,1.5,Iris-versicolor',\n",
       " '5.7,2.8,4.5,1.3,Iris-versicolor',\n",
       " '6.3,3.3,4.7,1.6,Iris-versicolor',\n",
       " '4.9,2.4,3.3,1.0,Iris-versicolor',\n",
       " '6.6,2.9,4.6,1.3,Iris-versicolor',\n",
       " '5.2,2.7,3.9,1.4,Iris-versicolor',\n",
       " '5.0,2.0,3.5,1.0,Iris-versicolor',\n",
       " '5.9,3.0,4.2,1.5,Iris-versicolor',\n",
       " '6.0,2.2,4.0,1.0,Iris-versicolor',\n",
       " '6.1,2.9,4.7,1.4,Iris-versicolor',\n",
       " '5.6,2.9,3.6,1.3,Iris-versicolor',\n",
       " '6.7,3.1,4.4,1.4,Iris-versicolor',\n",
       " '5.6,3.0,4.5,1.5,Iris-versicolor',\n",
       " '5.8,2.7,4.1,1.0,Iris-versicolor',\n",
       " '6.2,2.2,4.5,1.5,Iris-versicolor',\n",
       " '5.6,2.5,3.9,1.1,Iris-versicolor',\n",
       " '5.9,3.2,4.8,1.8,Iris-versicolor',\n",
       " '6.1,2.8,4.0,1.3,Iris-versicolor',\n",
       " '6.3,2.5,4.9,1.5,Iris-versicolor',\n",
       " '6.1,2.8,4.7,1.2,Iris-versicolor',\n",
       " '6.4,2.9,4.3,1.3,Iris-versicolor',\n",
       " '6.6,3.0,4.4,1.4,Iris-versicolor',\n",
       " '6.8,2.8,4.8,1.4,Iris-versicolor',\n",
       " '6.7,3.0,5.0,1.7,Iris-versicolor',\n",
       " '6.0,2.9,4.5,1.5,Iris-versicolor',\n",
       " '5.7,2.6,3.5,1.0,Iris-versicolor',\n",
       " '5.5,2.4,3.8,1.1,Iris-versicolor',\n",
       " '5.5,2.4,3.7,1.0,Iris-versicolor',\n",
       " '5.8,2.7,3.9,1.2,Iris-versicolor',\n",
       " '6.0,2.7,5.1,1.6,Iris-versicolor',\n",
       " '5.4,3.0,4.5,1.5,Iris-versicolor',\n",
       " '6.0,3.4,4.5,1.6,Iris-versicolor',\n",
       " '6.7,3.1,4.7,1.5,Iris-versicolor',\n",
       " '6.3,2.3,4.4,1.3,Iris-versicolor',\n",
       " '5.6,3.0,4.1,1.3,Iris-versicolor',\n",
       " '5.5,2.5,4.0,1.3,Iris-versicolor',\n",
       " '5.5,2.6,4.4,1.2,Iris-versicolor',\n",
       " '6.1,3.0,4.6,1.4,Iris-versicolor',\n",
       " '5.8,2.6,4.0,1.2,Iris-versicolor',\n",
       " '5.0,2.3,3.3,1.0,Iris-versicolor',\n",
       " '5.6,2.7,4.2,1.3,Iris-versicolor',\n",
       " '5.7,3.0,4.2,1.2,Iris-versicolor',\n",
       " '5.7,2.9,4.2,1.3,Iris-versicolor',\n",
       " '6.2,2.9,4.3,1.3,Iris-versicolor',\n",
       " '5.1,2.5,3.0,1.1,Iris-versicolor',\n",
       " '5.7,2.8,4.1,1.3,Iris-versicolor',\n",
       " '6.3,3.3,6.0,2.5,Iris-virginica',\n",
       " '5.8,2.7,5.1,1.9,Iris-virginica',\n",
       " '7.1,3.0,5.9,2.1,Iris-virginica',\n",
       " '6.3,2.9,5.6,1.8,Iris-virginica',\n",
       " '6.5,3.0,5.8,2.2,Iris-virginica',\n",
       " '7.6,3.0,6.6,2.1,Iris-virginica',\n",
       " '4.9,2.5,4.5,1.7,Iris-virginica',\n",
       " '7.3,2.9,6.3,1.8,Iris-virginica',\n",
       " '6.7,2.5,5.8,1.8,Iris-virginica',\n",
       " '7.2,3.6,6.1,2.5,Iris-virginica',\n",
       " '6.5,3.2,5.1,2.0,Iris-virginica',\n",
       " '6.4,2.7,5.3,1.9,Iris-virginica',\n",
       " '6.8,3.0,5.5,2.1,Iris-virginica',\n",
       " '5.7,2.5,5.0,2.0,Iris-virginica',\n",
       " '5.8,2.8,5.1,2.4,Iris-virginica',\n",
       " '6.4,3.2,5.3,2.3,Iris-virginica',\n",
       " '6.5,3.0,5.5,1.8,Iris-virginica',\n",
       " '7.7,3.8,6.7,2.2,Iris-virginica',\n",
       " '7.7,2.6,6.9,2.3,Iris-virginica',\n",
       " '6.0,2.2,5.0,1.5,Iris-virginica',\n",
       " '6.9,3.2,5.7,2.3,Iris-virginica',\n",
       " '5.6,2.8,4.9,2.0,Iris-virginica',\n",
       " '7.7,2.8,6.7,2.0,Iris-virginica',\n",
       " '6.3,2.7,4.9,1.8,Iris-virginica',\n",
       " '6.7,3.3,5.7,2.1,Iris-virginica',\n",
       " '7.2,3.2,6.0,1.8,Iris-virginica',\n",
       " '6.2,2.8,4.8,1.8,Iris-virginica',\n",
       " '6.1,3.0,4.9,1.8,Iris-virginica',\n",
       " '6.4,2.8,5.6,2.1,Iris-virginica',\n",
       " '7.2,3.0,5.8,1.6,Iris-virginica',\n",
       " '7.4,2.8,6.1,1.9,Iris-virginica',\n",
       " '7.9,3.8,6.4,2.0,Iris-virginica',\n",
       " '6.4,2.8,5.6,2.2,Iris-virginica',\n",
       " '6.3,2.8,5.1,1.5,Iris-virginica',\n",
       " '6.1,2.6,5.6,1.4,Iris-virginica',\n",
       " '7.7,3.0,6.1,2.3,Iris-virginica',\n",
       " '6.3,3.4,5.6,2.4,Iris-virginica',\n",
       " '6.4,3.1,5.5,1.8,Iris-virginica',\n",
       " '6.0,3.0,4.8,1.8,Iris-virginica',\n",
       " '6.9,3.1,5.4,2.1,Iris-virginica',\n",
       " '6.7,3.1,5.6,2.4,Iris-virginica',\n",
       " '6.9,3.1,5.1,2.3,Iris-virginica',\n",
       " '5.8,2.7,5.1,1.9,Iris-virginica',\n",
       " '6.8,3.2,5.9,2.3,Iris-virginica',\n",
       " '6.7,3.3,5.7,2.5,Iris-virginica',\n",
       " '6.7,3.0,5.2,2.3,Iris-virginica',\n",
       " '6.3,2.5,5.0,1.9,Iris-virginica',\n",
       " '6.5,3.0,5.2,2.0,Iris-virginica',\n",
       " '6.2,3.4,5.4,2.3,Iris-virginica',\n",
       " '5.9,3.0,5.1,1.8,Iris-virginica',\n",
       " '']"
      ]
     },
     "execution_count": 126,
     "metadata": {},
     "output_type": "execute_result"
    }
   ],
   "source": [
    "# https://stackoverflow.com/a/1393367\n",
    "\n",
    "import urllib.request\n",
    "\n",
    "url = r'https://archive.ics.uci.edu/ml/machine-learning-databases/iris/iris.data'\n",
    "\n",
    "iris = [line.decode('utf-8').strip() for line in urllib.request.urlopen(url)]\n",
    "# look up list comprehension\n",
    "\n",
    "iris "
   ]
  },
  {
   "cell_type": "code",
   "execution_count": 127,
   "id": "f2b533c5",
   "metadata": {},
   "outputs": [],
   "source": [
    "strip_iris = re.compile(r'([0-9]\\.[0-9]),([0-9]\\.[0-9]),([0-9]\\.[0-9]),([0-9]\\.[0-9]),Iris-([a-z]+)')"
   ]
  },
  {
   "cell_type": "code",
   "execution_count": 135,
   "id": "4237f547",
   "metadata": {},
   "outputs": [
    {
     "data": {
      "text/plain": [
       "['(setosa,0.2,1.4,3.5,5.1',\n",
       " '(setosa,0.2,1.4,3.0,4.9',\n",
       " '(setosa,0.2,1.3,3.2,4.7',\n",
       " '(setosa,0.2,1.5,3.1,4.6',\n",
       " '(setosa,0.2,1.4,3.6,5.0',\n",
       " '(setosa,0.4,1.7,3.9,5.4',\n",
       " '(setosa,0.3,1.4,3.4,4.6',\n",
       " '(setosa,0.2,1.5,3.4,5.0',\n",
       " '(setosa,0.2,1.4,2.9,4.4',\n",
       " '(setosa,0.1,1.5,3.1,4.9',\n",
       " '(setosa,0.2,1.5,3.7,5.4',\n",
       " '(setosa,0.2,1.6,3.4,4.8',\n",
       " '(setosa,0.1,1.4,3.0,4.8',\n",
       " '(setosa,0.1,1.1,3.0,4.3',\n",
       " '(setosa,0.2,1.2,4.0,5.8',\n",
       " '(setosa,0.4,1.5,4.4,5.7',\n",
       " '(setosa,0.4,1.3,3.9,5.4',\n",
       " '(setosa,0.3,1.4,3.5,5.1',\n",
       " '(setosa,0.3,1.7,3.8,5.7',\n",
       " '(setosa,0.3,1.5,3.8,5.1',\n",
       " '(setosa,0.2,1.7,3.4,5.4',\n",
       " '(setosa,0.4,1.5,3.7,5.1',\n",
       " '(setosa,0.2,1.0,3.6,4.6',\n",
       " '(setosa,0.5,1.7,3.3,5.1',\n",
       " '(setosa,0.2,1.9,3.4,4.8',\n",
       " '(setosa,0.2,1.6,3.0,5.0',\n",
       " '(setosa,0.4,1.6,3.4,5.0',\n",
       " '(setosa,0.2,1.5,3.5,5.2',\n",
       " '(setosa,0.2,1.4,3.4,5.2',\n",
       " '(setosa,0.2,1.6,3.2,4.7',\n",
       " '(setosa,0.2,1.6,3.1,4.8',\n",
       " '(setosa,0.4,1.5,3.4,5.4',\n",
       " '(setosa,0.1,1.5,4.1,5.2',\n",
       " '(setosa,0.2,1.4,4.2,5.5',\n",
       " '(setosa,0.1,1.5,3.1,4.9',\n",
       " '(setosa,0.2,1.2,3.2,5.0',\n",
       " '(setosa,0.2,1.3,3.5,5.5',\n",
       " '(setosa,0.1,1.5,3.1,4.9',\n",
       " '(setosa,0.2,1.3,3.0,4.4',\n",
       " '(setosa,0.2,1.5,3.4,5.1',\n",
       " '(setosa,0.3,1.3,3.5,5.0',\n",
       " '(setosa,0.3,1.3,2.3,4.5',\n",
       " '(setosa,0.2,1.3,3.2,4.4',\n",
       " '(setosa,0.6,1.6,3.5,5.0',\n",
       " '(setosa,0.4,1.9,3.8,5.1',\n",
       " '(setosa,0.3,1.4,3.0,4.8',\n",
       " '(setosa,0.2,1.6,3.8,5.1',\n",
       " '(setosa,0.2,1.4,3.2,4.6',\n",
       " '(setosa,0.2,1.5,3.7,5.3',\n",
       " '(setosa,0.2,1.4,3.3,5.0',\n",
       " '(versicolor,1.4,4.7,3.2,7.0',\n",
       " '(versicolor,1.5,4.5,3.2,6.4',\n",
       " '(versicolor,1.5,4.9,3.1,6.9',\n",
       " '(versicolor,1.3,4.0,2.3,5.5',\n",
       " '(versicolor,1.5,4.6,2.8,6.5',\n",
       " '(versicolor,1.3,4.5,2.8,5.7',\n",
       " '(versicolor,1.6,4.7,3.3,6.3',\n",
       " '(versicolor,1.0,3.3,2.4,4.9',\n",
       " '(versicolor,1.3,4.6,2.9,6.6',\n",
       " '(versicolor,1.4,3.9,2.7,5.2',\n",
       " '(versicolor,1.0,3.5,2.0,5.0',\n",
       " '(versicolor,1.5,4.2,3.0,5.9',\n",
       " '(versicolor,1.0,4.0,2.2,6.0',\n",
       " '(versicolor,1.4,4.7,2.9,6.1',\n",
       " '(versicolor,1.3,3.6,2.9,5.6',\n",
       " '(versicolor,1.4,4.4,3.1,6.7',\n",
       " '(versicolor,1.5,4.5,3.0,5.6',\n",
       " '(versicolor,1.0,4.1,2.7,5.8',\n",
       " '(versicolor,1.5,4.5,2.2,6.2',\n",
       " '(versicolor,1.1,3.9,2.5,5.6',\n",
       " '(versicolor,1.8,4.8,3.2,5.9',\n",
       " '(versicolor,1.3,4.0,2.8,6.1',\n",
       " '(versicolor,1.5,4.9,2.5,6.3',\n",
       " '(versicolor,1.2,4.7,2.8,6.1',\n",
       " '(versicolor,1.3,4.3,2.9,6.4',\n",
       " '(versicolor,1.4,4.4,3.0,6.6',\n",
       " '(versicolor,1.4,4.8,2.8,6.8',\n",
       " '(versicolor,1.7,5.0,3.0,6.7',\n",
       " '(versicolor,1.5,4.5,2.9,6.0',\n",
       " '(versicolor,1.0,3.5,2.6,5.7',\n",
       " '(versicolor,1.1,3.8,2.4,5.5',\n",
       " '(versicolor,1.0,3.7,2.4,5.5',\n",
       " '(versicolor,1.2,3.9,2.7,5.8',\n",
       " '(versicolor,1.6,5.1,2.7,6.0',\n",
       " '(versicolor,1.5,4.5,3.0,5.4',\n",
       " '(versicolor,1.6,4.5,3.4,6.0',\n",
       " '(versicolor,1.5,4.7,3.1,6.7',\n",
       " '(versicolor,1.3,4.4,2.3,6.3',\n",
       " '(versicolor,1.3,4.1,3.0,5.6',\n",
       " '(versicolor,1.3,4.0,2.5,5.5',\n",
       " '(versicolor,1.2,4.4,2.6,5.5',\n",
       " '(versicolor,1.4,4.6,3.0,6.1',\n",
       " '(versicolor,1.2,4.0,2.6,5.8',\n",
       " '(versicolor,1.0,3.3,2.3,5.0',\n",
       " '(versicolor,1.3,4.2,2.7,5.6',\n",
       " '(versicolor,1.2,4.2,3.0,5.7',\n",
       " '(versicolor,1.3,4.2,2.9,5.7',\n",
       " '(versicolor,1.3,4.3,2.9,6.2',\n",
       " '(versicolor,1.1,3.0,2.5,5.1',\n",
       " '(versicolor,1.3,4.1,2.8,5.7',\n",
       " '(virginica,2.5,6.0,3.3,6.3',\n",
       " '(virginica,1.9,5.1,2.7,5.8',\n",
       " '(virginica,2.1,5.9,3.0,7.1',\n",
       " '(virginica,1.8,5.6,2.9,6.3',\n",
       " '(virginica,2.2,5.8,3.0,6.5',\n",
       " '(virginica,2.1,6.6,3.0,7.6',\n",
       " '(virginica,1.7,4.5,2.5,4.9',\n",
       " '(virginica,1.8,6.3,2.9,7.3',\n",
       " '(virginica,1.8,5.8,2.5,6.7',\n",
       " '(virginica,2.5,6.1,3.6,7.2',\n",
       " '(virginica,2.0,5.1,3.2,6.5',\n",
       " '(virginica,1.9,5.3,2.7,6.4',\n",
       " '(virginica,2.1,5.5,3.0,6.8',\n",
       " '(virginica,2.0,5.0,2.5,5.7',\n",
       " '(virginica,2.4,5.1,2.8,5.8',\n",
       " '(virginica,2.3,5.3,3.2,6.4',\n",
       " '(virginica,1.8,5.5,3.0,6.5',\n",
       " '(virginica,2.2,6.7,3.8,7.7',\n",
       " '(virginica,2.3,6.9,2.6,7.7',\n",
       " '(virginica,1.5,5.0,2.2,6.0',\n",
       " '(virginica,2.3,5.7,3.2,6.9',\n",
       " '(virginica,2.0,4.9,2.8,5.6',\n",
       " '(virginica,2.0,6.7,2.8,7.7',\n",
       " '(virginica,1.8,4.9,2.7,6.3',\n",
       " '(virginica,2.1,5.7,3.3,6.7',\n",
       " '(virginica,1.8,6.0,3.2,7.2',\n",
       " '(virginica,1.8,4.8,2.8,6.2',\n",
       " '(virginica,1.8,4.9,3.0,6.1',\n",
       " '(virginica,2.1,5.6,2.8,6.4',\n",
       " '(virginica,1.6,5.8,3.0,7.2',\n",
       " '(virginica,1.9,6.1,2.8,7.4',\n",
       " '(virginica,2.0,6.4,3.8,7.9',\n",
       " '(virginica,2.2,5.6,2.8,6.4',\n",
       " '(virginica,1.5,5.1,2.8,6.3',\n",
       " '(virginica,1.4,5.6,2.6,6.1',\n",
       " '(virginica,2.3,6.1,3.0,7.7',\n",
       " '(virginica,2.4,5.6,3.4,6.3',\n",
       " '(virginica,1.8,5.5,3.1,6.4',\n",
       " '(virginica,1.8,4.8,3.0,6.0',\n",
       " '(virginica,2.1,5.4,3.1,6.9',\n",
       " '(virginica,2.4,5.6,3.1,6.7',\n",
       " '(virginica,2.3,5.1,3.1,6.9',\n",
       " '(virginica,1.9,5.1,2.7,5.8',\n",
       " '(virginica,2.3,5.9,3.2,6.8',\n",
       " '(virginica,2.5,5.7,3.3,6.7',\n",
       " '(virginica,2.3,5.2,3.0,6.7',\n",
       " '(virginica,1.9,5.0,2.5,6.3',\n",
       " '(virginica,2.0,5.2,3.0,6.5',\n",
       " '(virginica,2.3,5.4,3.4,6.2',\n",
       " '(virginica,1.8,5.1,3.0,5.9']"
      ]
     },
     "execution_count": 135,
     "metadata": {},
     "output_type": "execute_result"
    }
   ],
   "source": [
    "[strip_iris.sub(r'(\\5,\\4,\\3,\\2,\\1', line) for line in iris if line]"
   ]
  },
  {
   "cell_type": "markdown",
   "id": "5188a2c3",
   "metadata": {},
   "source": [
    "## Exercise 2\n",
    "***"
   ]
  },
  {
   "cell_type": "markdown",
   "id": "e7115f1d",
   "metadata": {},
   "source": [
    "Remember to do these exercises in your own notebook in your assessment repository.\n",
    "\n",
    "Adapt the above code to capitalise the first letter of the iris species, using regular expressions."
   ]
  },
  {
   "cell_type": "code",
   "execution_count": 208,
   "id": "b73b47fa",
   "metadata": {},
   "outputs": [],
   "source": [
    "# Using the above code to remove Iris- from class names\n",
    "strip_iris = re.compile(r'([0-9]\\.[0-9]),([0-9]\\.[0-9]),([0-9]\\.[0-9]),([0-9]\\.[0-9]),Iris-([a-z]+)')"
   ]
  },
  {
   "cell_type": "code",
   "execution_count": 209,
   "id": "85bdfddb",
   "metadata": {},
   "outputs": [],
   "source": [
    "#Assigning the subsituted content to a new list (new_iris)\n",
    "new_iris = [strip_iris.sub(r'(\\5,\\4,\\3,\\2,\\1', line) for line in iris if line]"
   ]
  },
  {
   "cell_type": "code",
   "execution_count": 210,
   "id": "3f1ba812",
   "metadata": {},
   "outputs": [],
   "source": [
    "# Defining a function to capitalize any string that has alpha characters (a-z):\n",
    "def f(match_obj):\n",
    "    s = match_obj.group()\n",
    "    if s.isalpha():\n",
    "        return s.capitalize()"
   ]
  },
  {
   "cell_type": "code",
   "execution_count": 218,
   "id": "428cc289",
   "metadata": {},
   "outputs": [
    {
     "data": {
      "text/plain": [
       "['(Setosa,0.2,1.4,3.5,5.1',\n",
       " '(Setosa,0.2,1.4,3.0,4.9',\n",
       " '(Setosa,0.2,1.3,3.2,4.7',\n",
       " '(Setosa,0.2,1.5,3.1,4.6',\n",
       " '(Setosa,0.2,1.4,3.6,5.0',\n",
       " '(Setosa,0.4,1.7,3.9,5.4',\n",
       " '(Setosa,0.3,1.4,3.4,4.6',\n",
       " '(Setosa,0.2,1.5,3.4,5.0',\n",
       " '(Setosa,0.2,1.4,2.9,4.4',\n",
       " '(Setosa,0.1,1.5,3.1,4.9',\n",
       " '(Setosa,0.2,1.5,3.7,5.4',\n",
       " '(Setosa,0.2,1.6,3.4,4.8',\n",
       " '(Setosa,0.1,1.4,3.0,4.8',\n",
       " '(Setosa,0.1,1.1,3.0,4.3',\n",
       " '(Setosa,0.2,1.2,4.0,5.8',\n",
       " '(Setosa,0.4,1.5,4.4,5.7',\n",
       " '(Setosa,0.4,1.3,3.9,5.4',\n",
       " '(Setosa,0.3,1.4,3.5,5.1',\n",
       " '(Setosa,0.3,1.7,3.8,5.7',\n",
       " '(Setosa,0.3,1.5,3.8,5.1',\n",
       " '(Setosa,0.2,1.7,3.4,5.4',\n",
       " '(Setosa,0.4,1.5,3.7,5.1',\n",
       " '(Setosa,0.2,1.0,3.6,4.6',\n",
       " '(Setosa,0.5,1.7,3.3,5.1',\n",
       " '(Setosa,0.2,1.9,3.4,4.8',\n",
       " '(Setosa,0.2,1.6,3.0,5.0',\n",
       " '(Setosa,0.4,1.6,3.4,5.0',\n",
       " '(Setosa,0.2,1.5,3.5,5.2',\n",
       " '(Setosa,0.2,1.4,3.4,5.2',\n",
       " '(Setosa,0.2,1.6,3.2,4.7',\n",
       " '(Setosa,0.2,1.6,3.1,4.8',\n",
       " '(Setosa,0.4,1.5,3.4,5.4',\n",
       " '(Setosa,0.1,1.5,4.1,5.2',\n",
       " '(Setosa,0.2,1.4,4.2,5.5',\n",
       " '(Setosa,0.1,1.5,3.1,4.9',\n",
       " '(Setosa,0.2,1.2,3.2,5.0',\n",
       " '(Setosa,0.2,1.3,3.5,5.5',\n",
       " '(Setosa,0.1,1.5,3.1,4.9',\n",
       " '(Setosa,0.2,1.3,3.0,4.4',\n",
       " '(Setosa,0.2,1.5,3.4,5.1',\n",
       " '(Setosa,0.3,1.3,3.5,5.0',\n",
       " '(Setosa,0.3,1.3,2.3,4.5',\n",
       " '(Setosa,0.2,1.3,3.2,4.4',\n",
       " '(Setosa,0.6,1.6,3.5,5.0',\n",
       " '(Setosa,0.4,1.9,3.8,5.1',\n",
       " '(Setosa,0.3,1.4,3.0,4.8',\n",
       " '(Setosa,0.2,1.6,3.8,5.1',\n",
       " '(Setosa,0.2,1.4,3.2,4.6',\n",
       " '(Setosa,0.2,1.5,3.7,5.3',\n",
       " '(Setosa,0.2,1.4,3.3,5.0',\n",
       " '(Versicolor,1.4,4.7,3.2,7.0',\n",
       " '(Versicolor,1.5,4.5,3.2,6.4',\n",
       " '(Versicolor,1.5,4.9,3.1,6.9',\n",
       " '(Versicolor,1.3,4.0,2.3,5.5',\n",
       " '(Versicolor,1.5,4.6,2.8,6.5',\n",
       " '(Versicolor,1.3,4.5,2.8,5.7',\n",
       " '(Versicolor,1.6,4.7,3.3,6.3',\n",
       " '(Versicolor,1.0,3.3,2.4,4.9',\n",
       " '(Versicolor,1.3,4.6,2.9,6.6',\n",
       " '(Versicolor,1.4,3.9,2.7,5.2',\n",
       " '(Versicolor,1.0,3.5,2.0,5.0',\n",
       " '(Versicolor,1.5,4.2,3.0,5.9',\n",
       " '(Versicolor,1.0,4.0,2.2,6.0',\n",
       " '(Versicolor,1.4,4.7,2.9,6.1',\n",
       " '(Versicolor,1.3,3.6,2.9,5.6',\n",
       " '(Versicolor,1.4,4.4,3.1,6.7',\n",
       " '(Versicolor,1.5,4.5,3.0,5.6',\n",
       " '(Versicolor,1.0,4.1,2.7,5.8',\n",
       " '(Versicolor,1.5,4.5,2.2,6.2',\n",
       " '(Versicolor,1.1,3.9,2.5,5.6',\n",
       " '(Versicolor,1.8,4.8,3.2,5.9',\n",
       " '(Versicolor,1.3,4.0,2.8,6.1',\n",
       " '(Versicolor,1.5,4.9,2.5,6.3',\n",
       " '(Versicolor,1.2,4.7,2.8,6.1',\n",
       " '(Versicolor,1.3,4.3,2.9,6.4',\n",
       " '(Versicolor,1.4,4.4,3.0,6.6',\n",
       " '(Versicolor,1.4,4.8,2.8,6.8',\n",
       " '(Versicolor,1.7,5.0,3.0,6.7',\n",
       " '(Versicolor,1.5,4.5,2.9,6.0',\n",
       " '(Versicolor,1.0,3.5,2.6,5.7',\n",
       " '(Versicolor,1.1,3.8,2.4,5.5',\n",
       " '(Versicolor,1.0,3.7,2.4,5.5',\n",
       " '(Versicolor,1.2,3.9,2.7,5.8',\n",
       " '(Versicolor,1.6,5.1,2.7,6.0',\n",
       " '(Versicolor,1.5,4.5,3.0,5.4',\n",
       " '(Versicolor,1.6,4.5,3.4,6.0',\n",
       " '(Versicolor,1.5,4.7,3.1,6.7',\n",
       " '(Versicolor,1.3,4.4,2.3,6.3',\n",
       " '(Versicolor,1.3,4.1,3.0,5.6',\n",
       " '(Versicolor,1.3,4.0,2.5,5.5',\n",
       " '(Versicolor,1.2,4.4,2.6,5.5',\n",
       " '(Versicolor,1.4,4.6,3.0,6.1',\n",
       " '(Versicolor,1.2,4.0,2.6,5.8',\n",
       " '(Versicolor,1.0,3.3,2.3,5.0',\n",
       " '(Versicolor,1.3,4.2,2.7,5.6',\n",
       " '(Versicolor,1.2,4.2,3.0,5.7',\n",
       " '(Versicolor,1.3,4.2,2.9,5.7',\n",
       " '(Versicolor,1.3,4.3,2.9,6.2',\n",
       " '(Versicolor,1.1,3.0,2.5,5.1',\n",
       " '(Versicolor,1.3,4.1,2.8,5.7',\n",
       " '(Virginica,2.5,6.0,3.3,6.3',\n",
       " '(Virginica,1.9,5.1,2.7,5.8',\n",
       " '(Virginica,2.1,5.9,3.0,7.1',\n",
       " '(Virginica,1.8,5.6,2.9,6.3',\n",
       " '(Virginica,2.2,5.8,3.0,6.5',\n",
       " '(Virginica,2.1,6.6,3.0,7.6',\n",
       " '(Virginica,1.7,4.5,2.5,4.9',\n",
       " '(Virginica,1.8,6.3,2.9,7.3',\n",
       " '(Virginica,1.8,5.8,2.5,6.7',\n",
       " '(Virginica,2.5,6.1,3.6,7.2',\n",
       " '(Virginica,2.0,5.1,3.2,6.5',\n",
       " '(Virginica,1.9,5.3,2.7,6.4',\n",
       " '(Virginica,2.1,5.5,3.0,6.8',\n",
       " '(Virginica,2.0,5.0,2.5,5.7',\n",
       " '(Virginica,2.4,5.1,2.8,5.8',\n",
       " '(Virginica,2.3,5.3,3.2,6.4',\n",
       " '(Virginica,1.8,5.5,3.0,6.5',\n",
       " '(Virginica,2.2,6.7,3.8,7.7',\n",
       " '(Virginica,2.3,6.9,2.6,7.7',\n",
       " '(Virginica,1.5,5.0,2.2,6.0',\n",
       " '(Virginica,2.3,5.7,3.2,6.9',\n",
       " '(Virginica,2.0,4.9,2.8,5.6',\n",
       " '(Virginica,2.0,6.7,2.8,7.7',\n",
       " '(Virginica,1.8,4.9,2.7,6.3',\n",
       " '(Virginica,2.1,5.7,3.3,6.7',\n",
       " '(Virginica,1.8,6.0,3.2,7.2',\n",
       " '(Virginica,1.8,4.8,2.8,6.2',\n",
       " '(Virginica,1.8,4.9,3.0,6.1',\n",
       " '(Virginica,2.1,5.6,2.8,6.4',\n",
       " '(Virginica,1.6,5.8,3.0,7.2',\n",
       " '(Virginica,1.9,6.1,2.8,7.4',\n",
       " '(Virginica,2.0,6.4,3.8,7.9',\n",
       " '(Virginica,2.2,5.6,2.8,6.4',\n",
       " '(Virginica,1.5,5.1,2.8,6.3',\n",
       " '(Virginica,1.4,5.6,2.6,6.1',\n",
       " '(Virginica,2.3,6.1,3.0,7.7',\n",
       " '(Virginica,2.4,5.6,3.4,6.3',\n",
       " '(Virginica,1.8,5.5,3.1,6.4',\n",
       " '(Virginica,1.8,4.8,3.0,6.0',\n",
       " '(Virginica,2.1,5.4,3.1,6.9',\n",
       " '(Virginica,2.4,5.6,3.1,6.7',\n",
       " '(Virginica,2.3,5.1,3.1,6.9',\n",
       " '(Virginica,1.9,5.1,2.7,5.8',\n",
       " '(Virginica,2.3,5.9,3.2,6.8',\n",
       " '(Virginica,2.5,5.7,3.3,6.7',\n",
       " '(Virginica,2.3,5.2,3.0,6.7',\n",
       " '(Virginica,1.9,5.0,2.5,6.3',\n",
       " '(Virginica,2.0,5.2,3.0,6.5',\n",
       " '(Virginica,2.3,5.4,3.4,6.2',\n",
       " '(Virginica,1.8,5.1,3.0,5.9']"
      ]
     },
     "execution_count": 218,
     "metadata": {},
     "output_type": "execute_result"
    }
   ],
   "source": [
    "#Use the Substitute method to replace alpha strings capitalized (first character to be upper case) \n",
    "[re.sub(r'[a-z]+', f, line) for line in new_iris]"
   ]
  },
  {
   "cell_type": "code",
   "execution_count": 205,
   "id": "3731d3c0",
   "metadata": {},
   "outputs": [],
   "source": [
    "#Creating a new version of Iris with original Iris structure\n",
    "# Compiling the list to have all elements of each string present but w/o the \"Iris-\" prefix\n",
    "iris_version = re.compile(r'([0-9]\\.[0-9]),([0-9]\\.[0-9]),([0-9]\\.[0-9]),([0-9]\\.[0-9]),Iris-([a-z]+)')"
   ]
  },
  {
   "cell_type": "code",
   "execution_count": 216,
   "id": "582b111e",
   "metadata": {},
   "outputs": [
    {
     "data": {
      "text/plain": [
       "['5.1,3.5,1.4,0.2,setosa',\n",
       " '4.9,3.0,1.4,0.2,setosa',\n",
       " '4.7,3.2,1.3,0.2,setosa',\n",
       " '4.6,3.1,1.5,0.2,setosa',\n",
       " '5.0,3.6,1.4,0.2,setosa',\n",
       " '5.4,3.9,1.7,0.4,setosa',\n",
       " '4.6,3.4,1.4,0.3,setosa',\n",
       " '5.0,3.4,1.5,0.2,setosa',\n",
       " '4.4,2.9,1.4,0.2,setosa',\n",
       " '4.9,3.1,1.5,0.1,setosa',\n",
       " '5.4,3.7,1.5,0.2,setosa',\n",
       " '4.8,3.4,1.6,0.2,setosa',\n",
       " '4.8,3.0,1.4,0.1,setosa',\n",
       " '4.3,3.0,1.1,0.1,setosa',\n",
       " '5.8,4.0,1.2,0.2,setosa',\n",
       " '5.7,4.4,1.5,0.4,setosa',\n",
       " '5.4,3.9,1.3,0.4,setosa',\n",
       " '5.1,3.5,1.4,0.3,setosa',\n",
       " '5.7,3.8,1.7,0.3,setosa',\n",
       " '5.1,3.8,1.5,0.3,setosa',\n",
       " '5.4,3.4,1.7,0.2,setosa',\n",
       " '5.1,3.7,1.5,0.4,setosa',\n",
       " '4.6,3.6,1.0,0.2,setosa',\n",
       " '5.1,3.3,1.7,0.5,setosa',\n",
       " '4.8,3.4,1.9,0.2,setosa',\n",
       " '5.0,3.0,1.6,0.2,setosa',\n",
       " '5.0,3.4,1.6,0.4,setosa',\n",
       " '5.2,3.5,1.5,0.2,setosa',\n",
       " '5.2,3.4,1.4,0.2,setosa',\n",
       " '4.7,3.2,1.6,0.2,setosa',\n",
       " '4.8,3.1,1.6,0.2,setosa',\n",
       " '5.4,3.4,1.5,0.4,setosa',\n",
       " '5.2,4.1,1.5,0.1,setosa',\n",
       " '5.5,4.2,1.4,0.2,setosa',\n",
       " '4.9,3.1,1.5,0.1,setosa',\n",
       " '5.0,3.2,1.2,0.2,setosa',\n",
       " '5.5,3.5,1.3,0.2,setosa',\n",
       " '4.9,3.1,1.5,0.1,setosa',\n",
       " '4.4,3.0,1.3,0.2,setosa',\n",
       " '5.1,3.4,1.5,0.2,setosa',\n",
       " '5.0,3.5,1.3,0.3,setosa',\n",
       " '4.5,2.3,1.3,0.3,setosa',\n",
       " '4.4,3.2,1.3,0.2,setosa',\n",
       " '5.0,3.5,1.6,0.6,setosa',\n",
       " '5.1,3.8,1.9,0.4,setosa',\n",
       " '4.8,3.0,1.4,0.3,setosa',\n",
       " '5.1,3.8,1.6,0.2,setosa',\n",
       " '4.6,3.2,1.4,0.2,setosa',\n",
       " '5.3,3.7,1.5,0.2,setosa',\n",
       " '5.0,3.3,1.4,0.2,setosa',\n",
       " '7.0,3.2,4.7,1.4,versicolor',\n",
       " '6.4,3.2,4.5,1.5,versicolor',\n",
       " '6.9,3.1,4.9,1.5,versicolor',\n",
       " '5.5,2.3,4.0,1.3,versicolor',\n",
       " '6.5,2.8,4.6,1.5,versicolor',\n",
       " '5.7,2.8,4.5,1.3,versicolor',\n",
       " '6.3,3.3,4.7,1.6,versicolor',\n",
       " '4.9,2.4,3.3,1.0,versicolor',\n",
       " '6.6,2.9,4.6,1.3,versicolor',\n",
       " '5.2,2.7,3.9,1.4,versicolor',\n",
       " '5.0,2.0,3.5,1.0,versicolor',\n",
       " '5.9,3.0,4.2,1.5,versicolor',\n",
       " '6.0,2.2,4.0,1.0,versicolor',\n",
       " '6.1,2.9,4.7,1.4,versicolor',\n",
       " '5.6,2.9,3.6,1.3,versicolor',\n",
       " '6.7,3.1,4.4,1.4,versicolor',\n",
       " '5.6,3.0,4.5,1.5,versicolor',\n",
       " '5.8,2.7,4.1,1.0,versicolor',\n",
       " '6.2,2.2,4.5,1.5,versicolor',\n",
       " '5.6,2.5,3.9,1.1,versicolor',\n",
       " '5.9,3.2,4.8,1.8,versicolor',\n",
       " '6.1,2.8,4.0,1.3,versicolor',\n",
       " '6.3,2.5,4.9,1.5,versicolor',\n",
       " '6.1,2.8,4.7,1.2,versicolor',\n",
       " '6.4,2.9,4.3,1.3,versicolor',\n",
       " '6.6,3.0,4.4,1.4,versicolor',\n",
       " '6.8,2.8,4.8,1.4,versicolor',\n",
       " '6.7,3.0,5.0,1.7,versicolor',\n",
       " '6.0,2.9,4.5,1.5,versicolor',\n",
       " '5.7,2.6,3.5,1.0,versicolor',\n",
       " '5.5,2.4,3.8,1.1,versicolor',\n",
       " '5.5,2.4,3.7,1.0,versicolor',\n",
       " '5.8,2.7,3.9,1.2,versicolor',\n",
       " '6.0,2.7,5.1,1.6,versicolor',\n",
       " '5.4,3.0,4.5,1.5,versicolor',\n",
       " '6.0,3.4,4.5,1.6,versicolor',\n",
       " '6.7,3.1,4.7,1.5,versicolor',\n",
       " '6.3,2.3,4.4,1.3,versicolor',\n",
       " '5.6,3.0,4.1,1.3,versicolor',\n",
       " '5.5,2.5,4.0,1.3,versicolor',\n",
       " '5.5,2.6,4.4,1.2,versicolor',\n",
       " '6.1,3.0,4.6,1.4,versicolor',\n",
       " '5.8,2.6,4.0,1.2,versicolor',\n",
       " '5.0,2.3,3.3,1.0,versicolor',\n",
       " '5.6,2.7,4.2,1.3,versicolor',\n",
       " '5.7,3.0,4.2,1.2,versicolor',\n",
       " '5.7,2.9,4.2,1.3,versicolor',\n",
       " '6.2,2.9,4.3,1.3,versicolor',\n",
       " '5.1,2.5,3.0,1.1,versicolor',\n",
       " '5.7,2.8,4.1,1.3,versicolor',\n",
       " '6.3,3.3,6.0,2.5,virginica',\n",
       " '5.8,2.7,5.1,1.9,virginica',\n",
       " '7.1,3.0,5.9,2.1,virginica',\n",
       " '6.3,2.9,5.6,1.8,virginica',\n",
       " '6.5,3.0,5.8,2.2,virginica',\n",
       " '7.6,3.0,6.6,2.1,virginica',\n",
       " '4.9,2.5,4.5,1.7,virginica',\n",
       " '7.3,2.9,6.3,1.8,virginica',\n",
       " '6.7,2.5,5.8,1.8,virginica',\n",
       " '7.2,3.6,6.1,2.5,virginica',\n",
       " '6.5,3.2,5.1,2.0,virginica',\n",
       " '6.4,2.7,5.3,1.9,virginica',\n",
       " '6.8,3.0,5.5,2.1,virginica',\n",
       " '5.7,2.5,5.0,2.0,virginica',\n",
       " '5.8,2.8,5.1,2.4,virginica',\n",
       " '6.4,3.2,5.3,2.3,virginica',\n",
       " '6.5,3.0,5.5,1.8,virginica',\n",
       " '7.7,3.8,6.7,2.2,virginica',\n",
       " '7.7,2.6,6.9,2.3,virginica',\n",
       " '6.0,2.2,5.0,1.5,virginica',\n",
       " '6.9,3.2,5.7,2.3,virginica',\n",
       " '5.6,2.8,4.9,2.0,virginica',\n",
       " '7.7,2.8,6.7,2.0,virginica',\n",
       " '6.3,2.7,4.9,1.8,virginica',\n",
       " '6.7,3.3,5.7,2.1,virginica',\n",
       " '7.2,3.2,6.0,1.8,virginica',\n",
       " '6.2,2.8,4.8,1.8,virginica',\n",
       " '6.1,3.0,4.9,1.8,virginica',\n",
       " '6.4,2.8,5.6,2.1,virginica',\n",
       " '7.2,3.0,5.8,1.6,virginica',\n",
       " '7.4,2.8,6.1,1.9,virginica',\n",
       " '7.9,3.8,6.4,2.0,virginica',\n",
       " '6.4,2.8,5.6,2.2,virginica',\n",
       " '6.3,2.8,5.1,1.5,virginica',\n",
       " '6.1,2.6,5.6,1.4,virginica',\n",
       " '7.7,3.0,6.1,2.3,virginica',\n",
       " '6.3,3.4,5.6,2.4,virginica',\n",
       " '6.4,3.1,5.5,1.8,virginica',\n",
       " '6.0,3.0,4.8,1.8,virginica',\n",
       " '6.9,3.1,5.4,2.1,virginica',\n",
       " '6.7,3.1,5.6,2.4,virginica',\n",
       " '6.9,3.1,5.1,2.3,virginica',\n",
       " '5.8,2.7,5.1,1.9,virginica',\n",
       " '6.8,3.2,5.9,2.3,virginica',\n",
       " '6.7,3.3,5.7,2.5,virginica',\n",
       " '6.7,3.0,5.2,2.3,virginica',\n",
       " '6.3,2.5,5.0,1.9,virginica',\n",
       " '6.5,3.0,5.2,2.0,virginica',\n",
       " '6.2,3.4,5.4,2.3,virginica',\n",
       " '5.9,3.0,5.1,1.8,virginica']"
      ]
     },
     "execution_count": 216,
     "metadata": {},
     "output_type": "execute_result"
    }
   ],
   "source": [
    "# assigning the new content to a new list\n",
    "list = [iris_version.sub(r'\\1,\\2,\\3,\\4,\\5', line) for line in iris if line]\n",
    "list"
   ]
  },
  {
   "cell_type": "code",
   "execution_count": 217,
   "id": "1d47b249",
   "metadata": {},
   "outputs": [
    {
     "data": {
      "text/plain": [
       "['5.1,3.5,1.4,0.2,Setosa',\n",
       " '4.9,3.0,1.4,0.2,Setosa',\n",
       " '4.7,3.2,1.3,0.2,Setosa',\n",
       " '4.6,3.1,1.5,0.2,Setosa',\n",
       " '5.0,3.6,1.4,0.2,Setosa',\n",
       " '5.4,3.9,1.7,0.4,Setosa',\n",
       " '4.6,3.4,1.4,0.3,Setosa',\n",
       " '5.0,3.4,1.5,0.2,Setosa',\n",
       " '4.4,2.9,1.4,0.2,Setosa',\n",
       " '4.9,3.1,1.5,0.1,Setosa',\n",
       " '5.4,3.7,1.5,0.2,Setosa',\n",
       " '4.8,3.4,1.6,0.2,Setosa',\n",
       " '4.8,3.0,1.4,0.1,Setosa',\n",
       " '4.3,3.0,1.1,0.1,Setosa',\n",
       " '5.8,4.0,1.2,0.2,Setosa',\n",
       " '5.7,4.4,1.5,0.4,Setosa',\n",
       " '5.4,3.9,1.3,0.4,Setosa',\n",
       " '5.1,3.5,1.4,0.3,Setosa',\n",
       " '5.7,3.8,1.7,0.3,Setosa',\n",
       " '5.1,3.8,1.5,0.3,Setosa',\n",
       " '5.4,3.4,1.7,0.2,Setosa',\n",
       " '5.1,3.7,1.5,0.4,Setosa',\n",
       " '4.6,3.6,1.0,0.2,Setosa',\n",
       " '5.1,3.3,1.7,0.5,Setosa',\n",
       " '4.8,3.4,1.9,0.2,Setosa',\n",
       " '5.0,3.0,1.6,0.2,Setosa',\n",
       " '5.0,3.4,1.6,0.4,Setosa',\n",
       " '5.2,3.5,1.5,0.2,Setosa',\n",
       " '5.2,3.4,1.4,0.2,Setosa',\n",
       " '4.7,3.2,1.6,0.2,Setosa',\n",
       " '4.8,3.1,1.6,0.2,Setosa',\n",
       " '5.4,3.4,1.5,0.4,Setosa',\n",
       " '5.2,4.1,1.5,0.1,Setosa',\n",
       " '5.5,4.2,1.4,0.2,Setosa',\n",
       " '4.9,3.1,1.5,0.1,Setosa',\n",
       " '5.0,3.2,1.2,0.2,Setosa',\n",
       " '5.5,3.5,1.3,0.2,Setosa',\n",
       " '4.9,3.1,1.5,0.1,Setosa',\n",
       " '4.4,3.0,1.3,0.2,Setosa',\n",
       " '5.1,3.4,1.5,0.2,Setosa',\n",
       " '5.0,3.5,1.3,0.3,Setosa',\n",
       " '4.5,2.3,1.3,0.3,Setosa',\n",
       " '4.4,3.2,1.3,0.2,Setosa',\n",
       " '5.0,3.5,1.6,0.6,Setosa',\n",
       " '5.1,3.8,1.9,0.4,Setosa',\n",
       " '4.8,3.0,1.4,0.3,Setosa',\n",
       " '5.1,3.8,1.6,0.2,Setosa',\n",
       " '4.6,3.2,1.4,0.2,Setosa',\n",
       " '5.3,3.7,1.5,0.2,Setosa',\n",
       " '5.0,3.3,1.4,0.2,Setosa',\n",
       " '7.0,3.2,4.7,1.4,Versicolor',\n",
       " '6.4,3.2,4.5,1.5,Versicolor',\n",
       " '6.9,3.1,4.9,1.5,Versicolor',\n",
       " '5.5,2.3,4.0,1.3,Versicolor',\n",
       " '6.5,2.8,4.6,1.5,Versicolor',\n",
       " '5.7,2.8,4.5,1.3,Versicolor',\n",
       " '6.3,3.3,4.7,1.6,Versicolor',\n",
       " '4.9,2.4,3.3,1.0,Versicolor',\n",
       " '6.6,2.9,4.6,1.3,Versicolor',\n",
       " '5.2,2.7,3.9,1.4,Versicolor',\n",
       " '5.0,2.0,3.5,1.0,Versicolor',\n",
       " '5.9,3.0,4.2,1.5,Versicolor',\n",
       " '6.0,2.2,4.0,1.0,Versicolor',\n",
       " '6.1,2.9,4.7,1.4,Versicolor',\n",
       " '5.6,2.9,3.6,1.3,Versicolor',\n",
       " '6.7,3.1,4.4,1.4,Versicolor',\n",
       " '5.6,3.0,4.5,1.5,Versicolor',\n",
       " '5.8,2.7,4.1,1.0,Versicolor',\n",
       " '6.2,2.2,4.5,1.5,Versicolor',\n",
       " '5.6,2.5,3.9,1.1,Versicolor',\n",
       " '5.9,3.2,4.8,1.8,Versicolor',\n",
       " '6.1,2.8,4.0,1.3,Versicolor',\n",
       " '6.3,2.5,4.9,1.5,Versicolor',\n",
       " '6.1,2.8,4.7,1.2,Versicolor',\n",
       " '6.4,2.9,4.3,1.3,Versicolor',\n",
       " '6.6,3.0,4.4,1.4,Versicolor',\n",
       " '6.8,2.8,4.8,1.4,Versicolor',\n",
       " '6.7,3.0,5.0,1.7,Versicolor',\n",
       " '6.0,2.9,4.5,1.5,Versicolor',\n",
       " '5.7,2.6,3.5,1.0,Versicolor',\n",
       " '5.5,2.4,3.8,1.1,Versicolor',\n",
       " '5.5,2.4,3.7,1.0,Versicolor',\n",
       " '5.8,2.7,3.9,1.2,Versicolor',\n",
       " '6.0,2.7,5.1,1.6,Versicolor',\n",
       " '5.4,3.0,4.5,1.5,Versicolor',\n",
       " '6.0,3.4,4.5,1.6,Versicolor',\n",
       " '6.7,3.1,4.7,1.5,Versicolor',\n",
       " '6.3,2.3,4.4,1.3,Versicolor',\n",
       " '5.6,3.0,4.1,1.3,Versicolor',\n",
       " '5.5,2.5,4.0,1.3,Versicolor',\n",
       " '5.5,2.6,4.4,1.2,Versicolor',\n",
       " '6.1,3.0,4.6,1.4,Versicolor',\n",
       " '5.8,2.6,4.0,1.2,Versicolor',\n",
       " '5.0,2.3,3.3,1.0,Versicolor',\n",
       " '5.6,2.7,4.2,1.3,Versicolor',\n",
       " '5.7,3.0,4.2,1.2,Versicolor',\n",
       " '5.7,2.9,4.2,1.3,Versicolor',\n",
       " '6.2,2.9,4.3,1.3,Versicolor',\n",
       " '5.1,2.5,3.0,1.1,Versicolor',\n",
       " '5.7,2.8,4.1,1.3,Versicolor',\n",
       " '6.3,3.3,6.0,2.5,Virginica',\n",
       " '5.8,2.7,5.1,1.9,Virginica',\n",
       " '7.1,3.0,5.9,2.1,Virginica',\n",
       " '6.3,2.9,5.6,1.8,Virginica',\n",
       " '6.5,3.0,5.8,2.2,Virginica',\n",
       " '7.6,3.0,6.6,2.1,Virginica',\n",
       " '4.9,2.5,4.5,1.7,Virginica',\n",
       " '7.3,2.9,6.3,1.8,Virginica',\n",
       " '6.7,2.5,5.8,1.8,Virginica',\n",
       " '7.2,3.6,6.1,2.5,Virginica',\n",
       " '6.5,3.2,5.1,2.0,Virginica',\n",
       " '6.4,2.7,5.3,1.9,Virginica',\n",
       " '6.8,3.0,5.5,2.1,Virginica',\n",
       " '5.7,2.5,5.0,2.0,Virginica',\n",
       " '5.8,2.8,5.1,2.4,Virginica',\n",
       " '6.4,3.2,5.3,2.3,Virginica',\n",
       " '6.5,3.0,5.5,1.8,Virginica',\n",
       " '7.7,3.8,6.7,2.2,Virginica',\n",
       " '7.7,2.6,6.9,2.3,Virginica',\n",
       " '6.0,2.2,5.0,1.5,Virginica',\n",
       " '6.9,3.2,5.7,2.3,Virginica',\n",
       " '5.6,2.8,4.9,2.0,Virginica',\n",
       " '7.7,2.8,6.7,2.0,Virginica',\n",
       " '6.3,2.7,4.9,1.8,Virginica',\n",
       " '6.7,3.3,5.7,2.1,Virginica',\n",
       " '7.2,3.2,6.0,1.8,Virginica',\n",
       " '6.2,2.8,4.8,1.8,Virginica',\n",
       " '6.1,3.0,4.9,1.8,Virginica',\n",
       " '6.4,2.8,5.6,2.1,Virginica',\n",
       " '7.2,3.0,5.8,1.6,Virginica',\n",
       " '7.4,2.8,6.1,1.9,Virginica',\n",
       " '7.9,3.8,6.4,2.0,Virginica',\n",
       " '6.4,2.8,5.6,2.2,Virginica',\n",
       " '6.3,2.8,5.1,1.5,Virginica',\n",
       " '6.1,2.6,5.6,1.4,Virginica',\n",
       " '7.7,3.0,6.1,2.3,Virginica',\n",
       " '6.3,3.4,5.6,2.4,Virginica',\n",
       " '6.4,3.1,5.5,1.8,Virginica',\n",
       " '6.0,3.0,4.8,1.8,Virginica',\n",
       " '6.9,3.1,5.4,2.1,Virginica',\n",
       " '6.7,3.1,5.6,2.4,Virginica',\n",
       " '6.9,3.1,5.1,2.3,Virginica',\n",
       " '5.8,2.7,5.1,1.9,Virginica',\n",
       " '6.8,3.2,5.9,2.3,Virginica',\n",
       " '6.7,3.3,5.7,2.5,Virginica',\n",
       " '6.7,3.0,5.2,2.3,Virginica',\n",
       " '6.3,2.5,5.0,1.9,Virginica',\n",
       " '6.5,3.0,5.2,2.0,Virginica',\n",
       " '6.2,3.4,5.4,2.3,Virginica',\n",
       " '5.9,3.0,5.1,1.8,Virginica']"
      ]
     },
     "execution_count": 217,
     "metadata": {},
     "output_type": "execute_result"
    }
   ],
   "source": [
    "# Using the previously created function to capitalize the Iris classes\n",
    "[re.sub(r'[a-z]+', f, line) for line in list]"
   ]
  },
  {
   "cell_type": "code",
   "execution_count": null,
   "id": "3d3a5934",
   "metadata": {},
   "outputs": [],
   "source": []
  }
 ],
 "metadata": {
  "kernelspec": {
   "display_name": "Python 3 (ipykernel)",
   "language": "python",
   "name": "python3"
  },
  "language_info": {
   "codemirror_mode": {
    "name": "ipython",
    "version": 3
   },
   "file_extension": ".py",
   "mimetype": "text/x-python",
   "name": "python",
   "nbconvert_exporter": "python",
   "pygments_lexer": "ipython3",
   "version": "3.9.12"
  }
 },
 "nbformat": 4,
 "nbformat_minor": 5
}
