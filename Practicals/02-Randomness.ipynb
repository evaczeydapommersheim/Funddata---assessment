{
 "cells": [
  {
   "cell_type": "markdown",
   "id": "b0a67138",
   "metadata": {},
   "source": [
    "# Practicing code from lecture"
   ]
  },
  {
   "cell_type": "markdown",
   "id": "7085b5d5",
   "metadata": {},
   "source": [
    "## Flipping a coin"
   ]
  },
  {
   "cell_type": "code",
   "execution_count": 1,
   "id": "438deb19",
   "metadata": {},
   "outputs": [],
   "source": [
    "import numpy as np"
   ]
  },
  {
   "cell_type": "code",
   "execution_count": 8,
   "id": "26726cfb",
   "metadata": {},
   "outputs": [
    {
     "data": {
      "text/plain": [
       "1"
      ]
     },
     "execution_count": 8,
     "metadata": {},
     "output_type": "execute_result"
    }
   ],
   "source": [
    "# Flip a fair coin.\n",
    "np.random.binomial(1, 0.5)"
   ]
  },
  {
   "cell_type": "markdown",
   "id": "6e46ec78",
   "metadata": {},
   "source": [
    "## Repeated Flips"
   ]
  },
  {
   "cell_type": "code",
   "execution_count": 3,
   "id": "d6e8a35c",
   "metadata": {},
   "outputs": [
    {
     "data": {
      "text/plain": [
       "array([0, 0, 1, 1, 1, 1, 1, 1, 1, 0, 0, 1, 1, 0, 0, 0, 1, 1, 0, 1, 1, 0,\n",
       "       1, 1, 1, 0, 1, 0, 1, 1, 1, 0, 0, 1, 0, 1, 1, 0, 1, 1, 0, 0, 1, 0,\n",
       "       1, 0, 1, 0, 0, 1, 0, 1, 1, 0, 0, 0, 1, 0, 0, 1, 1, 1, 0, 0, 0, 1,\n",
       "       1, 0, 0, 0, 0, 1, 1, 0, 0, 0, 1, 0, 1, 1, 0, 1, 0, 0, 0, 0, 0, 0,\n",
       "       0, 0, 0, 0, 1, 0, 0, 0, 1, 1, 1, 0])"
      ]
     },
     "execution_count": 3,
     "metadata": {},
     "output_type": "execute_result"
    }
   ],
   "source": [
    "# Flip a fair coin 100 times.\n",
    "# Each 1 represents a head and each 0 represents a tail.\n",
    "np.random.binomial(1, 0.5, 100)"
   ]
  },
  {
   "cell_type": "code",
   "execution_count": 5,
   "id": "dc4d3104",
   "metadata": {},
   "outputs": [
    {
     "data": {
      "text/plain": [
       "48"
      ]
     },
     "execution_count": 5,
     "metadata": {},
     "output_type": "execute_result"
    }
   ],
   "source": [
    "# Flip a fair coin 100 times, giving only the total number of heads.\n",
    "np.random.binomial(100, 0.5)"
   ]
  },
  {
   "cell_type": "markdown",
   "id": "eee79e2d",
   "metadata": {},
   "source": [
    "## Twice 50/50"
   ]
  },
  {
   "cell_type": "code",
   "execution_count": 10,
   "id": "bfcf3e77",
   "metadata": {},
   "outputs": [
    {
     "name": "stdout",
     "output_type": "stream",
     "text": [
      "[1 0 1 1 1 0 1 0 0 0]\n",
      "[0 1 0 1 1 0 1 1 0 0]\n",
      "[1 1 0 0 0 0 1 0 1 1]\n",
      "[1 0 1 0 0 0 0 1 1 1]\n",
      "[1 1 0 1 0 0 1 0 1 0]\n",
      "[1 0 1 1 0 0 1 0 0 1]\n",
      "Total generated: 24\n"
     ]
    }
   ],
   "source": [
    "# Number of examples.\n",
    "N = 6\n",
    "\n",
    "# Keep track of number of arrays generated.\n",
    "total_no = 0\n",
    "\n",
    "# Keep trying until we get three examples.\n",
    "while N > 0:\n",
    "    # Add 1 to total.\n",
    "    total_no = total_no + 1\n",
    "    # Toss 10 coins.\n",
    "    tosses = np.random.binomial(1, 0.5, 10)\n",
    "    # Check if we got five heads.\n",
    "    if tosses.sum() == 5:\n",
    "        # If we got 5 heads, print the list of heads/tails.\n",
    "        print(tosses)\n",
    "        # Reduce the number of examples left to find by 1.\n",
    "        N = N - 1\n",
    "\n",
    "print(f'Total generated: {total_no}')"
   ]
  },
  {
   "cell_type": "markdown",
   "id": "99aa2568",
   "metadata": {},
   "source": [
    "#### How many other ways are there to flip ten coins and get five heads?"
   ]
  },
  {
   "cell_type": "markdown",
   "id": "a8f62587",
   "metadata": {},
   "source": [
    "## Counting Heads"
   ]
  },
  {
   "cell_type": "code",
   "execution_count": 12,
   "id": "68f679ba",
   "metadata": {},
   "outputs": [
    {
     "name": "stdout",
     "output_type": "stream",
     "text": [
      "( 1, 2)\n",
      "( 1, 3)\n",
      "( 1, 4)\n",
      "( 1, 5)\n",
      "( 1, 6)\n",
      "( 1, 7)\n",
      "( 1, 8)\n",
      "( 1, 9)\n",
      "( 1,10)\n",
      "( 2, 1)\n",
      "( 2, 3)\n",
      "( 2, 4)\n",
      "( 2, 5)\n",
      "( 2, 6)\n",
      "( 2, 7)\n",
      "( 2, 8)\n",
      "( 2, 9)\n",
      "( 2,10)\n",
      "( 3, 1)\n",
      "( 3, 2)\n",
      "( 3, 4)\n",
      "( 3, 5)\n",
      "( 3, 6)\n",
      "( 3, 7)\n",
      "( 3, 8)\n",
      "( 3, 9)\n",
      "( 3,10)\n",
      "( 4, 1)\n",
      "( 4, 2)\n",
      "( 4, 3)\n",
      "( 4, 5)\n",
      "( 4, 6)\n",
      "( 4, 7)\n",
      "( 4, 8)\n",
      "( 4, 9)\n",
      "( 4,10)\n",
      "( 5, 1)\n",
      "( 5, 2)\n",
      "( 5, 3)\n",
      "( 5, 4)\n",
      "( 5, 6)\n",
      "( 5, 7)\n",
      "( 5, 8)\n",
      "( 5, 9)\n",
      "( 5,10)\n",
      "( 6, 1)\n",
      "( 6, 2)\n",
      "( 6, 3)\n",
      "( 6, 4)\n",
      "( 6, 5)\n",
      "( 6, 7)\n",
      "( 6, 8)\n",
      "( 6, 9)\n",
      "( 6,10)\n",
      "( 7, 1)\n",
      "( 7, 2)\n",
      "( 7, 3)\n",
      "( 7, 4)\n",
      "( 7, 5)\n",
      "( 7, 6)\n",
      "( 7, 8)\n",
      "( 7, 9)\n",
      "( 7,10)\n",
      "( 8, 1)\n",
      "( 8, 2)\n",
      "( 8, 3)\n",
      "( 8, 4)\n",
      "( 8, 5)\n",
      "( 8, 6)\n",
      "( 8, 7)\n",
      "( 8, 9)\n",
      "( 8,10)\n",
      "( 9, 1)\n",
      "( 9, 2)\n",
      "( 9, 3)\n",
      "( 9, 4)\n",
      "( 9, 5)\n",
      "( 9, 6)\n",
      "( 9, 7)\n",
      "( 9, 8)\n",
      "( 9,10)\n",
      "(10, 1)\n",
      "(10, 2)\n",
      "(10, 3)\n",
      "(10, 4)\n",
      "(10, 5)\n",
      "(10, 6)\n",
      "(10, 7)\n",
      "(10, 8)\n",
      "(10, 9)\n",
      "Total combinations is 90.\n"
     ]
    }
   ],
   "source": [
    "# Why multiply in the formula (10 * 9 * 8 * 7 * 6) // (5 * 4 * 3 * 2 * 1)\n",
    "\n",
    "# Number of combinations.\n",
    "no_combs = 0\n",
    "\n",
    "# Select the first position.\n",
    "for first in [1, 2, 3, 4, 5, 6, 7, 8, 9, 10]:\n",
    "    # Select the position for the second position.\n",
    "    for second in [1, 2, 3, 4, 5, 6, 7, 8, 9, 10]:\n",
    "        # Make sure the first and second positions are different.\n",
    "        if not first == second:\n",
    "            # Print the combination.\n",
    "            print(f'({first:2},{second:2})')\n",
    "            # Add one to number of combinations.\n",
    "            no_combs = no_combs + 1\n",
    "\n",
    "# Print total number of combinations.\n",
    "print(f'Total combinations is {no_combs}.')"
   ]
  },
  {
   "cell_type": "markdown",
   "id": "4988db7a",
   "metadata": {},
   "source": [
    "each of these combinations are listed twice, therefore would need to be divided by 2. (10, 9) is the same a (9, 10) Essetially (10*9)/(2*1) = 45, same as (10 * 9 * 8 * 7 * 6) // (5 * 4 * 3 * 2 * 1) = 30240/120 = 252"
   ]
  },
  {
   "cell_type": "code",
   "execution_count": 13,
   "id": "4178a79a",
   "metadata": {},
   "outputs": [
    {
     "data": {
      "text/plain": [
       "252"
      ]
     },
     "execution_count": 13,
     "metadata": {},
     "output_type": "execute_result"
    }
   ],
   "source": [
    " (10 * 9 * 8 * 7 * 6) // (5 * 4 * 3 * 2 * 1)"
   ]
  },
  {
   "cell_type": "markdown",
   "id": "dcd5c20e",
   "metadata": {},
   "source": [
    "There are 252 different ways to get 5 heads when flipping 10 coins."
   ]
  },
  {
   "cell_type": "markdown",
   "id": "92849e15",
   "metadata": {},
   "source": [
    "## "
   ]
  },
  {
   "cell_type": "markdown",
   "id": "e1accc1b",
   "metadata": {},
   "source": [
    "# Exercise 1 and 2"
   ]
  },
  {
   "cell_type": "markdown",
   "id": "9d993ddd",
   "metadata": {},
   "source": [
    "#### It is somewhat interesting that (5 * 4 * 3 * 2 * 1) perfectly divides (10 * 9 * 8 * 7 * 6) - there's no remainder. If we only wanted exactly four heads as opposed to five, the equivalent calculation would be (10 * 9 * 8 * 7) / (4 * 3 * 2 * 1). Does that evenly divide too? What is the formula in general? Does it always come out as a positive whole number?"
   ]
  },
  {
   "attachments": {
    "image.png": {
     "image/png": "[encoded data removed]"
    }
   },
   "cell_type": "markdown",
   "id": "23d4bbd9",
   "metadata": {},
   "source": [
    "Definition of combination is: Given a set of n distinct objects, any unordered subset of size r ≤ n  of the objects without repetition is called a combination.\n",
    "in other words how many ways are there to choose r elements out of n total elements without repetition.\n",
    "\n",
    "The mathematical formula for combination of r opportunities out of n (nCr):\n",
    "\n",
    "![image.png](attachment:image.png)\n",
    "\n",
    "where P(n,r) is the r-permutations of an n-set.\n",
    "![image.png](attachment:image.png)\n",
    "\n",
    "#### Source: https://study.com/learn/lesson/combination-formula-calculate.html#:~:text=Combinations%20are%20a%20way%20to,being%20chosen%20at%20a%20time."
   ]
  },
  {
   "cell_type": "markdown",
   "id": "d8c965ac",
   "metadata": {},
   "source": [
    "If we are to determine how many ways there are to get 4 heads when flipping a coin ten times without duplicating results and following the above formula:"
   ]
  },
  {
   "cell_type": "code",
   "execution_count": 27,
   "id": "b2749d76",
   "metadata": {},
   "outputs": [
    {
     "data": {
      "text/plain": [
       "210"
      ]
     },
     "execution_count": 27,
     "metadata": {},
     "output_type": "execute_result"
    }
   ],
   "source": [
    "# C(10,4) = 10!/(4!(10-4)!)\n",
    "\n",
    "# (10*9*8*7*6*5*4*3*2*1)/((4*3*2*1)*(6*5*4*3*2*1))\n",
    "# where the (6*5*4*3*2*1) cancels out due to divisions and the formula is left as:\n",
    "\n",
    "(10*9*8*7)//(4*3*2*1)"
   ]
  },
  {
   "cell_type": "markdown",
   "id": "6e0c56d3",
   "metadata": {},
   "source": [
    "Python also has a way to calculate the value of possible outcomes without repetition which can be found in the math library\n",
    "\n",
    "math.comb(n, k) method\n",
    "\n",
    "Assumption being that n and k parameters are positive integer.\n",
    "\n",
    "#### Source: https://www.w3schools.com/python/ref_math_comb.asp#:~:text=The%20math.,method%20must%20be%20positive%20integers   "
   ]
  },
  {
   "cell_type": "code",
   "execution_count": 26,
   "id": "369ccb88",
   "metadata": {},
   "outputs": [
    {
     "data": {
      "text/plain": [
       "210"
      ]
     },
     "execution_count": 26,
     "metadata": {},
     "output_type": "execute_result"
    }
   ],
   "source": [
    "# Importing the math library from Python\n",
    "import math\n",
    "\n",
    "# For Exercise 1, flipping 10 coins and getting a certain number of heads; the number of combinations can be calculated.\n",
    "\n",
    "def comb(n, k):\n",
    "     return math.comb(n, k)\n",
    "comb(10, 4)"
   ]
  },
  {
   "cell_type": "markdown",
   "id": "171e5123",
   "metadata": {},
   "source": [
    "The number of times a coin is flipped, is the count of each time it is flipped. It can only be a positive integer (whole number). Its outcome can also be counted and can only be a discrete value of a positive integer. The combination of the outcome (number of heads and number of tails obtained after flipping the ten coins) also has to be a discrete, positive number."
   ]
  },
  {
   "cell_type": "code",
   "execution_count": 24,
   "id": "0a2732d5",
   "metadata": {},
   "outputs": [
    {
     "name": "stdout",
     "output_type": "stream",
     "text": [
      "[1, 10, 45, 120, 210, 252, 210, 120, 45, 10, 1]\n"
     ]
    }
   ],
   "source": [
    "# Number of coins flipped:\n",
    "coins = 10\n",
    "# the number of times heads can be obtained, i.e. list from 0-10\n",
    "heads = list(range(coins + 1))\n",
    "\n",
    "# list of possible number of combinations of selecting heads when flipping 10 coins\n",
    "\n",
    "outcome_heads = [math.comb(coins, head) for head in heads]\n",
    "print(outcome_heads)"
   ]
  },
  {
   "cell_type": "markdown",
   "id": "9c3e46a6",
   "metadata": {},
   "source": [
    "All of the above numbers are positive integers. There is no way to obtain an outcome at each flip more than one time, or one and a half times. As it is a count of an event, it can only be greater than zero and a whole number (integer)."
   ]
  },
  {
   "cell_type": "markdown",
   "id": "2af9705f",
   "metadata": {},
   "source": [
    "## Exercise 3\n",
    "Plot bar charts or histograms of any three different distributions listed at the following link:\n",
    "\n",
    "https://numpy.org/doc/stable/reference/random/generator.html#distributions"
   ]
  },
  {
   "cell_type": "code",
   "execution_count": null,
   "id": "ad46c468",
   "metadata": {},
   "outputs": [],
   "source": []
  }
 ],
 "metadata": {
  "kernelspec": {
   "display_name": "Python 3 (ipykernel)",
   "language": "python",
   "name": "python3"
  },
  "language_info": {
   "codemirror_mode": {
    "name": "ipython",
    "version": 3
   },
   "file_extension": ".py",
   "mimetype": "text/x-python",
   "name": "python",
   "nbconvert_exporter": "python",
   "pygments_lexer": "ipython3",
   "version": "3.9.12"
  }
 },
 "nbformat": 4,
 "nbformat_minor": 5
}
