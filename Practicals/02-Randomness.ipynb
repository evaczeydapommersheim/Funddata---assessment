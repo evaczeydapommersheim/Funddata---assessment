{
 "cells": [
  {
   "cell_type": "markdown",
   "id": "b0a67138",
   "metadata": {},
   "source": [
    "# Practicing code from lecture"
   ]
  },
  {
   "cell_type": "code",
   "execution_count": 14,
   "id": "206f8e33",
   "metadata": {},
   "outputs": [],
   "source": [
    "import numpy as np\n",
    "import matplotlib.pyplot as plt"
   ]
  },
  {
   "cell_type": "markdown",
   "id": "7085b5d5",
   "metadata": {},
   "source": [
    "## Flipping a coin"
   ]
  },
  {
   "cell_type": "code",
   "execution_count": 15,
   "id": "26726cfb",
   "metadata": {},
   "outputs": [
    {
     "data": {
      "text/plain": [
       "0"
      ]
     },
     "execution_count": 15,
     "metadata": {},
     "output_type": "execute_result"
    }
   ],
   "source": [
    "# Flip a fair coin.\n",
    "np.random.binomial(1, 0.5)"
   ]
  },
  {
   "cell_type": "markdown",
   "id": "6e46ec78",
   "metadata": {},
   "source": [
    "## Repeated Flips"
   ]
  },
  {
   "cell_type": "code",
   "execution_count": 16,
   "id": "d6e8a35c",
   "metadata": {},
   "outputs": [
    {
     "data": {
      "text/plain": [
       "array([0, 0, 0, 0, 1, 1, 1, 1, 0, 0, 1, 1, 1, 0, 0, 1, 0, 0, 0, 0, 0, 0,\n",
       "       0, 0, 1, 0, 0, 1, 0, 0, 1, 0, 0, 0, 1, 1, 0, 0, 0, 1, 0, 1, 1, 1,\n",
       "       0, 1, 0, 1, 0, 0, 0, 0, 1, 1, 1, 0, 0, 0, 0, 0, 1, 1, 0, 1, 1, 0,\n",
       "       1, 0, 0, 1, 0, 0, 0, 1, 1, 1, 1, 1, 1, 0, 0, 0, 0, 0, 1, 1, 1, 1,\n",
       "       0, 1, 1, 1, 0, 0, 0, 1, 1, 1, 0, 1])"
      ]
     },
     "execution_count": 16,
     "metadata": {},
     "output_type": "execute_result"
    }
   ],
   "source": [
    "# Flip a fair coin 100 times.\n",
    "# Each 1 represents a head and each 0 represents a tail.\n",
    "np.random.binomial(1, 0.5, 100)"
   ]
  },
  {
   "cell_type": "code",
   "execution_count": 17,
   "id": "dc4d3104",
   "metadata": {},
   "outputs": [
    {
     "data": {
      "text/plain": [
       "50"
      ]
     },
     "execution_count": 17,
     "metadata": {},
     "output_type": "execute_result"
    }
   ],
   "source": [
    "# Flip a fair coin 100 times, giving only the total number of heads.\n",
    "np.random.binomial(100, 0.5)"
   ]
  },
  {
   "cell_type": "markdown",
   "id": "eee79e2d",
   "metadata": {},
   "source": [
    "## Twice 50/50"
   ]
  },
  {
   "cell_type": "code",
   "execution_count": 18,
   "id": "bfcf3e77",
   "metadata": {},
   "outputs": [
    {
     "name": "stdout",
     "output_type": "stream",
     "text": [
      "[1 1 1 0 0 1 0 0 0 1]\n",
      "[0 0 1 1 0 0 1 0 1 1]\n",
      "[0 0 1 0 1 0 1 1 0 1]\n",
      "[1 0 0 1 0 0 1 1 1 0]\n",
      "[0 0 1 0 1 1 1 1 0 0]\n",
      "[1 1 0 0 1 0 1 0 0 1]\n",
      "Total generated: 32\n"
     ]
    }
   ],
   "source": [
    "# Number of examples.\n",
    "N = 6\n",
    "\n",
    "# Keep track of number of arrays generated.\n",
    "total_no = 0\n",
    "\n",
    "# Keep trying until we get three examples.\n",
    "while N > 0:\n",
    "    # Add 1 to total.\n",
    "    total_no = total_no + 1\n",
    "    # Toss 10 coins.\n",
    "    tosses = np.random.binomial(1, 0.5, 10)\n",
    "    # Check if we got five heads.\n",
    "    if tosses.sum() == 5:\n",
    "        # If we got 5 heads, print the list of heads/tails.\n",
    "        print(tosses)\n",
    "        # Reduce the number of examples left to find by 1.\n",
    "        N = N - 1\n",
    "\n",
    "print(f'Total generated: {total_no}')"
   ]
  },
  {
   "cell_type": "markdown",
   "id": "99aa2568",
   "metadata": {},
   "source": [
    "#### How many other ways are there to flip ten coins and get five heads?"
   ]
  },
  {
   "cell_type": "markdown",
   "id": "a8f62587",
   "metadata": {},
   "source": [
    "## Counting Heads"
   ]
  },
  {
   "cell_type": "code",
   "execution_count": 19,
   "id": "68f679ba",
   "metadata": {},
   "outputs": [
    {
     "name": "stdout",
     "output_type": "stream",
     "text": [
      "( 1, 2)\n",
      "( 1, 3)\n",
      "( 1, 4)\n",
      "( 1, 5)\n",
      "( 1, 6)\n",
      "( 1, 7)\n",
      "( 1, 8)\n",
      "( 1, 9)\n",
      "( 1,10)\n",
      "( 2, 1)\n",
      "( 2, 3)\n",
      "( 2, 4)\n",
      "( 2, 5)\n",
      "( 2, 6)\n",
      "( 2, 7)\n",
      "( 2, 8)\n",
      "( 2, 9)\n",
      "( 2,10)\n",
      "( 3, 1)\n",
      "( 3, 2)\n",
      "( 3, 4)\n",
      "( 3, 5)\n",
      "( 3, 6)\n",
      "( 3, 7)\n",
      "( 3, 8)\n",
      "( 3, 9)\n",
      "( 3,10)\n",
      "( 4, 1)\n",
      "( 4, 2)\n",
      "( 4, 3)\n",
      "( 4, 5)\n",
      "( 4, 6)\n",
      "( 4, 7)\n",
      "( 4, 8)\n",
      "( 4, 9)\n",
      "( 4,10)\n",
      "( 5, 1)\n",
      "( 5, 2)\n",
      "( 5, 3)\n",
      "( 5, 4)\n",
      "( 5, 6)\n",
      "( 5, 7)\n",
      "( 5, 8)\n",
      "( 5, 9)\n",
      "( 5,10)\n",
      "( 6, 1)\n",
      "( 6, 2)\n",
      "( 6, 3)\n",
      "( 6, 4)\n",
      "( 6, 5)\n",
      "( 6, 7)\n",
      "( 6, 8)\n",
      "( 6, 9)\n",
      "( 6,10)\n",
      "( 7, 1)\n",
      "( 7, 2)\n",
      "( 7, 3)\n",
      "( 7, 4)\n",
      "( 7, 5)\n",
      "( 7, 6)\n",
      "( 7, 8)\n",
      "( 7, 9)\n",
      "( 7,10)\n",
      "( 8, 1)\n",
      "( 8, 2)\n",
      "( 8, 3)\n",
      "( 8, 4)\n",
      "( 8, 5)\n",
      "( 8, 6)\n",
      "( 8, 7)\n",
      "( 8, 9)\n",
      "( 8,10)\n",
      "( 9, 1)\n",
      "( 9, 2)\n",
      "( 9, 3)\n",
      "( 9, 4)\n",
      "( 9, 5)\n",
      "( 9, 6)\n",
      "( 9, 7)\n",
      "( 9, 8)\n",
      "( 9,10)\n",
      "(10, 1)\n",
      "(10, 2)\n",
      "(10, 3)\n",
      "(10, 4)\n",
      "(10, 5)\n",
      "(10, 6)\n",
      "(10, 7)\n",
      "(10, 8)\n",
      "(10, 9)\n",
      "Total combinations is 90.\n"
     ]
    }
   ],
   "source": [
    "# Why multiply in the formula (10 * 9 * 8 * 7 * 6) // (5 * 4 * 3 * 2 * 1)\n",
    "\n",
    "# Number of combinations.\n",
    "no_combs = 0\n",
    "\n",
    "# Select the first position.\n",
    "for first in [1, 2, 3, 4, 5, 6, 7, 8, 9, 10]:\n",
    "    # Select the position for the second position.\n",
    "    for second in [1, 2, 3, 4, 5, 6, 7, 8, 9, 10]:\n",
    "        # Make sure the first and second positions are different.\n",
    "        if not first == second:\n",
    "            # Print the combination.\n",
    "            print(f'({first:2},{second:2})')\n",
    "            # Add one to number of combinations.\n",
    "            no_combs = no_combs + 1\n",
    "\n",
    "# Print total number of combinations.\n",
    "print(f'Total combinations is {no_combs}.')"
   ]
  },
  {
   "cell_type": "markdown",
   "id": "4988db7a",
   "metadata": {},
   "source": [
    "each of these combinations are listed twice, therefore would need to be divided by 2. (10, 9) is the same a (9, 10) Essetially (10*9)/(2*1) = 45, same as (10 * 9 * 8 * 7 * 6) // (5 * 4 * 3 * 2 * 1) = 30240/120 = 252"
   ]
  },
  {
   "cell_type": "code",
   "execution_count": 20,
   "id": "4178a79a",
   "metadata": {},
   "outputs": [
    {
     "data": {
      "text/plain": [
       "252"
      ]
     },
     "execution_count": 20,
     "metadata": {},
     "output_type": "execute_result"
    }
   ],
   "source": [
    " (10 * 9 * 8 * 7 * 6) // (5 * 4 * 3 * 2 * 1)"
   ]
  },
  {
   "cell_type": "markdown",
   "id": "dcd5c20e",
   "metadata": {},
   "source": [
    "There are 252 different ways to get 5 heads when flipping 10 coins."
   ]
  },
  {
   "cell_type": "markdown",
   "id": "92849e15",
   "metadata": {},
   "source": [
    "## "
   ]
  },
  {
   "cell_type": "markdown",
   "id": "e1accc1b",
   "metadata": {},
   "source": [
    "# Exercise 1 and 2"
   ]
  },
  {
   "cell_type": "markdown",
   "id": "9d993ddd",
   "metadata": {},
   "source": [
    "#### It is somewhat interesting that (5 * 4 * 3 * 2 * 1) perfectly divides (10 * 9 * 8 * 7 * 6) - there's no remainder. If we only wanted exactly four heads as opposed to five, the equivalent calculation would be (10 * 9 * 8 * 7) / (4 * 3 * 2 * 1). Does that evenly divide too? What is the formula in general? Does it always come out as a positive whole number?"
   ]
  },
  {
   "attachments": {
    "image.png": {
     "image/png": "[encoded data removed]"
    }
   },
   "cell_type": "markdown",
   "id": "23d4bbd9",
   "metadata": {},
   "source": [
    "Definition of combination is: Given a set of n distinct objects, any unordered subset of size r ≤ n  of the objects without repetition is called a combination.\n",
    "in other words how many ways are there to choose r elements out of n total elements without repetition.\n",
    "\n",
    "The mathematical formula for combination of r opportunities out of n (nCr):\n",
    "\n",
    "![image.png](attachment:image.png)\n",
    "\n",
    "where P(n,r) is the r-permutations of an n-set.\n",
    "![image.png](attachment:image.png)\n",
    "\n",
    "#### Source: https://study.com/learn/lesson/combination-formula-calculate.html#:~:text=Combinations%20are%20a%20way%20to,being%20chosen%20at%20a%20time."
   ]
  },
  {
   "cell_type": "markdown",
   "id": "d8c965ac",
   "metadata": {},
   "source": [
    "If we are to determine how many ways there are to get 4 heads when flipping a coin ten times without duplicating results and following the above formula:"
   ]
  },
  {
   "cell_type": "code",
   "execution_count": 21,
   "id": "b2749d76",
   "metadata": {},
   "outputs": [
    {
     "data": {
      "text/plain": [
       "210"
      ]
     },
     "execution_count": 21,
     "metadata": {},
     "output_type": "execute_result"
    }
   ],
   "source": [
    "# C(10,4) = 10!/(4!(10-4)!)\n",
    "\n",
    "# (10*9*8*7*6*5*4*3*2*1)/((4*3*2*1)*(6*5*4*3*2*1))\n",
    "# where the (6*5*4*3*2*1) cancels out due to divisions and the formula is left as:\n",
    "\n",
    "(10*9*8*7)//(4*3*2*1)"
   ]
  },
  {
   "cell_type": "markdown",
   "id": "6e0c56d3",
   "metadata": {},
   "source": [
    "Python also has a way to calculate the value of possible outcomes without repetition which can be found in the math library\n",
    "\n",
    "math.comb(n, k) method\n",
    "\n",
    "Assumption being that n and k parameters are positive integer.\n",
    "\n",
    "#### Source: https://www.w3schools.com/python/ref_math_comb.asp#:~:text=The%20math.,method%20must%20be%20positive%20integers   "
   ]
  },
  {
   "cell_type": "code",
   "execution_count": 22,
   "id": "369ccb88",
   "metadata": {},
   "outputs": [
    {
     "data": {
      "text/plain": [
       "210"
      ]
     },
     "execution_count": 22,
     "metadata": {},
     "output_type": "execute_result"
    }
   ],
   "source": [
    "# Importing the math library from Python\n",
    "import math\n",
    "\n",
    "# For Exercise 1, flipping 10 coins and getting a certain number of heads; the number of combinations can be calculated.\n",
    "\n",
    "def comb(n, k):\n",
    "     return math.comb(n, k)\n",
    "comb(10, 4)"
   ]
  },
  {
   "cell_type": "markdown",
   "id": "171e5123",
   "metadata": {},
   "source": [
    "The number of times a coin is flipped, is the count of each time it is flipped. It can only be a positive integer (whole number). Its outcome can also be counted and can only be a discrete value of a positive integer. The combination of the outcome (number of heads and number of tails obtained after flipping the ten coins) also has to be a discrete, positive number."
   ]
  },
  {
   "cell_type": "code",
   "execution_count": 23,
   "id": "0a2732d5",
   "metadata": {},
   "outputs": [
    {
     "name": "stdout",
     "output_type": "stream",
     "text": [
      "[1, 10, 45, 120, 210, 252, 210, 120, 45, 10, 1]\n"
     ]
    }
   ],
   "source": [
    "# Number of coins flipped:\n",
    "coins = 10\n",
    "# the number of times heads can be obtained, i.e. list from 0-10\n",
    "heads = list(range(coins + 1))\n",
    "\n",
    "# list of possible number of combinations of selecting heads when flipping 10 coins\n",
    "\n",
    "outcome_heads = [math.comb(coins, head) for head in heads]\n",
    "print(outcome_heads)"
   ]
  },
  {
   "cell_type": "markdown",
   "id": "9c3e46a6",
   "metadata": {},
   "source": [
    "All of the above numbers are positive integers. There is no way to obtain an outcome at each flip more than one time, or one and a half times. As it is a count of an event, it can only be greater than zero and a whole number (integer)."
   ]
  },
  {
   "cell_type": "markdown",
   "id": "2af9705f",
   "metadata": {},
   "source": [
    "## Exercise 3\n",
    "Plot bar charts or histograms of any three different distributions listed at the following link:\n",
    "\n",
    "https://numpy.org/doc/stable/reference/random/generator.html#distributions"
   ]
  },
  {
   "cell_type": "code",
   "execution_count": 63,
   "id": "ad46c468",
   "metadata": {},
   "outputs": [
    {
     "data": {
      "text/plain": [
       "array([ 7,  8, 10, ...,  9,  5, 10], dtype=int64)"
      ]
     },
     "execution_count": 63,
     "metadata": {},
     "output_type": "execute_result"
    }
   ],
   "source": [
    "# Create rng as random number generator\n",
    "rng = np.random.default_rng(0)\n",
    "\n",
    "# assigning values to n = samples taken and p = probability of occurrence\n",
    "n = 10\n",
    "p = 0.75\n",
    "\n",
    "#Generating binomially distributed numbers\n",
    "bi_vals = rng.binomial(n, p, 10000)\n",
    "bi_vals\n"
   ]
  },
  {
   "cell_type": "code",
   "execution_count": 64,
   "id": "5b100d2f",
   "metadata": {
    "scrolled": true
   },
   "outputs": [
    {
     "data": {
      "text/plain": [
       "Text(0.5, 1.0, 'Plotting Generated Values for Binomial Distribution')"
      ]
     },
     "execution_count": 64,
     "metadata": {},
     "output_type": "execute_result"
    },
    {
     "data": {
      "image/png": "[encoded data removed]",
      "text/plain": [
       "<Figure size 432x288 with 1 Axes>"
      ]
     },
     "metadata": {
      "needs_background": "light"
     },
     "output_type": "display_data"
    }
   ],
   "source": [
    "# Create a figure for the values generated\n",
    "plt.bar(bi_vals, 10000)\n",
    "plt.title(\"Plotting Generated Values for Binomial Distribution\")\n"
   ]
  },
  {
   "cell_type": "markdown",
   "id": "15b7d96c",
   "metadata": {},
   "source": [
    "**random.lognormal(mean=0.0, sigma=1.0, size=None)**\n",
    "\n",
    "Draw samples from a log-normal distribution.\n",
    "\n",
    "Draw samples from a log-normal distribution with specified mean, standard deviation, and array shape. Note that the mean and standard deviation are not the values for the distribution itself, but of the underlying normal distribution it is derived from."
   ]
  },
  {
   "cell_type": "code",
   "execution_count": 76,
   "id": "25fb68fb",
   "metadata": {},
   "outputs": [],
   "source": [
    "#Generating 100 numbers between 0-1, \n",
    "rand_num = rng.random(100)\n",
    "#Clculating mean and std deviation of these values\n",
    "mean = np.mean(rand_num)\n",
    "std = np.std(rand_num)\n",
    "#Using mean and std deviaiton of the numbers generated to fit a lognormal distribution on them\n",
    "samples = rng.lognormal(mean,std,1000)"
   ]
  },
  {
   "cell_type": "code",
   "execution_count": 78,
   "id": "2be2ec15",
   "metadata": {},
   "outputs": [
    {
     "data": {
      "text/plain": [
       "array([0.702971  , 0.99181856, 0.9864155 , 0.85886437, 0.24625407,\n",
       "       0.66432409, 0.92902027, 0.97911256, 0.73853555, 0.98269654,\n",
       "       0.32332612, 0.55881364, 0.44948867, 0.5128027 , 0.25085671,\n",
       "       0.63474711, 0.00856808, 0.40687344, 0.9663157 , 0.29211715,\n",
       "       0.06639441, 0.59540524, 0.88515644, 0.01261682, 0.0864606 ,\n",
       "       0.6573252 , 0.41900571, 0.13824269, 0.54568132, 0.57158538,\n",
       "       0.89769941, 0.2468177 , 0.28638416, 0.80521735, 0.64500701,\n",
       "       0.81603479, 0.77823823, 0.74765342, 0.45070136, 0.00805603,\n",
       "       0.48363997, 0.75566343, 0.29365981, 0.68445334, 0.43807061,\n",
       "       0.0509624 , 0.7601282 , 0.67922157, 0.43476267, 0.80227534,\n",
       "       0.36268076, 0.41703963, 0.6800627 , 0.26405819, 0.51718963,\n",
       "       0.16460113, 0.96451894, 0.25538901, 0.54319646, 0.84357116,\n",
       "       0.11997988, 0.40632325, 0.32514279, 0.37092861, 0.91571269,\n",
       "       0.24116924, 0.43329974, 0.13886104, 0.38612992, 0.61474226,\n",
       "       0.43063708, 0.51942871, 0.83702223, 0.60748092, 0.02520037,\n",
       "       0.56846584, 0.87206329, 0.84680134, 0.72808994, 0.66763979,\n",
       "       0.46145353, 0.22654316, 0.76822042, 0.03234919, 0.33055848,\n",
       "       0.90906108, 0.03777092, 0.90868499, 0.18320851, 0.90422683,\n",
       "       0.19067448, 0.52225498, 0.21739637, 0.89753974, 0.16797467,\n",
       "       0.07958349, 0.97984767, 0.65431976, 0.1335311 , 0.12399878])"
      ]
     },
     "execution_count": 78,
     "metadata": {},
     "output_type": "execute_result"
    }
   ],
   "source": [
    "rand_num"
   ]
  },
  {
   "cell_type": "code",
   "execution_count": 79,
   "id": "352a23f7",
   "metadata": {},
   "outputs": [
    {
     "data": {
      "text/plain": [
       "(0.5132306716016408, 0.2943948918965496)"
      ]
     },
     "execution_count": 79,
     "metadata": {},
     "output_type": "execute_result"
    }
   ],
   "source": [
    "mean, std"
   ]
  },
  {
   "cell_type": "code",
   "execution_count": 80,
   "id": "628b6671",
   "metadata": {},
   "outputs": [
    {
     "data": {
      "text/plain": [
       "array([2.33199547, 2.35060676, 3.29740244, 1.93938933, 1.8240909 ,\n",
       "       1.66856768, 0.91262254, 1.75712718, 2.55091054, 1.73824585,\n",
       "       1.67756217, 1.98530022, 2.40167125, 1.2429175 , 2.35183064,\n",
       "       1.92273587, 1.30195949, 1.40419688, 1.51508125, 1.39254902,\n",
       "       1.26831694, 1.2820925 , 1.50109184, 1.35464244, 1.58740491,\n",
       "       2.42976682, 1.87473525, 1.58701876, 1.81275032, 1.28077869,\n",
       "       1.58655718, 2.06239853, 1.09428053, 1.21453325, 0.98741681,\n",
       "       1.53271932, 1.78500629, 1.33735049, 2.16434608, 1.4437933 ,\n",
       "       0.86061678, 2.06541005, 2.49619731, 1.02108603, 1.91288716,\n",
       "       1.20676116, 1.83752403, 1.41845286, 1.46734037, 1.14946339,\n",
       "       1.41112291, 2.13870424, 2.20388919, 2.15887969, 1.9949948 ,\n",
       "       1.50492899, 2.29959307, 1.36271289, 2.0897181 , 1.9860416 ,\n",
       "       2.07503632, 1.90938485, 1.96248698, 2.309603  , 1.82218424,\n",
       "       1.46119776, 1.00897662, 1.38876237, 2.73484853, 1.36896661,\n",
       "       1.6908968 , 1.45878846, 2.72917868, 2.41125913, 2.2923973 ,\n",
       "       1.91082741, 0.96303261, 1.27174385, 2.01351145, 1.32625787,\n",
       "       2.00402053, 1.59324952, 1.93673135, 1.87863308, 2.1594421 ,\n",
       "       1.74388407, 1.92770464, 1.49874203, 1.90633063, 1.14087908,\n",
       "       1.3886352 , 1.70289817, 1.4448331 , 3.50038538, 1.6295528 ,\n",
       "       2.48982   , 1.35841689, 2.66358429, 1.232563  , 1.40216376,\n",
       "       1.81055795, 1.44847414, 2.46470032, 1.16994646, 1.27580304,\n",
       "       1.11293134, 1.20222318, 2.19103426, 1.12969562, 1.97079053,\n",
       "       1.57683629, 0.88356286, 1.87692459, 1.04487155, 1.58911975,\n",
       "       2.17859779, 1.7932319 , 2.75304987, 1.18417635, 1.11322498,\n",
       "       1.48979908, 1.45579941, 2.0007244 , 2.49982464, 1.73392972,\n",
       "       1.29164454, 3.01267379, 1.97832163, 2.21404979, 0.62867638,\n",
       "       1.91557948, 1.50175122, 1.78385256, 2.29098065, 1.38306188,\n",
       "       1.17523372, 1.50877114, 1.79492381, 1.9409031 , 1.9138806 ,\n",
       "       2.3253691 , 1.87773465, 2.3726383 , 1.73318283, 2.86390303,\n",
       "       2.42512652, 2.28467936, 1.44369383, 1.42733608, 2.02497578,\n",
       "       2.1642952 , 1.81823516, 2.11921481, 1.28454038, 1.98346185,\n",
       "       1.02138912, 1.35780005, 2.5698463 , 1.51000856, 1.36175414,\n",
       "       2.93255863, 1.74116694, 1.76861624, 1.98527237, 2.12041738,\n",
       "       2.94446615, 1.27362348, 1.50492834, 1.39322942, 1.58481449,\n",
       "       1.4236733 , 2.05372767, 1.95721574, 1.66742268, 1.90894499,\n",
       "       1.75613887, 2.10241709, 1.72676894, 1.31993004, 1.52207789,\n",
       "       1.33070118, 2.01395103, 1.09368081, 1.35227291, 1.61418046,\n",
       "       1.64155099, 1.56656914, 1.7673762 , 1.87900838, 1.81668921,\n",
       "       0.88654046, 1.43859539, 0.76637741, 1.28563078, 1.21986984,\n",
       "       1.36442539, 1.83005449, 1.96544128, 1.76767291, 1.39380072,\n",
       "       1.44540422, 1.03697435, 1.21573591, 1.85574605, 1.81648317,\n",
       "       1.65438145, 2.15809934, 1.69192659, 1.03666539, 1.64999018,\n",
       "       1.60030824, 2.11775417, 2.04660908, 1.97215327, 1.99619831,\n",
       "       1.42231844, 1.0338772 , 2.49026681, 1.37683389, 2.47683947,\n",
       "       2.27260872, 1.29435919, 1.27065342, 4.21272747, 1.31807853,\n",
       "       1.07519849, 1.75196342, 2.03509544, 2.79222972, 2.32461102,\n",
       "       1.38775409, 1.09106328, 1.43917682, 1.90304893, 1.86109793,\n",
       "       1.57765194, 2.6886877 , 1.52915658, 1.17465414, 1.75947798,\n",
       "       1.20659321, 1.98932371, 1.35559033, 1.3249728 , 1.01143668,\n",
       "       1.68437204, 2.51019718, 1.12541996, 2.56165726, 1.85322452,\n",
       "       3.16145516, 1.83153793, 1.48088347, 1.7577181 , 1.32321005,\n",
       "       1.46567335, 1.65616451, 1.84324481, 1.05625039, 2.18147943,\n",
       "       1.81810349, 1.53844445, 1.55935311, 1.69983523, 2.50672935,\n",
       "       1.55587206, 1.5816976 , 2.14196773, 1.22552221, 1.51094224,\n",
       "       2.46484384, 2.09015158, 1.6695626 , 2.47305794, 2.3677092 ,\n",
       "       1.78827965, 1.60634719, 3.04371847, 2.18361173, 1.65712708,\n",
       "       1.19544691, 1.35885871, 2.2401112 , 1.40934365, 1.34761669,\n",
       "       1.46093732, 1.53622578, 2.04550875, 2.30456763, 1.53012505,\n",
       "       1.68614438, 2.16882768, 1.6807209 , 1.95183385, 2.54571053,\n",
       "       3.53075623, 3.3846283 , 1.50156643, 2.03614844, 1.49258648,\n",
       "       1.17565204, 2.06710107, 2.30854669, 1.93283555, 1.76779045,\n",
       "       1.91126102, 2.23685692, 2.09063526, 1.50916055, 1.24203146,\n",
       "       1.95944332, 2.20496488, 1.18805821, 2.80332467, 1.01849548,\n",
       "       1.35203084, 1.84765039, 1.65791613, 1.72396065, 1.34280376,\n",
       "       1.37824935, 2.00896059, 1.28589222, 2.33258301, 1.55104988,\n",
       "       1.56144758, 1.22863124, 1.63174012, 1.70047786, 1.57555931,\n",
       "       2.22917822, 1.65597143, 2.82280755, 2.29262962, 2.00627059,\n",
       "       2.73949981, 1.34949724, 1.4579178 , 1.90829818, 1.3927845 ,\n",
       "       2.09001525, 2.50838596, 1.00381679, 1.46508852, 1.29211431,\n",
       "       2.1166945 , 1.1415172 , 2.4191999 , 1.9654785 , 1.88934065,\n",
       "       2.97842009, 1.99263341, 1.57394248, 2.89325717, 2.69073586,\n",
       "       0.86821543, 1.45426515, 1.98724075, 1.23670087, 2.00757381,\n",
       "       1.62258157, 2.42320466, 1.88278933, 1.23457489, 1.58346247,\n",
       "       1.46647612, 1.74119931, 1.63631938, 1.83376899, 1.10860714,\n",
       "       1.38195913, 1.50249828, 2.03236615, 1.22750193, 1.89350976,\n",
       "       1.76727848, 1.49916954, 1.92395099, 1.62774019, 1.23596593,\n",
       "       2.22414327, 1.76663412, 1.6356233 , 1.35605897, 1.51623548,\n",
       "       2.25574187, 1.53243873, 1.61567317, 2.47087539, 2.32244363,\n",
       "       1.18342163, 1.28873959, 1.44701297, 1.88839455, 2.61068273,\n",
       "       2.29590382, 1.73135892, 2.0074027 , 1.34956097, 1.46299952,\n",
       "       2.4215451 , 1.23700821, 1.09852974, 3.91539105, 2.11856854,\n",
       "       1.36400669, 2.56900367, 2.21409436, 1.51797224, 2.20355127,\n",
       "       1.89959819, 1.23825694, 1.28901826, 1.59699673, 1.33242098,\n",
       "       1.40702612, 2.66749851, 0.89622344, 1.17777561, 1.4094084 ,\n",
       "       2.33528436, 2.84188849, 1.56293773, 1.2011899 , 1.41248391,\n",
       "       2.62096904, 1.42951367, 1.6400074 , 1.26732072, 1.84340869,\n",
       "       1.45585569, 1.9886596 , 1.37992871, 1.12175178, 3.12773548,\n",
       "       1.53310713, 0.82694826, 0.84421222, 1.91235719, 2.91080433,\n",
       "       2.18783576, 1.54387843, 1.46732949, 1.52885356, 1.46557019,\n",
       "       2.06418164, 1.97057857, 2.05801249, 1.52523756, 1.80670167,\n",
       "       1.48228107, 2.02330889, 1.10859384, 1.7359455 , 2.15400132,\n",
       "       1.72505911, 2.1942538 , 1.51607483, 1.22262563, 3.89871319,\n",
       "       2.40376871, 1.1254633 , 2.92129839, 2.09297684, 1.50832734,\n",
       "       1.26496482, 2.98950353, 1.5701522 , 1.0878011 , 1.45494171,\n",
       "       1.76823681, 1.81493059, 1.23402496, 1.52787563, 2.14664876,\n",
       "       2.11856357, 2.64320041, 1.58741303, 1.73939435, 1.17872596,\n",
       "       1.24526256, 1.57643818, 1.56719429, 1.20615231, 2.49154031,\n",
       "       2.59709276, 1.15812471, 1.7491056 , 1.28406202, 2.66230242,\n",
       "       2.08628222, 1.5634136 , 1.04842026, 0.92092398, 2.23776469,\n",
       "       2.10388307, 1.56657656, 2.02003216, 2.10778985, 1.35902817,\n",
       "       1.51126847, 1.84312654, 2.79598311, 2.22785077, 1.67087063,\n",
       "       0.89580605, 0.85230295, 1.10717672, 2.39356022, 3.82038196,\n",
       "       2.70582088, 1.13203841, 2.32198332, 1.22182635, 1.85686992,\n",
       "       1.30791083, 1.77017759, 2.08874711, 1.07947304, 1.66326702,\n",
       "       1.86480696, 2.07363188, 2.02852772, 2.13072463, 1.2541585 ,\n",
       "       1.62724875, 1.85446346, 2.10864335, 1.32290881, 1.97631932,\n",
       "       2.13827894, 2.14972084, 1.90802689, 1.09037317, 1.70845487,\n",
       "       1.21555411, 1.29744306, 1.65764997, 1.91279988, 1.05779588,\n",
       "       2.80825069, 1.79238091, 2.16929489, 2.17616197, 1.55931965,\n",
       "       2.14134764, 1.67431505, 1.72162936, 1.2574308 , 1.18418679,\n",
       "       1.97872757, 1.48656447, 1.15492644, 2.18882416, 2.98253434,\n",
       "       2.09245181, 0.95285533, 1.68601799, 1.99632647, 2.15473574,\n",
       "       1.43235331, 1.3231795 , 1.55756425, 2.12748315, 2.36918274,\n",
       "       1.64853407, 1.29018867, 1.40979371, 3.60813057, 1.6581339 ,\n",
       "       2.00134173, 1.85256034, 1.44803308, 1.6653702 , 1.00357216,\n",
       "       1.13134044, 1.49263144, 0.88076873, 1.56133648, 1.44344857,\n",
       "       2.16431347, 1.9999186 , 2.18921702, 3.52104065, 2.42272284,\n",
       "       2.74615974, 1.66394536, 1.27997745, 1.67357465, 1.44534872,\n",
       "       2.69357408, 0.81390197, 2.03551357, 1.42339902, 2.11024312,\n",
       "       1.4139635 , 2.07922916, 1.96762971, 1.1079584 , 1.12527834,\n",
       "       1.18917135, 1.08498928, 1.59711835, 2.00677641, 1.78480485,\n",
       "       1.69105557, 1.45115874, 2.17036334, 1.40055328, 2.13536184,\n",
       "       1.69852834, 1.38189376, 2.54879677, 1.66239537, 1.47312153,\n",
       "       1.59373902, 1.76446164, 1.4674637 , 2.21906715, 1.96108487,\n",
       "       2.52000953, 1.1800717 , 1.67148611, 1.29867626, 2.42374461,\n",
       "       1.38076868, 1.87718111, 1.66745527, 1.39840685, 1.34948411,\n",
       "       2.51293184, 1.42570561, 1.37130158, 1.59827912, 2.06276766,\n",
       "       1.30862091, 1.05455657, 1.20857237, 1.5630183 , 1.7495972 ,\n",
       "       1.47236706, 2.01800278, 2.3227537 , 2.80952215, 1.91827121,\n",
       "       0.84636268, 1.76131147, 2.31259741, 2.03410287, 1.49541346,\n",
       "       1.74345793, 1.48050584, 1.44708984, 1.91151358, 1.55727222,\n",
       "       1.14712908, 1.59662262, 1.17561556, 1.40983826, 1.61572671,\n",
       "       1.91332724, 1.73692878, 1.61918302, 1.34133469, 1.64119786,\n",
       "       1.85054593, 1.91501729, 0.70370128, 1.30371792, 2.97177171,\n",
       "       1.75226342, 1.56201056, 2.31698795, 1.897743  , 1.27220832,\n",
       "       1.94013525, 1.23302007, 2.35367192, 1.45488176, 1.55137413,\n",
       "       1.93483655, 2.4646432 , 1.53368232, 2.16965138, 1.98316106,\n",
       "       1.72695489, 1.72107073, 2.23297138, 1.5735439 , 2.25430551,\n",
       "       2.29481219, 1.76473881, 2.19413755, 1.52986209, 1.94419068,\n",
       "       2.05965688, 1.39473682, 0.87316124, 1.85445275, 1.3223664 ,\n",
       "       1.75974586, 1.77056006, 1.47860198, 2.73021522, 0.97224567,\n",
       "       1.6569324 , 1.98331913, 1.50645152, 2.11318991, 2.02529098,\n",
       "       1.4052897 , 1.93672514, 1.33859868, 1.7625102 , 1.78204577,\n",
       "       1.74852973, 0.9872581 , 1.01917989, 1.61806212, 1.91960877,\n",
       "       1.20098745, 1.94685066, 1.34796874, 1.39391774, 1.85722848,\n",
       "       1.63392438, 1.11819938, 2.5565439 , 1.69884737, 1.41634944,\n",
       "       2.12977526, 2.50723571, 1.5758436 , 1.14414415, 2.12512115,\n",
       "       1.63227106, 1.46720228, 2.2102557 , 0.81317606, 1.0246645 ,\n",
       "       1.18588132, 1.79811159, 0.62577644, 1.32371473, 1.52353984,\n",
       "       1.22892935, 1.67229152, 1.4731751 , 1.40924782, 1.21501907,\n",
       "       1.43578798, 1.87159071, 3.07144674, 1.62154293, 2.73886956,\n",
       "       0.92421817, 2.00570794, 2.60250791, 1.65983979, 1.77069972,\n",
       "       1.17397758, 1.69286044, 1.40897089, 2.68708586, 3.75171985,\n",
       "       1.27152029, 1.228332  , 2.06437104, 1.62144356, 2.0010263 ,\n",
       "       2.49439227, 1.03227241, 1.96045973, 2.17375064, 2.31252736,\n",
       "       1.28506514, 1.09843861, 1.64618703, 1.85881797, 1.52226173,\n",
       "       1.00083133, 1.20024429, 3.52590271, 2.16635242, 1.03633905,\n",
       "       1.07460159, 1.63879743, 2.15444005, 1.55104657, 2.16311734,\n",
       "       2.74995134, 2.09972146, 1.68241331, 1.05629503, 1.54847827,\n",
       "       1.21888151, 1.44249665, 1.52388238, 3.04094255, 1.51454575,\n",
       "       1.72941316, 1.18709397, 2.12082922, 1.96039219, 1.03625591,\n",
       "       1.8890365 , 1.97374931, 1.19808824, 2.09213531, 1.74268072,\n",
       "       1.57042966, 2.06235864, 1.37616968, 1.74232028, 1.26156712,\n",
       "       1.36301755, 1.68303376, 1.71618485, 1.32672548, 1.7585307 ,\n",
       "       1.64809144, 1.28649963, 2.42175622, 2.00897876, 1.21506735,\n",
       "       1.73530586, 0.83503408, 1.17712817, 1.22304148, 2.0752348 ,\n",
       "       3.01939399, 2.18277315, 1.57815053, 1.83901444, 1.34329697,\n",
       "       1.35709976, 1.62539066, 2.42349618, 1.16804029, 0.96783618,\n",
       "       2.15571859, 1.29148833, 1.66547423, 2.01741081, 1.29179796,\n",
       "       1.53747926, 0.78666702, 2.25427466, 1.4842667 , 1.23911407,\n",
       "       1.01301003, 1.24210287, 1.11946838, 2.39913653, 1.68003074,\n",
       "       1.46393036, 0.84522679, 1.60525013, 2.37363202, 1.53452694,\n",
       "       2.23948311, 2.35555037, 0.87188763, 1.41671762, 2.00199112,\n",
       "       2.53316498, 1.79717175, 3.3232895 , 0.92800953, 1.46218818,\n",
       "       2.02133354, 1.17526646, 2.49354278, 1.38214077, 1.21337937,\n",
       "       1.35371537, 2.79723613, 1.06696807, 1.81410905, 2.60626135,\n",
       "       2.46060723, 1.31104104, 1.43878773, 1.74479579, 2.0394058 ,\n",
       "       2.25534691, 1.20787572, 1.01377822, 2.31457208, 1.80422075,\n",
       "       1.77918126, 3.2160007 , 1.27745215, 1.39101752, 1.95862421,\n",
       "       1.52117479, 1.91283976, 2.02733699, 1.06449079, 1.61195572,\n",
       "       1.55383396, 2.31660301, 1.51592896, 2.12217355, 2.41600955,\n",
       "       2.06422439, 1.06884003, 2.24899292, 1.53678806, 1.69837526,\n",
       "       0.95719461, 2.13601513, 1.4045351 , 1.47935126, 1.92558445,\n",
       "       1.27853676, 1.73669366, 1.09753255, 2.29908612, 1.86041819,\n",
       "       1.79625772, 2.57978786, 2.68102776, 1.11818752, 2.67629696,\n",
       "       1.38401804, 2.60402694, 1.92645541, 1.51569495, 1.9902347 ,\n",
       "       1.1118847 , 1.77775323, 2.73189852, 1.8387191 , 2.42859692,\n",
       "       1.86300609, 1.5435357 , 1.83565985, 2.36779004, 1.79174168,\n",
       "       1.29440788, 1.48927678, 2.52417762, 1.19334445, 2.08829278,\n",
       "       2.56133348, 1.45201249, 2.26913179, 1.9479096 , 1.50816686,\n",
       "       1.25925878, 1.39269657, 1.21967967, 2.52772313, 4.50342421,\n",
       "       1.22870852, 1.99265435, 2.47092488, 0.68166776, 2.10522844,\n",
       "       1.98061625, 1.12571255, 1.73607943, 1.73730115, 2.44451209,\n",
       "       1.90283271, 1.46072433, 2.04628013, 1.22095452, 0.95410726,\n",
       "       0.97634167, 1.57064812, 1.15467871, 0.89960777, 1.5489211 ,\n",
       "       1.44032407, 2.1372456 , 2.17882038, 1.53657825, 1.4260568 ,\n",
       "       2.19416567, 1.17076961, 2.13590619, 0.99856018, 2.01190816,\n",
       "       2.72499488, 1.59514908, 1.49852365, 1.6178976 , 1.08238754,\n",
       "       1.89286462, 1.34934158, 1.9471118 , 1.5597243 , 1.25610735,\n",
       "       1.52520722, 1.49943888, 1.61405573, 1.66458952, 1.65656461])"
      ]
     },
     "execution_count": 80,
     "metadata": {},
     "output_type": "execute_result"
    }
   ],
   "source": [
    "samples"
   ]
  },
  {
   "cell_type": "code",
   "execution_count": 73,
   "id": "851b13fa",
   "metadata": {},
   "outputs": [
    {
     "data": {
      "text/plain": [
       "Text(0.5, 1.0, 'Plotting Lognormal Distribution samples')"
      ]
     },
     "execution_count": 73,
     "metadata": {},
     "output_type": "execute_result"
    },
    {
     "data": {
      "image/png": "[encoded data removed]",
      "text/plain": [
       "<Figure size 432x288 with 1 Axes>"
      ]
     },
     "metadata": {
      "needs_background": "light"
     },
     "output_type": "display_data"
    }
   ],
   "source": [
    "#Plotting the continuous values on a histogram\n",
    "plt.hist(samples)\n",
    "plt.title(\"Plotting Lognormal Distribution samples\")"
   ]
  },
  {
   "cell_type": "code",
   "execution_count": null,
   "id": "9a65179e",
   "metadata": {},
   "outputs": [],
   "source": []
  },
  {
   "cell_type": "code",
   "execution_count": null,
   "id": "fc7cef2f",
   "metadata": {},
   "outputs": [],
   "source": []
  }
 ],
 "metadata": {
  "kernelspec": {
   "display_name": "Python 3 (ipykernel)",
   "language": "python",
   "name": "python3"
  },
  "language_info": {
   "codemirror_mode": {
    "name": "ipython",
    "version": 3
   },
   "file_extension": ".py",
   "mimetype": "text/x-python",
   "name": "python",
   "nbconvert_exporter": "python",
   "pygments_lexer": "ipython3",
   "version": "3.9.12"
  }
 },
 "nbformat": 4,
 "nbformat_minor": 5
}
