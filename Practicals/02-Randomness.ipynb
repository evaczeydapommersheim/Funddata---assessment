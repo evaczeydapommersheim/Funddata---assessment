{
 "cells": [
  {
   "cell_type": "markdown",
   "id": "b0a67138",
   "metadata": {},
   "source": [
    "# Topic 02 - Randomness\n",
    "***"
   ]
  },
  {
   "cell_type": "code",
   "execution_count": 23,
   "id": "206f8e33",
   "metadata": {},
   "outputs": [],
   "source": [
    "import numpy as np\n",
    "import matplotlib.pyplot as plt\n",
    "import math"
   ]
  },
  {
   "cell_type": "markdown",
   "id": "d9a1dfb3",
   "metadata": {},
   "source": [
    "<a id=’Links’></a>\n",
    "## Links\n",
    "For Exercises see: [Exercise-1-and-2](#Exercise-1-and-2) and [Exercise-3](#Exercise-3)"
   ]
  },
  {
   "cell_type": "markdown",
   "id": "7085b5d5",
   "metadata": {},
   "source": [
    "## Flipping a coin"
   ]
  },
  {
   "cell_type": "code",
   "execution_count": 7,
   "id": "26726cfb",
   "metadata": {},
   "outputs": [
    {
     "data": {
      "text/plain": [
       "0"
      ]
     },
     "execution_count": 7,
     "metadata": {},
     "output_type": "execute_result"
    }
   ],
   "source": [
    "# Flip a fair coin.\n",
    "np.random.binomial(1, 0.5)"
   ]
  },
  {
   "cell_type": "markdown",
   "id": "6e46ec78",
   "metadata": {},
   "source": [
    "## Repeated Flips"
   ]
  },
  {
   "cell_type": "code",
   "execution_count": 8,
   "id": "d6e8a35c",
   "metadata": {},
   "outputs": [
    {
     "data": {
      "text/plain": [
       "array([0, 0, 1, 1, 0, 0, 0, 1, 0, 1, 0, 1, 0, 0, 1, 1, 1, 1, 0, 1, 0, 1,\n",
       "       1, 0, 1, 1, 1, 0, 1, 1, 0, 0, 0, 1, 1, 1, 1, 1, 1, 1, 1, 1, 1, 0,\n",
       "       1, 1, 0, 1, 1, 0, 1, 0, 0, 0, 0, 0, 0, 0, 1, 1, 0, 0, 1, 0, 1, 1,\n",
       "       0, 1, 0, 0, 0, 1, 0, 0, 1, 0, 0, 1, 1, 1, 1, 1, 1, 1, 1, 1, 1, 0,\n",
       "       1, 0, 1, 1, 1, 1, 0, 0, 1, 1, 0, 0])"
      ]
     },
     "execution_count": 8,
     "metadata": {},
     "output_type": "execute_result"
    }
   ],
   "source": [
    "# Flip a fair coin 100 times.\n",
    "# Each 1 represents a head and each 0 represents a tail.\n",
    "np.random.binomial(1, 0.5, 100)"
   ]
  },
  {
   "cell_type": "code",
   "execution_count": 9,
   "id": "dc4d3104",
   "metadata": {},
   "outputs": [
    {
     "data": {
      "text/plain": [
       "57"
      ]
     },
     "execution_count": 9,
     "metadata": {},
     "output_type": "execute_result"
    }
   ],
   "source": [
    "# Flip a fair coin 100 times, giving only the total number of heads.\n",
    "np.random.binomial(100, 0.5)"
   ]
  },
  {
   "cell_type": "markdown",
   "id": "eee79e2d",
   "metadata": {},
   "source": [
    "## Twice 50/50"
   ]
  },
  {
   "cell_type": "code",
   "execution_count": 10,
   "id": "bfcf3e77",
   "metadata": {},
   "outputs": [
    {
     "name": "stdout",
     "output_type": "stream",
     "text": [
      "[0 1 0 1 0 1 1 1 0 0]\n",
      "[0 1 1 1 1 0 0 0 0 1]\n",
      "[1 0 0 1 1 0 0 0 1 1]\n",
      "[1 0 0 0 0 1 0 1 1 1]\n",
      "[1 0 1 1 0 0 1 0 0 1]\n",
      "[1 0 0 1 0 0 1 1 1 0]\n",
      "Total generated: 23\n"
     ]
    }
   ],
   "source": [
    "# Number of examples.\n",
    "N = 6\n",
    "\n",
    "# Keep track of number of arrays generated.\n",
    "total_no = 0\n",
    "\n",
    "# Keep trying until we get three examples.\n",
    "while N > 0:\n",
    "    # Add 1 to total.\n",
    "    total_no = total_no + 1\n",
    "    # Toss 10 coins.\n",
    "    tosses = np.random.binomial(1, 0.5, 10)\n",
    "    # Check if we got five heads.\n",
    "    if tosses.sum() == 5:\n",
    "        # If we got 5 heads, print the list of heads/tails.\n",
    "        print(tosses)\n",
    "        # Reduce the number of examples left to find by 1.\n",
    "        N = N - 1\n",
    "\n",
    "print(f'Total generated: {total_no}')"
   ]
  },
  {
   "cell_type": "markdown",
   "id": "99aa2568",
   "metadata": {},
   "source": [
    "#### How many other ways are there to flip ten coins and get five heads?"
   ]
  },
  {
   "cell_type": "markdown",
   "id": "a8f62587",
   "metadata": {},
   "source": [
    "## Counting Heads"
   ]
  },
  {
   "cell_type": "code",
   "execution_count": 11,
   "id": "68f679ba",
   "metadata": {},
   "outputs": [
    {
     "name": "stdout",
     "output_type": "stream",
     "text": [
      "( 1, 2)\n",
      "( 1, 3)\n",
      "( 1, 4)\n",
      "( 1, 5)\n",
      "( 1, 6)\n",
      "( 1, 7)\n",
      "( 1, 8)\n",
      "( 1, 9)\n",
      "( 1,10)\n",
      "( 2, 1)\n",
      "( 2, 3)\n",
      "( 2, 4)\n",
      "( 2, 5)\n",
      "( 2, 6)\n",
      "( 2, 7)\n",
      "( 2, 8)\n",
      "( 2, 9)\n",
      "( 2,10)\n",
      "( 3, 1)\n",
      "( 3, 2)\n",
      "( 3, 4)\n",
      "( 3, 5)\n",
      "( 3, 6)\n",
      "( 3, 7)\n",
      "( 3, 8)\n",
      "( 3, 9)\n",
      "( 3,10)\n",
      "( 4, 1)\n",
      "( 4, 2)\n",
      "( 4, 3)\n",
      "( 4, 5)\n",
      "( 4, 6)\n",
      "( 4, 7)\n",
      "( 4, 8)\n",
      "( 4, 9)\n",
      "( 4,10)\n",
      "( 5, 1)\n",
      "( 5, 2)\n",
      "( 5, 3)\n",
      "( 5, 4)\n",
      "( 5, 6)\n",
      "( 5, 7)\n",
      "( 5, 8)\n",
      "( 5, 9)\n",
      "( 5,10)\n",
      "( 6, 1)\n",
      "( 6, 2)\n",
      "( 6, 3)\n",
      "( 6, 4)\n",
      "( 6, 5)\n",
      "( 6, 7)\n",
      "( 6, 8)\n",
      "( 6, 9)\n",
      "( 6,10)\n",
      "( 7, 1)\n",
      "( 7, 2)\n",
      "( 7, 3)\n",
      "( 7, 4)\n",
      "( 7, 5)\n",
      "( 7, 6)\n",
      "( 7, 8)\n",
      "( 7, 9)\n",
      "( 7,10)\n",
      "( 8, 1)\n",
      "( 8, 2)\n",
      "( 8, 3)\n",
      "( 8, 4)\n",
      "( 8, 5)\n",
      "( 8, 6)\n",
      "( 8, 7)\n",
      "( 8, 9)\n",
      "( 8,10)\n",
      "( 9, 1)\n",
      "( 9, 2)\n",
      "( 9, 3)\n",
      "( 9, 4)\n",
      "( 9, 5)\n",
      "( 9, 6)\n",
      "( 9, 7)\n",
      "( 9, 8)\n",
      "( 9,10)\n",
      "(10, 1)\n",
      "(10, 2)\n",
      "(10, 3)\n",
      "(10, 4)\n",
      "(10, 5)\n",
      "(10, 6)\n",
      "(10, 7)\n",
      "(10, 8)\n",
      "(10, 9)\n",
      "Total combinations is 90.\n"
     ]
    }
   ],
   "source": [
    "# Why multiply in the formula (10 * 9 * 8 * 7 * 6) // (5 * 4 * 3 * 2 * 1)\n",
    "\n",
    "# Number of combinations.\n",
    "no_combs = 0\n",
    "\n",
    "# Select the first position.\n",
    "for first in [1, 2, 3, 4, 5, 6, 7, 8, 9, 10]:\n",
    "    # Select the position for the second position.\n",
    "    for second in [1, 2, 3, 4, 5, 6, 7, 8, 9, 10]:\n",
    "        # Make sure the first and second positions are different.\n",
    "        if not first == second:\n",
    "            # Print the combination.\n",
    "            print(f'({first:2},{second:2})')\n",
    "            # Add one to number of combinations.\n",
    "            no_combs = no_combs + 1\n",
    "\n",
    "# Print total number of combinations.\n",
    "print(f'Total combinations is {no_combs}.')"
   ]
  },
  {
   "cell_type": "markdown",
   "id": "4988db7a",
   "metadata": {},
   "source": [
    "each of these combinations are listed twice, therefore would need to be divided by 2. (10, 9) is the same a (9, 10) Essetially (10*9)/(2*1) = 45, same as (10 * 9 * 8 * 7 * 6) // (5 * 4 * 3 * 2 * 1) = 30240/120 = 252"
   ]
  },
  {
   "cell_type": "code",
   "execution_count": 12,
   "id": "4178a79a",
   "metadata": {},
   "outputs": [
    {
     "data": {
      "text/plain": [
       "252"
      ]
     },
     "execution_count": 12,
     "metadata": {},
     "output_type": "execute_result"
    }
   ],
   "source": [
    " (10 * 9 * 8 * 7 * 6) // (5 * 4 * 3 * 2 * 1)"
   ]
  },
  {
   "cell_type": "markdown",
   "id": "dcd5c20e",
   "metadata": {},
   "source": [
    "There are 252 different ways to get 5 heads when flipping 10 coins."
   ]
  },
  {
   "cell_type": "markdown",
   "id": "e1accc1b",
   "metadata": {},
   "source": [
    "<a id=’Exercise-1-and-2’></a>\n",
    "## Exercise 1 and 2\n",
    "Back to top [Links](#Links)"
   ]
  },
  {
   "cell_type": "markdown",
   "id": "9d993ddd",
   "metadata": {},
   "source": [
    "#### It is somewhat interesting that (5 * 4 * 3 * 2 * 1) perfectly divides (10 * 9 * 8 * 7 * 6) - there's no remainder. If we only wanted exactly four heads as opposed to five, the equivalent calculation would be (10 * 9 * 8 * 7) / (4 * 3 * 2 * 1). Does that evenly divide too? What is the formula in general? Does it always come out as a positive whole number?"
   ]
  },
  {
   "attachments": {
    "image.png": {
     "image/png": "[encoded data removed]"
    }
   },
   "cell_type": "markdown",
   "id": "23d4bbd9",
   "metadata": {},
   "source": [
    "Definition of combination is: Given a set of n distinct objects, any unordered subset of size r ≤ n  of the objects without repetition is called a combination.\n",
    "in other words how many ways are there to choose r elements out of n total elements without repetition.\n",
    "\n",
    "The mathematical formula for combination of r opportunities out of n (nCr):\n",
    "\n",
    "![image.png](attachment:image.png)\n",
    "\n",
    "where P(n,r) is the r-permutations of an n-set.\n",
    "![image.png](attachment:image.png)\n",
    "\n",
    "#### Source: https://study.com/learn/lesson/combination-formula-calculate.html#:~:text=Combinations%20are%20a%20way%20to,being%20chosen%20at%20a%20time."
   ]
  },
  {
   "cell_type": "markdown",
   "id": "d8c965ac",
   "metadata": {},
   "source": [
    "If we are to determine how many ways there are to get 4 heads when flipping a coin ten times without duplicating results and following the above formula:"
   ]
  },
  {
   "cell_type": "code",
   "execution_count": 13,
   "id": "b2749d76",
   "metadata": {},
   "outputs": [
    {
     "data": {
      "text/plain": [
       "210"
      ]
     },
     "execution_count": 13,
     "metadata": {},
     "output_type": "execute_result"
    }
   ],
   "source": [
    "# C(10,4) = 10!/(4!(10-4)!)\n",
    "\n",
    "# (10*9*8*7*6*5*4*3*2*1)/((4*3*2*1)*(6*5*4*3*2*1))\n",
    "# where the (6*5*4*3*2*1) cancels out due to divisions and the formula is left as:\n",
    "\n",
    "(10*9*8*7)//(4*3*2*1)"
   ]
  },
  {
   "cell_type": "markdown",
   "id": "6e0c56d3",
   "metadata": {},
   "source": [
    "Python also has a way to calculate the value of possible outcomes without repetition which can be found in the math library\n",
    "\n",
    "math.comb(n, k) method\n",
    "\n",
    "Assumption being that n and k parameters are positive integer.\n",
    "\n",
    "#### Source: https://www.w3schools.com/python/ref_math_comb.asp#:~:text=The%20math.,method%20must%20be%20positive%20integers   "
   ]
  },
  {
   "cell_type": "code",
   "execution_count": 14,
   "id": "369ccb88",
   "metadata": {},
   "outputs": [
    {
     "data": {
      "text/plain": [
       "210"
      ]
     },
     "execution_count": 14,
     "metadata": {},
     "output_type": "execute_result"
    }
   ],
   "source": [
    "# Importing the math library from Python\n",
    "import math\n",
    "\n",
    "# For Exercise 1, flipping 10 coins and getting a certain number of heads; the number of combinations can be calculated.\n",
    "\n",
    "def comb(n, k):\n",
    "     return math.comb(n, k)\n",
    "comb(10, 4)"
   ]
  },
  {
   "cell_type": "markdown",
   "id": "171e5123",
   "metadata": {},
   "source": [
    "The number of times a coin is flipped, is the count of each time it is flipped. It can only be a positive integer (whole number). Its outcome can also be counted and can only be a discrete value of a positive integer. The combination of the outcome (number of heads and number of tails obtained after flipping the ten coins) also has to be a discrete, positive number."
   ]
  },
  {
   "cell_type": "code",
   "execution_count": 15,
   "id": "0a2732d5",
   "metadata": {},
   "outputs": [
    {
     "name": "stdout",
     "output_type": "stream",
     "text": [
      "[1, 10, 45, 120, 210, 252, 210, 120, 45, 10, 1]\n"
     ]
    }
   ],
   "source": [
    "# Number of coins flipped:\n",
    "coins = 10\n",
    "# the number of times heads can be obtained, i.e. list from 0-10\n",
    "heads = list(range(coins + 1))\n",
    "\n",
    "# list of possible number of combinations of selecting heads when flipping 10 coins\n",
    "\n",
    "outcome_heads = [math.comb(coins, head) for head in heads]\n",
    "print(outcome_heads)"
   ]
  },
  {
   "cell_type": "markdown",
   "id": "9c3e46a6",
   "metadata": {},
   "source": [
    "All of the above numbers are positive integers. There is no way to obtain an outcome at each flip more than one time, or one and a half times. As it is a count of an event, it can only be greater than zero and a whole number (integer)."
   ]
  },
  {
   "cell_type": "markdown",
   "id": "2af9705f",
   "metadata": {},
   "source": [
    "<a id=’Exercise-3’></a>\n",
    "## Exercise 3\n",
    "Plot bar charts or histograms of any three different distributions listed at the following link:\n",
    "\n",
    "https://numpy.org/doc/stable/reference/random/generator.html#distributions\n",
    "\n",
    "Back to top [Links](#Links)"
   ]
  },
  {
   "cell_type": "code",
   "execution_count": 69,
   "id": "ad46c468",
   "metadata": {},
   "outputs": [],
   "source": [
    "# Define rng as random number generator\n",
    "rng = np.random.default_rng(0)"
   ]
  },
  {
   "cell_type": "markdown",
   "id": "2acb3774",
   "metadata": {},
   "source": [
    "#### 1. Binomial Distribution"
   ]
  },
  {
   "cell_type": "markdown",
   "id": "9c03f8f5",
   "metadata": {},
   "source": [
    "As per Numpy documentation for [Binomial Distribution](https://numpy.org/doc/stable/reference/random/generated/numpy.random.Generator.binomial.html):\n",
    "\n",
    "**random.Generator.binomial(n, p, size=None)**<p>\n",
    "Draw samples from a binomial distribution.\n",
    "Samples are drawn from a binomial distribution with specified parameters, n trials and p probability of success where n an integer >= 0 and p is in the interval [0,1]. (n may be input as a float, but it is truncated to an integer in use)"
   ]
  },
  {
   "cell_type": "code",
   "execution_count": 70,
   "id": "65e41d48",
   "metadata": {},
   "outputs": [
    {
     "data": {
      "text/plain": [
       "array([ 7,  8, 10, ...,  9,  5, 10], dtype=int64)"
      ]
     },
     "execution_count": 70,
     "metadata": {},
     "output_type": "execute_result"
    }
   ],
   "source": [
    "# assigning values to n = samples taken and p = probability of occurrence\n",
    "n = 10\n",
    "p = 0.75\n",
    "\n",
    "#Generating binomially distributed numbers\n",
    "bi_vals = rng.binomial(n, p, 10000)\n",
    "bi_vals"
   ]
  },
  {
   "cell_type": "code",
   "execution_count": 72,
   "id": "5b100d2f",
   "metadata": {
    "scrolled": true
   },
   "outputs": [
    {
     "data": {
      "text/plain": [
       "Text(0.5, 1.0, 'Binomial Distribution')"
      ]
     },
     "execution_count": 72,
     "metadata": {},
     "output_type": "execute_result"
    },
    {
     "data": {
      "image/png": "[encoded data removed]",
      "text/plain": [
       "<Figure size 576x288 with 1 Axes>"
      ]
     },
     "metadata": {
      "needs_background": "light"
     },
     "output_type": "display_data"
    }
   ],
   "source": [
    "# Create a figure for the values generated\n",
    "# Determining the size of the plot\n",
    "fig, ax = plt.subplots(figsize=(8, 4))\n",
    "plt.bar(bi_vals, 10000)\n",
    "plt.title(\"Binomial Distribution\")"
   ]
  },
  {
   "cell_type": "markdown",
   "id": "d7fad631",
   "metadata": {},
   "source": [
    "#### 2. Lognormal Distribution"
   ]
  },
  {
   "cell_type": "markdown",
   "id": "15b7d96c",
   "metadata": {},
   "source": [
    "As per [Numpy documentation for lognormal distribution](https://numpy.org/doc/stable/reference/random/generated/numpy.random.Generator.lognormal.html):\n",
    "\n",
    "**random.Generator.lognormal(mean=0.0, sigma=1.0, size=None)**<p>\n",
    "    \n",
    "Draws samples from a log-normal distribution.\n",
    "Draw samples from a log-normal distribution with specified mean, standard deviation, and array shape. Note that the mean and standard deviation are not the values for the distribution itself, but of the underlying normal distribution it is derived from."
   ]
  },
  {
   "cell_type": "code",
   "execution_count": 73,
   "id": "25fb68fb",
   "metadata": {},
   "outputs": [],
   "source": [
    "#Generating 100 numbers between 0-1, \n",
    "rand_num = rng.random(100)\n",
    "#Calculating mean and std deviation of these values\n",
    "mean = np.mean(rand_num)\n",
    "std = np.std(rand_num)"
   ]
  },
  {
   "cell_type": "code",
   "execution_count": 74,
   "id": "2be2ec15",
   "metadata": {},
   "outputs": [
    {
     "data": {
      "text/plain": [
       "array([0.56800691, 0.96248607, 0.76620516, 0.83313226, 0.56943483,\n",
       "       0.60758278, 0.6291627 , 0.26593743, 0.62400457, 0.97407311,\n",
       "       0.79821186, 0.37226028, 0.7300473 , 0.27900792, 0.98763721,\n",
       "       0.22671943, 0.86852133, 0.88435152, 0.18672297, 0.62412507,\n",
       "       0.21993295, 0.88038597, 0.40582926, 0.03932567, 0.4700643 ,\n",
       "       0.27822702, 0.86163414, 0.75975242, 0.44276613, 0.88480769,\n",
       "       0.75620692, 0.10864203, 0.8767921 , 0.96735325, 0.08656712,\n",
       "       0.64580768, 0.74672122, 0.64073876, 0.68834626, 0.05785298,\n",
       "       0.89681646, 0.48448387, 0.29159087, 0.15020617, 0.46335512,\n",
       "       0.39234709, 0.75966613, 0.38382188, 0.47183357, 0.57054907,\n",
       "       0.34075854, 0.31968853, 0.32239011, 0.69005476, 0.45480192,\n",
       "       0.57245146, 0.98253929, 0.23185425, 0.0676222 , 0.23451591,\n",
       "       0.70211676, 0.75480878, 0.18961705, 0.38368874, 0.42691864,\n",
       "       0.41322066, 0.70700089, 0.97193929, 0.21641089, 0.47584985,\n",
       "       0.48483302, 0.1786457 , 0.51633249, 0.22427129, 0.57917652,\n",
       "       0.30872428, 0.3145076 , 0.48141743, 0.9434882 , 0.88330208,\n",
       "       0.67040752, 0.99133471, 0.34569771, 0.03882582, 0.35618567,\n",
       "       0.45199208, 0.48632239, 0.83064416, 0.31298365, 0.51860793,\n",
       "       0.85706013, 0.18254685, 0.90915402, 0.1370293 , 0.69212858,\n",
       "       0.95074203, 0.6070844 , 0.68496465, 0.76751498, 0.24129202])"
      ]
     },
     "execution_count": 74,
     "metadata": {},
     "output_type": "execute_result"
    }
   ],
   "source": [
    "rand_num"
   ]
  },
  {
   "cell_type": "code",
   "execution_count": 75,
   "id": "352a23f7",
   "metadata": {},
   "outputs": [
    {
     "data": {
      "text/plain": [
       "(0.5384552051109999, 0.27100970974443694)"
      ]
     },
     "execution_count": 75,
     "metadata": {},
     "output_type": "execute_result"
    }
   ],
   "source": [
    "mean, std"
   ]
  },
  {
   "cell_type": "code",
   "execution_count": 76,
   "id": "13230e9a",
   "metadata": {},
   "outputs": [],
   "source": [
    "#Using mean and std deviaiton of the normally distributed numbers:\n",
    "samples = rng.lognormal(mean,std,100000)"
   ]
  },
  {
   "cell_type": "code",
   "execution_count": 77,
   "id": "851b13fa",
   "metadata": {},
   "outputs": [
    {
     "data": {
      "text/plain": [
       "Text(0.5, 1.0, 'Plotting Lognormal Distribution samples')"
      ]
     },
     "execution_count": 77,
     "metadata": {},
     "output_type": "execute_result"
    },
    {
     "data": {
      "image/png": "[encoded data removed]",
      "text/plain": [
       "<Figure size 576x288 with 1 Axes>"
      ]
     },
     "metadata": {
      "needs_background": "light"
     },
     "output_type": "display_data"
    }
   ],
   "source": [
    "#Plotting the continuous values on a histogram\n",
    "# Determining the size of the plot\n",
    "fig, ax = plt.subplots(figsize=(8, 4))\n",
    "plt.hist(samples)\n",
    "plt.title(\"Plotting Lognormal Distribution samples\")"
   ]
  },
  {
   "cell_type": "markdown",
   "id": "cb0d0966",
   "metadata": {},
   "source": [
    "The higher the size in of the sample, the more right skewed the distribution becomes with"
   ]
  },
  {
   "cell_type": "markdown",
   "id": "c0712e8b",
   "metadata": {},
   "source": [
    "#### 3. Chi-square Distribution"
   ]
  },
  {
   "cell_type": "markdown",
   "id": "3facc6b0",
   "metadata": {},
   "source": [
    "As per [Numpy Documentation for Chi-Square Distribution](https://numpy.org/doc/stable/reference/random/generated/numpy.random.Generator.chisquare.html):\n",
    "\n",
    "**random.Generator.chisquare(df, size=None)**<p>\n",
    "    \n",
    "Draw samples from a chi-square distribution.\n",
    "\n",
    "When df independent random variables, each with standard normal distributions (mean 0, variance 1), are squared and summed, the resulting distribution is chi-square (see Notes). This distribution is often used in hypothesis testing."
   ]
  },
  {
   "cell_type": "code",
   "execution_count": 78,
   "id": "bb940ac3",
   "metadata": {},
   "outputs": [],
   "source": [
    "chisq = np.random.default_rng().chisquare(5,1000)"
   ]
  },
  {
   "cell_type": "code",
   "execution_count": 79,
   "id": "d3c540d8",
   "metadata": {},
   "outputs": [
    {
     "data": {
      "text/plain": [
       "Text(0.5, 1.0, 'Plotting Chi-Square Distribution')"
      ]
     },
     "execution_count": 79,
     "metadata": {},
     "output_type": "execute_result"
    },
    {
     "data": {
      "image/png": "[encoded data removed]",
      "text/plain": [
       "<Figure size 576x288 with 1 Axes>"
      ]
     },
     "metadata": {
      "needs_background": "light"
     },
     "output_type": "display_data"
    }
   ],
   "source": [
    "# Determining the size of the plot\n",
    "fig, ax = plt.subplots(figsize=(8, 4))\n",
    "plt.hist(chisq, density=True)\n",
    "plt.title(\"Plotting Chi-Square Distribution\")"
   ]
  },
  {
   "cell_type": "markdown",
   "id": "22509a68",
   "metadata": {},
   "source": [
    "The higher the size in of the sample the more right skewed the distribution becomes. "
   ]
  },
  {
   "cell_type": "markdown",
   "id": "ff405b16",
   "metadata": {},
   "source": [
    "# End"
   ]
  }
 ],
 "metadata": {
  "kernelspec": {
   "display_name": "Python 3 (ipykernel)",
   "language": "python",
   "name": "python3"
  },
  "language_info": {
   "codemirror_mode": {
    "name": "ipython",
    "version": 3
   },
   "file_extension": ".py",
   "mimetype": "text/x-python",
   "name": "python",
   "nbconvert_exporter": "python",
   "pygments_lexer": "ipython3",
   "version": "3.9.12"
  }
 },
 "nbformat": 4,
 "nbformat_minor": 5
}
