{
 "cells": [
  {
   "cell_type": "markdown",
   "id": "dbb105dc",
   "metadata": {},
   "source": [
    "# Assessment Project - Fundamentals of Data Analysis\n",
    "\n",
    "Submitted by Eva Czeyda-Pommersheim as module fulfilment of HDip in Computing in Data Analytics Winter Semester 2022/2023"
   ]
  },
  {
   "cell_type": "markdown",
   "id": "63fd939b",
   "metadata": {},
   "source": [
    "### Project Assignment:\n",
    "\n",
    " - Create a Github repository including a:\n",
    "     - jupyter notebook on the Normal Distribution\n",
    "     - ReadMe file\n",
    "     - .gitignore file\n",
    " - Define and explain the main concepts of Normal Distribution\n",
    " - Use visual plots to explain concepts\n",
    " \n",
    "Prepare the work to achieve a clear understanding of the normal distribution for non-scholarly audience. "
   ]
  },
  {
   "cell_type": "code",
   "execution_count": 3,
   "id": "2e3ec73c",
   "metadata": {},
   "outputs": [],
   "source": [
    "import numpy as np\n",
    "import matplotlib.pyplot as plt"
   ]
  },
  {
   "cell_type": "markdown",
   "id": "f8ef2b18",
   "metadata": {},
   "source": [
    "### Chapter 1 - Definition of the Normal Distribution"
   ]
  },
  {
   "cell_type": "markdown",
   "id": "34fdc6e8",
   "metadata": {},
   "source": [
    "In the world of data, mathematics and statistics data types are differentiated between discrete and continuous data.\n",
    "\n",
    "As per definition on ![Wikipedia](https://en.wikipedia.org/wiki/Continuous_or_discrete_variable) both data types are quantitative variables and can be obtained either by counting (Discrete) and hence resulting in an integer value of a real number or by measuring (Continuous) and resulting in a float number, i.e. can take on any value between the range of two real numbers."
   ]
  },
  {
   "cell_type": "markdown",
   "id": "701d6ed3",
   "metadata": {},
   "source": [
    "Discrete data may be defined by example of counting the heads or tails when tossing a coin, or how many defects are captured be operators for different failure modes in a manufacturing environment. \n",
    "\n",
    "Continuous data may be described by measuring the length of the distance between cities in Ireland or the average temperature in each month of the year.\n",
    "\n",
    "In statistics studies the type of distribution the collected (counted or measure) data/phenomenon may have.\n",
    "\n",
    "The Normal Distribution is one of the many distribution that would be recognized by statistics. \n",
    "\n",
    "It is often also called the Gaussian Distribution, which is a type of continuous probability distribution.\n",
    "\n",
    "It is described by the probability density function of:"
   ]
  },
  {
   "cell_type": "markdown",
   "id": "3eee730f",
   "metadata": {},
   "source": [
    "$$ \\frac{1}{\\sigma\\sqrt{2\\pi}}e^{-\\frac{1}{2}\\left(\\frac{x- \\mu}{\\sigma}\\right)^{\\!2}} $$"
   ]
  },
  {
   "cell_type": "markdown",
   "id": "7768b090",
   "metadata": {},
   "source": [
    "## Standard Normal Distribution "
   ]
  },
  {
   "cell_type": "code",
   "execution_count": 15,
   "id": "f8352245",
   "metadata": {},
   "outputs": [
    {
     "data": {
      "image/png": "[encoded data removed]",
      "text/plain": [
       "<Figure size 432x288 with 1 Axes>"
      ]
     },
     "metadata": {
      "needs_background": "light"
     },
     "output_type": "display_data"
    }
   ],
   "source": [
    "# Create new, seeded random number generator.\n",
    "rng = np.random.default_rng(0)\n",
    "\n",
    "# Generate 1000 numbers on a standard normal distribution.\n",
    "samples = rng.standard_normal(1000)\n",
    "# Create a figure.\n",
    "fig, ax = plt.subplots();\n",
    "\n",
    "# Create histogram.\n",
    "ax.hist(samples, bins=60);\n",
    "plt.axvline(x=0.0, color='red');"
   ]
  },
  {
   "cell_type": "code",
   "execution_count": 10,
   "id": "4dc93c99",
   "metadata": {},
   "outputs": [
    {
     "data": {
      "text/plain": [
       "-0.04802827676298692"
      ]
     },
     "execution_count": 10,
     "metadata": {},
     "output_type": "execute_result"
    }
   ],
   "source": [
    "mean_s = samples.mean()\n",
    "mean_s"
   ]
  },
  {
   "cell_type": "code",
   "execution_count": 11,
   "id": "31145b3f",
   "metadata": {},
   "outputs": [
    {
     "data": {
      "text/plain": [
       "0.9767529623571052"
      ]
     },
     "execution_count": 11,
     "metadata": {},
     "output_type": "execute_result"
    }
   ],
   "source": [
    "samples.std()"
   ]
  },
  {
   "cell_type": "code",
   "execution_count": null,
   "id": "1430589e",
   "metadata": {},
   "outputs": [],
   "source": []
  }
 ],
 "metadata": {
  "kernelspec": {
   "display_name": "Python 3 (ipykernel)",
   "language": "python",
   "name": "python3"
  },
  "language_info": {
   "codemirror_mode": {
    "name": "ipython",
    "version": 3
   },
   "file_extension": ".py",
   "mimetype": "text/x-python",
   "name": "python",
   "nbconvert_exporter": "python",
   "pygments_lexer": "ipython3",
   "version": "3.9.12"
  }
 },
 "nbformat": 4,
 "nbformat_minor": 5
}
