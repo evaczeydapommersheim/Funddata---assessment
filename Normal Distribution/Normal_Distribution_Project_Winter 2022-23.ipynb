{
 "cells": [
  {
   "cell_type": "markdown",
   "id": "dbb105dc",
   "metadata": {},
   "source": [
    "# Assessment Project - Fundamentals of Data Analysis\n",
    "\n",
    "Submitted by Eva Czeyda-Pommersheim as module fulfilment of HDip in Computing in Data Analytics Winter Semester 2022/2023"
   ]
  },
  {
   "cell_type": "markdown",
   "id": "63fd939b",
   "metadata": {},
   "source": [
    "### Project Assignment:\n",
    "\n",
    " - Create a Github repository including a:\n",
    "     - jupyter notebook on the Normal Distribution\n",
    "     - ReadMe file\n",
    "     - .gitignore file\n",
    " - Define and explain the main concepts of Normal Distribution\n",
    " - Use visual plots to explain concepts\n",
    " \n",
    "Prepare the work to achieve a clear understanding of the normal distribution for non-scholarly audience. "
   ]
  },
  {
   "cell_type": "markdown",
   "id": "f8ef2b18",
   "metadata": {},
   "source": [
    "### Chapter 1 - Definition of the Normal Distribution"
   ]
  },
  {
   "cell_type": "markdown",
   "id": "34fdc6e8",
   "metadata": {},
   "source": [
    "In the world of data, mathematics and statistics data types are differentiated between discrete and continuous data.\n",
    "\n",
    "As per definition on ![Wikipedia](https://en.wikipedia.org/wiki/Continuous_or_discrete_variable) both data types are quantitative variables and can be obtained either by counting (Discrete) and hence resulting in an integer value of a real number or by measuring (Continuous) and resulting in a float number, i.e. can take on any value between the range of two real numbers."
   ]
  },
  {
   "cell_type": "markdown",
   "id": "701d6ed3",
   "metadata": {},
   "source": [
    "Discrete data may be defined by example of counting the heads or tails when tossing a coin, or how many defects are captured be operators for different failure modes in a manufacturing environment. \n",
    "\n",
    "Continuous data may be described by measuring the length of the distance between cities in Ireland or the average temperature in each month of the year.\n",
    "\n",
    "In statistics studies the type of distribution the collected (counted or measure) data/phenomenon may have.\n",
    "\n",
    "The Normal Distribution is one of the many distribution that would be recognized by statistics. \n",
    "\n",
    "It is often also called the Gaussian Distribution, which is a type of continuous probability distribution.\n",
    "\n",
    "It is described by the probability density function of:"
   ]
  },
  {
   "cell_type": "markdown",
   "id": "3eee730f",
   "metadata": {},
   "source": [
    "$$ \\frac{1}{\\sigma\\sqrt{2\\pi}}e^{-\\frac{1}{2}\\left(\\frac{x- \\mu}{\\sigma}\\right)^{\\!2}} $$"
   ]
  },
  {
   "cell_type": "code",
   "execution_count": null,
   "id": "4f025490",
   "metadata": {},
   "outputs": [],
   "source": []
  }
 ],
 "metadata": {
  "kernelspec": {
   "display_name": "Python 3 (ipykernel)",
   "language": "python",
   "name": "python3"
  },
  "language_info": {
   "codemirror_mode": {
    "name": "ipython",
    "version": 3
   },
   "file_extension": ".py",
   "mimetype": "text/x-python",
   "name": "python",
   "nbconvert_exporter": "python",
   "pygments_lexer": "ipython3",
   "version": "3.9.12"
  }
 },
 "nbformat": 4,
 "nbformat_minor": 5
}
