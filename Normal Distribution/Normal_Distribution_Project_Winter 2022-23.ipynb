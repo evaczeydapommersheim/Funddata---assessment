{
 "cells": [
  {
   "cell_type": "markdown",
   "id": "dbb105dc",
   "metadata": {},
   "source": [
    "# Assessment Project - Fundamentals of Data Analysis\n",
    "\n",
    "Submitted by Eva Czeyda-Pommersheim as module fulfilment of HDip in Computing in Data Analytics Winter Semester 2022/2023"
   ]
  },
  {
   "cell_type": "markdown",
   "id": "63fd939b",
   "metadata": {},
   "source": [
    "### Project Assignment:\n",
    "\n",
    " - Create a Github repository including a:\n",
    "     - jupyter notebook on the Normal Distribution\n",
    "     - ReadMe file\n",
    "     - .gitignore file\n",
    " - Define and explain the main concepts of Normal Distribution\n",
    " - Use visual plots to explain concepts\n",
    " \n",
    "Prepare the work to achieve a clear understanding of the normal distribution. "
   ]
  },
  {
   "cell_type": "code",
   "execution_count": 2,
   "id": "2e3ec73c",
   "metadata": {},
   "outputs": [],
   "source": [
    "import numpy as np\n",
    "import scipy.stats as ss\n",
    "import matplotlib.pyplot as plt\n",
    "from matplotlib.pyplot import cm"
   ]
  },
  {
   "cell_type": "markdown",
   "id": "7e074dc0",
   "metadata": {},
   "source": [
    "### 1. Introduction"
   ]
  },
  {
   "cell_type": "markdown",
   "id": "34fdc6e8",
   "metadata": {},
   "source": [
    "In the world of data, mathematics and statistics data types are differentiated between discrete and continuous data.\n",
    "\n",
    "As per definition on [Wikipedia](https://en.wikipedia.org/wiki/Continuous_or_discrete_variable) both data types are quantitative variables and can be obtained either by counting and hence resulting in an integer value of a real number (Discrete) or by measuring and resulting in a float number (Continuous), i.e. can take on any value between the range of two real numbers."
   ]
  },
  {
   "cell_type": "markdown",
   "id": "701d6ed3",
   "metadata": {},
   "source": [
    "Discrete data may be defined by example of counting the heads or tails when tossing a coin, or how many defects are captured be operators for different failure modes in a manufacturing environment."
   ]
  },
  {
   "cell_type": "code",
   "execution_count": 3,
   "id": "ebe29cad",
   "metadata": {},
   "outputs": [],
   "source": [
    "# Rolling a dice will return an integer value.\n",
    "# Using numpy Random Number Generator (rng) discrete numbers can be generated and their distribution can be plotted.\n",
    "# Using a seed (0) to ensure the same values are returned consistently.\n",
    "rng = np.random.default_rng(0) \n",
    "rolls = rng.integers(low=1, high=7, size=100)"
   ]
  },
  {
   "cell_type": "code",
   "execution_count": 4,
   "id": "19d85708",
   "metadata": {},
   "outputs": [
    {
     "data": {
      "image/png": "[encoded data removed]",
      "text/plain": [
       "<Figure size 432x288 with 1 Axes>"
      ]
     },
     "metadata": {
      "needs_background": "light"
     },
     "output_type": "display_data"
    }
   ],
   "source": [
    "# Plotting the distribution of outcomes when rolling a dice 100 times\n",
    "plt.hist(rolls)\n",
    "plt.title(\"Rolling a dice 100 times- Distribution of outcomes\");"
   ]
  },
  {
   "cell_type": "markdown",
   "id": "772e45f4",
   "metadata": {},
   "source": [
    "The discrete values are shown in this graph, each outcome having equal chance (same probability of 1/6) to be returned, but with the 100 sample size (rolling dice 100 times) certain outcomes occur more frequently than others.\n",
    "The higher the sample, the higher number of times the dice is rolled the more uniform the results will become due to having the same probability of each occurring. "
   ]
  },
  {
   "cell_type": "code",
   "execution_count": 5,
   "id": "932b637d",
   "metadata": {},
   "outputs": [
    {
     "data": {
      "image/png": "[encoded data removed]",
      "text/plain": [
       "<Figure size 864x432 with 1 Axes>"
      ]
     },
     "metadata": {
      "needs_background": "light"
     },
     "output_type": "display_data"
    }
   ],
   "source": [
    "# Rolling a dice 10000 times\n",
    "rolls_1 = rng.integers(low=1, high=7, size=10000)\n",
    "# Plotting results on new histogram\n",
    "# Determining the size of the plot\n",
    "fig, ax = plt.subplots(figsize=(12, 6))\n",
    "plt.hist(rolls_1);\n",
    "plt.title(\"Rolling a dice 10,000 times - Distribution of outcomes\");"
   ]
  },
  {
   "cell_type": "markdown",
   "id": "752ce50a",
   "metadata": {},
   "source": [
    "Continuous data may be described for instance by measuring the length of the distance between cities in Ireland or the average temperature in each month of the year. It represents any floating value between two numbers."
   ]
  },
  {
   "cell_type": "code",
   "execution_count": 6,
   "id": "a3893abc",
   "metadata": {},
   "outputs": [
    {
     "data": {
      "text/plain": [
       "Text(0.5, 1.0, 'Continuous data')"
      ]
     },
     "execution_count": 6,
     "metadata": {},
     "output_type": "execute_result"
    },
    {
     "data": {
      "image/png": "[encoded data removed]",
      "text/plain": [
       "<Figure size 864x432 with 1 Axes>"
      ]
     },
     "metadata": {
      "needs_background": "light"
     },
     "output_type": "display_data"
    }
   ],
   "source": [
    "# Numpy can be used to generate float numbers (continuous values) and visualize their distribution.\n",
    "# Determining the size of the plot\n",
    "fig, ax = plt.subplots(figsize=(12, 6))\n",
    "data = rng.random(1000) #Returns random floats in the half-open interval [0.0, 1.0).\n",
    "plt.hist(data);\n",
    "plt.title(\"Continuous data\")"
   ]
  },
  {
   "cell_type": "markdown",
   "id": "bed27700",
   "metadata": {},
   "source": [
    "Basic terms in statistics are the mean, the mode and the median of a particular dataset/phenomenon. The field of statistics also studies the shapes of the distributions to understand the spread of the values around the mean and median. In every day life, a lot of things around us can be expressed by numbers, as a data, which then can be collected/measured, analysed and later used to prognose, calculate  probablility of occurence of certain scenarios.\n",
    "Therefore, data is all around us and understanding of the different distributions is highly important in statistics."
   ]
  },
  {
   "cell_type": "markdown",
   "id": "5d4752f5",
   "metadata": {},
   "source": [
    "### 2. Definition and Properties of the Normal (Gaussian) Distribution"
   ]
  },
  {
   "cell_type": "markdown",
   "id": "f70be15f",
   "metadata": {},
   "source": [
    "The **Normal Distribution** is one of the many distributions that has been studied by statistics. \n",
    "It is often also called the **Gaussian Distribution**, which is a type of continuous probability distribution.\n",
    "\n",
    "Properties of the Normal Distribution:\n",
    "* The **mean** the **median** and the **mode** are equal in value.\n",
    "* The curve is symmetric at the centre, meaning that the distribution of the data is centerred around the **mean ($\\mu$)**. \n",
    "  Exactly half of the values (50% or 0.5) under the curve are to the left side of the mean and exactly half of the values (the other 50% or 0.5) are to the right side of the mean.\n",
    "* The width of the distribution is determined by the **standard deviation ($\\sigma$)** around the mean.\n",
    "* The **variance** of the normal distribution is **$\\sigma^2$**\n",
    "* The area under the curve is equal to 1 or 100%.\n",
    "\n",
    "The symmetrical curve is often referred to as the \"bell curve\", when graphically presented, due to its bell shape. \n",
    "It is important to note that there are other distributions which are presented with a symmetrical curve and are bell shaped, but it does not mean that they are normally distributed."
   ]
  },
  {
   "cell_type": "markdown",
   "id": "978d064a",
   "metadata": {},
   "source": [
    "### 2.1 Vizualization of the properties of the Normal Distribution"
   ]
  },
  {
   "cell_type": "code",
   "execution_count": 7,
   "id": "33e3ff96",
   "metadata": {},
   "outputs": [],
   "source": [
    "# Numpy is used to generate values that are normally distributed\n",
    "rng = np.random.default_rng(0)\n",
    "mu, sigma = 5.0, 2.0\n",
    "norm = np.random.default_rng().normal(mu, sigma, 1000000)"
   ]
  },
  {
   "cell_type": "markdown",
   "id": "36640883",
   "metadata": {},
   "source": [
    "### Mean ($\\mu$)"
   ]
  },
  {
   "cell_type": "code",
   "execution_count": 8,
   "id": "1a8911c8",
   "metadata": {},
   "outputs": [
    {
     "data": {
      "text/plain": [
       "5.003486781634674"
      ]
     },
     "execution_count": 8,
     "metadata": {},
     "output_type": "execute_result"
    }
   ],
   "source": [
    "# Mean is the average value of all the values in the array/distribution of values:\n",
    "mean = np.mean(norm)\n",
    "mean"
   ]
  },
  {
   "cell_type": "code",
   "execution_count": 9,
   "id": "25b8256a",
   "metadata": {},
   "outputs": [
    {
     "data": {
      "text/plain": [
       "5.004245240832529"
      ]
     },
     "execution_count": 9,
     "metadata": {},
     "output_type": "execute_result"
    }
   ],
   "source": [
    "# Median is the middle value of an ordered list of values.\n",
    "median = np.median(norm)\n",
    "median"
   ]
  },
  {
   "cell_type": "code",
   "execution_count": 10,
   "id": "7810da28",
   "metadata": {},
   "outputs": [
    {
     "data": {
      "image/png": "[encoded data removed]",
      "text/plain": [
       "<Figure size 864x432 with 1 Axes>"
      ]
     },
     "metadata": {
      "needs_background": "light"
     },
     "output_type": "display_data"
    }
   ],
   "source": [
    "# Determining the size of the plot\n",
    "fig, ax = plt.subplots(figsize=(12, 6))\n",
    "# Plotting the datapoints on a histogram breaking values into 100 bins\n",
    "plt.hist(norm, bins=100, density=True);\n",
    "plt.title(\"Example of Normal Distribution with Mean and Median\");\n",
    "#Adding the mean and median lines to show they are equal\n",
    "plt.axvline(x=mean, color =\"black\", linewidth=4.0, label = \"Mean ($\\mu$)\")\n",
    "plt.axvline(x=median, color =\"orange\", linewidth=2.0, linestyle='--', label=\"Median\")\n",
    "plt.xlabel(\"Value\")\n",
    "plt.ylabel(\"Frequency\")\n",
    "plt.legend();"
   ]
  },
  {
   "cell_type": "markdown",
   "id": "edd2c008",
   "metadata": {},
   "source": [
    "Both the mean and the median are equal as the orange dotted line of the median is exactly on the red line of the mean."
   ]
  },
  {
   "cell_type": "markdown",
   "id": "8231ad19",
   "metadata": {},
   "source": [
    "### Standard Deviation ($\\sigma$)\n",
    "\n",
    "The standard deviation in this example is set to $\\sigma$ = 2.0."
   ]
  },
  {
   "cell_type": "code",
   "execution_count": 15,
   "id": "445fd8c6",
   "metadata": {},
   "outputs": [
    {
     "data": {
      "text/plain": [
       "1.998198786733777"
      ]
     },
     "execution_count": 15,
     "metadata": {},
     "output_type": "execute_result"
    }
   ],
   "source": [
    "# The standard deviation can be confirmed by using numpy std method\n",
    "sd = np.std(norm)\n",
    "sd"
   ]
  },
  {
   "cell_type": "code",
   "execution_count": 17,
   "id": "e720376b",
   "metadata": {},
   "outputs": [
    {
     "data": {
      "image/png": "[encoded data removed]",
      "text/plain": [
       "<Figure size 864x432 with 1 Axes>"
      ]
     },
     "metadata": {
      "needs_background": "light"
     },
     "output_type": "display_data"
    }
   ],
   "source": [
    "# Visualization of the normal distribution including the standard deviation\n",
    "\n",
    "# Determining the size of the plot\n",
    "fig, ax = plt.subplots(figsize=(12, 6))\n",
    "# Plotting the datapoints on a histogram breaking values into 100 bins\n",
    "plt.hist(norm, bins=100, density=True);\n",
    "plt.title(\"Example of Normal Distribution Plot with $\\sigma$\");\n",
    "\n",
    "#Adding the mean to the plot\n",
    "plt.axvline(x=mean, color =\"black\", linewidth=4.0, label = \"$\\mu$=Mean\")\n",
    "\n",
    "# Creating the list for the units of standard deviations\n",
    "std_range = [-3, -2, -1, 1, 2, 3]\n",
    "# Setting a color range for plotting lines\n",
    "color = cm.rainbow(np.linspace(0, 1, 6))\n",
    "\n",
    "# For loop to plot each line of standard deviation (adapting code from Topic 04 - Outliers lecture)\n",
    "for i, c in zip(std_range, color):\n",
    "    plt.axvline(x=mean+i*sd, linewidth=3.0, c = c, label = rf'${i}\\sigma$')\n",
    "\n",
    "# Adding labels to the plot\n",
    "plt.xlabel(\"Value\")\n",
    "plt.ylabel(\"Frequency\")\n",
    "            \n",
    "plt.legend();"
   ]
  },
  {
   "cell_type": "markdown",
   "id": "387c6da3",
   "metadata": {},
   "source": [
    "### Probability Density Function (PDF)"
   ]
  },
  {
   "cell_type": "markdown",
   "id": "26808e4a",
   "metadata": {},
   "source": [
    "The PDF is used to specify the probability of a continuous random variable falling within a particular range of values, as opposed to taking on any one value (Refer to [Wikipedia definitions](https://en.wikipedia.org/wiki/Probability_density_function)).<p>\n",
    "The probability is given by the area under the density function but above the horizontal axis and between the lowest and greatest values of the range. The probability density function is nonnegative everywhere, and the area under the entire curve is equal to 1.<p>\n",
    "    \n",
    "The PDF of the Gaussian Normal Distribution is the following:\n",
    "    \n",
    "$$ \\frac{1}{\\sigma\\sqrt{2\\pi}}e^{-\\frac{1}{2}\\left(\\frac{x- \\mu}{\\sigma}\\right)^{\\!2}} $$"
   ]
  },
  {
   "cell_type": "code",
   "execution_count": 28,
   "id": "95dabb1b",
   "metadata": {},
   "outputs": [
    {
     "data": {
      "image/png": "[encoded data removed]",
      "text/plain": [
       "<Figure size 864x432 with 1 Axes>"
      ]
     },
     "metadata": {
      "needs_background": "light"
     },
     "output_type": "display_data"
    }
   ],
   "source": [
    "# Determining the size of the plot\n",
    "fig, ax = plt.subplots(figsize=(12, 6))\n",
    "\n",
    "# Source for below code is from Numpy documentation (https://numpy.org/doc/stable/reference/random/generated/numpy.random.Generator.normal.html)\n",
    "count, bins, ignored = plt.hist(norm, 50, density=True)\n",
    "plt.plot(bins, 1/(sigma * np.sqrt(2 * np.pi)) *\n",
    "               np.exp( - (bins - mu)**2 / (2 * sigma**2) ),\n",
    "         linewidth=2.0, color='r', label = \"PDF\")\n",
    "plt.axvline(x=mean, color =\"black\", linewidth=2.0, label = \"$\\mu$=Mean\")\n",
    "plt.xlabel(\"Value\")\n",
    "plt.ylabel(\"Frequency\")\n",
    "plt.title(\"Visualization of the Probability Density Function for Normally Distributed Data Example\")\n",
    "plt.legend()\n",
    "plt.show()"
   ]
  },
  {
   "cell_type": "markdown",
   "id": "7768b090",
   "metadata": {},
   "source": [
    "### 3. The Standard Normal Distribution "
   ]
  },
  {
   "cell_type": "markdown",
   "id": "a1f5232a",
   "metadata": {},
   "source": [
    "As per [Wikipedia Definition](https://en.wikipedia.org/wiki/Normal_distribution#Standard_normal_distribution):\n",
    "\n",
    "#### The simplest case of a normal distribution is known as the standard normal distribution or unit normal distribution.\n",
    "\n",
    "#### This is a special case when $\\mu$ = 0 and $\\sigma$ =1, and it is described by this probability density function (or density):\n",
    "\n",
    "$$"
   ]
  },
  {
   "cell_type": "code",
   "execution_count": 15,
   "id": "f8352245",
   "metadata": {},
   "outputs": [
    {
     "data": {
      "image/png": "[encoded data removed]",
      "text/plain": [
       "<Figure size 432x288 with 1 Axes>"
      ]
     },
     "metadata": {
      "needs_background": "light"
     },
     "output_type": "display_data"
    }
   ],
   "source": [
    "# Create new, seeded random number generator.\n",
    "rng = np.random.default_rng(0)\n",
    "\n",
    "# Generate 1000 numbers on a standard normal distribution.\n",
    "samples = rng.standard_normal(1000)\n",
    "# Create a figure.\n",
    "fig, ax = plt.subplots();\n",
    "\n",
    "# Create histogram.\n",
    "ax.hist(samples, bins=60);\n",
    "plt.axvline(x=0.0, color='red');"
   ]
  },
  {
   "cell_type": "code",
   "execution_count": 10,
   "id": "4dc93c99",
   "metadata": {},
   "outputs": [
    {
     "data": {
      "text/plain": [
       "-0.04802827676298692"
      ]
     },
     "execution_count": 10,
     "metadata": {},
     "output_type": "execute_result"
    }
   ],
   "source": [
    "mean_s = samples.mean()\n",
    "mean_s"
   ]
  },
  {
   "cell_type": "code",
   "execution_count": 11,
   "id": "31145b3f",
   "metadata": {},
   "outputs": [
    {
     "data": {
      "text/plain": [
       "0.9767529623571052"
      ]
     },
     "execution_count": 11,
     "metadata": {},
     "output_type": "execute_result"
    }
   ],
   "source": [
    "samples.std()"
   ]
  },
  {
   "cell_type": "markdown",
   "id": "c45c4449",
   "metadata": {},
   "source": []
  },
  {
   "cell_type": "code",
   "execution_count": null,
   "id": "9a7e84e8",
   "metadata": {},
   "outputs": [],
   "source": []
  }
 ],
 "metadata": {
  "kernelspec": {
   "display_name": "Python 3 (ipykernel)",
   "language": "python",
   "name": "python3"
  },
  "language_info": {
   "codemirror_mode": {
    "name": "ipython",
    "version": 3
   },
   "file_extension": ".py",
   "mimetype": "text/x-python",
   "name": "python",
   "nbconvert_exporter": "python",
   "pygments_lexer": "ipython3",
   "version": "3.9.12"
  }
 },
 "nbformat": 4,
 "nbformat_minor": 5
}
