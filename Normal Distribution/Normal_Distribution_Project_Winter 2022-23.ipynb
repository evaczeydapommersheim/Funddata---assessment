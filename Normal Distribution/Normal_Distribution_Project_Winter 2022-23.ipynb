{
 "cells": [
  {
   "cell_type": "markdown",
   "id": "dbb105dc",
   "metadata": {},
   "source": [
    "# Assessment Project - Fundamentals of Data Analysis\n",
    "\n",
    "Submitted by Eva Czeyda-Pommersheim as module fulfilment of HDip in Computing in Data Analytics Winter Semester 2022/2023"
   ]
  },
  {
   "cell_type": "markdown",
   "id": "63fd939b",
   "metadata": {},
   "source": [
    "### Project Assignment:\n",
    "\n",
    " - Create a Github repository including a:\n",
    "     - jupyter notebook on the Normal Distribution\n",
    "     - ReadMe file\n",
    "     - .gitignore file\n",
    " - Define and explain the main concepts of Normal Distribution\n",
    " - Use visual plots to explain concepts\n",
    " \n",
    "Prepare the work to achieve a clear understanding of the normal distribution. "
   ]
  },
  {
   "cell_type": "code",
   "execution_count": 117,
   "id": "2e3ec73c",
   "metadata": {},
   "outputs": [],
   "source": [
    "import numpy as np\n",
    "import scipy.stats as ss\n",
    "import matplotlib.pyplot as plt\n",
    "from matplotlib.pyplot import cm"
   ]
  },
  {
   "cell_type": "markdown",
   "id": "7e074dc0",
   "metadata": {},
   "source": [
    "### 1. Introduction"
   ]
  },
  {
   "cell_type": "markdown",
   "id": "34fdc6e8",
   "metadata": {},
   "source": [
    "In the world of data, mathematics and statistics data types are differentiated between discrete and continuous data.\n",
    "\n",
    "As per definition on [Wikipedia](https://en.wikipedia.org/wiki/Continuous_or_discrete_variable) both data types are quantitative variables and can be obtained either by counting and hence resulting in an integer value of a real number (Discrete) or by measuring and resulting in a float number (Continuous), i.e. can take on any value between the range of two real numbers."
   ]
  },
  {
   "cell_type": "markdown",
   "id": "701d6ed3",
   "metadata": {},
   "source": [
    "Discrete data may be defined by example of counting the heads or tails when tossing a coin, or how many defects are captured be operators for different failure modes in a manufacturing environment."
   ]
  },
  {
   "cell_type": "code",
   "execution_count": 118,
   "id": "ebe29cad",
   "metadata": {},
   "outputs": [],
   "source": [
    "# Rolling a dice will return an integer value.\n",
    "# Using numpy Random Number Generator (rng) discrete numbers can be generated and their distribution can be plotted.\n",
    "# Using a seed (0) to ensure the same values are returned consistently.\n",
    "rng = np.random.default_rng(0) \n",
    "rolls = rng.integers(low=1, high=7, size=100)"
   ]
  },
  {
   "cell_type": "code",
   "execution_count": 119,
   "id": "19d85708",
   "metadata": {},
   "outputs": [
    {
     "data": {
      "image/png": "[encoded data removed]",
      "text/plain": [
       "<Figure size 432x288 with 1 Axes>"
      ]
     },
     "metadata": {
      "needs_background": "light"
     },
     "output_type": "display_data"
    }
   ],
   "source": [
    "# Plotting the distribution of outcomes when rolling a dice 100 times\n",
    "plt.hist(rolls)\n",
    "plt.title(\"Rolling a dice 100 times- Distribution of outcomes\");"
   ]
  },
  {
   "cell_type": "markdown",
   "id": "772e45f4",
   "metadata": {},
   "source": [
    "The discrete values are shown in this graph, each outcome having equal chance (same probability of 1/6) to be returned, but with the 100 sample size (rolling dice 100 times) certain outcomes occur more frequently than others.\n",
    "The higher the sample, the higher number of times the dice is rolled the more uniform the results will become due to having the same probability of each occurring. "
   ]
  },
  {
   "cell_type": "code",
   "execution_count": 120,
   "id": "932b637d",
   "metadata": {},
   "outputs": [
    {
     "data": {
      "image/png": "[encoded data removed]",
      "text/plain": [
       "<Figure size 864x432 with 1 Axes>"
      ]
     },
     "metadata": {
      "needs_background": "light"
     },
     "output_type": "display_data"
    }
   ],
   "source": [
    "# Rolling a dice 10000 times\n",
    "rolls_1 = rng.integers(low=1, high=7, size=10000)\n",
    "# Plotting results on new histogram\n",
    "# Determining the size of the plot\n",
    "fig, ax = plt.subplots(figsize=(12, 6))\n",
    "plt.hist(rolls_1);\n",
    "plt.title(\"Rolling a dice 10,000 times - Distribution of outcomes\");"
   ]
  },
  {
   "cell_type": "markdown",
   "id": "752ce50a",
   "metadata": {},
   "source": [
    "Continuous data may be described for instance by measuring the length of the distance between cities in Ireland or the average temperature in each month of the year. It represents any floating value between two numbers."
   ]
  },
  {
   "cell_type": "code",
   "execution_count": 121,
   "id": "a3893abc",
   "metadata": {},
   "outputs": [
    {
     "data": {
      "text/plain": [
       "Text(0.5, 1.0, 'Continuous data')"
      ]
     },
     "execution_count": 121,
     "metadata": {},
     "output_type": "execute_result"
    },
    {
     "data": {
      "image/png": "[encoded data removed]",
      "text/plain": [
       "<Figure size 864x432 with 1 Axes>"
      ]
     },
     "metadata": {
      "needs_background": "light"
     },
     "output_type": "display_data"
    }
   ],
   "source": [
    "# Numpy can be used to generate float numbers (continuous values) and visualize their distribution.\n",
    "# Determining the size of the plot\n",
    "fig, ax = plt.subplots(figsize=(12, 6))\n",
    "data = rng.random(1000) #Returns random floats in the half-open interval [0.0, 1.0).\n",
    "plt.hist(data);\n",
    "plt.title(\"Continuous data\")"
   ]
  },
  {
   "cell_type": "markdown",
   "id": "bed27700",
   "metadata": {},
   "source": [
    "Basic terms in statistics are the mean, the mode and the median of a particular dataset/phenomenon. The field of statistics also studies the shapes of the distributions to understand the spread of the values around the mean and median. In every day life, a lot of things around us can be expressed by numbers, as a data, which then can be collected/measured, analysed and later used to prognose, calculate  probablility of occurence of certain scenarios.\n",
    "Therefore, data is all around us and understanding of the different distributions is highly important in statistics."
   ]
  },
  {
   "cell_type": "markdown",
   "id": "5d4752f5",
   "metadata": {},
   "source": [
    "### 2. Definition and Properties of the Normal (Gaussian) Distribution"
   ]
  },
  {
   "cell_type": "markdown",
   "id": "f70be15f",
   "metadata": {},
   "source": [
    "The **Normal Distribution** is one of the many distributions that has been studied by statistics. \n",
    "It is often also called the **Gaussian Distribution**, which is a type of continuous probability distribution.\n",
    "\n",
    "Properties of the Normal Distribution:\n",
    "* The **mean** the **median** and the **mode** are equal in value.\n",
    "* The curve is symmetric at the centre, meaning that the distribution of the data is centerred around the **mean ($\\mu$)**. \n",
    "  Exactly half of the values (50% or 0.5) under the curve are to the left side of the mean and exactly half of the values (the other 50% or 0.5) are to the right side of the mean.\n",
    "  The skeness of the curve is equal to zero.\n",
    "* The width of the distribution is determined by the **standard deviation ($\\sigma$)** around the mean.\n",
    "* The **variance** of the normal distribution is **$\\sigma^2$**\n",
    "* The area under the curve is equal to 1 or 100%.\n",
    "\n",
    "The symmetrical curve is often referred to as the \"bell curve\", when graphically presented, due to its bell shape. \n",
    "It is important to note that there are other distributions which are presented with a symmetrical curve and are bell shaped, but it does not mean that they are normally distributed.\n",
    "<p> The two main parameters of the normal distribution are:<p>\n",
    "- Mean ($\\mu$),<p>\n",
    "- Standard Deviation ($\\sigma$), variance ($\\sigma^2$)<p>"
   ]
  },
  {
   "cell_type": "markdown",
   "id": "978d064a",
   "metadata": {},
   "source": [
    "### 2.1 Vizualization of the properties of the Normal Distribution"
   ]
  },
  {
   "cell_type": "code",
   "execution_count": 139,
   "id": "33e3ff96",
   "metadata": {},
   "outputs": [],
   "source": [
    "# Numpy is used to generate values that are normally distributed\n",
    "rng = np.random.default_rng(0)\n",
    "mu, sigma = 5.0, 2.0\n",
    "norm = np.random.default_rng().normal(mu, sigma, 10000)"
   ]
  },
  {
   "cell_type": "markdown",
   "id": "36640883",
   "metadata": {},
   "source": [
    "### Mean ($\\mu$) and Median\n",
    "\n",
    "The mean is a mathematical average of a set of data (this can be a population mean or the mean of a sample from a population). It can be obtained by simply summing all the values/observations of a dataset/phenomenon and dividing them by the number of values/observations. It may be biased by the facts that in certain groups of values/obeservations there may be outliers which can distort the value of the mean. \n",
    "\n",
    "The Median is also a good measure when trying to detemine the middle value of a dataset. It does not get impacted but outliers, it is also often referred to as a positional average. The mediam is the middle most value of data which are arranged in an increasing or decreasing order. In situations where the dataset consists of an uneven number of values/observations, the Median will be the middle value once arranged in order. In case there are an even number of observations the Median will be the average value of the two middle most values. \n",
    "\n",
    "The numpy package allows for these values to be obtained easily by using the following functions:\n",
    "\n",
    "- numpy.mean()\n",
    "- numpy.meadian()"
   ]
  },
  {
   "cell_type": "code",
   "execution_count": 140,
   "id": "1a8911c8",
   "metadata": {},
   "outputs": [
    {
     "data": {
      "text/plain": [
       "5.0196676363028745"
      ]
     },
     "execution_count": 140,
     "metadata": {},
     "output_type": "execute_result"
    }
   ],
   "source": [
    "# Mean is the average value of all the values in the array/distribution of values:\n",
    "mean = np.mean(norm)\n",
    "mean"
   ]
  },
  {
   "cell_type": "code",
   "execution_count": 142,
   "id": "25b8256a",
   "metadata": {},
   "outputs": [
    {
     "data": {
      "text/plain": [
       "7"
      ]
     },
     "execution_count": 142,
     "metadata": {},
     "output_type": "execute_result"
    }
   ],
   "source": [
    "# Explanation of Median for an array of uneven observations:\n",
    "list1 = [1,2,3,4,5,6,7]\n",
    "# Length of the list is uneven:\n",
    "len(list1)"
   ]
  },
  {
   "cell_type": "code",
   "execution_count": 143,
   "id": "000641cf",
   "metadata": {},
   "outputs": [
    {
     "data": {
      "text/plain": [
       "4.0"
      ]
     },
     "execution_count": 143,
     "metadata": {},
     "output_type": "execute_result"
    }
   ],
   "source": [
    "# The middle most value of list1 is number 4:\n",
    "np.median(list1)"
   ]
  },
  {
   "cell_type": "code",
   "execution_count": 144,
   "id": "d98e7606",
   "metadata": {},
   "outputs": [
    {
     "data": {
      "text/plain": [
       "6"
      ]
     },
     "execution_count": 144,
     "metadata": {},
     "output_type": "execute_result"
    }
   ],
   "source": [
    "# Explanation of Median for an array of even observations:\n",
    "list2 = [1,2,3,4,5,6]\n",
    "# Length of the list is uneven:\n",
    "len(list2)"
   ]
  },
  {
   "cell_type": "code",
   "execution_count": 145,
   "id": "c3e4626b",
   "metadata": {},
   "outputs": [
    {
     "data": {
      "text/plain": [
       "3.5"
      ]
     },
     "execution_count": 145,
     "metadata": {},
     "output_type": "execute_result"
    }
   ],
   "source": [
    "# The middle most value of list1 is number (3+4)/2 = 3.5:\n",
    "np.median(list2)"
   ]
  },
  {
   "cell_type": "code",
   "execution_count": 146,
   "id": "c4d782a2",
   "metadata": {},
   "outputs": [
    {
     "data": {
      "text/plain": [
       "4.999369994905777"
      ]
     },
     "execution_count": 146,
     "metadata": {},
     "output_type": "execute_result"
    }
   ],
   "source": [
    "# Median of the example variable \"norm\":\n",
    "median = np.median(norm)\n",
    "median"
   ]
  },
  {
   "cell_type": "code",
   "execution_count": 147,
   "id": "7810da28",
   "metadata": {},
   "outputs": [
    {
     "data": {
      "image/png": "[encoded data removed]",
      "text/plain": [
       "<Figure size 864x432 with 1 Axes>"
      ]
     },
     "metadata": {
      "needs_background": "light"
     },
     "output_type": "display_data"
    }
   ],
   "source": [
    "# Determining the size of the plot\n",
    "fig, ax = plt.subplots(figsize=(12, 6))\n",
    "# Plotting the datapoints on a histogram breaking values into 100 bins\n",
    "plt.hist(norm, bins=30, density=True);\n",
    "plt.title(\"Example of Normal Distribution with Mean and Median\");\n",
    "#Adding the mean and median lines to show they are equal\n",
    "plt.axvline(x=mean, color =\"black\", linewidth=4.0, label = \"Mean ($\\mu$)\")\n",
    "plt.axvline(x=median, color =\"orange\", linewidth=2.0, linestyle='--', label=\"Median\")\n",
    "plt.xlabel(\"Value\")\n",
    "plt.ylabel(\"Frequency\")\n",
    "plt.legend();"
   ]
  },
  {
   "cell_type": "markdown",
   "id": "edd2c008",
   "metadata": {},
   "source": [
    "Both the mean and the median are equal as the orange dotted line of the median is exactly on the red line of the mean."
   ]
  },
  {
   "cell_type": "markdown",
   "id": "7418d4d4",
   "metadata": {},
   "source": [
    "As the normal distribution is a type of probability distribution and hence can predict the probability of a variable to fall within a certain range of value (greater than, less than or between), the overall area under the curve is underestood to be 1 or 100%. \n",
    "\n",
    "Changes in the mean ($\\mu$) will only change the position of the curve on the x-axis (move to the left or to the right). There will be no change in the shape of the bell curve nor in its spread."
   ]
  },
  {
   "cell_type": "markdown",
   "id": "8231ad19",
   "metadata": {},
   "source": [
    "### Standard Deviation ($\\sigma$)\n",
    "\n",
    "The standard deviations shows how far the individual observations are from the mean value.\n",
    "It is denoted by the Greek letter sigma ($\\sigma$) when it is the standard deviation of a population and the letter \"s\" when it is used to describe the standard deviation of a sample from a population.\n",
    "\n",
    "Its value is an approximate value of the average difference between each observation and the mean value. \n",
    "\n",
    "The square value of the standard deviation ($\\sigma$) describes the variance ($\\sigma^2$) of the population/sample. Alternatively, the square root of the varience return the standard deviation of the population/sample.\n",
    "\n",
    "The standard deviation in this example is set to $\\sigma$ = 2.0."
   ]
  },
  {
   "cell_type": "code",
   "execution_count": 126,
   "id": "445fd8c6",
   "metadata": {},
   "outputs": [
    {
     "data": {
      "text/plain": [
       "2.0016040658511223"
      ]
     },
     "execution_count": 126,
     "metadata": {},
     "output_type": "execute_result"
    }
   ],
   "source": [
    "# The standard deviation can be confirmed by using numpy std function:\n",
    "sd = np.std(norm)\n",
    "sd"
   ]
  },
  {
   "cell_type": "code",
   "execution_count": 138,
   "id": "e720376b",
   "metadata": {},
   "outputs": [
    {
     "data": {
      "image/png": "[encoded data removed]",
      "text/plain": [
       "<Figure size 864x432 with 1 Axes>"
      ]
     },
     "metadata": {
      "needs_background": "light"
     },
     "output_type": "display_data"
    }
   ],
   "source": [
    "# Visualization of the normal distribution including the standard deviation\n",
    "\n",
    "# Determining the size of the plot\n",
    "fig, ax = plt.subplots(figsize=(12, 6))\n",
    "# Plotting the datapoints on a histogram breaking values into 100 bins\n",
    "plt.hist(norm, bins=30, density=True);\n",
    "plt.title(\"Example of Normal Distribution Plot with $\\sigma$\");\n",
    "\n",
    "#Adding the mean to the plot\n",
    "plt.axvline(x=mean, color =\"black\", linewidth=4.0, label = \"$\\mu$=Mean\")\n",
    "\n",
    "# Creating the list for the units of standard deviations\n",
    "std_range = [-3, -2, -1, 1, 2, 3]\n",
    "# Setting a color range for plotting lines\n",
    "color = cm.rainbow(np.linspace(0, 1, 6))\n",
    "\n",
    "# For loop to plot each line of standard deviation (adapting code from Topic 04 - Outliers lecture)\n",
    "for i, c in zip(std_range, color):\n",
    "    plt.axvline(x=mean+i*sd, linewidth=3.0, c = c, label = rf'${i}\\sigma$')\n",
    "\n",
    "# Adding labels to the plot\n",
    "plt.xlabel(\"Value\")\n",
    "plt.ylabel(\"Frequency\")\n",
    "            \n",
    "plt.legend();"
   ]
  },
  {
   "cell_type": "markdown",
   "id": "dbe48975",
   "metadata": {},
   "source": [
    "Since the area under the curve must be equal to 1 (or 100%), the value of the standard deviation will influence the shape of the bell curve; skinnier as $\\sigma$ decreases and fatter as $\\sigma$ increases."
   ]
  },
  {
   "cell_type": "markdown",
   "id": "387c6da3",
   "metadata": {},
   "source": [
    "### Probability Density Function (PDF)"
   ]
  },
  {
   "cell_type": "markdown",
   "id": "26808e4a",
   "metadata": {},
   "source": [
    "The PDF is used to specify the probability of a continuous random variable falling within a particular range of values, as opposed to taking on any one value (Refer to [Wikipedia definitions](https://en.wikipedia.org/wiki/Probability_density_function)).<p>\n",
    "The probability is given by the area under the density function but above the horizontal axis and between the lowest and greatest values of the range. The probability density function is nonnegative everywhere, and the area under the entire curve is equal to 1.<p>\n",
    "The two tails of the curve will never reach zero and therefore will never touch the x-axis.\n",
    "    \n",
    "    \n",
    "The PDF of the Gaussian Normal Distribution is the following:\n",
    "    \n",
    "$$f(x) = \\frac{1}{\\sigma\\sqrt{2\\pi}}e^{-\\frac{1}{2}\\left(\\frac{x- \\mu}{\\sigma}\\right)^{\\!2}} $$"
   ]
  },
  {
   "cell_type": "markdown",
   "id": "5c96b399",
   "metadata": {},
   "source": [
    "In this formula:<p>\n",
    "- $\\mu$ is the mean of the population/data distribution\n",
    "- $\\sigma$ is the standard deviation of of the population/data distribution\n",
    "- $\\pi$ is a mathematical constant used widely in formulas in mathematics and physics. Its value is a floating number with non-repeating numbers across its digist with first few digits being 3.14159. It can be obtained using numpy function *numpy.pi*\n",
    "- e is the notation for Euler's number, it is a mathematical expression for the base of natural logarithm. It is an irrationale number, its digits are never ending with no numbers being repeated across its digits. Its first few digits are 2.71828. Numpy function *numpy.exp* can be used to obtain the Euler's number. \n",
    "- The only variable is **x** which can be defined using numpy number generators.\n",
    "- The square root of values can be obtained by using *numpy.sqrt()* function."
   ]
  },
  {
   "cell_type": "code",
   "execution_count": 128,
   "id": "95dabb1b",
   "metadata": {},
   "outputs": [
    {
     "data": {
      "image/png": "[encoded data removed]",
      "text/plain": [
       "<Figure size 864x432 with 1 Axes>"
      ]
     },
     "metadata": {
      "needs_background": "light"
     },
     "output_type": "display_data"
    }
   ],
   "source": [
    "# Determining the size of the plot in order to visualize the probability density function.\n",
    "fig, ax = plt.subplots(figsize=(12, 6))\n",
    "\n",
    "# Source for below code is from Numpy documentation (https://numpy.org/doc/stable/reference/random/generated/numpy.random.Generator.normal.html)\n",
    "count, bins, ignored = plt.hist(norm, 50, density=True)\n",
    "plt.plot(bins, 1/(sigma * np.sqrt(2 * np.pi)) *\n",
    "               np.exp( - (bins - mu)**2 / (2 * sigma**2) ),\n",
    "         linewidth=2.0, color='r', label = \"PDF\")\n",
    "plt.axvline(x=mean, color =\"black\", linewidth=2.0, label = \"$\\mu$=Mean\")\n",
    "plt.xlabel(\"Value\")\n",
    "plt.ylabel(\"Frequency\")\n",
    "plt.title(\"Visualization of the Probability Density Function for Normally Distributed Data\")\n",
    "plt.legend()\n",
    "plt.show();"
   ]
  },
  {
   "cell_type": "markdown",
   "id": "7768b090",
   "metadata": {},
   "source": [
    "### 3. The Standard Normal Distribution "
   ]
  },
  {
   "cell_type": "markdown",
   "id": "a1f5232a",
   "metadata": {},
   "source": [
    "As per [Wikipedia Definition](https://en.wikipedia.org/wiki/Normal_distribution#Standard_normal_distribution):\n",
    "\n",
    "#### The simplest case of a normal distribution is known as the standard normal distribution or unit normal distribution.\n",
    "#### This is a special case when $\\mu$ = 0 and $\\sigma$ =1, and it is described by the following probability density function (or density):"
   ]
  },
  {
   "cell_type": "markdown",
   "id": "c19794d1",
   "metadata": {},
   "source": [
    "\n",
    "$$ \\varphi(z) = \\frac{e^{-\\frac{z^2}{2}}}{\\sqrt{2 \\pi}}  $$"
   ]
  },
  {
   "cell_type": "markdown",
   "id": "9afa0850",
   "metadata": {},
   "source": [
    "In this formula:\n",
    "**z** is a variable with a mean of zero and a standard deviation and variance of 1. \n"
   ]
  },
  {
   "cell_type": "code",
   "execution_count": 148,
   "id": "485a2375",
   "metadata": {},
   "outputs": [
    {
     "data": {
      "image/png": "[encoded data removed]",
      "text/plain": [
       "<Figure size 864x432 with 1 Axes>"
      ]
     },
     "metadata": {
      "needs_background": "light"
     },
     "output_type": "display_data"
    }
   ],
   "source": [
    "# Set mu and sigma.\n",
    "mu = 0.0 \n",
    "sigma = 3.0\n",
    "\n",
    "# Range of x values:\n",
    "x = np.linspace(-9.0, 9.0, 1000)\n",
    "\n",
    "# Range of y values:\n",
    "y = np.exp(-((x - mu)**2 / (2 * sigma**2))) / np.sqrt(2 * np.pi * sigma**2)\n",
    "\n",
    "fig, ax = plt.subplots(figsize=(12,6))\n",
    "for sigma in [1.0, 2.0, 3.0]:\n",
    "    plt.plot(x, y, label=rf'$\\mu$=0, $\\sigma = {sigma}$')\n",
    "plt.title(\"Probability Density Functions\")\n",
    "plt.xlabel(\"x\")\n",
    "plt.ylabel(\"f(x)\")\n",
    "plt.legend();"
   ]
  },
  {
   "cell_type": "code",
   "execution_count": null,
   "id": "fefb604d",
   "metadata": {},
   "outputs": [],
   "source": []
  },
  {
   "cell_type": "code",
   "execution_count": null,
   "id": "7d1e2e5e",
   "metadata": {},
   "outputs": [],
   "source": []
  },
  {
   "cell_type": "code",
   "execution_count": null,
   "id": "8ca815c5",
   "metadata": {},
   "outputs": [],
   "source": []
  },
  {
   "cell_type": "markdown",
   "id": "dec8274c",
   "metadata": {},
   "source": [
    "### 4. Empirical Rule"
   ]
  },
  {
   "cell_type": "markdown",
   "id": "7b663f73",
   "metadata": {},
   "source": [
    "Describe the empirical rule\n",
    "Visualize it on graph"
   ]
  },
  {
   "cell_type": "code",
   "execution_count": null,
   "id": "9a7e84e8",
   "metadata": {},
   "outputs": [],
   "source": []
  },
  {
   "cell_type": "code",
   "execution_count": null,
   "id": "a296fe82",
   "metadata": {},
   "outputs": [],
   "source": []
  },
  {
   "cell_type": "code",
   "execution_count": null,
   "id": "9ec83524",
   "metadata": {},
   "outputs": [],
   "source": []
  },
  {
   "cell_type": "markdown",
   "id": "17a9ca4f",
   "metadata": {},
   "source": [
    "### 5. Central Limit Theorem"
   ]
  },
  {
   "cell_type": "code",
   "execution_count": null,
   "id": "cabcc6d0",
   "metadata": {},
   "outputs": [],
   "source": []
  },
  {
   "cell_type": "code",
   "execution_count": null,
   "id": "74df34ad",
   "metadata": {},
   "outputs": [],
   "source": []
  },
  {
   "cell_type": "code",
   "execution_count": null,
   "id": "81baa392",
   "metadata": {},
   "outputs": [],
   "source": []
  },
  {
   "cell_type": "markdown",
   "id": "7692d20c",
   "metadata": {},
   "source": [
    "### 6. Importance and application of the Normal Distribution"
   ]
  },
  {
   "cell_type": "markdown",
   "id": "a87deb36",
   "metadata": {},
   "source": [
    "Testing for normality in statistics."
   ]
  },
  {
   "cell_type": "code",
   "execution_count": null,
   "id": "26da2eaa",
   "metadata": {},
   "outputs": [],
   "source": []
  },
  {
   "cell_type": "code",
   "execution_count": null,
   "id": "2d33cc07",
   "metadata": {},
   "outputs": [],
   "source": []
  },
  {
   "cell_type": "code",
   "execution_count": null,
   "id": "d63d58df",
   "metadata": {},
   "outputs": [],
   "source": []
  },
  {
   "cell_type": "code",
   "execution_count": null,
   "id": "555797ac",
   "metadata": {},
   "outputs": [],
   "source": []
  },
  {
   "cell_type": "markdown",
   "id": "f30bf382",
   "metadata": {},
   "source": [
    "### 7. Conclusion"
   ]
  },
  {
   "cell_type": "code",
   "execution_count": null,
   "id": "2a970aa2",
   "metadata": {},
   "outputs": [],
   "source": []
  },
  {
   "cell_type": "markdown",
   "id": "1151f6a8",
   "metadata": {},
   "source": [
    "### 8. References\n",
    "For references please refer to the corresponding ReadMe file in the Github repository."
   ]
  },
  {
   "cell_type": "markdown",
   "id": "38d71dee",
   "metadata": {},
   "source": [
    "# End"
   ]
  }
 ],
 "metadata": {
  "kernelspec": {
   "display_name": "Python 3 (ipykernel)",
   "language": "python",
   "name": "python3"
  },
  "language_info": {
   "codemirror_mode": {
    "name": "ipython",
    "version": 3
   },
   "file_extension": ".py",
   "mimetype": "text/x-python",
   "name": "python",
   "nbconvert_exporter": "python",
   "pygments_lexer": "ipython3",
   "version": "3.9.12"
  }
 },
 "nbformat": 4,
 "nbformat_minor": 5
}
